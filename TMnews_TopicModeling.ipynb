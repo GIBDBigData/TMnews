{
  "nbformat": 4,
  "nbformat_minor": 0,
  "metadata": {
    "colab": {
      "name": "TMnews_final.ipynb",
      "provenance": [],
      "include_colab_link": true
    },
    "kernelspec": {
      "name": "python3",
      "display_name": "Python 3"
    }
  },
  "cells": [
    {
      "cell_type": "markdown",
      "metadata": {
        "id": "view-in-github",
        "colab_type": "text"
      },
      "source": [
        "<a href=\"https://colab.research.google.com/github/anadebattista/TMnews/blob/master/TMnews_TopicModeling.ipynb\" target=\"_parent\"><img src=\"https://colab.research.google.com/assets/colab-badge.svg\" alt=\"Open In Colab\"/></a>"
      ]
    },
    {
      "cell_type": "markdown",
      "metadata": {
        "id": "MShw6TdaZO8O",
        "colab_type": "text"
      },
      "source": [
        "Load the libraries"
      ]
    },
    {
      "cell_type": "code",
      "metadata": {
        "id": "mxDIFYxvZK2k",
        "colab_type": "code",
        "colab": {}
      },
      "source": [
        "import pandas as pd\n",
        "import numpy as np\n",
        "import re\n",
        "import nltk\n",
        "from nltk.stem import WordNetLemmatizer\n",
        "from nltk import word_tokenize\n",
        "from nltk.corpus import stopwords\n",
        "import string\n",
        "import matplotlib.pyplot as plt\n",
        "import gensim\n",
        "import numpy as np\n",
        "from gensim.models import CoherenceModel, LdaModel, LsiModel, HdpModel\n",
        "from gensim.models.wrappers import LdaMallet\n",
        "from gensim.corpora import Dictionary"
      ],
      "execution_count": 0,
      "outputs": []
    },
    {
      "cell_type": "markdown",
      "metadata": {
        "id": "fZEBs4HpZUS8",
        "colab_type": "text"
      },
      "source": [
        "Connect to drive to get the data"
      ]
    },
    {
      "cell_type": "code",
      "metadata": {
        "id": "MpxDQB7ILXK4",
        "colab_type": "code",
        "outputId": "282f2a32-cf49-4744-c06d-14a99322ba85",
        "colab": {
          "base_uri": "https://localhost:8080/",
          "height": 125
        }
      },
      "source": [
        "from google.colab import drive\n",
        "drive.mount('/content/drive/')"
      ],
      "execution_count": 2,
      "outputs": [
        {
          "output_type": "stream",
          "text": [
            "Go to this URL in a browser: https://accounts.google.com/o/oauth2/auth?client_id=947318989803-6bn6qk8qdgf4n4g3pfee6491hc0brc4i.apps.googleusercontent.com&redirect_uri=urn%3aietf%3awg%3aoauth%3a2.0%3aoob&response_type=code&scope=email%20https%3a%2f%2fwww.googleapis.com%2fauth%2fdocs.test%20https%3a%2f%2fwww.googleapis.com%2fauth%2fdrive%20https%3a%2f%2fwww.googleapis.com%2fauth%2fdrive.photos.readonly%20https%3a%2f%2fwww.googleapis.com%2fauth%2fpeopleapi.readonly\n",
            "\n",
            "Enter your authorization code:\n",
            "··········\n",
            "Mounted at /content/drive/\n"
          ],
          "name": "stdout"
        }
      ]
    },
    {
      "cell_type": "markdown",
      "metadata": {
        "id": "uo7N_pk6LwxP",
        "colab_type": "text"
      },
      "source": [
        "---\n",
        "\n",
        "Seteo de directorio de trabajo\n",
        "\n",
        "---"
      ]
    },
    {
      "cell_type": "code",
      "metadata": {
        "id": "noe5K4LPLlgI",
        "colab_type": "code",
        "colab": {}
      },
      "source": [
        "import os\n",
        "os.chdir(\"/content/drive/My Drive/Colab Notebooks/Curso Mineria Textos 2019/data\")"
      ],
      "execution_count": 0,
      "outputs": []
    },
    {
      "cell_type": "markdown",
      "metadata": {
        "id": "sJuj0teKMB9Z",
        "colab_type": "text"
      },
      "source": [
        "---\n",
        "\n",
        "Importación de archivo de noticias (TMnews.csv)\n",
        "\n",
        "---"
      ]
    },
    {
      "cell_type": "code",
      "metadata": {
        "id": "vVUHlkApMC60",
        "colab_type": "code",
        "outputId": "ff50a01c-2ad3-4bb1-ec32-45d85034d18d",
        "colab": {
          "base_uri": "https://localhost:8080/",
          "height": 406
        }
      },
      "source": [
        "import pandas as pd \n",
        "df_news = pd.read_csv('TMnews.csv')\n",
        "df_news"
      ],
      "execution_count": 0,
      "outputs": [
        {
          "output_type": "execute_result",
          "data": {
            "text/html": [
              "<div>\n",
              "<style scoped>\n",
              "    .dataframe tbody tr th:only-of-type {\n",
              "        vertical-align: middle;\n",
              "    }\n",
              "\n",
              "    .dataframe tbody tr th {\n",
              "        vertical-align: top;\n",
              "    }\n",
              "\n",
              "    .dataframe thead th {\n",
              "        text-align: right;\n",
              "    }\n",
              "</style>\n",
              "<table border=\"1\" class=\"dataframe\">\n",
              "  <thead>\n",
              "    <tr style=\"text-align: right;\">\n",
              "      <th></th>\n",
              "      <th>news_paper</th>\n",
              "      <th>category</th>\n",
              "      <th>date</th>\n",
              "      <th>titleandbody</th>\n",
              "    </tr>\n",
              "  </thead>\n",
              "  <tbody>\n",
              "    <tr>\n",
              "      <th>0</th>\n",
              "      <td>clarin</td>\n",
              "      <td>deportes</td>\n",
              "      <td>2019-10-01</td>\n",
              "      <td>“¿Por qué no te ponés a dieta?”, el escándalo ...</td>\n",
              "    </tr>\n",
              "    <tr>\n",
              "      <th>1</th>\n",
              "      <td>clarin</td>\n",
              "      <td>deportes</td>\n",
              "      <td>2019-10-01</td>\n",
              "      <td>En España hablan de una fractura en el Barcelo...</td>\n",
              "    </tr>\n",
              "    <tr>\n",
              "      <th>2</th>\n",
              "      <td>clarin</td>\n",
              "      <td>deportes</td>\n",
              "      <td>2019-10-01</td>\n",
              "      <td>Superclásico: qué dicen los astros para el Riv...</td>\n",
              "    </tr>\n",
              "    <tr>\n",
              "      <th>3</th>\n",
              "      <td>clarin</td>\n",
              "      <td>deportes</td>\n",
              "      <td>2019-10-01</td>\n",
              "      <td>River-Boca, por la Copa Libertadores: cómo est...</td>\n",
              "    </tr>\n",
              "    <tr>\n",
              "      <th>4</th>\n",
              "      <td>clarin</td>\n",
              "      <td>deportes</td>\n",
              "      <td>2019-10-01</td>\n",
              "      <td>El Mundial de atletismo, envuelto en el drama ...</td>\n",
              "    </tr>\n",
              "    <tr>\n",
              "      <th>...</th>\n",
              "      <td>...</td>\n",
              "      <td>...</td>\n",
              "      <td>...</td>\n",
              "      <td>...</td>\n",
              "    </tr>\n",
              "    <tr>\n",
              "      <th>37389</th>\n",
              "      <td>lanacion</td>\n",
              "      <td>tecnologia</td>\n",
              "      <td>2019-10-29</td>\n",
              "      <td>Como una Z: así es el prototipo de TCL de un s...</td>\n",
              "    </tr>\n",
              "    <tr>\n",
              "      <th>37390</th>\n",
              "      <td>lanacion</td>\n",
              "      <td>tecnologia</td>\n",
              "      <td>2019-10-29</td>\n",
              "      <td>Lanzan una app gratis para ayudar a los partid...</td>\n",
              "    </tr>\n",
              "    <tr>\n",
              "      <th>37391</th>\n",
              "      <td>lanacion</td>\n",
              "      <td>tecnologia</td>\n",
              "      <td>2019-10-29</td>\n",
              "      <td>YouTube presenta su primera película interacti...</td>\n",
              "    </tr>\n",
              "    <tr>\n",
              "      <th>37392</th>\n",
              "      <td>lanacion</td>\n",
              "      <td>tecnologia</td>\n",
              "      <td>2019-10-29</td>\n",
              "      <td>Apple planea lanzar una función para crear Mem...</td>\n",
              "    </tr>\n",
              "    <tr>\n",
              "      <th>37393</th>\n",
              "      <td>lanacion</td>\n",
              "      <td>tecnologia</td>\n",
              "      <td>2019-10-29</td>\n",
              "      <td>Huawei Mate X: el teléfono plegable de 2400 dó...</td>\n",
              "    </tr>\n",
              "  </tbody>\n",
              "</table>\n",
              "<p>37394 rows × 4 columns</p>\n",
              "</div>"
            ],
            "text/plain": [
              "      news_paper  ...                                       titleandbody\n",
              "0         clarin  ...  “¿Por qué no te ponés a dieta?”, el escándalo ...\n",
              "1         clarin  ...  En España hablan de una fractura en el Barcelo...\n",
              "2         clarin  ...  Superclásico: qué dicen los astros para el Riv...\n",
              "3         clarin  ...  River-Boca, por la Copa Libertadores: cómo est...\n",
              "4         clarin  ...  El Mundial de atletismo, envuelto en el drama ...\n",
              "...          ...  ...                                                ...\n",
              "37389   lanacion  ...  Como una Z: así es el prototipo de TCL de un s...\n",
              "37390   lanacion  ...  Lanzan una app gratis para ayudar a los partid...\n",
              "37391   lanacion  ...  YouTube presenta su primera película interacti...\n",
              "37392   lanacion  ...  Apple planea lanzar una función para crear Mem...\n",
              "37393   lanacion  ...  Huawei Mate X: el teléfono plegable de 2400 dó...\n",
              "\n",
              "[37394 rows x 4 columns]"
            ]
          },
          "metadata": {
            "tags": []
          },
          "execution_count": 20
        }
      ]
    },
    {
      "cell_type": "code",
      "metadata": {
        "id": "bs3cFheUf3yz",
        "colab_type": "code",
        "outputId": "55b1405a-13b5-4867-e524-0770bb5d3b49",
        "colab": {
          "base_uri": "https://localhost:8080/",
          "height": 176
        }
      },
      "source": [
        "df_news.info()"
      ],
      "execution_count": 0,
      "outputs": [
        {
          "output_type": "stream",
          "text": [
            "<class 'pandas.core.frame.DataFrame'>\n",
            "RangeIndex: 37394 entries, 0 to 37393\n",
            "Data columns (total 4 columns):\n",
            "news_paper      37394 non-null object\n",
            "category        37394 non-null object\n",
            "date            37394 non-null object\n",
            "titleandbody    37394 non-null object\n",
            "dtypes: object(4)\n",
            "memory usage: 1.1+ MB\n"
          ],
          "name": "stdout"
        }
      ]
    },
    {
      "cell_type": "markdown",
      "metadata": {
        "id": "soVLCTEAZjxz",
        "colab_type": "text"
      },
      "source": [
        "---\n",
        "\n",
        "**Data Preprocessing**\n",
        "\n",
        "Create the cleaner function to clean the spanish text, remove non alpha numeric characters, remove duplicate, remove spanish accutes, remove digits\n",
        "\n",
        "---"
      ]
    },
    {
      "cell_type": "code",
      "metadata": {
        "id": "OBWvX2o3ZGv9",
        "colab_type": "code",
        "colab": {}
      },
      "source": [
        "def cleaner(word):\n",
        "  word = re.sub(r'((http|https)\\:\\/\\/)?[a-zA-Z0-9\\.\\/\\?\\:@\\-_=#]+\\.([a-zA-Z]){2,6}([a-zA-Z0-9\\.\\&\\/\\?\\:@\\-_=#])*', '', word, flags=re.MULTILINE)\n",
        "  word = re.sub(r'(?::|;|=)(?:-)?(?:\\)|\\(|D|P)', \"\", word)\n",
        "  word = re.sub(r'ee.uu', 'eeuu', word)\n",
        "  word = re.sub(r'\\#\\.', '', word)\n",
        "  word = re.sub(r'\\n', '', word)\n",
        "  word = re.sub(r',', '', word)\n",
        "  word = re.sub(r'\\-', ' ', word)\n",
        "  word = re.sub(r'\\.{3}', ' ', word)\n",
        "  word = re.sub(r'a{2,}', 'a', word)\n",
        "  word = re.sub(r'é{2,}', 'é', word)\n",
        "  word = re.sub(r'i{2,}', 'i', word)\n",
        "  word = re.sub(r'ja{2,}', 'ja', word) \n",
        "  word = re.sub(r'á', 'a', word)\n",
        "  word = re.sub(r'é', 'e', word)\n",
        "  word = re.sub(r'í', 'i', word)\n",
        "  word = re.sub(r'ó', 'o', word)\n",
        "  word = re.sub(r'ú', 'u', word)  \n",
        "  word = re.sub('[^a-zA-Z]', ' ', word)\n",
        "  list_word_clean = []\n",
        "  for w1 in word.split(\" \"):\n",
        "    if  w1.lower() not in stopwords:\n",
        "      list_word_clean.append(w1.lower())\n",
        "\n",
        "  bigram_list = bigram[list_word_clean]\n",
        "  out_text = lemmatization(\" \".join(bigram_list))\n",
        "  return out_text"
      ],
      "execution_count": 0,
      "outputs": []
    },
    {
      "cell_type": "markdown",
      "metadata": {
        "id": "wW6ruTjcZ56z",
        "colab_type": "text"
      },
      "source": [
        "Create the function for select only nouns for our data, this way we are removing adverb, adjetives, verbs, etc. This is doing with spacy"
      ]
    },
    {
      "cell_type": "code",
      "metadata": {
        "id": "2eGT1yQ2Z6sk",
        "colab_type": "code",
        "colab": {}
      },
      "source": [
        "def lemmatization(texts, allowed_postags=['NOUN']):\n",
        "    texts_out = [ token.text for token in nlp(texts) if token.pos_ in \n",
        "                 allowed_postags and token.text not in stopwords and len(token.text)>2]\n",
        "    return texts_out"
      ],
      "execution_count": 0,
      "outputs": []
    },
    {
      "cell_type": "markdown",
      "metadata": {
        "id": "GvkUuAPfZ88D",
        "colab_type": "text"
      },
      "source": [
        "For gensim we need a list of text, so we need do convert the dataframe to list"
      ]
    },
    {
      "cell_type": "code",
      "metadata": {
        "id": "lNA6ssIdZ_wD",
        "colab_type": "code",
        "outputId": "363f7a06-5e7f-4959-9b6a-c8bcf452716f",
        "colab": {
          "base_uri": "https://localhost:8080/",
          "height": 34
        }
      },
      "source": [
        "#estaba to_list pero es tolist\n",
        "len(df_news.titleandbody.tolist())"
      ],
      "execution_count": 0,
      "outputs": [
        {
          "output_type": "execute_result",
          "data": {
            "text/plain": [
              "37394"
            ]
          },
          "metadata": {
            "tags": []
          },
          "execution_count": 43
        }
      ]
    },
    {
      "cell_type": "markdown",
      "metadata": {
        "id": "P5Uc0V-baBw-",
        "colab_type": "text"
      },
      "source": [
        "Then we look for bigram in our data, i.e pair of words that together have more meanful for our model"
      ]
    },
    {
      "cell_type": "code",
      "metadata": {
        "id": "R_znHAPAaDhr",
        "colab_type": "code",
        "outputId": "cebcfaf3-e603-457e-ec33-938ac7abf52f",
        "colab": {
          "base_uri": "https://localhost:8080/",
          "height": 387
        }
      },
      "source": [
        "%%time\n",
        "bigram = gensim.models.Phrases(df_news.titleandbody.tolist())"
      ],
      "execution_count": 7,
      "outputs": [
        {
          "output_type": "error",
          "ename": "NameError",
          "evalue": "ignored",
          "traceback": [
            "\u001b[0;31m---------------------------------------------------------------------------\u001b[0m",
            "\u001b[0;31mNameError\u001b[0m                                 Traceback (most recent call last)",
            "\u001b[0;32m<ipython-input-7-36a3db81aebf>\u001b[0m in \u001b[0;36m<module>\u001b[0;34m()\u001b[0m\n\u001b[0;32m----> 1\u001b[0;31m \u001b[0mget_ipython\u001b[0m\u001b[0;34m(\u001b[0m\u001b[0;34m)\u001b[0m\u001b[0;34m.\u001b[0m\u001b[0mrun_cell_magic\u001b[0m\u001b[0;34m(\u001b[0m\u001b[0;34m'time'\u001b[0m\u001b[0;34m,\u001b[0m \u001b[0;34m''\u001b[0m\u001b[0;34m,\u001b[0m \u001b[0;34m'bigram = gensim.models.Phrases(df_news.titleandbody.tolist())'\u001b[0m\u001b[0;34m)\u001b[0m\u001b[0;34m\u001b[0m\u001b[0;34m\u001b[0m\u001b[0m\n\u001b[0m",
            "\u001b[0;32m/usr/local/lib/python3.6/dist-packages/IPython/core/interactiveshell.py\u001b[0m in \u001b[0;36mrun_cell_magic\u001b[0;34m(self, magic_name, line, cell)\u001b[0m\n\u001b[1;32m   2115\u001b[0m             \u001b[0mmagic_arg_s\u001b[0m \u001b[0;34m=\u001b[0m \u001b[0mself\u001b[0m\u001b[0;34m.\u001b[0m\u001b[0mvar_expand\u001b[0m\u001b[0;34m(\u001b[0m\u001b[0mline\u001b[0m\u001b[0;34m,\u001b[0m \u001b[0mstack_depth\u001b[0m\u001b[0;34m)\u001b[0m\u001b[0;34m\u001b[0m\u001b[0;34m\u001b[0m\u001b[0m\n\u001b[1;32m   2116\u001b[0m             \u001b[0;32mwith\u001b[0m \u001b[0mself\u001b[0m\u001b[0;34m.\u001b[0m\u001b[0mbuiltin_trap\u001b[0m\u001b[0;34m:\u001b[0m\u001b[0;34m\u001b[0m\u001b[0;34m\u001b[0m\u001b[0m\n\u001b[0;32m-> 2117\u001b[0;31m                 \u001b[0mresult\u001b[0m \u001b[0;34m=\u001b[0m \u001b[0mfn\u001b[0m\u001b[0;34m(\u001b[0m\u001b[0mmagic_arg_s\u001b[0m\u001b[0;34m,\u001b[0m \u001b[0mcell\u001b[0m\u001b[0;34m)\u001b[0m\u001b[0;34m\u001b[0m\u001b[0;34m\u001b[0m\u001b[0m\n\u001b[0m\u001b[1;32m   2118\u001b[0m             \u001b[0;32mreturn\u001b[0m \u001b[0mresult\u001b[0m\u001b[0;34m\u001b[0m\u001b[0;34m\u001b[0m\u001b[0m\n\u001b[1;32m   2119\u001b[0m \u001b[0;34m\u001b[0m\u001b[0m\n",
            "\u001b[0;32m</usr/local/lib/python3.6/dist-packages/decorator.py:decorator-gen-60>\u001b[0m in \u001b[0;36mtime\u001b[0;34m(self, line, cell, local_ns)\u001b[0m\n",
            "\u001b[0;32m/usr/local/lib/python3.6/dist-packages/IPython/core/magic.py\u001b[0m in \u001b[0;36m<lambda>\u001b[0;34m(f, *a, **k)\u001b[0m\n\u001b[1;32m    186\u001b[0m     \u001b[0;31m# but it's overkill for just that one bit of state.\u001b[0m\u001b[0;34m\u001b[0m\u001b[0;34m\u001b[0m\u001b[0;34m\u001b[0m\u001b[0m\n\u001b[1;32m    187\u001b[0m     \u001b[0;32mdef\u001b[0m \u001b[0mmagic_deco\u001b[0m\u001b[0;34m(\u001b[0m\u001b[0marg\u001b[0m\u001b[0;34m)\u001b[0m\u001b[0;34m:\u001b[0m\u001b[0;34m\u001b[0m\u001b[0;34m\u001b[0m\u001b[0m\n\u001b[0;32m--> 188\u001b[0;31m         \u001b[0mcall\u001b[0m \u001b[0;34m=\u001b[0m \u001b[0;32mlambda\u001b[0m \u001b[0mf\u001b[0m\u001b[0;34m,\u001b[0m \u001b[0;34m*\u001b[0m\u001b[0ma\u001b[0m\u001b[0;34m,\u001b[0m \u001b[0;34m**\u001b[0m\u001b[0mk\u001b[0m\u001b[0;34m:\u001b[0m \u001b[0mf\u001b[0m\u001b[0;34m(\u001b[0m\u001b[0;34m*\u001b[0m\u001b[0ma\u001b[0m\u001b[0;34m,\u001b[0m \u001b[0;34m**\u001b[0m\u001b[0mk\u001b[0m\u001b[0;34m)\u001b[0m\u001b[0;34m\u001b[0m\u001b[0;34m\u001b[0m\u001b[0m\n\u001b[0m\u001b[1;32m    189\u001b[0m \u001b[0;34m\u001b[0m\u001b[0m\n\u001b[1;32m    190\u001b[0m         \u001b[0;32mif\u001b[0m \u001b[0mcallable\u001b[0m\u001b[0;34m(\u001b[0m\u001b[0marg\u001b[0m\u001b[0;34m)\u001b[0m\u001b[0;34m:\u001b[0m\u001b[0;34m\u001b[0m\u001b[0;34m\u001b[0m\u001b[0m\n",
            "\u001b[0;32m/usr/local/lib/python3.6/dist-packages/IPython/core/magics/execution.py\u001b[0m in \u001b[0;36mtime\u001b[0;34m(self, line, cell, local_ns)\u001b[0m\n\u001b[1;32m   1191\u001b[0m         \u001b[0;32melse\u001b[0m\u001b[0;34m:\u001b[0m\u001b[0;34m\u001b[0m\u001b[0;34m\u001b[0m\u001b[0m\n\u001b[1;32m   1192\u001b[0m             \u001b[0mst\u001b[0m \u001b[0;34m=\u001b[0m \u001b[0mclock2\u001b[0m\u001b[0;34m(\u001b[0m\u001b[0;34m)\u001b[0m\u001b[0;34m\u001b[0m\u001b[0;34m\u001b[0m\u001b[0m\n\u001b[0;32m-> 1193\u001b[0;31m             \u001b[0mexec\u001b[0m\u001b[0;34m(\u001b[0m\u001b[0mcode\u001b[0m\u001b[0;34m,\u001b[0m \u001b[0mglob\u001b[0m\u001b[0;34m,\u001b[0m \u001b[0mlocal_ns\u001b[0m\u001b[0;34m)\u001b[0m\u001b[0;34m\u001b[0m\u001b[0;34m\u001b[0m\u001b[0m\n\u001b[0m\u001b[1;32m   1194\u001b[0m             \u001b[0mend\u001b[0m \u001b[0;34m=\u001b[0m \u001b[0mclock2\u001b[0m\u001b[0;34m(\u001b[0m\u001b[0;34m)\u001b[0m\u001b[0;34m\u001b[0m\u001b[0;34m\u001b[0m\u001b[0m\n\u001b[1;32m   1195\u001b[0m             \u001b[0mout\u001b[0m \u001b[0;34m=\u001b[0m \u001b[0;32mNone\u001b[0m\u001b[0;34m\u001b[0m\u001b[0;34m\u001b[0m\u001b[0m\n",
            "\u001b[0;32m<timed exec>\u001b[0m in \u001b[0;36m<module>\u001b[0;34m()\u001b[0m\n",
            "\u001b[0;31mNameError\u001b[0m: name 'df_news' is not defined"
          ]
        }
      ]
    },
    {
      "cell_type": "markdown",
      "metadata": {
        "id": "8pNv3IryaFk0",
        "colab_type": "text"
      },
      "source": [
        "Let's examine some output"
      ]
    },
    {
      "cell_type": "code",
      "metadata": {
        "id": "e0Q45LvAaH8s",
        "colab_type": "code",
        "outputId": "b91d7a6b-665e-4a9c-dfba-675aac3afef2",
        "colab": {
          "base_uri": "https://localhost:8080/",
          "height": 1000
        }
      },
      "source": [
        "bigram[df_news.titleandbody.tolist()[20].split()]"
      ],
      "execution_count": 0,
      "outputs": [
        {
          "output_type": "stream",
          "text": [
            "/usr/local/lib/python3.6/dist-packages/gensim/models/phrases.py:598: UserWarning: For a faster implementation, use the gensim.models.phrases.Phraser class\n",
            "  warnings.warn(\"For a faster implementation, use the gensim.models.phrases.Phraser class\")\n"
          ],
          "name": "stderr"
        },
        {
          "output_type": "execute_result",
          "data": {
            "text/plain": [
              "['Copa',\n",
              " 'del',\n",
              " 'Mundo',\n",
              " 'de',\n",
              " 'vóleibol:',\n",
              " 'Argentina',\n",
              " 'debutó',\n",
              " 'con',\n",
              " 'un',\n",
              " 'triunfo',\n",
              " 'ante',\n",
              " 'el',\n",
              " 'último',\n",
              " 'campeón',\n",
              " '//',\n",
              " 'La',\n",
              " 'Selección',\n",
              " 'de',\n",
              " 'vóleibol',\n",
              " 'masculino',\n",
              " 'tuvo',\n",
              " 'un',\n",
              " 'debut',\n",
              " 'soñado',\n",
              " 'este',\n",
              " 'martes',\n",
              " 'en',\n",
              " 'la',\n",
              " 'Copa',\n",
              " 'del',\n",
              " 'Mundo',\n",
              " 'que',\n",
              " 'se',\n",
              " 'disputa',\n",
              " 'en',\n",
              " 'Japón',\n",
              " 'al',\n",
              " 'vencer',\n",
              " 'por',\n",
              " '3-2',\n",
              " 'al',\n",
              " 'campeón',\n",
              " 'defensor,',\n",
              " 'Estados',\n",
              " 'Unidos.',\n",
              " 'El',\n",
              " 'equipo',\n",
              " 'de',\n",
              " 'Marcelo',\n",
              " 'Méndez',\n",
              " 'tuvo',\n",
              " 'un',\n",
              " 'arranque',\n",
              " 'inmejorable',\n",
              " 'al',\n",
              " 'ganar',\n",
              " 'los',\n",
              " 'dos',\n",
              " 'primeros',\n",
              " 'parciales',\n",
              " '25-21',\n",
              " 'y',\n",
              " '25-20.',\n",
              " 'Sin',\n",
              " 'embargo,',\n",
              " 'el',\n",
              " 'conjunto',\n",
              " 'estadounidense',\n",
              " 'pudo',\n",
              " 'reponerse',\n",
              " 'e',\n",
              " 'igualó',\n",
              " 'el',\n",
              " 'partido',\n",
              " 'con',\n",
              " 'los',\n",
              " 'parciales',\n",
              " '19-25',\n",
              " 'y',\n",
              " '21-25.',\n",
              " 'Finalmente,',\n",
              " 'el',\n",
              " 'tie',\n",
              " 'break,',\n",
              " 'Argentina',\n",
              " 'se',\n",
              " 'impuso',\n",
              " '15-12.',\n",
              " 'Recibir',\n",
              " 'newsletter',\n",
              " 'Los',\n",
              " 'máximos',\n",
              " 'anotadores',\n",
              " 'de',\n",
              " 'Argentina',\n",
              " 'fueron',\n",
              " 'Martín',\n",
              " 'Ramos',\n",
              " '(20)',\n",
              " 'y',\n",
              " 'Agustín',\n",
              " 'Loser',\n",
              " '(18).',\n",
              " 'Del',\n",
              " 'lado',\n",
              " 'de',\n",
              " 'Estados',\n",
              " 'Unidos,',\n",
              " 'los',\n",
              " 'jugadores',\n",
              " 'destacados',\n",
              " 'fueron',\n",
              " 'Aaron',\n",
              " 'Russell',\n",
              " '(18)',\n",
              " 'y',\n",
              " 'Matthew',\n",
              " 'Anderson',\n",
              " '(15).',\n",
              " '#FIVBWorldCup',\n",
              " '|',\n",
              " '¡¡¡GANÓ',\n",
              " 'ARGENTINA!!!',\n",
              " 'Enorme',\n",
              " 'debut',\n",
              " 'de',\n",
              " '#LaSelección',\n",
              " 'ante',\n",
              " 'el',\n",
              " 'campeón',\n",
              " 'defensor,',\n",
              " 'Estados',\n",
              " 'Unidos.',\n",
              " 'ARG',\n",
              " '<U+0001F1E6><U+0001F1F7>',\n",
              " '3-2',\n",
              " '<U+0001F1FA><U+0001F1F8>',\n",
              " 'USA',\n",
              " '(25-21,',\n",
              " '25-20,',\n",
              " '19-25,',\n",
              " '21-25,',\n",
              " '15-12)<U+0001F51D>',\n",
              " 'Máximos',\n",
              " 'anotadores:@ramosmartin18',\n",
              " '19@AgustinLoser',\n",
              " '18#VamosArgentina',\n",
              " '#OrgulloEnAlto',\n",
              " '#ADNVoley',\n",
              " 'pic.twitter.com/0tbzJSUNj8',\n",
              " 'El',\n",
              " 'partido',\n",
              " 'se',\n",
              " 'jugó',\n",
              " 'en',\n",
              " 'el',\n",
              " 'estadio',\n",
              " '“Marine',\n",
              " 'Messe”',\n",
              " 'de',\n",
              " 'Fukuoka,',\n",
              " 'ciudad',\n",
              " 'donde',\n",
              " 'también',\n",
              " 'jugará',\n",
              " 'sus',\n",
              " 'cuatro',\n",
              " 'próximos',\n",
              " 'encuentros.',\n",
              " 'En',\n",
              " 'principio,',\n",
              " 'el',\n",
              " 'miércoles',\n",
              " 'a',\n",
              " 'las',\n",
              " '0.30',\n",
              " 'enfrentará',\n",
              " 'a',\n",
              " 'Túnez,',\n",
              " 'el',\n",
              " 'viernes',\n",
              " 'a',\n",
              " 'las',\n",
              " '0.30',\n",
              " 'enfrentará',\n",
              " 'a',\n",
              " 'Italia,',\n",
              " 'el',\n",
              " 'sábado',\n",
              " 'a',\n",
              " 'las',\n",
              " '0.30',\n",
              " 'jugará',\n",
              " 'contra',\n",
              " 'Polonia,',\n",
              " 'y',\n",
              " 'el',\n",
              " 'domingo',\n",
              " 'a',\n",
              " 'las',\n",
              " '7.20',\n",
              " 'lo',\n",
              " 'hará',\n",
              " 'ante',\n",
              " 'Japón.',\n",
              " 'La',\n",
              " 'Copa',\n",
              " 'del',\n",
              " 'Mundo,',\n",
              " 'que',\n",
              " 'se',\n",
              " 'juega',\n",
              " 'cada',\n",
              " 'cuatro',\n",
              " 'años',\n",
              " 'al',\n",
              " 'igual',\n",
              " 'que',\n",
              " 'el',\n",
              " 'Mundial,',\n",
              " 'enfrenta',\n",
              " 'a',\n",
              " '12',\n",
              " 'selecciones',\n",
              " 'en',\n",
              " 'una',\n",
              " 'única',\n",
              " 'ronda',\n",
              " 'de',\n",
              " 'todos',\n",
              " 'contra',\n",
              " 'todos',\n",
              " 'que',\n",
              " 'determina',\n",
              " 'al',\n",
              " 'campeón',\n",
              " 'siguiendo',\n",
              " 'primero',\n",
              " 'el',\n",
              " 'criterio',\n",
              " 'de',\n",
              " 'victorias',\n",
              " 'y',\n",
              " 'luego',\n",
              " 'la',\n",
              " 'cantidad',\n",
              " 'de',\n",
              " 'puntos',\n",
              " 'obtenidos.']"
            ]
          },
          "metadata": {
            "tags": []
          },
          "execution_count": 45
        }
      ]
    },
    {
      "cell_type": "code",
      "metadata": {
        "id": "F17Ob6MNaSdP",
        "colab_type": "code",
        "outputId": "cb239441-a1e7-4faf-de66-aa5bf0213c5d",
        "colab": {
          "base_uri": "https://localhost:8080/",
          "height": 105
        }
      },
      "source": [
        "import nltk\n",
        "nltk.download('stopwords')\n",
        "nltk.download('punkt')"
      ],
      "execution_count": 8,
      "outputs": [
        {
          "output_type": "stream",
          "text": [
            "[nltk_data] Downloading package stopwords to /root/nltk_data...\n",
            "[nltk_data]   Unzipping corpora/stopwords.zip.\n",
            "[nltk_data] Downloading package punkt to /root/nltk_data...\n",
            "[nltk_data]   Unzipping tokenizers/punkt.zip.\n"
          ],
          "name": "stdout"
        },
        {
          "output_type": "execute_result",
          "data": {
            "text/plain": [
              "True"
            ]
          },
          "metadata": {
            "tags": []
          },
          "execution_count": 8
        }
      ]
    },
    {
      "cell_type": "code",
      "metadata": {
        "id": "abhaODiHaS8k",
        "colab_type": "code",
        "colab": {}
      },
      "source": [
        "from nltk import word_tokenize\n",
        "from nltk.corpus import stopwords\n",
        "stopwords = set(stopwords.words('spanish'))\n",
        "\n",
        "#additional_stopwords=set(black_list)\n",
        "#stopwords = stop.union(additional_stopwords)"
      ],
      "execution_count": 0,
      "outputs": []
    },
    {
      "cell_type": "markdown",
      "metadata": {
        "id": "6ai0lh01aX-z",
        "colab_type": "text"
      },
      "source": [
        "We are using Spacy For lemmatize spanish words"
      ]
    },
    {
      "cell_type": "code",
      "metadata": {
        "id": "meVuvK7iaV0T",
        "colab_type": "code",
        "outputId": "1a488307-bb62-476e-f705-84313e8ceebb",
        "colab": {
          "base_uri": "https://localhost:8080/",
          "height": 230
        }
      },
      "source": [
        "!python -m spacy download es_core_news_md"
      ],
      "execution_count": 10,
      "outputs": [
        {
          "output_type": "stream",
          "text": [
            "Collecting es_core_news_md==2.1.0\n",
            "\u001b[?25l  Downloading https://github.com/explosion/spacy-models/releases/download/es_core_news_md-2.1.0/es_core_news_md-2.1.0.tar.gz (73.4MB)\n",
            "\u001b[K     |████████████████████████████████| 73.4MB 982kB/s \n",
            "\u001b[?25hBuilding wheels for collected packages: es-core-news-md\n",
            "  Building wheel for es-core-news-md (setup.py) ... \u001b[?25l\u001b[?25hdone\n",
            "  Created wheel for es-core-news-md: filename=es_core_news_md-2.1.0-cp36-none-any.whl size=74602272 sha256=6e5f54edf69a21ab58efb1efc2df8d5f968790a56b06ce40f52fb9aa5d5b6847\n",
            "  Stored in directory: /tmp/pip-ephem-wheel-cache-wjcjo6qt/wheels/20/f7/6b/7a1ba56f009b05386d123ea088b56635594a046acd5cfdd2a2\n",
            "Successfully built es-core-news-md\n",
            "Installing collected packages: es-core-news-md\n",
            "Successfully installed es-core-news-md-2.1.0\n",
            "\u001b[38;5;2m✔ Download and installation successful\u001b[0m\n",
            "You can now load the model via spacy.load('es_core_news_md')\n"
          ],
          "name": "stdout"
        }
      ]
    },
    {
      "cell_type": "code",
      "metadata": {
        "id": "2aV-vNezab8s",
        "colab_type": "code",
        "colab": {}
      },
      "source": [
        "import spacy\n",
        "nlp = spacy.load('/usr/local/lib/python3.6/dist-packages/es_core_news_md/es_core_news_md-2.1.0')"
      ],
      "execution_count": 0,
      "outputs": []
    },
    {
      "cell_type": "markdown",
      "metadata": {
        "id": "smY-D7mKafxM",
        "colab_type": "text"
      },
      "source": [
        "Now let's test the cleaner function:"
      ]
    },
    {
      "cell_type": "code",
      "metadata": {
        "id": "FFBELS9UahiD",
        "colab_type": "code",
        "outputId": "8f69c43e-b759-470f-b14b-c18642349d42",
        "colab": {
          "base_uri": "https://localhost:8080/",
          "height": 54
        }
      },
      "source": [
        "df_news.titleandbody[0]"
      ],
      "execution_count": 0,
      "outputs": [
        {
          "output_type": "execute_result",
          "data": {
            "text/plain": [
              "\"['pones', 'dieta', 'pruebas', 'bermudez', 'ascenso', 'metro', 'cantante', 'temas', 'manuel', 'serrat', 'lunes', 'canto', 'situacion', 'cargo', 'secretario', 'asociacion', 'arbitros', 'federico', 'director', 'arbitraje', 'bermudez', 'envio', 'grupo', 'amigos', 'programa', 'closs', 'periodista', 'tema', 'irregularidades', 'pruebas', 'pelea', 'jugadores', 'beares', 'foto', 'marcelo', 'alados', 'bermudez', 'matias', 'arbitro', 'foto', 'enero', 'fisico', 'rosario', 'despues', 'partido', 'tomas', 'duco', 'ademas', 'reconocio', 'version', 'ropa', 'ayuda', 'arbitro', 'nestor', 'sector', 'banderita', 'testimonio', 'arbitro', 'prueba', 'tenia', 'cono', 'metros', 'manera', 'fisico', 'silueta', 'asistente', 'beares', 'apellido', 'nivel', 'arbitraje', 'futbol', 'arbitro', 'recorrido', 'ascenso', 'bermudez', 'hediondo', 'lopez', 'audio', 'colega', 'bermudez', 'foto', 'cono', 'lugar', 'beares', 'lopez', 'tono', 'punto', 'golpes', 'palabras', 'profes', 'cerro', 'juez', 'newsletter', 'audio', 'grupo', 'peque', 'gordinflon', 'matias', 'juez', 'pista', 'segundos', 'segundos', 'mojon', 'vuelta', 'dani', 'fijate', 'prueba', 'metros', 'cono', 'tiempo', 'prueba', 'dani', 'medicion', 'cono', 'metros', 'prueba', 'despues', 'beares', 'hediondo', 'ramiro', 'fernando', 'beares', 'gritos', 'afiliados', 'sindicato', 'pibes', 'prueba', 'respuesta', 'pones', 'agarre', 'sali', 'auto', 'contexto', 'prueba', 'enza', 'profes']\""
            ]
          },
          "metadata": {
            "tags": []
          },
          "execution_count": 13
        }
      ]
    },
    {
      "cell_type": "code",
      "metadata": {
        "id": "_tLbHfDyaleT",
        "colab_type": "code",
        "outputId": "f2ab2b63-a1ba-42c5-a562-1fe39c297c4f",
        "colab": {
          "base_uri": "https://localhost:8080/",
          "height": 1000
        }
      },
      "source": [
        "cleaner(df_news.titleandbody[0])"
      ],
      "execution_count": 0,
      "outputs": [
        {
          "output_type": "stream",
          "text": [
            "/usr/local/lib/python3.6/dist-packages/gensim/models/phrases.py:598: UserWarning: For a faster implementation, use the gensim.models.phrases.Phraser class\n",
            "  warnings.warn(\"For a faster implementation, use the gensim.models.phrases.Phraser class\")\n"
          ],
          "name": "stderr"
        },
        {
          "output_type": "execute_result",
          "data": {
            "text/plain": [
              "['pones',\n",
              " 'dieta',\n",
              " 'pruebas',\n",
              " 'bermudez',\n",
              " 'ascenso',\n",
              " 'metro',\n",
              " 'cantante',\n",
              " 'temas',\n",
              " 'manuel',\n",
              " 'serrat',\n",
              " 'lunes',\n",
              " 'canto',\n",
              " 'situacion',\n",
              " 'cargo',\n",
              " 'secretario',\n",
              " 'asociacion',\n",
              " 'arbitros',\n",
              " 'federico',\n",
              " 'director',\n",
              " 'arbitraje',\n",
              " 'bermudez',\n",
              " 'envio',\n",
              " 'grupo',\n",
              " 'amigos',\n",
              " 'programa',\n",
              " 'closs',\n",
              " 'periodista',\n",
              " 'tema',\n",
              " 'irregularidades',\n",
              " 'pruebas',\n",
              " 'pelea',\n",
              " 'jugadores',\n",
              " 'beares',\n",
              " 'foto',\n",
              " 'marcelo',\n",
              " 'alados',\n",
              " 'bermudez',\n",
              " 'matias',\n",
              " 'arbitro',\n",
              " 'foto',\n",
              " 'enero',\n",
              " 'fisico',\n",
              " 'rosario',\n",
              " 'despues',\n",
              " 'partido',\n",
              " 'tomas',\n",
              " 'duco',\n",
              " 'ademas',\n",
              " 'reconocio',\n",
              " 'version',\n",
              " 'ropa',\n",
              " 'ayuda',\n",
              " 'arbitro',\n",
              " 'nestor',\n",
              " 'sector',\n",
              " 'banderita',\n",
              " 'testimonio',\n",
              " 'arbitro',\n",
              " 'prueba',\n",
              " 'tenia',\n",
              " 'cono',\n",
              " 'metros',\n",
              " 'manera',\n",
              " 'fisico',\n",
              " 'silueta',\n",
              " 'asistente',\n",
              " 'beares',\n",
              " 'apellido',\n",
              " 'nivel',\n",
              " 'arbitraje',\n",
              " 'futbol',\n",
              " 'arbitro',\n",
              " 'recorrido',\n",
              " 'ascenso',\n",
              " 'bermudez',\n",
              " 'hediondo',\n",
              " 'lopez',\n",
              " 'audio',\n",
              " 'colega',\n",
              " 'bermudez',\n",
              " 'foto',\n",
              " 'cono',\n",
              " 'lugar',\n",
              " 'beares',\n",
              " 'lopez',\n",
              " 'tono',\n",
              " 'punto',\n",
              " 'golpes',\n",
              " 'palabras',\n",
              " 'profes',\n",
              " 'cerro',\n",
              " 'juez',\n",
              " 'newsletter',\n",
              " 'audio',\n",
              " 'grupo',\n",
              " 'peque',\n",
              " 'gordinflon',\n",
              " 'matias',\n",
              " 'juez',\n",
              " 'pista',\n",
              " 'segundos',\n",
              " 'segundos',\n",
              " 'mojon',\n",
              " 'vuelta',\n",
              " 'dani',\n",
              " 'fijate',\n",
              " 'prueba',\n",
              " 'metros',\n",
              " 'cono',\n",
              " 'tiempo',\n",
              " 'prueba',\n",
              " 'dani',\n",
              " 'medicion',\n",
              " 'cono',\n",
              " 'metros',\n",
              " 'prueba',\n",
              " 'despues',\n",
              " 'beares',\n",
              " 'hediondo',\n",
              " 'ramiro',\n",
              " 'fernando',\n",
              " 'beares',\n",
              " 'gritos',\n",
              " 'afiliados',\n",
              " 'sindicato',\n",
              " 'pibes',\n",
              " 'prueba',\n",
              " 'respuesta',\n",
              " 'pones',\n",
              " 'agarre',\n",
              " 'sali',\n",
              " 'auto',\n",
              " 'contexto',\n",
              " 'prueba',\n",
              " 'enza',\n",
              " 'profes']"
            ]
          },
          "metadata": {
            "tags": []
          },
          "execution_count": 59
        }
      ]
    },
    {
      "cell_type": "markdown",
      "metadata": {
        "id": "79bgtmVGapGd",
        "colab_type": "text"
      },
      "source": [
        "Let's clean all the text¶"
      ]
    },
    {
      "cell_type": "code",
      "metadata": {
        "id": "X1EgxjF5aptP",
        "colab_type": "code",
        "colab": {}
      },
      "source": [
        "df_news['titleandbody2'] = df_news['titleandbody']"
      ],
      "execution_count": 0,
      "outputs": []
    },
    {
      "cell_type": "code",
      "metadata": {
        "id": "Bsn_8d9Iariv",
        "colab_type": "code",
        "outputId": "4dc72b71-4b17-406f-f43e-5e06c52a4afa",
        "colab": {
          "base_uri": "https://localhost:8080/",
          "height": 87
        }
      },
      "source": [
        "%%time\n",
        "df_news['titleandbody'] = df_news['titleandbody'].apply(cleaner)"
      ],
      "execution_count": 0,
      "outputs": [
        {
          "output_type": "stream",
          "text": [
            "/usr/local/lib/python3.6/dist-packages/gensim/models/phrases.py:598: UserWarning: For a faster implementation, use the gensim.models.phrases.Phraser class\n",
            "  warnings.warn(\"For a faster implementation, use the gensim.models.phrases.Phraser class\")\n"
          ],
          "name": "stderr"
        },
        {
          "output_type": "stream",
          "text": [
            "CPU times: user 39min 37s, sys: 27.2 s, total: 40min 4s\n",
            "Wall time: 40min 6s\n"
          ],
          "name": "stdout"
        }
      ]
    },
    {
      "cell_type": "markdown",
      "metadata": {
        "id": "n60lGktRxEDj",
        "colab_type": "text"
      },
      "source": [
        "---\n",
        "\n",
        "Exporto el dataframe con la columna titleandbody limpia porque la ejecución de la función llevó 40 minutos!!!\n",
        "\n",
        "---"
      ]
    },
    {
      "cell_type": "code",
      "metadata": {
        "id": "vnTvxYV8uy3k",
        "colab_type": "code",
        "colab": {}
      },
      "source": [
        "news_Clean = df_news.to_csv (r'/content/drive/My Drive/Colab Notebooks/Curso Mineria Textos 2019/data/news_clean.csv', index = None, header=True)"
      ],
      "execution_count": 0,
      "outputs": []
    },
    {
      "cell_type": "markdown",
      "metadata": {
        "id": "aFuQF0dCGewf",
        "colab_type": "text"
      },
      "source": [
        "Importo el CSV news_clean"
      ]
    },
    {
      "cell_type": "code",
      "metadata": {
        "id": "E67bLo4QGdv5",
        "colab_type": "code",
        "outputId": "ca08487c-60af-4589-803c-a0a368d456cd",
        "colab": {
          "base_uri": "https://localhost:8080/",
          "height": 406
        }
      },
      "source": [
        "import pandas as pd \n",
        "df_news = pd.read_csv('news_clean.csv')\n",
        "df_news"
      ],
      "execution_count": 12,
      "outputs": [
        {
          "output_type": "execute_result",
          "data": {
            "text/html": [
              "<div>\n",
              "<style scoped>\n",
              "    .dataframe tbody tr th:only-of-type {\n",
              "        vertical-align: middle;\n",
              "    }\n",
              "\n",
              "    .dataframe tbody tr th {\n",
              "        vertical-align: top;\n",
              "    }\n",
              "\n",
              "    .dataframe thead th {\n",
              "        text-align: right;\n",
              "    }\n",
              "</style>\n",
              "<table border=\"1\" class=\"dataframe\">\n",
              "  <thead>\n",
              "    <tr style=\"text-align: right;\">\n",
              "      <th></th>\n",
              "      <th>news_paper</th>\n",
              "      <th>category</th>\n",
              "      <th>date</th>\n",
              "      <th>titleandbody</th>\n",
              "      <th>titleandbody2</th>\n",
              "    </tr>\n",
              "  </thead>\n",
              "  <tbody>\n",
              "    <tr>\n",
              "      <th>0</th>\n",
              "      <td>clarin</td>\n",
              "      <td>deportes</td>\n",
              "      <td>2019-10-01</td>\n",
              "      <td>['pones', 'dieta', 'pruebas', 'bermudez', 'asc...</td>\n",
              "      <td>“¿Por qué no te ponés a dieta?”, el escándalo ...</td>\n",
              "    </tr>\n",
              "    <tr>\n",
              "      <th>1</th>\n",
              "      <td>clarin</td>\n",
              "      <td>deportes</td>\n",
              "      <td>2019-10-01</td>\n",
              "      <td>['espa', 'fractura', 'barcelona', 'lionel', 'm...</td>\n",
              "      <td>En España hablan de una fractura en el Barcelo...</td>\n",
              "    </tr>\n",
              "    <tr>\n",
              "      <th>2</th>\n",
              "      <td>clarin</td>\n",
              "      <td>deportes</td>\n",
              "      <td>2019-10-01</td>\n",
              "      <td>['astros', 'boca', 'creyentes', 'ansiedad', 'i...</td>\n",
              "      <td>Superclásico: qué dicen los astros para el Riv...</td>\n",
              "    </tr>\n",
              "    <tr>\n",
              "      <th>3</th>\n",
              "      <td>clarin</td>\n",
              "      <td>deportes</td>\n",
              "      <td>2019-10-01</td>\n",
              "      <td>['boca', 'copa', 'libertadores', 'hora', 'duel...</td>\n",
              "      <td>River-Boca, por la Copa Libertadores: cómo est...</td>\n",
              "    </tr>\n",
              "    <tr>\n",
              "      <th>4</th>\n",
              "      <td>clarin</td>\n",
              "      <td>deportes</td>\n",
              "      <td>2019-10-01</td>\n",
              "      <td>['atletismo', 'drama', 'deportistas', 'clima',...</td>\n",
              "      <td>El Mundial de atletismo, envuelto en el drama ...</td>\n",
              "    </tr>\n",
              "    <tr>\n",
              "      <th>...</th>\n",
              "      <td>...</td>\n",
              "      <td>...</td>\n",
              "      <td>...</td>\n",
              "      <td>...</td>\n",
              "      <td>...</td>\n",
              "    </tr>\n",
              "    <tr>\n",
              "      <th>37389</th>\n",
              "      <td>lanacion</td>\n",
              "      <td>tecnologia</td>\n",
              "      <td>2019-10-29</td>\n",
              "      <td>['prototipo', 'partes', 'dias', 'prototipo', '...</td>\n",
              "      <td>Como una Z: así es el prototipo de TCL de un s...</td>\n",
              "    </tr>\n",
              "    <tr>\n",
              "      <th>37390</th>\n",
              "      <td>lanacion</td>\n",
              "      <td>tecnologia</td>\n",
              "      <td>2019-10-29</td>\n",
              "      <td>['app', 'partidos', 'elecciones', 'aplicacion'...</td>\n",
              "      <td>Lanzan una app gratis para ayudar a los partid...</td>\n",
              "    </tr>\n",
              "    <tr>\n",
              "      <th>37391</th>\n",
              "      <td>lanacion</td>\n",
              "      <td>tecnologia</td>\n",
              "      <td>2019-10-29</td>\n",
              "      <td>['pelicula', 'finales', 'with', 'markiplier', ...</td>\n",
              "      <td>YouTube presenta su primera película interacti...</td>\n",
              "    </tr>\n",
              "    <tr>\n",
              "      <th>37392</th>\n",
              "      <td>lanacion</td>\n",
              "      <td>tecnologia</td>\n",
              "      <td>2019-10-29</td>\n",
              "      <td>['apple', 'funcion', 'foto', 'ilustraciones', ...</td>\n",
              "      <td>Apple planea lanzar una función para crear Mem...</td>\n",
              "    </tr>\n",
              "    <tr>\n",
              "      <th>37393</th>\n",
              "      <td>lanacion</td>\n",
              "      <td>tecnologia</td>\n",
              "      <td>2019-10-29</td>\n",
              "      <td>['mate', 'telefono', 'dolares', 'fecha', 'disp...</td>\n",
              "      <td>Huawei Mate X: el teléfono plegable de 2400 dó...</td>\n",
              "    </tr>\n",
              "  </tbody>\n",
              "</table>\n",
              "<p>37394 rows × 5 columns</p>\n",
              "</div>"
            ],
            "text/plain": [
              "      news_paper  ...                                      titleandbody2\n",
              "0         clarin  ...  “¿Por qué no te ponés a dieta?”, el escándalo ...\n",
              "1         clarin  ...  En España hablan de una fractura en el Barcelo...\n",
              "2         clarin  ...  Superclásico: qué dicen los astros para el Riv...\n",
              "3         clarin  ...  River-Boca, por la Copa Libertadores: cómo est...\n",
              "4         clarin  ...  El Mundial de atletismo, envuelto en el drama ...\n",
              "...          ...  ...                                                ...\n",
              "37389   lanacion  ...  Como una Z: así es el prototipo de TCL de un s...\n",
              "37390   lanacion  ...  Lanzan una app gratis para ayudar a los partid...\n",
              "37391   lanacion  ...  YouTube presenta su primera película interacti...\n",
              "37392   lanacion  ...  Apple planea lanzar una función para crear Mem...\n",
              "37393   lanacion  ...  Huawei Mate X: el teléfono plegable de 2400 dó...\n",
              "\n",
              "[37394 rows x 5 columns]"
            ]
          },
          "metadata": {
            "tags": []
          },
          "execution_count": 12
        }
      ]
    },
    {
      "cell_type": "markdown",
      "metadata": {
        "id": "h0OPiezhavaD",
        "colab_type": "text"
      },
      "source": [
        "Now we need to build the corpus and the dictionary that gensim need to work, to do that we need to pass a list of list of tokens"
      ]
    },
    {
      "cell_type": "code",
      "metadata": {
        "id": "WKiSDZ2IawPL",
        "colab_type": "code",
        "colab": {}
      },
      "source": [
        "from ast import literal_eval\n",
        "\n",
        "tokens = df_news['titleandbody'].apply(literal_eval)\n",
        "#type([tokens])\n",
        "\n",
        "dictionary = Dictionary(tokens)\n",
        "dictionary.compactify()\n",
        "# Filter extremes\n",
        "dictionary.filter_extremes(no_below=2, no_above=0.97, keep_n=None)\n",
        "dictionary.compactify()\n",
        "\n",
        "corpus = [dictionary.doc2bow(literal_eval(text)) for text in df_news['titleandbody']] #.tolist()\n",
        "\n"
      ],
      "execution_count": 0,
      "outputs": []
    },
    {
      "cell_type": "markdown",
      "metadata": {
        "id": "lJZU6ULHbBJ9",
        "colab_type": "text"
      },
      "source": [
        "Now let's do the modeling part\n",
        "We are comparing 3 topic modeling algorithm Latent Dirichlet Allocation (LDA), Latent semantic analysis (LSA), Hierarchical Dirichlet Process (HDP),in order to evaluate topic models we will be using topic coherence, which is a measure of how interpretable topics are for human beings.\n",
        "\n",
        "Hierarchical Dirichlet process Model"
      ]
    },
    {
      "cell_type": "code",
      "metadata": {
        "id": "ecGPSFI2bCS7",
        "colab_type": "code",
        "colab": {}
      },
      "source": [
        "hdpmodel = HdpModel(corpus=corpus, id2word=dictionary, random_state= 30)"
      ],
      "execution_count": 0,
      "outputs": []
    },
    {
      "cell_type": "markdown",
      "metadata": {
        "id": "kThV63Y0bEg8",
        "colab_type": "text"
      },
      "source": [
        "and the topics of this model:"
      ]
    },
    {
      "cell_type": "code",
      "metadata": {
        "id": "h8hOJBjhbGsU",
        "colab_type": "code",
        "colab": {}
      },
      "source": [
        "def display_topics(model, model_type=\"lda\"):\n",
        "  for topic_idx, topic in enumerate(model.print_topics()):\n",
        "    print (\"Topic %d:\" % (topic_idx))\n",
        "    if model_type== \"hdp\":\n",
        "      print (\" \".join(re.findall( r'\\*(.[^\\*-S]+).?', topic[1])), \"\\n\")\n",
        "    else:\n",
        "      print (\" \".join(re.findall( r'\\\"(.[^\"]+).?', topic[1])), \"\\n\")"
      ],
      "execution_count": 0,
      "outputs": []
    },
    {
      "cell_type": "code",
      "metadata": {
        "id": "XKvwkQSabK5c",
        "colab_type": "code",
        "colab": {
          "base_uri": "https://localhost:8080/",
          "height": 1000
        },
        "outputId": "faed6f1b-c4ab-4604-ddaa-ca4523da4e8b"
      },
      "source": [
        "# hdpmodel.show_topics() \n",
        "\n",
        "display_topics(hdpmodel, model_type=\"hdp\")"
      ],
      "execution_count": 16,
      "outputs": [
        {
          "output_type": "stream",
          "text": [
            "Topic 0:\n",
            "vez  millones  presidente  parte  gobierno  tiempo  personas  mundo  momento  caso \n",
            "\n",
            "Topic 1:\n",
            "equipo  boca  partido  vez  tiempo  momento  vida  parte  mundo  futbol \n",
            "\n",
            "Topic 2:\n",
            "vez  parte  tiempo  mundo  momento  personas  vida  juego  compa  historia \n",
            "\n",
            "Topic 3:\n",
            "vez  partido  equipo  tiempo  historia  mundo  minutos  rugby  juego  inglaterra \n",
            "\n",
            "Topic 4:\n",
            "equipo  partido  boca  libertadores  octubre  futbol  copa  tiempo  jugador  parte \n",
            "\n",
            "Topic 5:\n",
            "elecciones  voto  octubre  equipo  presidente  millones  vez  gobierno  cambio  puntos \n",
            "\n",
            "Topic 6:\n",
            "mundo  vez  historia  equipo  hijo  bezos  vida  tiempo  millones  temporada \n",
            "\n",
            "Topic 7:\n",
            "partido  equipo  rugby  puntos  tiempo  francia  minutos  gol  parte  jugadores \n",
            "\n",
            "Topic 8:\n",
            "millones  lacunza  partido  ministro  dolares  equipo  vez  puntos  ahorro  gobierno \n",
            "\n",
            "Topic 9:\n",
            "alimentos  trabajo  mundo  millones  carne  futbol  boca  premio  juego  banco \n",
            "\n",
            "Topic 10:\n",
            "minutos  equipo  partido  puntos  gol  vez  tiempo  juego  parte  patrick \n",
            "\n",
            "Topic 11:\n",
            "boca  minutos  partido  jugadores  equipo  vez  gol  pelota  cancha  despues \n",
            "\n",
            "Topic 12:\n",
            "pato  milonga  bonaventura  partido  ecos  equipo  boca  copa  tiempo  foto \n",
            "\n",
            "Topic 13:\n",
            "deporte  cosas  equipo  minujin  patines  juan  tiempo  hockey  tenes  mundo \n",
            "\n",
            "Topic 14:\n",
            "switch  juego  demanda  video  club  jugadores  movimientos  consola  joy  parte \n",
            "\n",
            "Topic 15:\n",
            "nba  morey  libertad  hong  manifestantes  rockets  ciudad  partido  equipo  partidos \n",
            "\n",
            "Topic 16:\n",
            "fase  gaming  worlds  grupo  grupos  legends  league  equipos  deportes  instancia \n",
            "\n",
            "Topic 17:\n",
            "velez  crudo  equipo  emesa  exploracion  petroleo  casta  gol  calidad  tiempo \n",
            "\n",
            "Topic 18:\n",
            "deporte  millones  clubes  mundo  equipo  cosas  foto  nba  tiempo  club \n",
            "\n",
            "Topic 19:\n",
            "abuso  equipo  jugadores  traves  casos  partidos  denuncia  conmociones  presidente  liga \n",
            "\n"
          ],
          "name": "stdout"
        }
      ]
    },
    {
      "cell_type": "code",
      "metadata": {
        "id": "dscTOHiLbRD1",
        "colab_type": "code",
        "colab": {}
      },
      "source": [
        "def evaluate_graph(dictionary, corpus, texts, limit, model):\n",
        "    \"\"\"\n",
        "    Function to display num_topics - LDA graph using c_v coherence\n",
        "    \n",
        "    Parameters:\n",
        "    ----------\n",
        "    dictionary : Gensim dictionary\n",
        "    corpus : Gensim corpus\n",
        "    limit : topic limit\n",
        "    \n",
        "    Returns:\n",
        "    -------\n",
        "    lm_list : List of LDA topic models\n",
        "    c_v : Coherence values corresponding to the LDA model with respective number of topics\n",
        "    \"\"\"\n",
        "    c_v = []\n",
        "    lm_list = []\n",
        "    for num_topics in range(1, limit):\n",
        "        if model == 'lsi':\n",
        "          lm = LsiModel(corpus=corpus, num_topics=num_topics, id2word=dictionary)\n",
        "        else:\n",
        "          lm = LdaModel(corpus=corpus, num_topics=num_topics, id2word=dictionary)\n",
        "        lm_list.append(lm)\n",
        "        cm = CoherenceModel(model=lm, texts=texts, dictionary=dictionary, coherence='c_v')\n",
        "        c_v.append(cm.get_coherence())\n",
        "        \n",
        "    # Show graph\n",
        "    x = range(1, limit)\n",
        "    plt.plot(x, c_v)\n",
        "    plt.xlabel(\"num_topics\")\n",
        "    plt.ylabel(\"Coherence score\")\n",
        "    plt.legend((\"c_v\"), loc='best')\n",
        "    plt.show()\n",
        "    \n",
        "    return lm_list, c_v"
      ],
      "execution_count": 0,
      "outputs": []
    },
    {
      "cell_type": "markdown",
      "metadata": {
        "id": "1rD1qYPEbTjk",
        "colab_type": "text"
      },
      "source": [
        "LSI MODEL"
      ]
    },
    {
      "cell_type": "code",
      "metadata": {
        "id": "BvYbxWTZbU1d",
        "colab_type": "code",
        "colab": {}
      },
      "source": [
        "lsimodel = LsiModel(corpus=corpus, num_topics=10, id2word=dictionary)"
      ],
      "execution_count": 0,
      "outputs": []
    },
    {
      "cell_type": "code",
      "metadata": {
        "id": "t5RGZt-5bXXE",
        "colab_type": "code",
        "colab": {
          "base_uri": "https://localhost:8080/",
          "height": 550
        },
        "outputId": "cee736d2-7832-4e67-8f5e-0d1b543c381d"
      },
      "source": [
        "display_topics(lsimodel)  # Showing the topics"
      ],
      "execution_count": 19,
      "outputs": [
        {
          "output_type": "stream",
          "text": [
            "Topic 0:\n",
            "vez tiempo presidente mundo parte millones gobierno vida momento gente \n",
            "\n",
            "Topic 1:\n",
            "presidente gobierno millones candidato debate vida elecciones casa candidatos vez \n",
            "\n",
            "Topic 2:\n",
            "millones debate presidente candidato dolares candidatos mercado boca partido empresas \n",
            "\n",
            "Topic 3:\n",
            "boca equipo partido millones mujeres juego jugadores vida futbol copa \n",
            "\n",
            "Topic 4:\n",
            "millones casa mundo gracias sistema mujeres paso juego hijo seguridad \n",
            "\n",
            "Topic 5:\n",
            "millones gracias vida datos segundos tiempo minutos ciudad mundo derechos \n",
            "\n",
            "Topic 6:\n",
            "mujeres encuentro boca tiempo casa plata juego sistema ciudad mujer \n",
            "\n",
            "Topic 7:\n",
            "boca debate juego gobierno millones candidatos gracias libertadores historia seguridad \n",
            "\n",
            "Topic 8:\n",
            "minutos gente mujeres cosas sinopsis casa direccion millones duracion mundo \n",
            "\n",
            "Topic 9:\n",
            "minutos sinopsis direccion duracion debate boca casa litio calificacion agua \n",
            "\n"
          ],
          "name": "stdout"
        }
      ]
    },
    {
      "cell_type": "markdown",
      "metadata": {
        "id": "Uibs_fa6bb9_",
        "colab_type": "text"
      },
      "source": [
        "It seen that with 10 topics there is some themes with keywords related to: trump, venezuela, police, electiones, terrorism; still is a little difficult to gt some insight, because of this we are trying to select the best number of topics by iterate over a range of values and looking the coherence"
      ]
    },
    {
      "cell_type": "code",
      "metadata": {
        "id": "T5VrBEKEbc5e",
        "colab_type": "code",
        "colab": {
          "base_uri": "https://localhost:8080/",
          "height": 315
        },
        "outputId": "02219e86-1ddd-4001-db02-cca1fb96bb8e"
      },
      "source": [
        "%%time\n",
        "#lmlist_lsi, c_v = evaluate_graph(dictionary=dictionary, corpus=corpus, texts=df_news['titleandbody'].tolist(), limit=21, model= \"lsi\")\n",
        "lmlist_lsi, c_v = evaluate_graph(dictionary=dictionary, corpus=corpus, texts=df_news['titleandbody'].apply(literal_eval), limit=21, model= \"lsi\")\n"
      ],
      "execution_count": 21,
      "outputs": [
        {
          "output_type": "display_data",
          "data": {
            "image/png": "[encoded data removed]",
            "text/plain": [
              "<Figure size 432x288 with 1 Axes>"
            ]
          },
          "metadata": {
            "tags": []
          }
        },
        {
          "output_type": "stream",
          "text": [
            "CPU times: user 20min 13s, sys: 21.3 s, total: 20min 34s\n",
            "Wall time: 19min 19s\n"
          ],
          "name": "stdout"
        }
      ]
    },
    {
      "cell_type": "markdown",
      "metadata": {
        "id": "sc4-3wojbhW2",
        "colab_type": "text"
      },
      "source": [
        "According to the coherence the best number of topics are between 3-7, however you must select the topics using both the coherence and visual inspection."
      ]
    },
    {
      "cell_type": "code",
      "metadata": {
        "id": "XaQ4gm5ubiWN",
        "colab_type": "code",
        "colab": {
          "base_uri": "https://localhost:8080/",
          "height": 176
        },
        "outputId": "2f7f94f1-a038-4082-ffc2-cfb1f7a3fd6b"
      },
      "source": [
        "display_topics(lmlist_lsi[2])"
      ],
      "execution_count": 22,
      "outputs": [
        {
          "output_type": "stream",
          "text": [
            "Topic 0:\n",
            "vez tiempo presidente mundo parte millones gobierno vida momento gente \n",
            "\n",
            "Topic 1:\n",
            "presidente gobierno millones candidato debate vida casa candidatos vez mauricio \n",
            "\n",
            "Topic 2:\n",
            "millones presidente debate candidato dolares mercado gracias candidatos datos empresas \n",
            "\n"
          ],
          "name": "stdout"
        }
      ]
    },
    {
      "cell_type": "markdown",
      "metadata": {
        "id": "gy2wSPv0bmmc",
        "colab_type": "text"
      },
      "source": [
        "Now, Let's try another model"
      ]
    },
    {
      "cell_type": "markdown",
      "metadata": {
        "id": "XHpydZiRbsgk",
        "colab_type": "text"
      },
      "source": [
        "Latent Dirichlet Allocation Model"
      ]
    },
    {
      "cell_type": "code",
      "metadata": {
        "id": "zmV1EEQabnzN",
        "colab_type": "code",
        "colab": {}
      },
      "source": [
        "ldamodel = LdaModel(corpus=corpus, num_topics=10, id2word=dictionary)"
      ],
      "execution_count": 0,
      "outputs": []
    },
    {
      "cell_type": "code",
      "metadata": {
        "id": "aXFQrABQbwO3",
        "colab_type": "code",
        "colab": {
          "base_uri": "https://localhost:8080/",
          "height": 550
        },
        "outputId": "5ca7f5c2-e45a-436c-c999-f44f7b3d019e"
      },
      "source": [
        "display_topics(ldamodel)"
      ],
      "execution_count": 24,
      "outputs": [
        {
          "output_type": "stream",
          "text": [
            "Topic 0:\n",
            "vida cosas vez momento tiempo gente casa familia veces mundo \n",
            "\n",
            "Topic 1:\n",
            "samsung mano boca minutos vez tiempo equipo video litros chocolate \n",
            "\n",
            "Topic 2:\n",
            "equipo juego partido equipos partidos jugadores minutos vez futbol tiempo \n",
            "\n",
            "Topic 3:\n",
            "presidente candidato gobierno debate elecciones cambio mauricio candidatos fernandez alberto \n",
            "\n",
            "Topic 4:\n",
            "sistema millones compa datos empresa servicio servicios dolares uso personas \n",
            "\n",
            "Topic 5:\n",
            "mundo mujeres vez parte litio vida historia tiempo robot personas \n",
            "\n",
            "Topic 6:\n",
            "millones mercado dolares robots nacion intel crecimiento cambio mundo empresas \n",
            "\n",
            "Topic 7:\n",
            "pantalla personas videojuegos vez forma persona sistema usuario aplicaciones telefono \n",
            "\n",
            "Topic 8:\n",
            "actriz semana actor grupo cancer temporada vez show momento pelicula \n",
            "\n",
            "Topic 9:\n",
            "ciudad aires nacion justicia caso agua horas fuentes zona causa \n",
            "\n"
          ],
          "name": "stdout"
        }
      ]
    },
    {
      "cell_type": "markdown",
      "metadata": {
        "id": "zRsm0e69b1CA",
        "colab_type": "text"
      },
      "source": [
        "Find out the optimal number of topics for the LDA model based on the coherence metric:"
      ]
    },
    {
      "cell_type": "code",
      "metadata": {
        "id": "TkJVJIF3b119",
        "colab_type": "code",
        "colab": {
          "base_uri": "https://localhost:8080/",
          "height": 315
        },
        "outputId": "b8cc276d-f053-4ca6-f450-0d8006f0dca5"
      },
      "source": [
        "%%time\n",
        "#lmlist, c_v = evaluate_graph(dictionary=dictionary, corpus=corpus, texts=df_news['titleandbody'].tolist(), limit=21, model= \"lda\")\n",
        "lmlist, c_v = evaluate_graph(dictionary=dictionary, corpus=corpus, texts=df_news['titleandbody'].apply(literal_eval), limit=21, model= \"lda\")\n"
      ],
      "execution_count": 26,
      "outputs": [
        {
          "output_type": "display_data",
          "data": {
            "image/png": "[encoded data removed]",
            "text/plain": [
              "<Figure size 432x288 with 1 Axes>"
            ]
          },
          "metadata": {
            "tags": []
          }
        },
        {
          "output_type": "stream",
          "text": [
            "CPU times: user 30min 3s, sys: 13.8 s, total: 30min 17s\n",
            "Wall time: 30min 2s\n"
          ],
          "name": "stdout"
        }
      ]
    },
    {
      "cell_type": "markdown",
      "metadata": {
        "id": "90zSMEIob5rN",
        "colab_type": "text"
      },
      "source": [
        "For this model it seems that 9 or 18, again we must to check the keywords too.\n",
        "Comparing the Model Coherence of the Best Models\n",
        "we made 3 models, now let's compare each other's coherence"
      ]
    },
    {
      "cell_type": "code",
      "metadata": {
        "id": "008Xq1IHb6W9",
        "colab_type": "code",
        "colab": {}
      },
      "source": [
        "ldamodel = lmlist[11]\n",
        "lsimodel = lmlist_lsi[2]\n",
        "\n",
        "lsitopics = [[word for word, prob in topic] for topicid, topic in lsimodel.show_topics(formatted=False)]\n",
        "\n",
        "hdptopics = [[word for word, prob in topic] for topicid, topic in hdpmodel.show_topics(formatted=False)]\n",
        "\n",
        "ldatopics = [[word for word, prob in topic] for topicid, topic in ldamodel.show_topics(formatted=False)]"
      ],
      "execution_count": 0,
      "outputs": []
    },
    {
      "cell_type": "code",
      "metadata": {
        "id": "ghrwMu6ub_iJ",
        "colab_type": "code",
        "colab": {}
      },
      "source": [
        "#lsi_coherence = CoherenceModel(topics=lsitopics[:10], texts=df_news['titleandbody'].tolist(), dictionary=dictionary, window_size=10).get_coherence()\n",
        "\n",
        "#hdp_coherence = CoherenceModel(topics=hdptopics[:10], texts=df_news['titleandbody'].tolist(), dictionary=dictionary, window_size=10).get_coherence()\n",
        "\n",
        "#lda_coherence = CoherenceModel(topics=ldatopics, texts=df_news['titleandbody'].tolist(), dictionary=dictionary, window_size=10).get_coherence()\n",
        "\n",
        "lsi_coherence = CoherenceModel(topics=lsitopics[:10], texts=df_news['titleandbody'].apply(literal_eval), dictionary=dictionary, window_size=10).get_coherence()\n",
        "\n",
        "hdp_coherence = CoherenceModel(topics=hdptopics[:10], texts=df_news['titleandbody'].apply(literal_eval), dictionary=dictionary, window_size=10).get_coherence()\n",
        "\n",
        "lda_coherence = CoherenceModel(topics=ldatopics, texts=df_news['titleandbody'].apply(literal_eval), dictionary=dictionary, window_size=10).get_coherence()"
      ],
      "execution_count": 0,
      "outputs": []
    },
    {
      "cell_type": "code",
      "metadata": {
        "id": "Oqy1lZ33cBrG",
        "colab_type": "code",
        "colab": {
          "base_uri": "https://localhost:8080/",
          "height": 283
        },
        "outputId": "8be8bac2-10de-4e52-bb77-59686c338375"
      },
      "source": [
        "import seaborn as sns\n",
        "\n",
        "coherences = [lsi_coherence, hdp_coherence, lda_coherence]\n",
        "n = len(coherences)\n",
        "x = ['lsi_coherence','hdp_coherence', 'lda_coherence']\n",
        "sns.barplot(x, coherences)"
      ],
      "execution_count": 30,
      "outputs": [
        {
          "output_type": "execute_result",
          "data": {
            "text/plain": [
              "<matplotlib.axes._subplots.AxesSubplot at 0x7f85caeb2550>"
            ]
          },
          "metadata": {
            "tags": []
          },
          "execution_count": 30
        },
        {
          "output_type": "display_data",
          "data": {
            "image/png": "[encoded data removed]",
            "text/plain": [
              "<Figure size 432x288 with 1 Axes>"
            ]
          },
          "metadata": {
            "tags": []
          }
        }
      ]
    },
    {
      "cell_type": "markdown",
      "metadata": {
        "id": "KtnAXDW_cLLR",
        "colab_type": "text"
      },
      "source": [
        "Examine the keyword to get the topics of the best model"
      ]
    },
    {
      "cell_type": "code",
      "metadata": {
        "id": "lswrQtm6cPxN",
        "colab_type": "code",
        "colab": {
          "base_uri": "https://localhost:8080/",
          "height": 656
        },
        "outputId": "6afb312e-3327-483b-bde1-ccae106abb92"
      },
      "source": [
        "display_topics(ldamodel)"
      ],
      "execution_count": 31,
      "outputs": [
        {
          "output_type": "stream",
          "text": [
            "Topic 0:\n",
            "presidente candidato gobierno elecciones debate mauricio cambio fernandez alberto candidatos \n",
            "\n",
            "Topic 1:\n",
            "vez mundo serie personaje historia the parte podcast actriz tiempo \n",
            "\n",
            "Topic 2:\n",
            "personas chile facebook semana mujeres red redes fin paro vuelos \n",
            "\n",
            "Topic 3:\n",
            "casa mujer vez ana noche madre momento familia hijo dia \n",
            "\n",
            "Topic 4:\n",
            "vida tiempo momento vez veces cosas samsung familia comida casa \n",
            "\n",
            "Topic 5:\n",
            "sistema pantalla servicio compa uso forma datos telefono usuario vez \n",
            "\n",
            "Topic 6:\n",
            "millones dolares empresas mercado empresa productos precio compa mes sector \n",
            "\n",
            "Topic 7:\n",
            "universidad mundo personas estudio trabajo vez tipo ejemplo tierra parte \n",
            "\n",
            "Topic 8:\n",
            "videojuegos grupo banda tiempo mundo vidas avion despues carne parte \n",
            "\n",
            "Topic 9:\n",
            "juego equipo partido equipos jugadores futbol boca videojuego play vez \n",
            "\n",
            "Topic 10:\n",
            "caso informes justicia nacion causa casos seguridad apple personas fuentes \n",
            "\n",
            "Topic 11:\n",
            "ciudad obras obra aires nacion lugar mujeres parte grupo corte \n",
            "\n"
          ],
          "name": "stdout"
        }
      ]
    },
    {
      "cell_type": "markdown",
      "metadata": {
        "id": "-gwmrTvdcezV",
        "colab_type": "text"
      },
      "source": [
        "Let´s check the keyword when we selecting another number of topics (14)\n",
        "\n"
      ]
    },
    {
      "cell_type": "code",
      "metadata": {
        "id": "u57Jn7oTcf7e",
        "colab_type": "code",
        "colab": {}
      },
      "source": [
        "ldamodel_16 =lmlist[16]"
      ],
      "execution_count": 0,
      "outputs": []
    },
    {
      "cell_type": "code",
      "metadata": {
        "id": "VeM6jrpHcmPt",
        "colab_type": "code",
        "colab": {
          "base_uri": "https://localhost:8080/",
          "height": 923
        },
        "outputId": "e103e576-2d7e-4873-de1a-bdfe43b45ac2"
      },
      "source": [
        "display_topics(ldamodel_16)"
      ],
      "execution_count": 33,
      "outputs": [
        {
          "output_type": "stream",
          "text": [
            "Topic 0:\n",
            "mundo litio comida agua universidad personas desarrollo tierra ejemplo forma \n",
            "\n",
            "Topic 1:\n",
            "sistema robots robot computadora forma investigadores estudio modelos tipo almacenamiento \n",
            "\n",
            "Topic 2:\n",
            "facebook chile seguridad grupo personas medios ciudad caso derechos nacion \n",
            "\n",
            "Topic 3:\n",
            "cosas gente vez tiempo veces momento mundo vida personas tenes \n",
            "\n",
            "Topic 4:\n",
            "ciudad debate mujeres aires acto provincia personas gobierno gente nacion \n",
            "\n",
            "Topic 5:\n",
            "partido equipo boca partidos minutos club vez libertadores tiempo juego \n",
            "\n",
            "Topic 6:\n",
            "app cancer grupo utero tiempo pelicula mama banda incendio playstation \n",
            "\n",
            "Topic 7:\n",
            "vez historia personaje mujeres serie podcast the actor play amor \n",
            "\n",
            "Topic 8:\n",
            "one mate mundo mini wifi historia habilidades oct pdt hielo \n",
            "\n",
            "Topic 9:\n",
            "agua actriz smartphones zona tiempo grados temperatura lluvias rugby maxima \n",
            "\n",
            "Topic 10:\n",
            "millones mercado dolares empresas precio samsung empresa mes sector intel \n",
            "\n",
            "Topic 11:\n",
            "caso justicia casos causa denuncia seguridad juicio investigacion policia salud \n",
            "\n",
            "Topic 12:\n",
            "pantalla sistema compa videojuegos uso apple parte servicio telefono aplicaciones \n",
            "\n",
            "Topic 13:\n",
            "equipo juego futbol equipos mundo jugadores espa league torneo deporte \n",
            "\n",
            "Topic 14:\n",
            "vida casa familia mujer madre momento meses vez hijos hijo \n",
            "\n",
            "Topic 15:\n",
            "presidente candidato gobierno elecciones fernandez mauricio alberto cambio paso candidatos \n",
            "\n",
            "Topic 16:\n",
            "datos personas redes usuario red compa mensajes fotos servicio traves \n",
            "\n"
          ],
          "name": "stdout"
        }
      ]
    },
    {
      "cell_type": "markdown",
      "metadata": {
        "id": "pUuom60dcqCG",
        "colab_type": "text"
      },
      "source": [
        "Classifiying all documents\n",
        "now that we have been select the best model and topics number, is time to assign a topic to each document, means cluster according to the topics"
      ]
    },
    {
      "cell_type": "code",
      "metadata": {
        "id": "OH4u8aiscvPm",
        "colab_type": "code",
        "colab": {}
      },
      "source": [
        "def format_topics_sentences(ldamodel=0, corpus=corpus, texts=0):\n",
        "    # Init output\n",
        "    sent_topics_df = pd.DataFrame()-n\n",
        "\n",
        "    # Get main topic in each document\n",
        "    for i, row in enumerate(ldamodel[corpus]):\n",
        "        row = sorted(row, key=lambda x: (x[1]), reverse=True)\n",
        "        # Get the Dominant topic, Perc Contribution and Keywords for each document\n",
        "        for j, (topic_num, prop_topic) in enumerate(row):\n",
        "            if j == 0:  # => dominant topic\n",
        "                wp = ldamodel.show_topic(topic_num)\n",
        "                topic_keywords = \", \".join([word for word, prop in wp])\n",
        "                sent_topics_df = sent_topics_df.append(pd.Series([int(topic_num), round(prop_topic,4), topic_keywords]), ignore_index=True)\n",
        "            else:\n",
        "                break\n",
        "    sent_topics_df.columns = ['Dominant_Topic', 'Perc_Contribution', 'Topic_Keywords']\n",
        "\n",
        "    # Add original text to the end of the output\n",
        "    contents = pd.Series(texts)\n",
        "    sent_topics_df = pd.concat([sent_topics_df, contents], axis=1)\n",
        "    return(sent_topics_df)\n",
        "\n",
        "\n",
        "df_topic_sents_keywords = format_topics_sentences(ldamodel, corpus=corpus, texts=df_news['titleandbody'].apply(literal_eval))"
      ],
      "execution_count": 0,
      "outputs": []
    },
    {
      "cell_type": "code",
      "metadata": {
        "id": "ThcX-Nduc4tW",
        "colab_type": "code",
        "colab": {
          "base_uri": "https://localhost:8080/",
          "height": 347
        },
        "outputId": "2b977895-cdc1-40a6-d844-bc35ce9243ea"
      },
      "source": [
        "# Format\n",
        "df_dominant_topic = df_topic_sents_keywords.reset_index()\n",
        "df_dominant_topic.columns = ['Document_No', 'Dominant_Topic', 'Topic_Perc_Contrib', 'Keywords', 'Text']\n",
        "\n",
        "# Show\n",
        "df_dominant_topic.head(10)"
      ],
      "execution_count": 60,
      "outputs": [
        {
          "output_type": "execute_result",
          "data": {
            "text/html": [
              "<div>\n",
              "<style scoped>\n",
              "    .dataframe tbody tr th:only-of-type {\n",
              "        vertical-align: middle;\n",
              "    }\n",
              "\n",
              "    .dataframe tbody tr th {\n",
              "        vertical-align: top;\n",
              "    }\n",
              "\n",
              "    .dataframe thead th {\n",
              "        text-align: right;\n",
              "    }\n",
              "</style>\n",
              "<table border=\"1\" class=\"dataframe\">\n",
              "  <thead>\n",
              "    <tr style=\"text-align: right;\">\n",
              "      <th></th>\n",
              "      <th>Document_No</th>\n",
              "      <th>Dominant_Topic</th>\n",
              "      <th>Topic_Perc_Contrib</th>\n",
              "      <th>Keywords</th>\n",
              "      <th>Text</th>\n",
              "    </tr>\n",
              "  </thead>\n",
              "  <tbody>\n",
              "    <tr>\n",
              "      <th>0</th>\n",
              "      <td>0</td>\n",
              "      <td>10.0</td>\n",
              "      <td>0.4227</td>\n",
              "      <td>caso, informes, justicia, nacion, causa, casos...</td>\n",
              "      <td>[pones, dieta, pruebas, bermudez, ascenso, met...</td>\n",
              "    </tr>\n",
              "    <tr>\n",
              "      <th>1</th>\n",
              "      <td>1</td>\n",
              "      <td>9.0</td>\n",
              "      <td>0.5959</td>\n",
              "      <td>juego, equipo, partido, equipos, jugadores, fu...</td>\n",
              "      <td>[espa, fractura, barcelona, lionel, messi, bar...</td>\n",
              "    </tr>\n",
              "    <tr>\n",
              "      <th>2</th>\n",
              "      <td>2</td>\n",
              "      <td>9.0</td>\n",
              "      <td>0.7763</td>\n",
              "      <td>juego, equipo, partido, equipos, jugadores, fu...</td>\n",
              "      <td>[astros, boca, creyentes, ansiedad, interes, a...</td>\n",
              "    </tr>\n",
              "    <tr>\n",
              "      <th>3</th>\n",
              "      <td>3</td>\n",
              "      <td>9.0</td>\n",
              "      <td>0.5482</td>\n",
              "      <td>juego, equipo, partido, equipos, jugadores, fu...</td>\n",
              "      <td>[boca, copa, libertadores, hora, duelo, ida, s...</td>\n",
              "    </tr>\n",
              "    <tr>\n",
              "      <th>4</th>\n",
              "      <td>4</td>\n",
              "      <td>4.0</td>\n",
              "      <td>0.4995</td>\n",
              "      <td>vida, tiempo, momento, vez, veces, cosas, sams...</td>\n",
              "      <td>[atletismo, drama, deportistas, clima, imagen,...</td>\n",
              "    </tr>\n",
              "    <tr>\n",
              "      <th>5</th>\n",
              "      <td>5</td>\n",
              "      <td>9.0</td>\n",
              "      <td>0.7000</td>\n",
              "      <td>juego, equipo, partido, equipos, jugadores, fu...</td>\n",
              "      <td>[goles, historial, martes, octubre, semifinal,...</td>\n",
              "    </tr>\n",
              "    <tr>\n",
              "      <th>6</th>\n",
              "      <td>6</td>\n",
              "      <td>9.0</td>\n",
              "      <td>0.6222</td>\n",
              "      <td>juego, equipo, partido, equipos, jugadores, fu...</td>\n",
              "      <td>[detras, escena, challenger, tenistas, circuit...</td>\n",
              "    </tr>\n",
              "    <tr>\n",
              "      <th>7</th>\n",
              "      <td>7</td>\n",
              "      <td>4.0</td>\n",
              "      <td>0.4742</td>\n",
              "      <td>vida, tiempo, momento, vez, veces, cosas, sams...</td>\n",
              "      <td>[alberto, entrenador, farah, reglas, atletismo...</td>\n",
              "    </tr>\n",
              "    <tr>\n",
              "      <th>8</th>\n",
              "      <td>8</td>\n",
              "      <td>9.0</td>\n",
              "      <td>0.8872</td>\n",
              "      <td>juego, equipo, partido, equipos, jugadores, fu...</td>\n",
              "      <td>[copa, mundo, voleibol, triunfo, campeon, vole...</td>\n",
              "    </tr>\n",
              "    <tr>\n",
              "      <th>9</th>\n",
              "      <td>9</td>\n",
              "      <td>9.0</td>\n",
              "      <td>0.8575</td>\n",
              "      <td>juego, equipo, partido, equipos, jugadores, fu...</td>\n",
              "      <td>[brise, santos, mexico, santos, desato, mexico...</td>\n",
              "    </tr>\n",
              "  </tbody>\n",
              "</table>\n",
              "</div>"
            ],
            "text/plain": [
              "   Document_No  ...                                               Text\n",
              "0            0  ...  [pones, dieta, pruebas, bermudez, ascenso, met...\n",
              "1            1  ...  [espa, fractura, barcelona, lionel, messi, bar...\n",
              "2            2  ...  [astros, boca, creyentes, ansiedad, interes, a...\n",
              "3            3  ...  [boca, copa, libertadores, hora, duelo, ida, s...\n",
              "4            4  ...  [atletismo, drama, deportistas, clima, imagen,...\n",
              "5            5  ...  [goles, historial, martes, octubre, semifinal,...\n",
              "6            6  ...  [detras, escena, challenger, tenistas, circuit...\n",
              "7            7  ...  [alberto, entrenador, farah, reglas, atletismo...\n",
              "8            8  ...  [copa, mundo, voleibol, triunfo, campeon, vole...\n",
              "9            9  ...  [brise, santos, mexico, santos, desato, mexico...\n",
              "\n",
              "[10 rows x 5 columns]"
            ]
          },
          "metadata": {
            "tags": []
          },
          "execution_count": 60
        }
      ]
    },
    {
      "cell_type": "markdown",
      "metadata": {
        "id": "4VQUohlzc7xx",
        "colab_type": "text"
      },
      "source": [
        "We selected the ldamodel with 12 topics and asigned a dominant topic to each document, now let map each topic with a label\n",
        "\n",
        "first let's create the dictionary"
      ]
    },
    {
      "cell_type": "code",
      "metadata": {
        "id": "L8MAIYXec8a7",
        "colab_type": "code",
        "colab": {}
      },
      "source": [
        "#label_dicc = {0:'trials', 1:'nature', 2:'violence', 3: 'protest', 4:'life_family', 5:'sea_disasters', 6:'elections', 7:'terrorism', 8:'economic_crisis', 9: 'seism', 10:'peacy_treaty', 11:'airport_security'}\n",
        "label_dicc = {0:'elecciones', 1:'espectáculos', 2:'chile', 3: 'familia', 4:'deportes y ocio', 5:'tecnología', 6:'economía', \n",
        "              7:'estudio', 8:'jóvenes', 9: 'deportes y videojuegos', 10:'justicia', 11:'ciudad'}"
      ],
      "execution_count": 0,
      "outputs": []
    },
    {
      "cell_type": "code",
      "metadata": {
        "id": "B2ZF5Kxac_9l",
        "colab_type": "code",
        "colab": {}
      },
      "source": [
        "df_dominant_topic['Dominant_Topic'] = df_dominant_topic['Dominant_Topic'].astype('int64')"
      ],
      "execution_count": 0,
      "outputs": []
    },
    {
      "cell_type": "code",
      "metadata": {
        "id": "aeTWryxldCRF",
        "colab_type": "code",
        "colab": {
          "base_uri": "https://localhost:8080/",
          "height": 947
        },
        "outputId": "2557d957-a540-4d28-e366-706399728899"
      },
      "source": [
        "df_dominant_topic['Dominant_Topic'] = df_dominant_topic['Dominant_Topic'].map(label_dicc)\n",
        "df_dominant_topic.head(30)"
      ],
      "execution_count": 63,
      "outputs": [
        {
          "output_type": "execute_result",
          "data": {
            "text/html": [
              "<div>\n",
              "<style scoped>\n",
              "    .dataframe tbody tr th:only-of-type {\n",
              "        vertical-align: middle;\n",
              "    }\n",
              "\n",
              "    .dataframe tbody tr th {\n",
              "        vertical-align: top;\n",
              "    }\n",
              "\n",
              "    .dataframe thead th {\n",
              "        text-align: right;\n",
              "    }\n",
              "</style>\n",
              "<table border=\"1\" class=\"dataframe\">\n",
              "  <thead>\n",
              "    <tr style=\"text-align: right;\">\n",
              "      <th></th>\n",
              "      <th>Document_No</th>\n",
              "      <th>Dominant_Topic</th>\n",
              "      <th>Topic_Perc_Contrib</th>\n",
              "      <th>Keywords</th>\n",
              "      <th>Text</th>\n",
              "    </tr>\n",
              "  </thead>\n",
              "  <tbody>\n",
              "    <tr>\n",
              "      <th>0</th>\n",
              "      <td>0</td>\n",
              "      <td>justicia</td>\n",
              "      <td>0.4227</td>\n",
              "      <td>caso, informes, justicia, nacion, causa, casos...</td>\n",
              "      <td>[pones, dieta, pruebas, bermudez, ascenso, met...</td>\n",
              "    </tr>\n",
              "    <tr>\n",
              "      <th>1</th>\n",
              "      <td>1</td>\n",
              "      <td>deportes y videojuegos</td>\n",
              "      <td>0.5959</td>\n",
              "      <td>juego, equipo, partido, equipos, jugadores, fu...</td>\n",
              "      <td>[espa, fractura, barcelona, lionel, messi, bar...</td>\n",
              "    </tr>\n",
              "    <tr>\n",
              "      <th>2</th>\n",
              "      <td>2</td>\n",
              "      <td>deportes y videojuegos</td>\n",
              "      <td>0.7763</td>\n",
              "      <td>juego, equipo, partido, equipos, jugadores, fu...</td>\n",
              "      <td>[astros, boca, creyentes, ansiedad, interes, a...</td>\n",
              "    </tr>\n",
              "    <tr>\n",
              "      <th>3</th>\n",
              "      <td>3</td>\n",
              "      <td>deportes y videojuegos</td>\n",
              "      <td>0.5482</td>\n",
              "      <td>juego, equipo, partido, equipos, jugadores, fu...</td>\n",
              "      <td>[boca, copa, libertadores, hora, duelo, ida, s...</td>\n",
              "    </tr>\n",
              "    <tr>\n",
              "      <th>4</th>\n",
              "      <td>4</td>\n",
              "      <td>deportes y ocio</td>\n",
              "      <td>0.4995</td>\n",
              "      <td>vida, tiempo, momento, vez, veces, cosas, sams...</td>\n",
              "      <td>[atletismo, drama, deportistas, clima, imagen,...</td>\n",
              "    </tr>\n",
              "    <tr>\n",
              "      <th>5</th>\n",
              "      <td>5</td>\n",
              "      <td>deportes y videojuegos</td>\n",
              "      <td>0.7000</td>\n",
              "      <td>juego, equipo, partido, equipos, jugadores, fu...</td>\n",
              "      <td>[goles, historial, martes, octubre, semifinal,...</td>\n",
              "    </tr>\n",
              "    <tr>\n",
              "      <th>6</th>\n",
              "      <td>6</td>\n",
              "      <td>deportes y videojuegos</td>\n",
              "      <td>0.6222</td>\n",
              "      <td>juego, equipo, partido, equipos, jugadores, fu...</td>\n",
              "      <td>[detras, escena, challenger, tenistas, circuit...</td>\n",
              "    </tr>\n",
              "    <tr>\n",
              "      <th>7</th>\n",
              "      <td>7</td>\n",
              "      <td>deportes y ocio</td>\n",
              "      <td>0.4742</td>\n",
              "      <td>vida, tiempo, momento, vez, veces, cosas, sams...</td>\n",
              "      <td>[alberto, entrenador, farah, reglas, atletismo...</td>\n",
              "    </tr>\n",
              "    <tr>\n",
              "      <th>8</th>\n",
              "      <td>8</td>\n",
              "      <td>deportes y videojuegos</td>\n",
              "      <td>0.8872</td>\n",
              "      <td>juego, equipo, partido, equipos, jugadores, fu...</td>\n",
              "      <td>[copa, mundo, voleibol, triunfo, campeon, vole...</td>\n",
              "    </tr>\n",
              "    <tr>\n",
              "      <th>9</th>\n",
              "      <td>9</td>\n",
              "      <td>deportes y videojuegos</td>\n",
              "      <td>0.8575</td>\n",
              "      <td>juego, equipo, partido, equipos, jugadores, fu...</td>\n",
              "      <td>[brise, santos, mexico, santos, desato, mexico...</td>\n",
              "    </tr>\n",
              "    <tr>\n",
              "      <th>10</th>\n",
              "      <td>10</td>\n",
              "      <td>justicia</td>\n",
              "      <td>0.4093</td>\n",
              "      <td>caso, informes, justicia, nacion, causa, casos...</td>\n",
              "      <td>[mega, operativo, boca, copa, libertadores, te...</td>\n",
              "    </tr>\n",
              "    <tr>\n",
              "      <th>11</th>\n",
              "      <td>11</td>\n",
              "      <td>deportes y videojuegos</td>\n",
              "      <td>0.3864</td>\n",
              "      <td>juego, equipo, partido, equipos, jugadores, fu...</td>\n",
              "      <td>[recorrido, micro, boca, cortes, calles, boca,...</td>\n",
              "    </tr>\n",
              "    <tr>\n",
              "      <th>12</th>\n",
              "      <td>12</td>\n",
              "      <td>justicia</td>\n",
              "      <td>0.4227</td>\n",
              "      <td>caso, informes, justicia, nacion, causa, casos...</td>\n",
              "      <td>[pones, dieta, pruebas, bermudez, ascenso, met...</td>\n",
              "    </tr>\n",
              "    <tr>\n",
              "      <th>13</th>\n",
              "      <td>13</td>\n",
              "      <td>deportes y videojuegos</td>\n",
              "      <td>0.5959</td>\n",
              "      <td>juego, equipo, partido, equipos, jugadores, fu...</td>\n",
              "      <td>[espa, fractura, barcelona, lionel, messi, bar...</td>\n",
              "    </tr>\n",
              "    <tr>\n",
              "      <th>14</th>\n",
              "      <td>14</td>\n",
              "      <td>deportes y videojuegos</td>\n",
              "      <td>0.7763</td>\n",
              "      <td>juego, equipo, partido, equipos, jugadores, fu...</td>\n",
              "      <td>[astros, boca, creyentes, ansiedad, interes, a...</td>\n",
              "    </tr>\n",
              "    <tr>\n",
              "      <th>15</th>\n",
              "      <td>15</td>\n",
              "      <td>deportes y videojuegos</td>\n",
              "      <td>0.5482</td>\n",
              "      <td>juego, equipo, partido, equipos, jugadores, fu...</td>\n",
              "      <td>[boca, copa, libertadores, hora, duelo, ida, s...</td>\n",
              "    </tr>\n",
              "    <tr>\n",
              "      <th>16</th>\n",
              "      <td>16</td>\n",
              "      <td>deportes y ocio</td>\n",
              "      <td>0.4995</td>\n",
              "      <td>vida, tiempo, momento, vez, veces, cosas, sams...</td>\n",
              "      <td>[atletismo, drama, deportistas, clima, imagen,...</td>\n",
              "    </tr>\n",
              "    <tr>\n",
              "      <th>17</th>\n",
              "      <td>17</td>\n",
              "      <td>deportes y videojuegos</td>\n",
              "      <td>0.6999</td>\n",
              "      <td>juego, equipo, partido, equipos, jugadores, fu...</td>\n",
              "      <td>[goles, historial, martes, octubre, semifinal,...</td>\n",
              "    </tr>\n",
              "    <tr>\n",
              "      <th>18</th>\n",
              "      <td>18</td>\n",
              "      <td>deportes y videojuegos</td>\n",
              "      <td>0.6214</td>\n",
              "      <td>juego, equipo, partido, equipos, jugadores, fu...</td>\n",
              "      <td>[detras, escena, challenger, tenistas, circuit...</td>\n",
              "    </tr>\n",
              "    <tr>\n",
              "      <th>19</th>\n",
              "      <td>19</td>\n",
              "      <td>deportes y ocio</td>\n",
              "      <td>0.4742</td>\n",
              "      <td>vida, tiempo, momento, vez, veces, cosas, sams...</td>\n",
              "      <td>[alberto, entrenador, farah, reglas, atletismo...</td>\n",
              "    </tr>\n",
              "    <tr>\n",
              "      <th>20</th>\n",
              "      <td>20</td>\n",
              "      <td>deportes y videojuegos</td>\n",
              "      <td>0.8872</td>\n",
              "      <td>juego, equipo, partido, equipos, jugadores, fu...</td>\n",
              "      <td>[copa, mundo, voleibol, triunfo, campeon, vole...</td>\n",
              "    </tr>\n",
              "    <tr>\n",
              "      <th>21</th>\n",
              "      <td>21</td>\n",
              "      <td>deportes y videojuegos</td>\n",
              "      <td>0.8575</td>\n",
              "      <td>juego, equipo, partido, equipos, jugadores, fu...</td>\n",
              "      <td>[brise, santos, mexico, santos, desato, mexico...</td>\n",
              "    </tr>\n",
              "    <tr>\n",
              "      <th>22</th>\n",
              "      <td>22</td>\n",
              "      <td>justicia</td>\n",
              "      <td>0.4093</td>\n",
              "      <td>caso, informes, justicia, nacion, causa, casos...</td>\n",
              "      <td>[mega, operativo, boca, copa, libertadores, te...</td>\n",
              "    </tr>\n",
              "    <tr>\n",
              "      <th>23</th>\n",
              "      <td>23</td>\n",
              "      <td>deportes y videojuegos</td>\n",
              "      <td>0.3864</td>\n",
              "      <td>juego, equipo, partido, equipos, jugadores, fu...</td>\n",
              "      <td>[recorrido, micro, boca, cortes, calles, boca,...</td>\n",
              "    </tr>\n",
              "    <tr>\n",
              "      <th>24</th>\n",
              "      <td>24</td>\n",
              "      <td>deportes y videojuegos</td>\n",
              "      <td>0.8645</td>\n",
              "      <td>juego, equipo, partido, equipos, jugadores, fu...</td>\n",
              "      <td>[pieza, bruno, recupero, partido, gimnasia, ba...</td>\n",
              "    </tr>\n",
              "    <tr>\n",
              "      <th>25</th>\n",
              "      <td>25</td>\n",
              "      <td>deportes y videojuegos</td>\n",
              "      <td>0.6838</td>\n",
              "      <td>juego, equipo, partido, equipos, jugadores, fu...</td>\n",
              "      <td>[pistas, equipo, pumas, inglaterra, rugby, cas...</td>\n",
              "    </tr>\n",
              "    <tr>\n",
              "      <th>26</th>\n",
              "      <td>26</td>\n",
              "      <td>justicia</td>\n",
              "      <td>0.4812</td>\n",
              "      <td>caso, informes, justicia, nacion, causa, casos...</td>\n",
              "      <td>[vera, tiro, micro, noviembre, matias, micro, ...</td>\n",
              "    </tr>\n",
              "    <tr>\n",
              "      <th>27</th>\n",
              "      <td>27</td>\n",
              "      <td>deportes y videojuegos</td>\n",
              "      <td>0.7487</td>\n",
              "      <td>juego, equipo, partido, equipos, jugadores, fu...</td>\n",
              "      <td>[carta, paz, horas, semifinales, libertadores,...</td>\n",
              "    </tr>\n",
              "    <tr>\n",
              "      <th>28</th>\n",
              "      <td>28</td>\n",
              "      <td>deportes y videojuegos</td>\n",
              "      <td>0.6483</td>\n",
              "      <td>juego, equipo, partido, equipos, jugadores, fu...</td>\n",
              "      <td>[tenis, juez, silla, alcanzapelotas, atp, susp...</td>\n",
              "    </tr>\n",
              "    <tr>\n",
              "      <th>29</th>\n",
              "      <td>29</td>\n",
              "      <td>deportes y ocio</td>\n",
              "      <td>0.3794</td>\n",
              "      <td>vida, tiempo, momento, vez, veces, cosas, sams...</td>\n",
              "      <td>[visceral, pumas, alturas, fondo, campo, verti...</td>\n",
              "    </tr>\n",
              "  </tbody>\n",
              "</table>\n",
              "</div>"
            ],
            "text/plain": [
              "    Document_No  ...                                               Text\n",
              "0             0  ...  [pones, dieta, pruebas, bermudez, ascenso, met...\n",
              "1             1  ...  [espa, fractura, barcelona, lionel, messi, bar...\n",
              "2             2  ...  [astros, boca, creyentes, ansiedad, interes, a...\n",
              "3             3  ...  [boca, copa, libertadores, hora, duelo, ida, s...\n",
              "4             4  ...  [atletismo, drama, deportistas, clima, imagen,...\n",
              "5             5  ...  [goles, historial, martes, octubre, semifinal,...\n",
              "6             6  ...  [detras, escena, challenger, tenistas, circuit...\n",
              "7             7  ...  [alberto, entrenador, farah, reglas, atletismo...\n",
              "8             8  ...  [copa, mundo, voleibol, triunfo, campeon, vole...\n",
              "9             9  ...  [brise, santos, mexico, santos, desato, mexico...\n",
              "10           10  ...  [mega, operativo, boca, copa, libertadores, te...\n",
              "11           11  ...  [recorrido, micro, boca, cortes, calles, boca,...\n",
              "12           12  ...  [pones, dieta, pruebas, bermudez, ascenso, met...\n",
              "13           13  ...  [espa, fractura, barcelona, lionel, messi, bar...\n",
              "14           14  ...  [astros, boca, creyentes, ansiedad, interes, a...\n",
              "15           15  ...  [boca, copa, libertadores, hora, duelo, ida, s...\n",
              "16           16  ...  [atletismo, drama, deportistas, clima, imagen,...\n",
              "17           17  ...  [goles, historial, martes, octubre, semifinal,...\n",
              "18           18  ...  [detras, escena, challenger, tenistas, circuit...\n",
              "19           19  ...  [alberto, entrenador, farah, reglas, atletismo...\n",
              "20           20  ...  [copa, mundo, voleibol, triunfo, campeon, vole...\n",
              "21           21  ...  [brise, santos, mexico, santos, desato, mexico...\n",
              "22           22  ...  [mega, operativo, boca, copa, libertadores, te...\n",
              "23           23  ...  [recorrido, micro, boca, cortes, calles, boca,...\n",
              "24           24  ...  [pieza, bruno, recupero, partido, gimnasia, ba...\n",
              "25           25  ...  [pistas, equipo, pumas, inglaterra, rugby, cas...\n",
              "26           26  ...  [vera, tiro, micro, noviembre, matias, micro, ...\n",
              "27           27  ...  [carta, paz, horas, semifinales, libertadores,...\n",
              "28           28  ...  [tenis, juez, silla, alcanzapelotas, atp, susp...\n",
              "29           29  ...  [visceral, pumas, alturas, fondo, campo, verti...\n",
              "\n",
              "[30 rows x 5 columns]"
            ]
          },
          "metadata": {
            "tags": []
          },
          "execution_count": 63
        }
      ]
    },
    {
      "cell_type": "code",
      "metadata": {
        "id": "m65OP30odIfP",
        "colab_type": "code",
        "colab": {}
      },
      "source": [
        "df_news['Tópicos'] = df_dominant_topic['Dominant_Topic']"
      ],
      "execution_count": 0,
      "outputs": []
    },
    {
      "cell_type": "markdown",
      "metadata": {
        "id": "VboERCq-dK6l",
        "colab_type": "text"
      },
      "source": [
        "Let's examine some text and its topics"
      ]
    },
    {
      "cell_type": "code",
      "metadata": {
        "id": "WeOraBICdMMN",
        "colab_type": "code",
        "colab": {
          "base_uri": "https://localhost:8080/",
          "height": 947
        },
        "outputId": "d92256f1-a987-431a-970c-6142f0ff5a8a"
      },
      "source": [
        "df_news[['titleandbody2', 'Tópicos']].head(30)\n",
        "#df_news[['titleandbody2', 'Tópicos']][df_news['Tópicos']=='deportes'].head(50)"
      ],
      "execution_count": 65,
      "outputs": [
        {
          "output_type": "execute_result",
          "data": {
            "text/html": [
              "<div>\n",
              "<style scoped>\n",
              "    .dataframe tbody tr th:only-of-type {\n",
              "        vertical-align: middle;\n",
              "    }\n",
              "\n",
              "    .dataframe tbody tr th {\n",
              "        vertical-align: top;\n",
              "    }\n",
              "\n",
              "    .dataframe thead th {\n",
              "        text-align: right;\n",
              "    }\n",
              "</style>\n",
              "<table border=\"1\" class=\"dataframe\">\n",
              "  <thead>\n",
              "    <tr style=\"text-align: right;\">\n",
              "      <th></th>\n",
              "      <th>titleandbody2</th>\n",
              "      <th>Tópicos</th>\n",
              "    </tr>\n",
              "  </thead>\n",
              "  <tbody>\n",
              "    <tr>\n",
              "      <th>0</th>\n",
              "      <td>“¿Por qué no te ponés a dieta?”, el escándalo ...</td>\n",
              "      <td>justicia</td>\n",
              "    </tr>\n",
              "    <tr>\n",
              "      <th>1</th>\n",
              "      <td>En España hablan de una fractura en el Barcelo...</td>\n",
              "      <td>deportes y videojuegos</td>\n",
              "    </tr>\n",
              "    <tr>\n",
              "      <th>2</th>\n",
              "      <td>Superclásico: qué dicen los astros para el Riv...</td>\n",
              "      <td>deportes y videojuegos</td>\n",
              "    </tr>\n",
              "    <tr>\n",
              "      <th>3</th>\n",
              "      <td>River-Boca, por la Copa Libertadores: cómo est...</td>\n",
              "      <td>deportes y videojuegos</td>\n",
              "    </tr>\n",
              "    <tr>\n",
              "      <th>4</th>\n",
              "      <td>El Mundial de atletismo, envuelto en el drama ...</td>\n",
              "      <td>deportes y ocio</td>\n",
              "    </tr>\n",
              "    <tr>\n",
              "      <th>5</th>\n",
              "      <td>Todos los goles del historial del Superclásico...</td>\n",
              "      <td>deportes y videojuegos</td>\n",
              "    </tr>\n",
              "    <tr>\n",
              "      <th>6</th>\n",
              "      <td>El detrás de escena de un challenger, el tramp...</td>\n",
              "      <td>deportes y videojuegos</td>\n",
              "    </tr>\n",
              "    <tr>\n",
              "      <th>7</th>\n",
              "      <td>Suspendieron a Alberto Salazar, ex entrenador ...</td>\n",
              "      <td>deportes y ocio</td>\n",
              "    </tr>\n",
              "    <tr>\n",
              "      <th>8</th>\n",
              "      <td>Copa del Mundo de vóleibol: Argentina debutó c...</td>\n",
              "      <td>deportes y videojuegos</td>\n",
              "    </tr>\n",
              "    <tr>\n",
              "      <th>9</th>\n",
              "      <td>La sanción a Antonio Briseño por la terrible p...</td>\n",
              "      <td>deportes y videojuegos</td>\n",
              "    </tr>\n",
              "    <tr>\n",
              "      <th>10</th>\n",
              "      <td>Mega operativo en el River-Boca de la Copa Lib...</td>\n",
              "      <td>justicia</td>\n",
              "    </tr>\n",
              "    <tr>\n",
              "      <th>11</th>\n",
              "      <td>Superclásico: el recorrido del micro de Boca, ...</td>\n",
              "      <td>deportes y videojuegos</td>\n",
              "    </tr>\n",
              "    <tr>\n",
              "      <th>12</th>\n",
              "      <td>“¿Por qué no te ponés a dieta?”, el escándalo ...</td>\n",
              "      <td>justicia</td>\n",
              "    </tr>\n",
              "    <tr>\n",
              "      <th>13</th>\n",
              "      <td>En España hablan de una fractura en el Barcelo...</td>\n",
              "      <td>deportes y videojuegos</td>\n",
              "    </tr>\n",
              "    <tr>\n",
              "      <th>14</th>\n",
              "      <td>Superclásico: qué dicen los astros para el Riv...</td>\n",
              "      <td>deportes y videojuegos</td>\n",
              "    </tr>\n",
              "    <tr>\n",
              "      <th>15</th>\n",
              "      <td>River-Boca, por la Copa Libertadores: cómo est...</td>\n",
              "      <td>deportes y videojuegos</td>\n",
              "    </tr>\n",
              "    <tr>\n",
              "      <th>16</th>\n",
              "      <td>El Mundial de atletismo, envuelto en el drama ...</td>\n",
              "      <td>deportes y ocio</td>\n",
              "    </tr>\n",
              "    <tr>\n",
              "      <th>17</th>\n",
              "      <td>Todos los goles del historial del Superclásico...</td>\n",
              "      <td>deportes y videojuegos</td>\n",
              "    </tr>\n",
              "    <tr>\n",
              "      <th>18</th>\n",
              "      <td>El detrás de escena de un challenger, el tramp...</td>\n",
              "      <td>deportes y videojuegos</td>\n",
              "    </tr>\n",
              "    <tr>\n",
              "      <th>19</th>\n",
              "      <td>Suspendieron a Alberto Salazar, ex entrenador ...</td>\n",
              "      <td>deportes y ocio</td>\n",
              "    </tr>\n",
              "    <tr>\n",
              "      <th>20</th>\n",
              "      <td>Copa del Mundo de vóleibol: Argentina debutó c...</td>\n",
              "      <td>deportes y videojuegos</td>\n",
              "    </tr>\n",
              "    <tr>\n",
              "      <th>21</th>\n",
              "      <td>La sanción a Antonio Briseño por la terrible p...</td>\n",
              "      <td>deportes y videojuegos</td>\n",
              "    </tr>\n",
              "    <tr>\n",
              "      <th>22</th>\n",
              "      <td>Mega operativo en el River-Boca de la Copa Lib...</td>\n",
              "      <td>justicia</td>\n",
              "    </tr>\n",
              "    <tr>\n",
              "      <th>23</th>\n",
              "      <td>Superclásico: el recorrido del micro de Boca, ...</td>\n",
              "      <td>deportes y videojuegos</td>\n",
              "    </tr>\n",
              "    <tr>\n",
              "      <th>24</th>\n",
              "      <td>River pierde a una pieza en la previa del Supe...</td>\n",
              "      <td>deportes y videojuegos</td>\n",
              "    </tr>\n",
              "    <tr>\n",
              "      <th>25</th>\n",
              "      <td>No hay pistas sobre el equipo de Los Pumas par...</td>\n",
              "      <td>deportes y videojuegos</td>\n",
              "    </tr>\n",
              "    <tr>\n",
              "      <th>26</th>\n",
              "      <td>Dónde y con quién verá el Superclásico el hinc...</td>\n",
              "      <td>justicia</td>\n",
              "    </tr>\n",
              "    <tr>\n",
              "      <th>27</th>\n",
              "      <td>La carta de Alejandro Domínguez en la que pide...</td>\n",
              "      <td>deportes y videojuegos</td>\n",
              "    </tr>\n",
              "    <tr>\n",
              "      <th>28</th>\n",
              "      <td>Escándalo en el tenis: la ATP suspende a un ju...</td>\n",
              "      <td>deportes y videojuegos</td>\n",
              "    </tr>\n",
              "    <tr>\n",
              "      <th>29</th>\n",
              "      <td>Mario Ledesma, íntimo: el visceral DT de Los P...</td>\n",
              "      <td>deportes y ocio</td>\n",
              "    </tr>\n",
              "  </tbody>\n",
              "</table>\n",
              "</div>"
            ],
            "text/plain": [
              "                                        titleandbody2                 Tópicos\n",
              "0   “¿Por qué no te ponés a dieta?”, el escándalo ...                justicia\n",
              "1   En España hablan de una fractura en el Barcelo...  deportes y videojuegos\n",
              "2   Superclásico: qué dicen los astros para el Riv...  deportes y videojuegos\n",
              "3   River-Boca, por la Copa Libertadores: cómo est...  deportes y videojuegos\n",
              "4   El Mundial de atletismo, envuelto en el drama ...         deportes y ocio\n",
              "5   Todos los goles del historial del Superclásico...  deportes y videojuegos\n",
              "6   El detrás de escena de un challenger, el tramp...  deportes y videojuegos\n",
              "7   Suspendieron a Alberto Salazar, ex entrenador ...         deportes y ocio\n",
              "8   Copa del Mundo de vóleibol: Argentina debutó c...  deportes y videojuegos\n",
              "9   La sanción a Antonio Briseño por la terrible p...  deportes y videojuegos\n",
              "10  Mega operativo en el River-Boca de la Copa Lib...                justicia\n",
              "11  Superclásico: el recorrido del micro de Boca, ...  deportes y videojuegos\n",
              "12  “¿Por qué no te ponés a dieta?”, el escándalo ...                justicia\n",
              "13  En España hablan de una fractura en el Barcelo...  deportes y videojuegos\n",
              "14  Superclásico: qué dicen los astros para el Riv...  deportes y videojuegos\n",
              "15  River-Boca, por la Copa Libertadores: cómo est...  deportes y videojuegos\n",
              "16  El Mundial de atletismo, envuelto en el drama ...         deportes y ocio\n",
              "17  Todos los goles del historial del Superclásico...  deportes y videojuegos\n",
              "18  El detrás de escena de un challenger, el tramp...  deportes y videojuegos\n",
              "19  Suspendieron a Alberto Salazar, ex entrenador ...         deportes y ocio\n",
              "20  Copa del Mundo de vóleibol: Argentina debutó c...  deportes y videojuegos\n",
              "21  La sanción a Antonio Briseño por la terrible p...  deportes y videojuegos\n",
              "22  Mega operativo en el River-Boca de la Copa Lib...                justicia\n",
              "23  Superclásico: el recorrido del micro de Boca, ...  deportes y videojuegos\n",
              "24  River pierde a una pieza en la previa del Supe...  deportes y videojuegos\n",
              "25  No hay pistas sobre el equipo de Los Pumas par...  deportes y videojuegos\n",
              "26  Dónde y con quién verá el Superclásico el hinc...                justicia\n",
              "27  La carta de Alejandro Domínguez en la que pide...  deportes y videojuegos\n",
              "28  Escándalo en el tenis: la ATP suspende a un ju...  deportes y videojuegos\n",
              "29  Mario Ledesma, íntimo: el visceral DT de Los P...         deportes y ocio"
            ]
          },
          "metadata": {
            "tags": []
          },
          "execution_count": 65
        }
      ]
    },
    {
      "cell_type": "code",
      "metadata": {
        "id": "nwnCMZBfdTxy",
        "colab_type": "code",
        "colab": {
          "base_uri": "https://localhost:8080/",
          "height": 54
        },
        "outputId": "c8345e5e-ecce-4513-ba52-f28d2c3aafab"
      },
      "source": [
        "\n",
        "df_news[ df_news['Tópicos'] == 'deportes y ocio'].head().titleandbody2[29]"
      ],
      "execution_count": 70,
      "outputs": [
        {
          "output_type": "execute_result",
          "data": {
            "text/plain": [
              "'Mario Ledesma, íntimo: el visceral DT de Los Pumas que llora, le teme a las alturas, come sin fondo y ama el campo // “No me hagas mirar hacia abajo porque me da vértigo”. Desde el piso 16 del hotel New Otani, frente al amplio ventanal de un cómodo salón, el pedido del protagonista al fotógrafo de Clarín suena casi a ruego. Y así lo justifica: “No me gustan las alturas porque me mareo. Quizá por eso no me gusta viajar en avión. En auto, tren o colectivo no tengo problemas. Si hasta en el tren bala pude escribir con el celular o leer sin problemas. Pero acá arriba...”. Quien habla es Mario Ezequiel Ledesma Arocena, “Bocha” para sus amigos (“No me acuerdo quién me puso ese apodo. Fue en Los Pumas y fue por el tamaño de mi cabeza y porque me empecé a quedar pelado de muy joven. Creo que en el Mundial 99 ya era pelado”, cuenta y recuerda), “Gordo” o “Negro” para su padre, quien así lo llamaba de chico y junto a su mamá\\xa0les inculcó el amor y la pasión por el deporte\\xa0a sus hermanos y a él. La charla estaba prevista desde la semana pasada. “Para hablar de vos, más allá del rugby”, fue la propuesta. “Dale, si ganamos el sábado, antes de Inglaterra la hacemos”, se prendió y prometió. Recibir newsletter En el mediodía del martes, a la hora señalada, el entrenador de Los Pumas empezó a cumplir su palabra en una charla de 35 minutos en la que se emocionó, gesticuló, se entusiasmó y recordó. En cada respuesta, Ledesma dejó su impronta. La que no conocía la gente que no lo conoce. Hasta hoy. Un Ledesma auténtico,\\xa0descendiente de vascos y de gallegos. Visceral y autocrítico. Y siempre frontal. Mario Ledesma, en el entrenamiento de Los Pumas en Tokio.\\nFoto: Germán García Adrasti / Enviado especial -En tu manera de ser, ¿sos vasco y gallego también? ¿Sos testarudo? -Sí, lo tengo todo por ese lado. Viene de mi abuelo. Todos me dicen que me parezco a él. Era difícil el abuelo. -¿Y vos sos difícil? -No. Si me conocés, no. Por ahí mi imagen hace que parezca medio difícil. Pero con mi familia y mis amigos no lo soy. -¿Llorás? -Todo el tiempo. Si me pongo a hablar de la familia, de mis viejos, de mi mujer y de mis hijos, lloro. Me basta ver que alguien logra algo que le costó un montón y lloro. Un tipo sacrificado al que se le dan las cosas me llega rápido. -Hablaste de tu mujer y de tus hijos. ¿Vinieron al Mundial? -En Japón están Juana, que es la más grande, es fanática de Japón y de las kokeshi (muñecas tradicionales japonesas) y tiene 16 años; y Tadeo, que tiene 13 y juega con los\\xa0menores de 14 del SIC. Juana vino con Rodrigo Roncero, que es como un hermano para mí, y Gaby, su mujer, y sus hijas. Y Tadeo está con mi hermano Diego, que vino con sus dos hijos más grandes. En Buenos Aires, con Jimena, mi mujer, se quedaron Luisa, que tiene 9 años y está extrañando mucho a sus hermanos, y Segundo, que tiene un poquito más de 2 y medio y nos saca la poca energía. -¿Viste a los chicos? -Me vinieron a ver al hotel antes del partido con Tonga y después nos fuimos a cenar con ellos, más “Roro” y Diego con sus familias. Me da alegría que estén acá y haberles dado esta posibilidad después de años de esfuerzo. Me gusta que puedan disfrutar y como papá es lo más lindo que hay verlos así. Mario Ledesma, entrenador de Los Pumas, en el mano a mano con Clarín en Tokio.\\nFoto: Germán García Adrasti / Enviado especial -¿Cómo fue tu infancia? -No nos faltó nada. Ni material ni desde lo afectivo. Mi viejo era muy laburante de lunes a viernes y mi mamá también y muy sacrificada. Papá, de muy poquito, hizo mucho, fue medalla de oro en la Facultad y como sus padres\\xa0no tenían mucha plata tuvo que hacerse cargo de la familia. Mi vieja dejó todo por nosotros y hoy se siente muy realizada a través de sus hijos y de sus nietos. -¿Y vos cómo eras? -De chico tenía eso de la justicia y la injusticia, que me trajo problemas en el colegio. Me acuerdo que una vez una profesora de Matemática me perdió una prueba y yo sabía que la había aprobado. Me dijo que tenía que recuperarla porque no la encontraba y que si no la hacía me llevaría la materia a diciembre. Yo le dije que no porque me había ido bien y no era mi culpa que ella la hubiera perdido. Mi vieja me dijo que la diera otra vez, si total yo ya la sabía... -¿Y qué pasó? -No la di\\xa0y me mando a diciembre. -¿Cómo eras como alumno? -Muy bueno. No estudiaba mucho, pero tenía muy buena memoria. -¿Cuántos hermanos son los Ledesma Arocena? -Seis. Cinco varones y la mujer en el medio, con todo lo que ello conlleva. Su primer novio la tuvo difícil... Nosotros éramos muy varoneros y nos gustaban el rugby, los deportes. Y ella nos acompañaba. -¿Y cómo llegaste al rugby? -El viejo jugaba y fue campeón de la Cuarta o Reserva del CASI con el papá de Agustín Pichot. Con él nos conocemos de bebés y las dos familias nos íbamos juntas de vacaciones. -Pero vos no arrancaste en CASI... -No. Nos fumos a Bella Vista y a los 4 años llegué a Regatas. Pero en aquellas vacaciones, Enrique, el papá de Agustín, nos empezó a decir que nos fuéramos a\\xa0CASI y nos fuimos. Hasta que mi vieja dijo basta, porque era ella la que nos llevaba de Bella Vista a Escobar a los entrenamientos de martes y jueves. Entonces se le plantó a mi viejo y nos dijo que si queríamos seguir jugando al rugby, eligiéramos un club de la zona. Y caí en Curupaytí porque mis compañeros del colegio iban a Curupa. Mario Ledesma, entrenador de Los Pumas, en el mano a mano con Clarín en Tokio.\\nFoto: Germán García Adrasti / Enviado especial -¿Sólo fue rugby en tu vida? -Y, sí. Mucho rugby. Me gusta jugar al fútbol. Soy de Boca, pero no me importa mucho. Ahora lo que hago y me encanta es andar a caballo, aunque sé que eso no es deporte. Pero al menos camino y ando a caballo como actividad física. -¿Dónde andás? -En el campo. Es mi cable a tierra. El campo, las vacas, los terneros, los perros, los caballos... Somos una familia a la que le gustan mucho los animales. Mi viejo es veterinario, mi hermano es ingeniero agrónomo, yo estudié producción animal. Y ahora crío caballos... -¿Cómo es eso? -En realidad los cría mi hermano y de vez en cuando me hace poner plata. -¿Te analizás? -Recontra creo en el psicoanálisis, porque a veces te quedás corto de herramientas y te sirve. En un momento tenía una psicóloga, pero como vivía afuera se hacía complicado con el Skype. Me parece muy importante. Por eso también yo hincho tanto con la neurociencia y el liderazgo y estoy pendiente de ese tipo de cosas. Tengo un coach, Raúl Medina, que me ayuda de alguna forma en la manera de comunicarme con los jugadores o en cómo tratar los problemas en el equipo. Cómo encarar los tipos de liderazgo y de autoridad y adaptarlos a los nuevos tiempos. Mario Ledesma, con la ovalada, en el entrenamiento de Los Pumas en Tokio.\\nFoto: Germán García Adrasti / Enviado especial -Sos el entrenador de Los Pumas. ¿A qué más aspirás en el rugby? -No puedo llegar a más. Estoy seguro de que no voy a hacer como Warren Gatland o Eddie Jones, que tienen casi 60 años y siguen dando vueltas y dirigiendo. Voy a seguir en el rugby con algo pero en el club, en un seleccionado provincial o analizando partidos en la tele. Dirigir a Los Pumas era un sueño que se transformó en un objetivo, pero no creo que sea bueno estar acá para siempre. Mi prioridad es la familia, mis hijos y pasados los 50 años no quiero seguir haciendo esto. -Ganaste un buen dinero siendo jugador profesional y después entrenando equipos profesionales. ¿En qué lo invertiste? -Soy muy malo en eso. No te digo que perdi plata, pero tampoco gané. Tengo algún departamento, lo de los caballos, me estoy construyendo mi casa... No me interesa la plata, no es algo que me llame la atención. Michael Cheika siempre dice que hay que tener un plan B, una pata del otro lado. En mi caso, son un par de campos que alquilamos con mi papá en Azul y 25 de Mayo, donde hacemos agricultura y ganadería. No es algo pensado para hacerse millonario, pero sí para el futuro y para poder vivir bien. Creo que si la motivación pasa por la guita, le estamos errando. Esto pasa con Los Pumas. En el seleccionado, la motivación tiene que ser respetar la camiseta, perpetuarla, que los chicos progresen y que lo que aprendimos en los clubes lo llevemos al seleccionado. -¿Qué hubiera sido de tu vida si no hubieras sido exitoso con el rugby? -Me hubiera ido para el lado del campo seguramente. -¿Tenés sueños? -Uno lo estamos cumpliendo con mi mujer: nos estamos haciendo nuestra primera casa propia. Estuvimos dando vueltas durante 20 años y éste era un sueño lindo. Encima nosotros somos familieros y mi mujer me decía el otro día que está pensando en los momentos lindos que vamos a vivir ahí. -¿Cuál es tu lugar en el mundo? -Donde esté mi familia. Va un poco más de la mitad de la charla y los ojos de Ledesma se humedecen... Mario Ledesma, entrenador de Los Pumas, en el mano a mano con Clarín en Tokio.\\nFoto: Germán García Adrasti / Enviado especial -Estás aflojando. -Te había dicho que si hablábamos de mi familia, iba a pasar eso. -En cada charla con la prensa, decís frases de otras personas. ¿Cuáles son las mejores? -Soy malísimo para recordarlas así, rápido. Me salen naturalmente. Me pasa con las anécdotas. Me podés preguntar cuáles son las tres mejores anécdotas de Los Pumas y no me las acuerdo enseguida. Pero quizá si estamos tomando un café, se me vienen a la cabeza y te las cuento. -¿No te acordás de ninguna frase ahora? -Mi viejo es muy bueno en eso y siempre dice: “Lo que no tiene solución, solucionado está”. Esa es casi de cabecera. ¿Viste cuándo alguien te pregunta: “¿Y qué hubiera pasado si...?\" ¡Qué se yo!\\xa0Es lo que hay y no se puede modificar el pasado. -Falta muy poco para un partido decisivo de Los Pumas. ¿Qué frase se te viene en este momento? -Una que decía “Pochola” Silva: “Lo mejor está por venir”. -¿Tenés vicios? Sí, la comida. Y mi vicio es no tener fondo. ¡Es una vergüenza! Me acuerdo que lo que más me gustaba era la tortilla de papas de mi abuela. Era una cosa espectacular. Hasta que se murió, cuando llegaba de un viaje tenía un par de tortillas babé. Porque no me gusta la sequita. Esa es para tapas. -¿Cómo te calificás como hombre? -Auténtico. -¿Virtudes y defectos? -Las virtudes y los defectos van de la mano. Es una virtud ser perseverante, pero es un defecto ser cabeza dura. Es bueno ser exigente, pero a veces te vas de rosca. Yo vivo muy intensamente todo, lo bueno y lo malo. Y hay veces que camino por el filo, pero siempre tratando de pensar en el otro. Acá, por ejemplo, trato de pensar en lo mejor para el equipo. Y a eso volverá Mario Ledesma cuando el celular deje de grabar. Stop. Tokio, Japón. Enviado especial HS'"
            ]
          },
          "metadata": {
            "tags": []
          },
          "execution_count": 70
        }
      ]
    },
    {
      "cell_type": "markdown",
      "metadata": {
        "id": "ckdZgHUjdWOg",
        "colab_type": "text"
      },
      "source": [
        "let's see the distribution of topics"
      ]
    },
    {
      "cell_type": "code",
      "metadata": {
        "id": "MLEqrblAdXH5",
        "colab_type": "code",
        "colab": {
          "base_uri": "https://localhost:8080/",
          "height": 373
        },
        "outputId": "c66f72b0-c2d3-47e1-e5ff-23d40ffac173"
      },
      "source": [
        "ax = df_dominant_topic['Dominant_Topic'].value_counts().plot(kind='bar')\n",
        "plt.show()"
      ],
      "execution_count": 71,
      "outputs": [
        {
          "output_type": "display_data",
          "data": {
            "image/png": "[encoded data removed]",
            "text/plain": [
              "<Figure size 432x288 with 1 Axes>"
            ]
          },
          "metadata": {
            "tags": []
          }
        }
      ]
    },
    {
      "cell_type": "markdown",
      "metadata": {
        "id": "Z9Jnas28daw6",
        "colab_type": "text"
      },
      "source": [
        "The topis are almost balanced, so we are good\n",
        "\n",
        "finally that we have our models set up, as well as analyzed, we can go ahead to visualizing them."
      ]
    },
    {
      "cell_type": "code",
      "metadata": {
        "id": "vjyQYjd9dcmg",
        "colab_type": "code",
        "colab": {
          "base_uri": "https://localhost:8080/",
          "height": 638
        },
        "outputId": "b9238b49-33e7-4067-aedf-81fc0cecee74"
      },
      "source": [
        "!pip install pyLDAvis"
      ],
      "execution_count": 72,
      "outputs": [
        {
          "output_type": "stream",
          "text": [
            "Collecting pyLDAvis\n",
            "\u001b[?25l  Downloading https://files.pythonhosted.org/packages/a5/3a/af82e070a8a96e13217c8f362f9a73e82d61ac8fff3a2561946a97f96266/pyLDAvis-2.1.2.tar.gz (1.6MB)\n",
            "\u001b[K     |████████████████████████████████| 1.6MB 2.8MB/s \n",
            "\u001b[?25hRequirement already satisfied: wheel>=0.23.0 in /usr/local/lib/python3.6/dist-packages (from pyLDAvis) (0.33.6)\n",
            "Requirement already satisfied: numpy>=1.9.2 in /usr/local/lib/python3.6/dist-packages (from pyLDAvis) (1.17.4)\n",
            "Requirement already satisfied: scipy>=0.18.0 in /usr/local/lib/python3.6/dist-packages (from pyLDAvis) (1.3.3)\n",
            "Requirement already satisfied: pandas>=0.17.0 in /usr/local/lib/python3.6/dist-packages (from pyLDAvis) (0.25.3)\n",
            "Requirement already satisfied: joblib>=0.8.4 in /usr/local/lib/python3.6/dist-packages (from pyLDAvis) (0.14.0)\n",
            "Requirement already satisfied: jinja2>=2.7.2 in /usr/local/lib/python3.6/dist-packages (from pyLDAvis) (2.10.3)\n",
            "Requirement already satisfied: numexpr in /usr/local/lib/python3.6/dist-packages (from pyLDAvis) (2.7.0)\n",
            "Requirement already satisfied: pytest in /usr/local/lib/python3.6/dist-packages (from pyLDAvis) (3.6.4)\n",
            "Requirement already satisfied: future in /usr/local/lib/python3.6/dist-packages (from pyLDAvis) (0.16.0)\n",
            "Collecting funcy\n",
            "\u001b[?25l  Downloading https://files.pythonhosted.org/packages/ce/4b/6ffa76544e46614123de31574ad95758c421aae391a1764921b8a81e1eae/funcy-1.14.tar.gz (548kB)\n",
            "\u001b[K     |████████████████████████████████| 552kB 67.7MB/s \n",
            "\u001b[?25hRequirement already satisfied: python-dateutil>=2.6.1 in /usr/local/lib/python3.6/dist-packages (from pandas>=0.17.0->pyLDAvis) (2.6.1)\n",
            "Requirement already satisfied: pytz>=2017.2 in /usr/local/lib/python3.6/dist-packages (from pandas>=0.17.0->pyLDAvis) (2018.9)\n",
            "Requirement already satisfied: MarkupSafe>=0.23 in /usr/local/lib/python3.6/dist-packages (from jinja2>=2.7.2->pyLDAvis) (1.1.1)\n",
            "Requirement already satisfied: setuptools in /usr/local/lib/python3.6/dist-packages (from pytest->pyLDAvis) (42.0.2)\n",
            "Requirement already satisfied: six>=1.10.0 in /usr/local/lib/python3.6/dist-packages (from pytest->pyLDAvis) (1.12.0)\n",
            "Requirement already satisfied: more-itertools>=4.0.0 in /usr/local/lib/python3.6/dist-packages (from pytest->pyLDAvis) (8.0.0)\n",
            "Requirement already satisfied: py>=1.5.0 in /usr/local/lib/python3.6/dist-packages (from pytest->pyLDAvis) (1.8.0)\n",
            "Requirement already satisfied: attrs>=17.4.0 in /usr/local/lib/python3.6/dist-packages (from pytest->pyLDAvis) (19.3.0)\n",
            "Requirement already satisfied: atomicwrites>=1.0 in /usr/local/lib/python3.6/dist-packages (from pytest->pyLDAvis) (1.3.0)\n",
            "Requirement already satisfied: pluggy<0.8,>=0.5 in /usr/local/lib/python3.6/dist-packages (from pytest->pyLDAvis) (0.7.1)\n",
            "Building wheels for collected packages: pyLDAvis, funcy\n",
            "  Building wheel for pyLDAvis (setup.py) ... \u001b[?25l\u001b[?25hdone\n",
            "  Created wheel for pyLDAvis: filename=pyLDAvis-2.1.2-py2.py3-none-any.whl size=97711 sha256=4248953b5d277c6408d1b9dfa3bab11efe9da3a32fa22f8f83e781a16b1e0140\n",
            "  Stored in directory: /root/.cache/pip/wheels/98/71/24/513a99e58bb6b8465bae4d2d5e9dba8f0bef8179e3051ac414\n",
            "  Building wheel for funcy (setup.py) ... \u001b[?25l\u001b[?25hdone\n",
            "  Created wheel for funcy: filename=funcy-1.14-py2.py3-none-any.whl size=32040 sha256=b3e77bca851517531c55c96a7cf16a66e718e6f9aca46133a531b21cf514f75d\n",
            "  Stored in directory: /root/.cache/pip/wheels/20/5a/d8/1d875df03deae6f178dfdf70238cca33f948ef8a6f5209f2eb\n",
            "Successfully built pyLDAvis funcy\n",
            "Installing collected packages: funcy, pyLDAvis\n",
            "Successfully installed funcy-1.14 pyLDAvis-2.1.2\n"
          ],
          "name": "stdout"
        }
      ]
    },
    {
      "cell_type": "code",
      "metadata": {
        "id": "LrWA3Caidgl4",
        "colab_type": "code",
        "colab": {}
      },
      "source": [
        "import pyLDAvis\n",
        "\n",
        "pyLDAvis.enable_notebook()"
      ],
      "execution_count": 0,
      "outputs": []
    },
    {
      "cell_type": "code",
      "metadata": {
        "id": "xkGrVUKHdjQW",
        "colab_type": "code",
        "colab": {
          "base_uri": "https://localhost:8080/",
          "height": 1000
        },
        "outputId": "7e8e807b-1822-47c2-d2cd-e7b1ff719dfd"
      },
      "source": [
        "# %%time\n",
        "import pyLDAvis.gensim\n",
        "pyLDAvis.gensim.prepare(ldamodel, corpus, dictionary)"
      ],
      "execution_count": 74,
      "outputs": [
        {
          "output_type": "stream",
          "text": [
            "/usr/local/lib/python3.6/dist-packages/pyLDAvis/_prepare.py:257: FutureWarning: Sorting because non-concatenation axis is not aligned. A future version\n",
            "of pandas will change to not sort by default.\n",
            "\n",
            "To accept the future behavior, pass 'sort=False'.\n",
            "\n",
            "To retain the current behavior and silence the warning, pass 'sort=True'.\n",
            "\n",
            "  return pd.concat([default_term_info] + list(topic_dfs))\n"
          ],
          "name": "stderr"
        },
        {
          "output_type": "execute_result",
          "data": {
            "text/html": [
              "\n",
              "<link rel=\"stylesheet\" type=\"text/css\" href=\"https://cdn.rawgit.com/bmabey/pyLDAvis/files/ldavis.v1.0.0.css\">\n",
              "\n",
              "\n",
              "<div id=\"ldavis_el1251402124209063448565429100\"></div>\n",
              "<script type=\"text/javascript\">\n",
              "\n",
              "var ldavis_el1251402124209063448565429100_data = {\"mdsDat\": {\"x\": [0.08586827555990491, -0.12389309704673826, -0.18576791419183164, 0.24674052104021177, -0.14828615436088177, 0.1342641613931399, 0.09659607278264341, -0.128640781575181, 0.036686497578614675, -0.006083696187481308, 0.03397727861879533, -0.04146116361119613], \"y\": [-0.17973951530804, -0.008365508621900306, -0.09142378308639705, 0.006723791972631536, 0.058413556723675764, 0.2191803416371334, -0.09152299203884398, 0.13508442494006043, 0.09396440456041659, -0.05373929196524273, -0.08271324310622039, -0.005862185707273314], \"topics\": [1, 2, 3, 4, 5, 6, 7, 8, 9, 10, 11, 12], \"cluster\": [1, 1, 1, 1, 1, 1, 1, 1, 1, 1, 1, 1], \"Freq\": [15.73137378692627, 13.391822814941406, 10.896405220031738, 10.700113296508789, 9.097562789916992, 7.420710563659668, 6.947017669677734, 5.796341419219971, 5.7001872062683105, 5.513782978057861, 4.417105197906494, 4.3875813484191895]}, \"tinfo\": {\"Category\": [\"Default\", \"Default\", \"Default\", \"Default\", \"Default\", \"Default\", \"Default\", \"Default\", \"Default\", \"Default\", \"Default\", \"Default\", \"Default\", \"Default\", \"Default\", \"Default\", \"Default\", \"Default\", \"Default\", \"Default\", \"Default\", \"Default\", \"Default\", \"Default\", \"Default\", \"Default\", \"Default\", \"Default\", \"Default\", \"Default\", \"Topic1\", \"Topic1\", \"Topic1\", \"Topic1\", \"Topic1\", \"Topic1\", \"Topic1\", \"Topic1\", \"Topic1\", \"Topic1\", \"Topic1\", \"Topic1\", \"Topic1\", \"Topic1\", \"Topic1\", \"Topic1\", \"Topic1\", \"Topic1\", \"Topic1\", \"Topic1\", \"Topic1\", \"Topic1\", \"Topic1\", \"Topic1\", \"Topic1\", \"Topic1\", \"Topic1\", \"Topic1\", \"Topic1\", \"Topic1\", \"Topic1\", \"Topic1\", \"Topic1\", \"Topic1\", \"Topic1\", \"Topic1\", \"Topic1\", \"Topic1\", \"Topic1\", \"Topic1\", \"Topic1\", \"Topic1\", \"Topic1\", \"Topic1\", \"Topic1\", \"Topic1\", \"Topic1\", \"Topic1\", \"Topic1\", \"Topic1\", \"Topic1\", \"Topic1\", \"Topic1\", \"Topic1\", \"Topic1\", \"Topic1\", \"Topic1\", \"Topic1\", \"Topic1\", \"Topic1\", \"Topic1\", \"Topic1\", \"Topic1\", \"Topic1\", \"Topic1\", \"Topic1\", \"Topic1\", \"Topic1\", \"Topic1\", \"Topic1\", \"Topic1\", \"Topic1\", \"Topic1\", \"Topic1\", \"Topic1\", \"Topic1\", \"Topic1\", \"Topic1\", \"Topic1\", \"Topic1\", \"Topic2\", \"Topic2\", \"Topic2\", \"Topic2\", \"Topic2\", \"Topic2\", \"Topic2\", \"Topic2\", \"Topic2\", \"Topic2\", \"Topic2\", \"Topic2\", \"Topic2\", \"Topic2\", \"Topic2\", \"Topic2\", \"Topic2\", \"Topic2\", \"Topic2\", \"Topic2\", \"Topic2\", \"Topic2\", \"Topic2\", \"Topic2\", \"Topic2\", \"Topic2\", \"Topic2\", \"Topic2\", \"Topic2\", \"Topic2\", \"Topic2\", \"Topic2\", \"Topic2\", \"Topic2\", \"Topic2\", \"Topic2\", \"Topic2\", \"Topic2\", \"Topic2\", \"Topic2\", \"Topic2\", \"Topic2\", \"Topic2\", \"Topic2\", \"Topic2\", \"Topic2\", \"Topic2\", \"Topic2\", \"Topic2\", \"Topic2\", \"Topic2\", \"Topic2\", \"Topic2\", \"Topic2\", \"Topic2\", \"Topic2\", \"Topic2\", \"Topic2\", \"Topic2\", \"Topic2\", \"Topic2\", \"Topic2\", \"Topic2\", \"Topic2\", \"Topic2\", \"Topic2\", \"Topic2\", \"Topic2\", \"Topic2\", \"Topic2\", \"Topic2\", \"Topic2\", \"Topic2\", \"Topic2\", \"Topic2\", \"Topic2\", \"Topic3\", \"Topic3\", \"Topic3\", \"Topic3\", \"Topic3\", \"Topic3\", \"Topic3\", \"Topic3\", \"Topic3\", \"Topic3\", \"Topic3\", \"Topic3\", \"Topic3\", \"Topic3\", \"Topic3\", \"Topic3\", \"Topic3\", \"Topic3\", \"Topic3\", \"Topic3\", \"Topic3\", \"Topic3\", \"Topic3\", \"Topic3\", \"Topic3\", \"Topic3\", \"Topic3\", \"Topic3\", \"Topic3\", \"Topic3\", \"Topic3\", \"Topic3\", \"Topic3\", \"Topic3\", \"Topic3\", \"Topic3\", \"Topic3\", \"Topic3\", \"Topic3\", \"Topic3\", \"Topic3\", \"Topic3\", \"Topic3\", \"Topic3\", \"Topic3\", \"Topic3\", \"Topic3\", \"Topic3\", \"Topic3\", \"Topic3\", \"Topic3\", \"Topic3\", \"Topic3\", \"Topic3\", \"Topic3\", \"Topic3\", \"Topic3\", \"Topic3\", \"Topic3\", \"Topic3\", \"Topic3\", \"Topic3\", \"Topic3\", \"Topic3\", \"Topic3\", \"Topic3\", \"Topic3\", \"Topic3\", \"Topic3\", \"Topic3\", \"Topic3\", \"Topic3\", \"Topic3\", \"Topic3\", \"Topic3\", \"Topic3\", \"Topic3\", \"Topic3\", \"Topic3\", \"Topic3\", \"Topic3\", \"Topic3\", \"Topic3\", \"Topic3\", \"Topic3\", \"Topic3\", \"Topic3\", \"Topic3\", \"Topic3\", \"Topic3\", \"Topic3\", \"Topic3\", \"Topic3\", \"Topic3\", \"Topic4\", \"Topic4\", \"Topic4\", \"Topic4\", \"Topic4\", \"Topic4\", \"Topic4\", \"Topic4\", \"Topic4\", \"Topic4\", \"Topic4\", \"Topic4\", \"Topic4\", \"Topic4\", \"Topic4\", \"Topic4\", \"Topic4\", \"Topic4\", \"Topic4\", \"Topic4\", \"Topic4\", \"Topic4\", \"Topic4\", \"Topic4\", \"Topic4\", \"Topic4\", \"Topic4\", \"Topic4\", \"Topic4\", \"Topic4\", \"Topic4\", \"Topic4\", \"Topic4\", \"Topic4\", \"Topic4\", \"Topic4\", \"Topic4\", \"Topic4\", \"Topic4\", \"Topic4\", \"Topic4\", \"Topic4\", \"Topic4\", \"Topic4\", \"Topic4\", \"Topic4\", \"Topic4\", \"Topic4\", \"Topic4\", \"Topic4\", \"Topic4\", \"Topic4\", \"Topic4\", \"Topic4\", \"Topic4\", \"Topic4\", \"Topic4\", \"Topic4\", \"Topic4\", \"Topic4\", \"Topic4\", \"Topic4\", \"Topic4\", \"Topic4\", \"Topic4\", \"Topic4\", \"Topic4\", \"Topic4\", \"Topic4\", \"Topic4\", \"Topic4\", \"Topic4\", \"Topic4\", \"Topic4\", \"Topic4\", \"Topic4\", \"Topic4\", \"Topic4\", \"Topic4\", \"Topic4\", \"Topic4\", \"Topic4\", \"Topic4\", \"Topic4\", \"Topic4\", \"Topic4\", \"Topic4\", \"Topic4\", \"Topic4\", \"Topic4\", \"Topic4\", \"Topic4\", \"Topic4\", \"Topic4\", \"Topic5\", \"Topic5\", \"Topic5\", \"Topic5\", \"Topic5\", \"Topic5\", \"Topic5\", \"Topic5\", \"Topic5\", \"Topic5\", \"Topic5\", \"Topic5\", \"Topic5\", \"Topic5\", \"Topic5\", \"Topic5\", \"Topic5\", \"Topic5\", \"Topic5\", \"Topic5\", \"Topic5\", \"Topic5\", \"Topic5\", \"Topic5\", \"Topic5\", \"Topic5\", \"Topic5\", \"Topic5\", \"Topic5\", \"Topic5\", \"Topic5\", \"Topic5\", \"Topic5\", \"Topic5\", \"Topic5\", \"Topic5\", \"Topic5\", \"Topic5\", \"Topic5\", \"Topic5\", \"Topic5\", \"Topic5\", \"Topic5\", \"Topic5\", \"Topic5\", \"Topic5\", \"Topic5\", \"Topic5\", \"Topic5\", \"Topic5\", \"Topic5\", \"Topic5\", \"Topic5\", \"Topic5\", \"Topic5\", \"Topic5\", \"Topic5\", \"Topic5\", \"Topic5\", \"Topic5\", \"Topic5\", \"Topic5\", \"Topic5\", \"Topic5\", \"Topic5\", \"Topic5\", \"Topic5\", \"Topic5\", \"Topic5\", \"Topic5\", \"Topic5\", \"Topic5\", \"Topic5\", \"Topic5\", \"Topic5\", \"Topic5\", \"Topic5\", \"Topic5\", \"Topic5\", \"Topic5\", \"Topic5\", \"Topic5\", \"Topic5\", \"Topic5\", \"Topic5\", \"Topic5\", \"Topic5\", \"Topic5\", \"Topic5\", \"Topic6\", \"Topic6\", \"Topic6\", \"Topic6\", \"Topic6\", \"Topic6\", \"Topic6\", \"Topic6\", \"Topic6\", \"Topic6\", \"Topic6\", \"Topic6\", \"Topic6\", \"Topic6\", \"Topic6\", \"Topic6\", \"Topic6\", \"Topic6\", \"Topic6\", \"Topic6\", \"Topic6\", \"Topic6\", \"Topic6\", \"Topic6\", \"Topic6\", \"Topic6\", \"Topic6\", \"Topic6\", \"Topic6\", \"Topic6\", \"Topic6\", \"Topic6\", \"Topic6\", \"Topic6\", \"Topic6\", \"Topic6\", \"Topic6\", \"Topic6\", \"Topic6\", \"Topic6\", \"Topic6\", \"Topic6\", \"Topic6\", \"Topic6\", \"Topic6\", \"Topic6\", \"Topic6\", \"Topic6\", \"Topic6\", \"Topic6\", \"Topic6\", \"Topic6\", \"Topic6\", \"Topic6\", \"Topic6\", \"Topic6\", \"Topic6\", \"Topic6\", \"Topic6\", \"Topic6\", \"Topic6\", \"Topic6\", \"Topic6\", \"Topic6\", \"Topic6\", \"Topic6\", \"Topic6\", \"Topic6\", \"Topic6\", \"Topic6\", \"Topic6\", \"Topic6\", \"Topic6\", \"Topic6\", \"Topic6\", \"Topic6\", \"Topic6\", \"Topic6\", \"Topic6\", \"Topic6\", \"Topic6\", \"Topic6\", \"Topic6\", \"Topic6\", \"Topic7\", \"Topic7\", \"Topic7\", \"Topic7\", \"Topic7\", \"Topic7\", \"Topic7\", \"Topic7\", \"Topic7\", \"Topic7\", \"Topic7\", \"Topic7\", \"Topic7\", \"Topic7\", \"Topic7\", \"Topic7\", \"Topic7\", \"Topic7\", \"Topic7\", \"Topic7\", \"Topic7\", \"Topic7\", \"Topic7\", \"Topic7\", \"Topic7\", \"Topic7\", \"Topic7\", \"Topic7\", \"Topic7\", \"Topic7\", \"Topic7\", \"Topic7\", \"Topic7\", \"Topic7\", \"Topic7\", \"Topic7\", \"Topic7\", \"Topic7\", \"Topic7\", \"Topic7\", \"Topic7\", \"Topic7\", \"Topic7\", \"Topic7\", \"Topic7\", \"Topic7\", \"Topic7\", \"Topic7\", \"Topic7\", \"Topic7\", \"Topic7\", \"Topic7\", \"Topic7\", \"Topic7\", \"Topic7\", \"Topic7\", \"Topic7\", \"Topic7\", \"Topic7\", \"Topic7\", \"Topic7\", \"Topic7\", \"Topic7\", \"Topic7\", \"Topic7\", \"Topic7\", \"Topic7\", \"Topic7\", \"Topic7\", \"Topic7\", \"Topic7\", \"Topic7\", \"Topic7\", \"Topic7\", \"Topic7\", \"Topic7\", \"Topic7\", \"Topic7\", \"Topic7\", \"Topic7\", \"Topic7\", \"Topic7\", \"Topic7\", \"Topic7\", \"Topic7\", \"Topic7\", \"Topic8\", \"Topic8\", \"Topic8\", \"Topic8\", \"Topic8\", \"Topic8\", \"Topic8\", \"Topic8\", \"Topic8\", \"Topic8\", \"Topic8\", \"Topic8\", \"Topic8\", \"Topic8\", \"Topic8\", \"Topic8\", \"Topic8\", \"Topic8\", \"Topic8\", \"Topic8\", \"Topic8\", \"Topic8\", \"Topic8\", \"Topic8\", \"Topic8\", \"Topic8\", \"Topic8\", \"Topic8\", \"Topic8\", \"Topic8\", \"Topic8\", \"Topic8\", \"Topic8\", \"Topic8\", \"Topic8\", \"Topic8\", \"Topic8\", \"Topic8\", \"Topic8\", \"Topic8\", \"Topic8\", \"Topic8\", \"Topic8\", \"Topic8\", \"Topic8\", \"Topic8\", \"Topic8\", \"Topic8\", \"Topic8\", \"Topic8\", \"Topic8\", \"Topic8\", \"Topic8\", \"Topic8\", \"Topic8\", \"Topic8\", \"Topic8\", \"Topic8\", \"Topic8\", \"Topic8\", \"Topic8\", \"Topic8\", \"Topic8\", \"Topic8\", \"Topic8\", \"Topic8\", \"Topic8\", \"Topic8\", \"Topic8\", \"Topic8\", \"Topic8\", \"Topic8\", \"Topic8\", \"Topic8\", \"Topic8\", \"Topic8\", \"Topic8\", \"Topic8\", \"Topic9\", \"Topic9\", \"Topic9\", \"Topic9\", \"Topic9\", \"Topic9\", \"Topic9\", \"Topic9\", \"Topic9\", \"Topic9\", \"Topic9\", \"Topic9\", \"Topic9\", \"Topic9\", \"Topic9\", \"Topic9\", \"Topic9\", \"Topic9\", \"Topic9\", \"Topic9\", \"Topic9\", \"Topic9\", \"Topic9\", \"Topic9\", \"Topic9\", \"Topic9\", \"Topic9\", \"Topic9\", \"Topic9\", \"Topic9\", \"Topic9\", \"Topic9\", \"Topic9\", \"Topic9\", \"Topic9\", \"Topic9\", \"Topic9\", \"Topic9\", \"Topic9\", \"Topic9\", \"Topic9\", \"Topic9\", \"Topic9\", \"Topic9\", \"Topic9\", \"Topic9\", \"Topic9\", \"Topic9\", \"Topic9\", \"Topic9\", \"Topic9\", \"Topic9\", \"Topic9\", \"Topic9\", \"Topic9\", \"Topic9\", \"Topic9\", \"Topic9\", \"Topic9\", \"Topic9\", \"Topic9\", \"Topic9\", \"Topic9\", \"Topic9\", \"Topic9\", \"Topic9\", \"Topic9\", \"Topic9\", \"Topic9\", \"Topic9\", \"Topic9\", \"Topic9\", \"Topic9\", \"Topic9\", \"Topic9\", \"Topic9\", \"Topic9\", \"Topic9\", \"Topic9\", \"Topic9\", \"Topic9\", \"Topic10\", \"Topic10\", \"Topic10\", \"Topic10\", \"Topic10\", \"Topic10\", \"Topic10\", \"Topic10\", \"Topic10\", \"Topic10\", \"Topic10\", \"Topic10\", \"Topic10\", \"Topic10\", \"Topic10\", \"Topic10\", \"Topic10\", \"Topic10\", \"Topic10\", \"Topic10\", \"Topic10\", \"Topic10\", \"Topic10\", \"Topic10\", \"Topic10\", \"Topic10\", \"Topic10\", \"Topic10\", \"Topic10\", \"Topic10\", \"Topic10\", \"Topic10\", \"Topic10\", \"Topic10\", \"Topic10\", \"Topic10\", \"Topic10\", \"Topic10\", \"Topic10\", \"Topic10\", \"Topic10\", \"Topic10\", \"Topic10\", \"Topic10\", \"Topic10\", \"Topic10\", \"Topic10\", \"Topic10\", \"Topic10\", \"Topic10\", \"Topic10\", \"Topic10\", \"Topic10\", \"Topic10\", \"Topic10\", \"Topic10\", \"Topic10\", \"Topic10\", \"Topic10\", \"Topic10\", \"Topic10\", \"Topic10\", \"Topic10\", \"Topic10\", \"Topic10\", \"Topic10\", \"Topic10\", \"Topic10\", \"Topic10\", \"Topic10\", \"Topic10\", \"Topic10\", \"Topic10\", \"Topic10\", \"Topic10\", \"Topic10\", \"Topic10\", \"Topic10\", \"Topic10\", \"Topic10\", \"Topic10\", \"Topic10\", \"Topic10\", \"Topic10\", \"Topic10\", \"Topic10\", \"Topic11\", \"Topic11\", \"Topic11\", \"Topic11\", \"Topic11\", \"Topic11\", \"Topic11\", \"Topic11\", \"Topic11\", \"Topic11\", \"Topic11\", \"Topic11\", \"Topic11\", \"Topic11\", \"Topic11\", \"Topic11\", \"Topic11\", \"Topic11\", \"Topic11\", \"Topic11\", \"Topic11\", \"Topic11\", \"Topic11\", \"Topic11\", \"Topic11\", \"Topic11\", \"Topic11\", \"Topic11\", \"Topic11\", \"Topic11\", \"Topic11\", \"Topic11\", \"Topic11\", \"Topic11\", \"Topic11\", \"Topic11\", \"Topic11\", \"Topic11\", \"Topic11\", \"Topic11\", \"Topic11\", \"Topic11\", \"Topic11\", \"Topic11\", \"Topic11\", \"Topic11\", \"Topic11\", \"Topic11\", \"Topic11\", \"Topic11\", \"Topic11\", \"Topic11\", \"Topic11\", \"Topic11\", \"Topic11\", \"Topic11\", \"Topic11\", \"Topic11\", \"Topic11\", \"Topic11\", \"Topic11\", \"Topic11\", \"Topic11\", \"Topic11\", \"Topic11\", \"Topic11\", \"Topic11\", \"Topic11\", \"Topic11\", \"Topic11\", \"Topic11\", \"Topic11\", \"Topic11\", \"Topic11\", \"Topic11\", \"Topic11\", \"Topic11\", \"Topic11\", \"Topic11\", \"Topic11\", \"Topic11\", \"Topic11\", \"Topic12\", \"Topic12\", \"Topic12\", \"Topic12\", \"Topic12\", \"Topic12\", \"Topic12\", \"Topic12\", \"Topic12\", \"Topic12\", \"Topic12\", \"Topic12\", \"Topic12\", \"Topic12\", \"Topic12\", \"Topic12\", \"Topic12\", \"Topic12\", \"Topic12\", \"Topic12\", \"Topic12\", \"Topic12\", \"Topic12\", \"Topic12\", \"Topic12\", \"Topic12\", \"Topic12\", \"Topic12\", \"Topic12\", \"Topic12\", \"Topic12\", \"Topic12\", \"Topic12\", \"Topic12\", \"Topic12\", \"Topic12\", \"Topic12\", \"Topic12\", \"Topic12\", \"Topic12\", \"Topic12\", \"Topic12\", \"Topic12\", \"Topic12\", \"Topic12\", \"Topic12\", \"Topic12\", \"Topic12\", \"Topic12\", \"Topic12\", \"Topic12\", \"Topic12\", \"Topic12\", \"Topic12\", \"Topic12\", \"Topic12\", \"Topic12\", \"Topic12\", \"Topic12\", \"Topic12\", \"Topic12\", \"Topic12\", \"Topic12\", \"Topic12\", \"Topic12\", \"Topic12\", \"Topic12\", \"Topic12\", \"Topic12\", \"Topic12\", \"Topic12\", \"Topic12\", \"Topic12\", \"Topic12\", \"Topic12\", \"Topic12\", \"Topic12\", \"Topic12\", \"Topic12\"], \"Freq\": [19651.0, 18523.0, 12317.0, 15642.0, 11893.0, 22000.0, 11244.0, 5138.0, 7248.0, 16022.0, 8124.0, 7871.0, 11750.0, 15899.0, 8002.0, 9007.0, 6153.0, 9941.0, 7678.0, 6940.0, 6977.0, 4003.0, 5241.0, 9878.0, 19070.0, 5069.0, 6456.0, 14248.0, 3824.0, 5518.0, 956.7084350585938, 634.2286376953125, 799.5221557617188, 452.33447265625, 450.9788818359375, 950.4512329101562, 432.1675720214844, 347.27191162109375, 322.4909362792969, 266.8258056640625, 477.7602844238281, 296.194580078125, 387.1305847167969, 207.7215576171875, 199.12643432617188, 203.05914306640625, 179.4847869873047, 192.97195434570312, 1494.6158447265625, 227.841796875, 185.20928955078125, 145.45928955078125, 192.75811767578125, 146.22987365722656, 132.0948028564453, 293.29217529296875, 128.2093505859375, 356.02203369140625, 830.1148071289062, 655.9923095703125, 12105.318359375, 3759.546875, 2136.760009765625, 1142.58251953125, 4279.892578125, 7721.66357421875, 693.0650634765625, 1829.3189697265625, 1087.3109130859375, 11376.8681640625, 1320.5714111328125, 6651.55712890625, 2208.118408203125, 2331.73193359375, 1614.444580078125, 7199.2412109375, 940.6905517578125, 10420.9677734375, 6528.17919921875, 4462.14599609375, 5007.01806640625, 16742.71484375, 1131.494873046875, 1124.9442138671875, 998.1868286132812, 1613.429931640625, 1103.7110595703125, 2477.044189453125, 1512.6871337890625, 11750.4072265625, 2826.509765625, 3281.13427734375, 4292.8388671875, 3312.027099609375, 4234.19189453125, 2570.877685546875, 7710.65185546875, 3983.7431640625, 5047.251953125, 3330.296142578125, 6215.1005859375, 2265.152099609375, 4585.615234375, 4793.5849609375, 4454.9736328125, 3297.990478515625, 4000.770263671875, 3284.83447265625, 3625.609619140625, 3845.367919921875, 2263.68359375, 2014.5950927734375, 1976.9259033203125, 1364.189697265625, 1530.3978271484375, 803.3555908203125, 608.3759155273438, 3387.41015625, 508.7040710449219, 506.66064453125, 473.4095153808594, 427.8277282714844, 1967.2296142578125, 420.66143798828125, 382.49169921875, 355.14312744140625, 333.9504089355469, 452.3658142089844, 633.2405395507812, 277.3037109375, 273.26007080078125, 333.32427978515625, 2036.9154052734375, 256.2677917480469, 333.5448303222656, 304.8710021972656, 240.89088439941406, 301.4478759765625, 1357.811767578125, 211.308349609375, 3919.959228515625, 6062.517578125, 5161.37890625, 1591.0716552734375, 4983.3837890625, 2411.7900390625, 1287.386474609375, 1094.519287109375, 1065.686279296875, 1802.233642578125, 2875.4150390625, 1987.389404296875, 804.7548828125, 1056.9052734375, 658.1296997070312, 3262.30322265625, 1783.0755615234375, 1695.8612060546875, 2418.59423828125, 17545.458984375, 2655.013916015625, 5874.15869140625, 1916.0059814453125, 5241.0908203125, 4540.20947265625, 3577.671630859375, 7729.31494140625, 15107.703125, 3001.373291015625, 6158.36328125, 4218.234375, 2891.0009765625, 3973.69189453125, 4309.78857421875, 2236.510498046875, 2467.516845703125, 4874.515625, 4125.9560546875, 2862.22314453125, 2254.74951171875, 3643.895751953125, 3293.004638671875, 2876.51611328125, 2660.52978515625, 2624.05859375, 2665.658447265625, 1240.65869140625, 504.0923767089844, 492.5415954589844, 640.5601806640625, 243.35800170898438, 252.834228515625, 189.1485137939453, 261.4820861816406, 203.82171630859375, 197.56959533691406, 188.53921508789062, 425.3573913574219, 170.00108337402344, 201.3498077392578, 152.6363067626953, 164.55575561523438, 145.40255737304688, 129.6298065185547, 223.17425537109375, 131.7701873779297, 242.97364807128906, 119.10546112060547, 358.47369384765625, 116.10743713378906, 356.56378173828125, 191.6465606689453, 88.94175720214844, 234.5050048828125, 112.34007263183594, 76.3714370727539, 747.0392456054688, 873.4358520507812, 272.1304016113281, 330.3636169433594, 605.86767578125, 342.32464599609375, 305.1967468261719, 675.73046875, 665.7945556640625, 787.1495361328125, 1176.5411376953125, 852.3865966796875, 694.171875, 404.54705810546875, 879.6863403320312, 442.1548156738281, 367.2231750488281, 1016.7824096679688, 493.9112243652344, 771.592041015625, 726.4205932617188, 3303.4072265625, 681.6770629882812, 2074.888916015625, 518.0814208984375, 2030.7274169921875, 2698.5791015625, 1101.2738037109375, 1945.1392822265625, 3773.376220703125, 969.8399658203125, 988.7572631835938, 7290.7060546875, 4844.58740234375, 3468.110595703125, 2422.60693359375, 3795.277587890625, 4060.098876953125, 2403.476806640625, 3605.680419921875, 2814.389404296875, 1928.8880615234375, 3366.37646484375, 2019.2401123046875, 1710.0777587890625, 1764.255615234375, 2128.673583984375, 1884.158447265625, 2585.34130859375, 3334.17578125, 1881.8668212890625, 3652.997314453125, 4438.76904296875, 3270.2626953125, 2510.861572265625, 2094.51123046875, 2665.87646484375, 2926.859619140625, 2449.9130859375, 2361.524169921875, 2546.3203125, 2240.055908203125, 2145.648193359375, 2075.037353515625, 510.4496765136719, 407.85235595703125, 448.9620056152344, 337.1448669433594, 464.1991271972656, 218.21958923339844, 193.75167846679688, 206.06080627441406, 288.4012451171875, 200.2545166015625, 162.38946533203125, 245.08384704589844, 160.59832763671875, 225.79920959472656, 188.22337341308594, 234.4567108154297, 162.86019897460938, 177.05038452148438, 125.9317398071289, 383.25335693359375, 121.69403076171875, 145.24205017089844, 263.01220703125, 112.6956787109375, 110.75794219970703, 136.89295959472656, 118.87852478027344, 108.11395263671875, 159.7555694580078, 298.08367919921875, 696.8656616210938, 1066.40771484375, 468.5763244628906, 196.03790283203125, 275.8789367675781, 302.5782775878906, 788.3731689453125, 273.1763610839844, 254.2646026611328, 1722.87548828125, 4018.518310546875, 850.7462158203125, 521.43994140625, 330.9815368652344, 335.8267517089844, 7185.47998046875, 2216.50732421875, 6792.5205078125, 393.704833984375, 1924.434326171875, 1316.471923828125, 595.3821411132812, 7276.1845703125, 1872.4625244140625, 756.4469604492188, 11874.658203125, 1354.3863525390625, 2101.3125, 590.91162109375, 1479.2257080078125, 568.1607055664062, 2448.926025390625, 5450.833984375, 2281.65185546875, 3462.6982421875, 1195.55078125, 3636.757080078125, 1743.9605712890625, 2399.81201171875, 1845.048095703125, 1987.49072265625, 3300.99365234375, 2559.52099609375, 3527.916015625, 1260.2874755859375, 1651.7890625, 1606.686767578125, 2012.68896484375, 2423.0595703125, 3010.746337890625, 2865.07861328125, 2835.90576171875, 3558.278564453125, 2016.75048828125, 2713.52294921875, 2159.87841796875, 2564.87548828125, 2316.830810546875, 2209.45947265625, 2553.591552734375, 2611.98681640625, 2313.34423828125, 2248.799072265625, 2207.354248046875, 648.3681640625, 398.63995361328125, 354.41754150390625, 350.33172607421875, 286.96966552734375, 288.9584655761719, 288.5657043457031, 286.367919921875, 182.66285705566406, 141.39002990722656, 3793.822509765625, 129.48265075683594, 143.19078063964844, 232.1175537109375, 122.12983703613281, 119.17817687988281, 117.377685546875, 237.01260375976562, 101.7817153930664, 141.5989532470703, 93.05001068115234, 197.69410705566406, 129.85960388183594, 116.05201721191406, 107.8187484741211, 89.91468048095703, 106.94698333740234, 81.69778442382812, 100.48770141601562, 78.24324035644531, 866.2235717773438, 1731.3326416015625, 287.86431884765625, 187.91787719726562, 339.0287170410156, 134.42611694335938, 230.47348022460938, 291.6763610839844, 230.88726806640625, 1201.010009765625, 199.71926879882812, 202.1746368408203, 628.5532836914062, 478.8839111328125, 214.1485137939453, 2370.398193359375, 191.93211364746094, 608.7257080078125, 496.01641845703125, 314.4084167480469, 3453.97265625, 2250.40966796875, 668.6636962890625, 290.1242980957031, 1101.31103515625, 7532.93115234375, 2815.27880859375, 743.0139770507812, 4842.15283203125, 3754.595458984375, 4580.41015625, 869.214599609375, 1292.7261962890625, 2476.99853515625, 2497.869873046875, 2049.46142578125, 652.6952514648438, 5309.81982421875, 2210.78564453125, 5359.04443359375, 2781.16162109375, 2574.120361328125, 1962.0673828125, 1120.7611083984375, 4855.3740234375, 3043.32275390625, 3018.729736328125, 1629.802490234375, 1659.9656982421875, 1764.47705078125, 2264.044677734375, 2270.263671875, 2096.199462890625, 2530.27880859375, 2279.829833984375, 1935.797607421875, 2021.745849609375, 1949.5452880859375, 1933.029052734375, 1282.1885986328125, 644.7798461914062, 727.4327392578125, 1285.9405517578125, 346.9713134765625, 1219.5391845703125, 815.0845336914062, 340.5522155761719, 1097.4334716796875, 384.94390869140625, 512.7224731445312, 343.2976989746094, 137.97898864746094, 600.659423828125, 134.27394104003906, 399.8155517578125, 413.8083190917969, 158.5469207763672, 225.4544219970703, 146.87937927246094, 270.79083251953125, 135.05824279785156, 1600.5682373046875, 300.80694580078125, 220.7452850341797, 82.99418640136719, 101.78141784667969, 77.97046661376953, 84.56278228759766, 351.6855773925781, 2786.4677734375, 934.6300659179688, 737.0267944335938, 390.2032775878906, 336.8531494140625, 510.9888000488281, 302.93292236328125, 822.7736206054688, 969.2412719726562, 2200.904541015625, 1361.226318359375, 1241.1865234375, 2173.736083984375, 1197.7625732421875, 781.8262939453125, 2290.840576171875, 987.8656616210938, 1438.8673095703125, 2005.7313232421875, 1211.22900390625, 5874.7216796875, 2252.75537109375, 1114.005859375, 1195.7440185546875, 1051.071044921875, 829.290771484375, 1648.9295654296875, 3140.557373046875, 4101.03076171875, 6062.048828125, 2110.30517578125, 2051.088134765625, 2118.040283203125, 3688.406494140625, 1524.9388427734375, 1666.2374267578125, 1832.9422607421875, 2050.329345703125, 3334.77978515625, 3579.345703125, 1996.0018310546875, 3829.193359375, 1622.07177734375, 1901.64453125, 2001.7332763671875, 1834.9029541015625, 2157.19482421875, 2126.0478515625, 2220.99951171875, 2273.710205078125, 2348.81884765625, 2193.416748046875, 1867.7115478515625, 1880.244873046875, 692.6444091796875, 478.3563232421875, 326.93438720703125, 306.0777587890625, 212.07127380371094, 149.6190643310547, 136.594970703125, 130.3806610107422, 121.24012756347656, 121.59196472167969, 99.01335906982422, 101.0406494140625, 106.083251953125, 87.51465606689453, 91.67897033691406, 83.31674194335938, 87.22661590576172, 86.5378189086914, 106.35225677490234, 94.06707763671875, 84.75643920898438, 89.88749694824219, 263.8366394042969, 254.8601837158203, 87.49110412597656, 89.37715911865234, 98.72711181640625, 75.14157104492188, 64.85480499267578, 72.65497589111328, 1060.3812255859375, 3835.91943359375, 1114.9932861328125, 1000.0244140625, 545.7593383789062, 180.1536102294922, 164.64947509765625, 379.66949462890625, 138.1498260498047, 476.0308532714844, 725.4658813476562, 118.32422637939453, 142.2526092529297, 108.76911163330078, 1071.2706298828125, 1118.644775390625, 1841.882568359375, 1730.6693115234375, 405.170654296875, 182.8862762451172, 2761.4541015625, 1040.7257080078125, 1415.51416015625, 450.94097900390625, 1374.5810546875, 274.3497619628906, 335.3089294433594, 711.6332397460938, 867.7523193359375, 515.747314453125, 3309.852783203125, 1482.7247314453125, 1087.4849853515625, 692.836669921875, 2269.357177734375, 2530.37353515625, 2651.3388671875, 1303.816650390625, 1314.8822021484375, 4491.333984375, 1549.280517578125, 2188.89599609375, 1225.357666015625, 2554.9482421875, 2050.893310546875, 1341.3094482421875, 2970.6259765625, 1494.0164794921875, 2502.571533203125, 1372.0098876953125, 1283.5849609375, 1422.256103515625, 1178.6219482421875, 1259.8482666015625, 1177.6644287109375, 1152.7630615234375, 1285.80517578125, 615.4152221679688, 509.66021728515625, 414.4837646484375, 184.6075897216797, 224.07066345214844, 455.7327880859375, 694.3368530273438, 177.67422485351562, 338.09222412109375, 156.6730194091797, 155.24221801757812, 175.98809814453125, 603.9833374023438, 281.84161376953125, 125.04571533203125, 251.99090576171875, 237.97933959960938, 126.44868469238281, 250.12588500976562, 87.06503295898438, 176.98976135253906, 112.02456665039062, 559.2076416015625, 177.37669372558594, 70.02583312988281, 136.5104217529297, 79.0346908569336, 360.7662353515625, 256.3415832519531, 362.25457763671875, 1930.2991943359375, 944.0894165039062, 377.5404357910156, 275.1445007324219, 509.1622314453125, 282.6446838378906, 889.3538208007812, 441.60772705078125, 689.8071899414062, 311.77630615234375, 783.31201171875, 2265.494140625, 857.40087890625, 1033.6436767578125, 880.0029907226562, 1811.443115234375, 1332.9044189453125, 2099.3486328125, 927.2276000976562, 1313.3570556640625, 1136.43505859375, 714.89208984375, 1516.6707763671875, 1146.91357421875, 2589.525634765625, 1206.4794921875, 784.16162109375, 1177.6915283203125, 737.9586181640625, 668.5989379882812, 3040.78564453125, 3596.3525390625, 2174.0224609375, 811.2755737304688, 2074.94580078125, 1722.030029296875, 1323.4559326171875, 1101.4053955078125, 1728.80810546875, 1401.639892578125, 1470.3646240234375, 1368.02490234375, 1098.442626953125, 1076.1431884765625, 1120.821044921875, 1185.9471435546875, 1015.0151977539062, 571.4526977539062, 218.63247680664062, 183.36676025390625, 217.0663299560547, 490.18658447265625, 489.73541259765625, 122.92627716064453, 117.33792114257812, 136.81935119628906, 125.01912689208984, 208.0148162841797, 90.09951782226562, 291.8207092285156, 92.12457275390625, 94.74656677246094, 81.2182388305664, 81.4572525024414, 68.21099853515625, 70.37323760986328, 97.3886947631836, 60.16764450073242, 63.0498046875, 103.98509979248047, 110.2508544921875, 77.47457885742188, 55.19340515136719, 363.99603271484375, 68.22138214111328, 51.08521270751953, 83.70967102050781, 454.8464050292969, 859.8157958984375, 582.6013793945312, 436.51727294921875, 239.35037231445312, 151.53045654296875, 118.78170013427734, 603.859130859375, 555.3896484375, 1074.970703125, 337.8290710449219, 531.815185546875, 1190.1959228515625, 787.890625, 521.1605834960938, 953.6697387695312, 468.1265563964844, 648.7193603515625, 1460.7955322265625, 568.9208374023438, 1288.61572265625, 1582.0047607421875, 1250.011474609375, 3278.373291015625, 1370.3514404296875, 900.9248657226562, 939.236572265625, 691.9027709960938, 2256.707763671875, 905.284423828125, 1858.1551513671875, 1067.29736328125, 820.6935424804688, 977.686279296875, 1953.7099609375, 2022.419189453125, 2230.2880859375, 2447.85205078125, 2460.51708984375, 1416.947509765625, 1055.716552734375, 1613.2576904296875, 2070.4990234375, 1711.322998046875, 1339.47265625, 1394.154296875, 1450.0985107421875, 1019.478271484375, 991.8117065429688, 963.2951049804688, 986.9003295898438, 396.2803955078125, 336.770751953125, 214.99569702148438, 486.08746337890625, 165.8551483154297, 176.2768096923828, 160.2803955078125, 262.9766845703125, 154.4476776123047, 198.5725555419922, 143.42816162109375, 129.1785430908203, 117.2232437133789, 310.8408203125, 99.2752456665039, 100.77566528320312, 89.18297576904297, 86.58540344238281, 141.3460693359375, 92.05095672607422, 106.95539855957031, 80.59953308105469, 83.21756744384766, 189.7134246826172, 93.60655212402344, 67.34679412841797, 82.08387756347656, 74.22669982910156, 72.82213592529297, 96.73664093017578, 851.1669921875, 406.7261657714844, 501.3033752441406, 164.7382049560547, 2333.490966796875, 207.5086669921875, 118.85614013671875, 337.89776611328125, 308.9422302246094, 166.89271545410156, 160.50222778320312, 374.71209716796875, 1094.84375, 1284.6473388671875, 330.6772155761719, 176.3160400390625, 894.8325805664062, 247.7478485107422, 443.2052917480469, 744.13818359375, 507.2325134277344, 656.9285278320312, 212.09457397460938, 2067.69091796875, 505.0613098144531, 737.8060302734375, 1365.487548828125, 393.82098388671875, 410.971435546875, 949.469482421875, 397.1516418457031, 648.3114013671875, 978.5255126953125, 754.052001953125, 3025.36376953125, 614.8020629882812, 774.7255859375, 1188.0545654296875, 643.4821166992188, 762.2399291992188, 2016.7867431640625, 596.8466796875, 1885.6011962890625, 1560.253662109375, 919.9485473632812, 1582.5345458984375, 1365.5513916015625, 1287.6436767578125, 1445.359619140625, 1249.4171142578125, 724.7125854492188, 802.0266723632812, 913.8887329101562, 773.94873046875, 830.37109375, 753.1749877929688, 459.6492614746094, 299.8589172363281, 444.3144836425781, 215.34872436523438, 176.230712890625, 225.5124969482422, 222.78439331054688, 252.28506469726562, 485.9823303222656, 159.6290283203125, 105.02629852294922, 101.7742919921875, 134.97531127929688, 92.57138061523438, 96.48812866210938, 74.24690246582031, 476.67803955078125, 70.81114959716797, 64.70181274414062, 502.67535400390625, 81.4884262084961, 65.89579772949219, 379.53955078125, 81.77173614501953, 126.32855224609375, 94.74131774902344, 52.58573913574219, 95.39152526855469, 156.1318359375, 49.57675552368164, 1361.4560546875, 266.4421081542969, 171.10202026367188, 190.91502380371094, 254.96849060058594, 1165.9686279296875, 428.2332763671875, 133.19509887695312, 502.9461975097656, 215.85031127929688, 322.90869140625, 257.90753173828125, 203.52735900878906, 1555.16162109375, 1519.004638671875, 661.7822875976562, 367.6214599609375, 494.38934326171875, 714.8505249023438, 1016.7520751953125, 2280.9072265625, 441.2378234863281, 301.62469482421875, 313.5184020996094, 1029.964599609375, 1836.6900634765625, 1372.6923828125, 445.736328125, 1215.573974609375, 416.0360412597656, 647.4265747070312, 1777.4498291015625, 1400.1798095703125, 2536.84716796875, 1780.207275390625, 1557.21875, 1673.226318359375, 1500.971435546875, 1798.89404296875, 960.14404296875, 1416.1796875, 802.9457397460938, 1416.8302001953125, 850.2785034179688, 752.142578125, 670.32861328125, 1163.1134033203125, 1073.544677734375, 989.2572631835938, 975.2150268554688, 948.2428588867188, 752.8300170898438, 425.707763671875, 462.80078125, 477.5474548339844, 288.8594970703125, 255.48187255859375, 185.1249542236328, 620.7009887695312, 339.5777282714844, 182.5251007080078, 152.26480102539062, 145.0763702392578, 141.65884399414062, 133.3906707763672, 168.32742309570312, 106.2430191040039, 123.25921630859375, 161.71156311035156, 138.4560546875, 360.83642578125, 166.91908264160156, 115.57833099365234, 144.63258361816406, 80.10102844238281, 79.72264862060547, 116.32100677490234, 273.25445556640625, 85.34703063964844, 91.85298919677734, 62.02296829223633, 283.6081848144531, 761.146484375, 264.06365966796875, 142.0847930908203, 425.17083740234375, 121.74163055419922, 4585.765625, 438.0527648925781, 324.2191467285156, 492.69183349609375, 319.11138916015625, 176.2632598876953, 1144.5728759765625, 1302.346923828125, 730.9368896484375, 553.5042724609375, 269.98382568359375, 968.7682495117188, 1321.823486328125, 1524.957763671875, 478.7008361816406, 538.73779296875, 703.82763671875, 710.6851806640625, 430.99609375, 909.2279052734375, 376.0946044921875, 983.847412109375, 424.87200927734375, 572.2254638671875, 1724.785400390625, 503.640625, 814.1817626953125, 1172.7720947265625, 1363.513671875, 1396.3050537109375, 755.9907836914062, 1094.236083984375, 973.7522583007812, 1011.690185546875, 832.3509521484375, 980.6396484375, 586.5997314453125, 765.8765869140625, 764.3267211914062, 691.5798950195312, 692.4281616210938, 592.6884155273438, 613.9620361328125, 617.807861328125], \"Term\": [\"juego\", \"presidente\", \"candidato\", \"millones\", \"elecciones\", \"equipo\", \"debate\", \"videojuegos\", \"pantalla\", \"gobierno\", \"empresas\", \"mercado\", \"sistema\", \"vida\", \"mauricio\", \"dolares\", \"jugadores\", \"partido\", \"fernandez\", \"alberto\", \"candidatos\", \"informes\", \"videojuego\", \"mujeres\", \"personas\", \"play\", \"futbol\", \"casa\", \"samsung\", \"universidad\", \"estabilizacion\", \"plus\", \"lammens\", \"reglamentacion\", \"reeleccion\", \"lavagna\", \"subasta\", \"sticker\", \"conoci\", \"variables\", \"zuckerberg\", \"sufragio\", \"bunker\", \"postulantes\", \"soportes\", \"vacunacion\", \"encabeza\", \"mod\", \"centurion\", \"validacion\", \"votacion\", \"multinacionales\", \"sapos\", \"kuwait\", \"legitimidad\", \"oradores\", \"julian\", \"populismo\", \"urnas\", \"boletas\", \"candidato\", \"macri\", \"oficialismo\", \"kicillof\", \"votos\", \"mauricio\", \"pichetto\", \"kirchnerismo\", \"comicios\", \"elecciones\", \"presidencia\", \"alberto\", \"consenso\", \"cristina\", \"gabinete\", \"fernandez\", \"senador\", \"debate\", \"candidatos\", \"eleccion\", \"voto\", \"presidente\", \"fit\", \"gobernadores\", \"boleta\", \"peronismo\", \"ballottage\", \"gobernador\", \"debates\", \"gobierno\", \"ministro\", \"gestion\", \"frente\", \"campa\", \"jefe\", \"economia\", \"cambio\", \"provincia\", \"domingo\", \"acto\", \"paso\", \"propuestas\", \"octubre\", \"nacion\", \"aires\", \"puntos\", \"ciudad\", \"juan\", \"gente\", \"vez\", \"gaming\", \"legends\", \"playstation\", \"iglesia\", \"sadio\", \"cardona\", \"musculos\", \"league\", \"panelista\", \"escuadra\", \"esports\", \"worlds\", \"games\", \"vertebras\", \"terrenos\", \"mundialista\", \"pulgares\", \"bicampeon\", \"flamengo\", \"sureste\", \"camionetas\", \"buggax\", \"kombat\", \"holanda\", \"cyterszpiler\", \"balones\", \"temporario\", \"tries\", \"pumas\", \"montaje\", \"torneo\", \"jugadores\", \"videojuego\", \"torneos\", \"play\", \"libertadores\", \"campeonato\", \"team\", \"fifa\", \"goles\", \"jugador\", \"liga\", \"semifinales\", \"adobe\", \"eliminatorias\", \"copa\", \"rugby\", \"entrenador\", \"gol\", \"juego\", \"fortnite\", \"futbol\", \"pelota\", \"boca\", \"juegos\", \"club\", \"partido\", \"equipo\", \"fase\", \"equipos\", \"partidos\", \"deporte\", \"temporada\", \"minutos\", \"estadio\", \"final\", \"vez\", \"mundo\", \"mano\", \"titulo\", \"tiempo\", \"lugar\", \"grupo\", \"puntos\", \"historia\", \"parte\", \"incendio\", \"rafagas\", \"cobre\", \"casta\", \"dotaciones\", \"evalua\", \"interseccion\", \"rito\", \"vibra\", \"mura\", \"abrigo\", \"consciencia\", \"valparaiso\", \"desesperacion\", \"superpoderes\", \"gema\", \"meteorologia\", \"flavio\", \"pertenencias\", \"casona\", \"minas\", \"venia\", \"penso\", \"desayuno\", \"mega\", \"cejas\", \"camarografos\", \"murio\", \"agustina\", \"sillones\", \"llamas\", \"telefe\", \"regimiento\", \"pino\", \"carmen\", \"pampita\", \"cacho\", \"bolso\", \"beso\", \"susana\", \"lluvias\", \"parejas\", \"bomberos\", \"barricadas\", \"flor\", \"caminata\", \"onda\", \"perro\", \"laguna\", \"playa\", \"perros\", \"hija\", \"camiones\", \"barrio\", \"gimenez\", \"oct\", \"mama\", \"novio\", \"pareja\", \"madre\", \"tormenta\", \"madrugada\", \"casa\", \"mujer\", \"hijo\", \"amor\", \"noche\", \"ana\", \"padre\", \"familia\", \"hombre\", \"pdt\", \"dia\", \"calle\", \"conto\", \"paz\", \"hijos\", \"martin\", \"agua\", \"ciudad\", \"amigos\", \"momento\", \"vez\", \"vida\", \"dias\", \"acompa\", \"aires\", \"lugar\", \"mujeres\", \"despues\", \"tiempo\", \"horas\", \"paso\", \"semana\", \"naranja\", \"compradores\", \"cauchari\", \"piscinas\", \"infraestructuras\", \"modalidades\", \"coincidio\", \"kits\", \"coste\", \"variacion\", \"caducidad\", \"cost\", \"cocheras\", \"iva\", \"cajeros\", \"low\", \"canasta\", \"amazon\", \"jujuy\", \"fabricantes\", \"orilla\", \"contrajera\", \"desarrollos\", \"billeteras\", \"rne\", \"nfc\", \"board\", \"inconsistencias\", \"simulacion\", \"descuentos\", \"computacion\", \"trimestre\", \"chips\", \"renta\", \"liquid\", \"aceleracion\", \"empleos\", \"adquisiciones\", \"consumidor\", \"ventas\", \"productos\", \"pagos\", \"cargas\", \"comercializacion\", \"rentabilidad\", \"empresas\", \"precios\", \"mercado\", \"aranceles\", \"smartphones\", \"costos\", \"supermercado\", \"dolares\", \"consumo\", \"telecomunicaciones\", \"millones\", \"ingresos\", \"alimentos\", \"firmas\", \"comercio\", \"alquiler\", \"industria\", \"empresa\", \"aumento\", \"sector\", \"compras\", \"precio\", \"transcripcion\", \"pesos\", \"pago\", \"valor\", \"servicios\", \"crecimiento\", \"mes\", \"empleados\", \"promedio\", \"plazo\", \"trabajadores\", \"dinero\", \"acuerdo\", \"datos\", \"agua\", \"compa\", \"septiembre\", \"meses\", \"desarrollo\", \"gobierno\", \"tipo\", \"nivel\", \"personas\", \"parte\", \"mundo\", \"cambio\", \"trabajo\", \"lactancia\", \"veloces\", \"testeo\", \"escandalos\", \"cordon\", \"tonos\", \"bromas\", \"oveja\", \"recibiran\", \"tacto\", \"samsung\", \"atlas\", \"titanio\", \"coches\", \"cartilago\", \"buscadores\", \"sucesion\", \"plateau\", \"inspiracion\", \"lapiz\", \"trompa\", \"nadia\", \"explico\", \"natalie\", \"ciclismo\", \"delegado\", \"barcos\", \"pormenores\", \"fort\", \"castilla\", \"granja\", \"chat\", \"larry\", \"golf\", \"luminosidad\", \"jimenez\", \"boda\", \"induccion\", \"mia\", \"nacimiento\", \"anillos\", \"emma\", \"truco\", \"maternidad\", \"lentes\", \"chip\", \"yoga\", \"bebe\", \"bicicleta\", \"cura\", \"comida\", \"padres\", \"hijas\", \"rutinas\", \"embarazo\", \"vida\", \"hijos\", \"matrimonio\", \"veces\", \"familia\", \"cosas\", \"ropa\", \"tenes\", \"modelo\", \"fotos\", \"carrera\", \"novia\", \"momento\", \"peque\", \"tiempo\", \"mujer\", \"persona\", \"cuenta\", \"nacio\", \"vez\", \"casa\", \"gente\", \"amigos\", \"apple\", \"madre\", \"meses\", \"historia\", \"mujeres\", \"mundo\", \"compa\", \"dia\", \"despues\", \"lugar\", \"parte\", \"android\", \"portabilidad\", \"actualizaciones\", \"intel\", \"servidores\", \"app\", \"correo\", \"smartphone\", \"megapixeles\", \"usb\", \"core\", \"telefonia\", \"hormigas\", \"motorola\", \"comercios\", \"uber\", \"sim\", \"notch\", \"apps\", \"cnet\", \"monopatines\", \"bisagra\", \"auriculares\", \"portatiles\", \"tabletas\", \"lens\", \"compacto\", \"respecta\", \"chefs\", \"conector\", \"usuario\", \"note\", \"mah\", \"teclado\", \"bluetooth\", \"notificaciones\", \"display\", \"malware\", \"buds\", \"usuarios\", \"almacenamiento\", \"privacidad\", \"aplicaciones\", \"pixel\", \"pulgadas\", \"litio\", \"celulares\", \"telefonos\", \"dispositivo\", \"pantallas\", \"pantalla\", \"aplicacion\", \"google\", \"dispositivos\", \"whatsapp\", \"baterias\", \"opcion\", \"telefono\", \"servicio\", \"sistema\", \"sitio\", \"modelos\", \"internet\", \"uso\", \"web\", \"funcion\", \"carga\", \"sistemas\", \"datos\", \"forma\", \"version\", \"compa\", \"mensajes\", \"facebook\", \"red\", \"acceso\", \"seguridad\", \"traves\", \"personas\", \"parte\", \"vez\", \"tiempo\", \"redes\", \"horas\", \"eutanasia\", \"mitos\", \"sergei\", \"com\", \"ecas\", \"falla\", \"largo\", \"mimos\", \"descargo\", \"carbohidratos\", \"chipre\", \"extreme\", \"mutaciones\", \"reparos\", \"alcaidia\", \"saudita\", \"intestino\", \"medula\", \"felinos\", \"ipcc\", \"polucion\", \"aperturas\", \"alteraciones\", \"sarampion\", \"coagulo\", \"prepagas\", \"olga\", \"expuestos\", \"pasividad\", \"epidemia\", \"enfermedades\", \"informes\", \"virus\", \"litros\", \"procedimiento\", \"verosimilitud\", \"patologia\", \"mortalidad\", \"perjuicio\", \"multa\", \"carbono\", \"pasajero\", \"inversionistas\", \"hipoxia\", \"matanza\", \"delitos\", \"juez\", \"juicio\", \"bonadio\", \"garantias\", \"causa\", \"delito\", \"tratamiento\", \"tribunales\", \"denuncia\", \"irregularidades\", \"municipalidad\", \"tribunal\", \"prision\", \"cursos\", \"justicia\", \"cancer\", \"causas\", \"jueces\", \"fuentes\", \"apple\", \"casos\", \"enfermedad\", \"organismo\", \"caso\", \"policia\", \"salud\", \"investigacion\", \"seguridad\", \"proceso\", \"autoridades\", \"nacion\", \"riesgo\", \"personas\", \"cargo\", \"informacion\", \"agua\", \"control\", \"parte\", \"persona\", \"tiempo\", \"conectividad\", \"suscriptores\", \"info\", \"stories\", \"sun\", \"just\", \"leones\", \"pray\", \"artefactos\", \"action\", \"iluminacion\", \"voice\", \"experience\", \"reproductor\", \"corden\", \"witherspoon\", \"project\", \"steve\", \"discovery\", \"seinfeld\", \"detrimento\", \"picardia\", \"superheroes\", \"ellie\", \"laser\", \"sagas\", \"sasha\", \"plantilla\", \"escaleras\", \"cumplea\", \"marihuana\", \"podcast\", \"max\", \"cannabis\", \"terminator\", \"usd\", \"training\", \"black\", \"dog\", \"hero\", \"oraciones\", \"peliculas\", \"personaje\", \"filtros\", \"cancion\", \"spotify\", \"actriz\", \"cine\", \"the\", \"canciones\", \"personajes\", \"piel\", \"netflix\", \"actor\", \"teatro\", \"serie\", \"episodio\", \"peleas\", \"efectos\", \"estrellas\", \"filtro\", \"mundo\", \"vez\", \"historia\", \"disco\", \"parte\", \"gente\", \"tema\", \"voz\", \"tiempo\", \"cosas\", \"momento\", \"vida\", \"temporada\", \"video\", \"embargo\", \"personas\", \"juego\", \"cubo\", \"nobel\", \"kilo\", \"consultorio\", \"conexiones\", \"capa\", \"steven\", \"alfred\", \"parches\", \"elasticidad\", \"experimentos\", \"yogur\", \"experimento\", \"ara\", \"silicona\", \"stanford\", \"galardones\", \"rich\", \"coincidia\", \"haciendolos\", \"aproximaciones\", \"teaser\", \"escaneres\", \"asedio\", \"coautora\", \"mellizas\", \"celulas\", \"empatia\", \"receptores\", \"royalties\", \"navegacion\", \"laboratorio\", \"wifi\", \"reproduccion\", \"descubrimiento\", \"submarino\", \"carpas\", \"ciencias\", \"cientificos\", \"huellas\", \"editor\", \"supremacia\", \"alumnos\", \"reparto\", \"conocimientos\", \"prototipo\", \"oreja\", \"notas\", \"robot\", \"satelites\", \"ciencia\", \"robots\", \"maquinas\", \"universidad\", \"investigadores\", \"precision\", \"configuracion\", \"profesor\", \"estudio\", \"memoria\", \"tierra\", \"premio\", \"clases\", \"computadora\", \"ejemplo\", \"tipo\", \"trabajo\", \"personas\", \"mundo\", \"proyecto\", \"comunidad\", \"forma\", \"vez\", \"parte\", \"mujeres\", \"vida\", \"tiempo\", \"realidad\", \"mas\", \"manera\", \"equipo\", \"escultura\", \"optimizacion\", \"renovador\", \"fake\", \"gobernacion\", \"mineros\", \"concordia\", \"barbaridad\", \"iris\", \"preservacion\", \"disidencias\", \"folleto\", \"tijeras\", \"alexa\", \"adrede\", \"vicegobernador\", \"resquemor\", \"ling\", \"protegerlos\", \"utn\", \"conspiraciones\", \"antecesores\", \"indicacion\", \"presentes\", \"ucr\", \"lagunas\", \"led\", \"manuela\", \"arquitectos\", \"comparecio\", \"poncho\", \"vacantes\", \"girl\", \"blind\", \"obras\", \"asesores\", \"pautas\", \"programadores\", \"ratones\", \"desinformacion\", \"lanchas\", \"cocina\", \"moda\", \"diputado\", \"aliados\", \"eno\", \"taller\", \"aula\", \"cuadrados\", \"facultad\", \"legislatura\", \"tecnologias\", \"legislador\", \"obra\", \"municipios\", \"rios\", \"corte\", \"forward\", \"inscripcion\", \"arte\", \"first\", \"procesamiento\", \"libro\", \"escuelas\", \"ciudad\", \"festival\", \"sala\", \"actividades\", \"lenguaje\", \"direccion\", \"aires\", \"salta\", \"nacion\", \"mujeres\", \"temas\", \"lugar\", \"grupo\", \"trabajo\", \"parte\", \"personas\", \"edicion\", \"proyecto\", \"mundo\", \"cargo\", \"vez\", \"nombre\", \"conciliacion\", \"webs\", \"especificaciones\", \"check\", \"est\", \"ten\", \"movilizacion\", \"apla\", \"ciudadano\", \"camarografo\", \"imprudencia\", \"biro\", \"tiroteo\", \"sudeste\", \"amba\", \"rebeldes\", \"carreteras\", \"aparicio\", \"tweets\", \"with\", \"moscas\", \"homologo\", \"tuits\", \"valenzuela\", \"brest\", \"asuncion\", \"mosca\", \"blasfemia\", \"saqueos\", \"erhardt\", \"pilotos\", \"media\", \"nicaragua\", \"friends\", \"thelma\", \"protestas\", \"manifestantes\", \"brexit\", \"patentes\", \"museos\", \"delincuentes\", \"your\", \"mirror\", \"paro\", \"vuelos\", \"pesta\", \"furor\", \"protesta\", \"publicaciones\", \"pasajeros\", \"chile\", \"gremios\", \"interrupcion\", \"huelga\", \"aeropuerto\", \"facebook\", \"noticias\", \"libra\", \"violencia\", \"actrices\", \"conflicto\", \"red\", \"medios\", \"personas\", \"mujeres\", \"fin\", \"redes\", \"acuerdo\", \"semana\", \"publicacion\", \"horas\", \"derechos\", \"mundo\", \"paises\", \"actriz\", \"comentarios\", \"parte\", \"momento\", \"gente\", \"trabajo\", \"grupo\", \"juan\", \"gamers\", \"misiles\", \"ovejas\", \"tesla\", \"mandos\", \"flecha\", \"consola\", \"raza\", \"oto\", \"transcripciones\", \"razas\", \"convertirlo\", \"historicas\", \"teniente\", \"crueldad\", \"realismo\", \"seno\", \"firmeza\", \"call\", \"tijera\", \"tambo\", \"escriba\", \"recordo\", \"intelligence\", \"reinicio\", \"fragata\", \"desobediencia\", \"acontecimiento\", \"alambre\", \"nasa\", \"pornografia\", \"great\", \"coimas\", \"aeronave\", \"karate\", \"videojuegos\", \"pabellon\", \"elon\", \"musk\", \"helicopteros\", \"detenciones\", \"carne\", \"avion\", \"trump\", \"consolas\", \"ups\", \"cantante\", \"vidas\", \"banda\", \"motores\", \"reino\", \"mini\", \"edificios\", \"extranjero\", \"guerra\", \"spacex\", \"show\", \"evidencia\", \"armas\", \"grupo\", \"episodios\", \"fuerza\", \"despues\", \"mundo\", \"tiempo\", \"apple\", \"parte\", \"gente\", \"personas\", \"embargo\", \"vez\", \"aviones\", \"semana\", \"momento\", \"caso\", \"millones\", \"libertad\", \"historia\", \"lugar\"], \"Total\": [19651.0, 18523.0, 12317.0, 15642.0, 11893.0, 22000.0, 11244.0, 5138.0, 7248.0, 16022.0, 8124.0, 7871.0, 11750.0, 15899.0, 8002.0, 9007.0, 6153.0, 9941.0, 7678.0, 6940.0, 6977.0, 4003.0, 5241.0, 9878.0, 19070.0, 5069.0, 6456.0, 14248.0, 3824.0, 5518.0, 958.2996215820312, 635.2879638671875, 801.04736328125, 453.43756103515625, 452.10400390625, 953.2096557617188, 433.46478271484375, 348.35186767578125, 323.5482482910156, 267.8830261230469, 479.66033935546875, 297.409912109375, 389.0086669921875, 208.77899169921875, 200.20706176757812, 204.1759033203125, 180.58470153808594, 194.17709350585938, 1503.9818115234375, 229.31387329101562, 186.5132293701172, 146.58914184570312, 194.2754364013672, 147.385986328125, 133.1518096923828, 295.6466369628906, 129.2854461669922, 359.0301818847656, 837.1609497070312, 661.6690063476562, 12317.4072265625, 3795.838623046875, 2155.64794921875, 1158.0787353515625, 4397.78466796875, 8002.8369140625, 701.5447998046875, 1874.326171875, 1109.669189453125, 11893.6884765625, 1351.57080078125, 6940.2734375, 2279.627197265625, 2423.69677734375, 1668.884033203125, 7678.73828125, 963.3895874023438, 11244.984375, 6977.22802734375, 4728.61083984375, 5333.0380859375, 18523.390625, 1164.4267578125, 1159.3662109375, 1025.5384521484375, 1714.689208984375, 1145.1014404296875, 2784.134765625, 1621.2476806640625, 16022.7841796875, 3332.50927734375, 4140.65380859375, 5885.384765625, 4373.71875, 6336.6494140625, 3381.787353515625, 15332.943359375, 6298.15673828125, 9324.0048828125, 5095.1806640625, 13148.623046875, 2997.669677734375, 10862.484375, 13066.552734375, 12100.8330078125, 7588.322265625, 14981.1025390625, 8426.5068359375, 14680.8271484375, 30739.87890625, 2264.68359375, 2015.6004638671875, 1978.060546875, 1365.1807861328125, 1531.815185546875, 804.3860473632812, 609.368896484375, 3393.525146484375, 509.69500732421875, 507.6578674316406, 474.40093994140625, 428.8211364746094, 1971.8489990234375, 421.6564636230469, 383.48260498046875, 356.1682434082031, 334.9963073730469, 453.824462890625, 635.3419189453125, 278.29571533203125, 274.251708984375, 334.57958984375, 2044.754638671875, 257.2652587890625, 334.87506103515625, 306.1077880859375, 241.96214294433594, 302.8017883300781, 1364.174072265625, 212.30162048339844, 3942.796142578125, 6153.69677734375, 5241.361328125, 1598.6566162109375, 5069.27685546875, 2445.013427734375, 1297.1903076171875, 1101.4239501953125, 1073.36474609375, 1825.1826171875, 2927.913330078125, 2017.6285400390625, 809.9052734375, 1067.333251953125, 661.791259765625, 3342.1953125, 1813.94091796875, 1742.0035400390625, 2523.833984375, 19651.880859375, 2799.97900390625, 6456.1064453125, 2001.1552734375, 5857.8232421875, 5329.06787109375, 4093.4111328125, 9941.109375, 22000.212890625, 3433.99072265625, 8787.947265625, 5496.13525390625, 3449.665771484375, 5533.91259765625, 8729.72265625, 2683.86865234375, 3347.02490234375, 30739.87890625, 21067.87890625, 7465.5009765625, 3097.292724609375, 24131.953125, 17101.0078125, 11936.673828125, 7588.322265625, 11713.4228515625, 22618.595703125, 1241.6929931640625, 505.19677734375, 493.62396240234375, 642.5228881835938, 244.48097229003906, 254.03538513183594, 190.1952667236328, 262.98272705078125, 205.055908203125, 198.78628540039062, 189.82493591308594, 428.27215576171875, 171.1878662109375, 202.76072692871094, 153.72381591796875, 165.7565460205078, 146.57264709472656, 130.68348693847656, 225.017822265625, 132.8964385986328, 245.07589721679688, 120.1436538696289, 361.8305969238281, 117.20545959472656, 360.1451416015625, 193.5800323486328, 90.04058837890625, 237.42507934570312, 113.83049011230469, 77.42567443847656, 764.726806640625, 895.9080810546875, 276.3341369628906, 336.6155090332031, 623.5789794921875, 350.7220458984375, 312.52606201171875, 703.9811401367188, 694.5720825195312, 825.890869140625, 1250.0631103515625, 906.77197265625, 733.1392822265625, 419.3846740722656, 948.3673706054688, 461.955322265625, 380.2716369628906, 1111.39404296875, 521.1844482421875, 839.0590209960938, 786.6713256835938, 4315.3232421875, 760.073486328125, 2688.012451171875, 566.1448364257812, 2690.567138671875, 3757.1689453125, 1348.33251953125, 2665.65869140625, 5964.72607421875, 1187.8826904296875, 1228.7578125, 14248.9384765625, 8815.2861328125, 5813.95849609375, 3763.245849609375, 6847.18505859375, 8230.423828125, 4296.03076171875, 8280.71875, 5994.552734375, 3400.6962890625, 8664.2373046875, 4123.2763671875, 3154.293212890625, 3494.289306640625, 5266.50341796875, 4485.1748046875, 8701.1982421875, 14981.1025390625, 4643.3564453125, 19051.423828125, 30739.87890625, 15899.1591796875, 9088.1787109375, 6121.658203125, 12100.8330078125, 17101.0078125, 9878.7763671875, 12282.38671875, 24131.953125, 12262.693359375, 13148.623046875, 14024.11328125, 511.55096435546875, 409.1539611816406, 450.6493225097656, 338.7046813964844, 466.36822509765625, 219.3595428466797, 194.83001708984375, 207.209228515625, 290.04913330078125, 201.58973693847656, 163.4891815185547, 246.88461303710938, 161.8240509033203, 227.55862426757812, 189.69717407226562, 236.3882293701172, 164.22628784179688, 178.54393005371094, 127.01091766357422, 386.7099914550781, 122.8229751586914, 146.6648712158203, 265.6269226074219, 113.81673431396484, 111.87696075439453, 138.27610778808594, 120.15119934082031, 109.30524444580078, 161.64199829101562, 301.61566162109375, 706.5335083007812, 1086.3538818359375, 475.97979736328125, 198.52993774414062, 280.57208251953125, 308.0779113769531, 815.778076171875, 277.9341125488281, 258.8303527832031, 1834.60693359375, 4406.21337890625, 891.34130859375, 539.584228515625, 338.82037353515625, 343.9566955566406, 8124.138671875, 2444.0126953125, 7871.90478515625, 406.47039794921875, 2149.6806640625, 1444.0126953125, 629.3302612304688, 9007.26171875, 2137.7763671875, 818.3719482421875, 15642.5068359375, 1545.7266845703125, 2514.720458984375, 635.2825927734375, 1770.9429931640625, 612.782470703125, 3185.4208984375, 8449.38671875, 3076.711669921875, 5039.1484375, 1460.7838134765625, 5608.2431640625, 2356.35595703125, 3482.59375, 2562.23193359375, 2828.912353515625, 5366.9404296875, 3954.158935546875, 6890.8125, 1653.3992919921875, 2556.1005859375, 2463.947265625, 3701.85302734375, 5133.3564453125, 8342.126953125, 8553.5517578125, 8701.1982421875, 15828.1201171875, 4304.68310546875, 10818.4970703125, 5912.11474609375, 16022.7841796875, 10121.4208984375, 7595.69482421875, 19070.390625, 22618.595703125, 21067.87890625, 15332.943359375, 13816.328125, 650.03662109375, 399.7438659667969, 355.5050354003906, 351.5597229003906, 288.06463623046875, 290.1616516113281, 290.2749938964844, 288.2910461425781, 184.0183868408203, 142.51025390625, 3824.867919921875, 130.5690460205078, 144.45504760742188, 234.17495727539062, 123.21241760253906, 120.26482391357422, 118.45817565917969, 239.60252380371094, 102.90803527832031, 143.24697875976562, 94.18362426757812, 200.17889404296875, 131.4938507080078, 117.54716491699219, 109.21472930908203, 91.08824920654297, 108.34791564941406, 82.82853698730469, 101.879150390625, 79.33478546142578, 881.52099609375, 1775.7745361328125, 293.48553466796875, 191.06727600097656, 347.0243835449219, 136.498779296875, 236.36080932617188, 300.61370849609375, 237.50445556640625, 1315.9710693359375, 206.02621459960938, 209.0858612060547, 691.0625610351562, 520.2005615234375, 222.69577026367188, 2920.457275390625, 198.4745330810547, 697.7301025390625, 558.484619140625, 342.5286865234375, 5318.798828125, 3373.937255859375, 832.59619140625, 315.7711486816406, 1533.80078125, 15899.1591796875, 5266.50341796875, 1014.7183837890625, 11232.70703125, 8280.71875, 11756.60546875, 1306.7364501953125, 2239.02734375, 5462.56494140625, 5641.02587890625, 4359.01416015625, 918.6914672851562, 19051.423828125, 5872.74755859375, 24131.953125, 8815.2861328125, 7813.66943359375, 5546.15576171875, 2245.635498046875, 30739.87890625, 14248.9384765625, 14680.8271484375, 4643.3564453125, 4986.44677734375, 5964.72607421875, 10818.4970703125, 11713.4228515625, 9878.7763671875, 21067.87890625, 15828.1201171875, 8664.2373046875, 12282.38671875, 17101.0078125, 22618.595703125, 1283.4073486328125, 645.964111328125, 729.653076171875, 1289.9613037109375, 348.30780029296875, 1224.452392578125, 818.375732421875, 341.93035888671875, 1103.2423095703125, 386.9932861328125, 515.9706420898438, 346.1674499511719, 139.14120483398438, 606.064453125, 135.5455322265625, 403.72222900390625, 417.9956970214844, 160.170166015625, 227.80360412597656, 148.50852966308594, 273.9129333496094, 136.7343292236328, 1620.47021484375, 304.5782775878906, 223.60671997070312, 84.15314483642578, 103.22237396240234, 79.11677551269531, 85.82671356201172, 356.9865417480469, 2831.8701171875, 949.1467895507812, 751.6366577148438, 397.1346130371094, 342.4506530761719, 522.5892333984375, 308.1881103515625, 846.8655395507812, 1004.6402587890625, 2332.488037109375, 1429.50634765625, 1302.435302734375, 2358.8525390625, 1271.12353515625, 820.5204467773438, 2525.615966796875, 1055.544921875, 1580.3448486328125, 2266.29150390625, 1326.4873046875, 7248.33935546875, 2611.64404296875, 1215.6888427734375, 1318.6126708984375, 1145.1083984375, 897.392333984375, 2130.333740234375, 4838.60546875, 6843.2509765625, 11750.171875, 2964.617919921875, 2880.860595703125, 3084.660888671875, 7700.466796875, 2064.950439453125, 2476.657958984375, 2915.0537109375, 3549.373779296875, 8553.5517578125, 11230.015625, 3569.2919921875, 15828.1201171875, 2734.408447265625, 4355.5078125, 5478.59326171875, 4131.5634765625, 8313.19921875, 9112.9013671875, 19070.390625, 22618.595703125, 30739.87890625, 24131.953125, 9066.205078125, 12262.693359375, 694.1402587890625, 479.90277099609375, 328.1080017089844, 307.3850402832031, 213.30764770507812, 150.77883911132812, 137.6727294921875, 131.61111450195312, 122.40990447998047, 122.82614135742188, 100.09986877441406, 102.1830062866211, 107.3720703125, 88.6093978881836, 92.83390808105469, 84.39462280273438, 88.37028503417969, 87.68006134033203, 107.76870727539062, 95.34722900390625, 85.91454315185547, 91.16173553466797, 267.63067626953125, 258.5965576171875, 88.81159210205078, 90.74307250976562, 100.33869934082031, 76.38616943359375, 65.94750213623047, 73.92156982421875, 1084.2890625, 4003.75634765625, 1158.0279541015625, 1037.93896484375, 568.9581909179688, 184.6101837158203, 168.7615509033203, 396.05255126953125, 141.23672485351562, 505.50384521484375, 780.6898193359375, 120.66055297851562, 145.9394073486328, 110.76998901367188, 1208.8734130859375, 1268.3819580078125, 2226.870361328125, 2090.1416015625, 449.57305908203125, 191.87596130371094, 3565.432861328125, 1261.5177001953125, 1801.4344482421875, 513.3104248046875, 1754.9862060546875, 299.7862243652344, 377.3938903808594, 879.716064453125, 1114.142578125, 617.7078857421875, 5338.03857421875, 2160.856689453125, 1520.6478271484375, 901.1947631835938, 4036.974609375, 4986.44677734375, 5666.09521484375, 2243.658203125, 2344.21533203125, 13979.5224609375, 3009.39404296875, 5725.59375, 2290.287109375, 8313.19921875, 5733.41796875, 2755.170654296875, 13066.552734375, 3593.61083984375, 19070.390625, 5331.5302734375, 4308.1416015625, 8701.1982421875, 4089.690185546875, 22618.595703125, 7813.66943359375, 24131.953125, 1286.893310546875, 616.7542114257812, 510.9595031738281, 415.77337646484375, 185.696044921875, 225.43740844726562, 458.5442810058594, 698.693115234375, 178.8426971435547, 340.38482666015625, 157.76268005371094, 156.35923767089844, 177.329345703125, 608.6288452148438, 284.042236328125, 126.12876892089844, 254.35867309570312, 240.27169799804688, 127.7339096069336, 252.83444213867188, 88.15235137939453, 179.28196716308594, 113.50469970703125, 566.9156494140625, 179.93283081054688, 71.13143920898438, 138.70095825195312, 80.4107894897461, 367.08148193359375, 261.0511779785156, 369.88836669921875, 2011.886474609375, 976.955322265625, 388.59478759765625, 282.2377014160156, 530.0621337890625, 293.1080627441406, 1000.8177490234375, 476.2236022949219, 770.4967651367188, 331.1883850097656, 912.5567016601562, 2970.0380859375, 1031.44580078125, 1299.2564697265625, 1082.4361572265625, 2564.6201171875, 1790.811767578125, 3124.4619140625, 1211.007568359375, 1869.4403076171875, 1572.0137939453125, 910.1377563476562, 2438.450927734375, 1767.6265869140625, 5821.6083984375, 2056.039794921875, 1112.6806640625, 2144.7431640625, 1050.83349609375, 909.185546875, 21067.87890625, 30739.87890625, 11713.4228515625, 1415.655517578125, 22618.595703125, 14680.8271484375, 7307.494140625, 3959.3076171875, 24131.953125, 11756.60546875, 19051.423828125, 15899.1591796875, 5533.91259765625, 5790.296875, 10042.3740234375, 19070.390625, 19651.880859375, 573.6695556640625, 219.7494354248047, 184.4762420654297, 218.44882202148438, 493.34027099609375, 493.7868347167969, 124.06832122802734, 118.4493408203125, 138.17054748535156, 126.28675079345703, 210.23057556152344, 91.20954895019531, 295.760009765625, 93.4089126586914, 96.14231872558594, 82.45633697509766, 82.77426147460938, 69.32353973388672, 71.55862426757812, 99.06304168701172, 61.29788589477539, 64.23551177978516, 105.95698547363281, 112.49848937988281, 79.08573150634766, 56.352081298828125, 372.19891357421875, 69.81169891357422, 52.368839263916016, 85.818603515625, 469.7613830566406, 903.0355834960938, 609.8822021484375, 458.67926025390625, 248.8020477294922, 156.47286987304688, 122.33364868164062, 659.2030029296875, 604.3724975585938, 1207.2349853515625, 362.5294494628906, 586.6707153320312, 1412.4407958984375, 918.7805786132812, 591.9116821289062, 1162.8089599609375, 536.8492431640625, 766.172119140625, 1852.09521484375, 666.35498046875, 1645.841064453125, 2115.9296875, 1720.416015625, 5518.68896484375, 1967.868896484375, 1267.5146484375, 1345.6558837890625, 927.3276977539062, 4728.76123046875, 1471.0672607421875, 4177.185546875, 2074.388427734375, 1356.89306640625, 2176.550537109375, 9121.34375, 10121.4208984375, 13816.328125, 19070.390625, 21067.87890625, 6232.36279296875, 3072.2236328125, 11230.015625, 30739.87890625, 22618.595703125, 9878.7763671875, 15899.1591796875, 24131.953125, 5395.31201171875, 6844.33935546875, 9193.6337890625, 22000.212890625, 397.3912658691406, 337.84814453125, 216.0717010498047, 488.85980224609375, 166.93153381347656, 177.4231719970703, 161.36566162109375, 264.7962341308594, 155.56658935546875, 200.12351989746094, 144.55152893066406, 130.32418823242188, 118.29966735839844, 314.1344299316406, 100.39048767089844, 101.91902160644531, 90.30960083007812, 87.69440460205078, 143.28192138671875, 93.33154296875, 108.44823455810547, 81.72835540771484, 84.39848327636719, 192.56321716308594, 95.075439453125, 68.42622375488281, 83.40375518798828, 75.42903137207031, 74.00334167480469, 98.30670166015625, 869.3675537109375, 415.0146484375, 512.8917846679688, 167.42759704589844, 2437.562744140625, 212.41937255859375, 120.992431640625, 349.1236572265625, 319.325927734375, 170.9015655517578, 164.2934112548828, 390.6993713378906, 1212.1263427734375, 1442.650634765625, 354.33953857421875, 184.03233337402344, 1136.723388671875, 269.9813537597656, 529.2046508789062, 986.13623046875, 643.2623291015625, 890.5877685546875, 228.8730010986328, 3754.96875, 661.1083374023438, 1106.212646484375, 2450.94140625, 508.5291748046875, 553.1160888671875, 1773.9993896484375, 535.145751953125, 1116.9736328125, 2117.6328125, 1479.443359375, 14981.1025390625, 1074.623779296875, 1584.756591796875, 3323.34521484375, 1217.788330078125, 1678.621337890625, 12100.8330078125, 1083.4857177734375, 13066.552734375, 9878.7763671875, 3394.813720703125, 17101.0078125, 11936.673828125, 13816.328125, 22618.595703125, 19070.390625, 2310.41650390625, 6232.36279296875, 21067.87890625, 5331.5302734375, 30739.87890625, 6465.4345703125, 460.8666076660156, 300.9982604980469, 446.1956787109375, 216.49261474609375, 177.30975341796875, 227.05673217773438, 224.33358764648438, 254.2655487060547, 490.3880615234375, 161.16383361816406, 106.13697814941406, 102.88623809814453, 136.52157592773438, 93.75569152832031, 97.80136108398438, 75.32406616210938, 484.12200927734375, 72.01673126220703, 65.81399536132812, 511.3509826660156, 82.9084701538086, 67.15192413330078, 386.9271240234375, 83.42671966552734, 128.99464416503906, 96.78548431396484, 53.72578430175781, 97.48414611816406, 159.5795135498047, 50.682861328125, 1410.8916015625, 272.508056640625, 175.220703125, 196.4018096923828, 263.1918029785156, 1244.47705078125, 449.2911071777344, 136.91796875, 534.4483032226562, 224.62147521972656, 340.38580322265625, 271.4604797363281, 212.66751098632812, 1808.9251708984375, 1779.3502197265625, 765.6676635742188, 412.887939453125, 575.9168701171875, 903.5159301757812, 1392.8548583984375, 3743.02880859375, 539.8206176757812, 345.7411804199219, 367.0657043457031, 1771.8001708984375, 4355.5078125, 3105.171142578125, 613.3248901367188, 2723.886962890625, 556.642578125, 1096.9512939453125, 5478.59326171875, 4866.43212890625, 19070.390625, 9878.7763671875, 7707.6484375, 9066.205078125, 8342.126953125, 14024.11328125, 4221.50341796875, 12262.693359375, 3072.4248046875, 21067.87890625, 3846.556640625, 2564.6201171875, 1718.822265625, 22618.595703125, 19051.423828125, 14680.8271484375, 13816.328125, 11936.673828125, 8426.5068359375, 426.8150329589844, 464.02899169921875, 479.0069580078125, 289.9367370605469, 256.6215515136719, 186.21878051757812, 624.4566650390625, 341.75909423828125, 183.87571716308594, 153.434814453125, 146.1993865966797, 142.81277465820312, 134.5113067626953, 169.95228576660156, 107.321533203125, 124.51366424560547, 163.45462036132812, 140.08917236328125, 365.1071472167969, 169.0371551513672, 117.08253479003906, 146.52464294433594, 81.19400024414062, 80.83737182617188, 118.14558410644531, 277.56591796875, 86.80261993408203, 93.47956085205078, 63.13147735595703, 288.7486267089844, 775.0364990234375, 269.4254455566406, 144.88584899902344, 439.9775085449219, 124.38545227050781, 5138.08447265625, 463.46575927734375, 347.1578674316406, 540.7462768554688, 342.98095703125, 183.2191619873047, 1560.889404296875, 1825.42822265625, 950.8474731445312, 690.8231201171875, 300.6051025390625, 1328.8741455078125, 1935.199951171875, 2567.464111328125, 628.8961181640625, 734.1372680664062, 1056.3375244140625, 1073.63037109375, 592.5346069335938, 2022.2906494140625, 487.2801208496094, 2623.7744140625, 613.5487670898438, 1186.726806640625, 11936.673828125, 1092.701904296875, 3953.83154296875, 12282.38671875, 21067.87890625, 24131.953125, 4986.44677734375, 22618.595703125, 14680.8271484375, 19070.390625, 10042.3740234375, 30739.87890625, 2090.4365234375, 14024.11328125, 19051.423828125, 13979.5224609375, 15642.5068359375, 2755.27001953125, 11713.4228515625, 17101.0078125], \"loglift\": [30.0, 29.0, 28.0, 27.0, 26.0, 25.0, 24.0, 23.0, 22.0, 21.0, 20.0, 19.0, 18.0, 17.0, 16.0, 15.0, 14.0, 13.0, 12.0, 11.0, 10.0, 9.0, 8.0, 7.0, 6.0, 5.0, 4.0, 3.0, 2.0, 1.0, 1.8479000329971313, 1.8478000164031982, 1.847599983215332, 1.847100019454956, 1.847000002861023, 1.84660005569458, 1.846500039100647, 1.8464000225067139, 1.8461999893188477, 1.8456000089645386, 1.8454999923706055, 1.8453999757766724, 1.8446999788284302, 1.8444000482559204, 1.844099998474121, 1.843999981880188, 1.843400001525879, 1.8432999849319458, 1.8432999849319458, 1.8430999517440796, 1.8424999713897705, 1.8417999744415283, 1.8416999578475952, 1.841599941253662, 1.8415000438690186, 1.8415000438690186, 1.8411999940872192, 1.8410999774932861, 1.8410999774932861, 1.84089994430542, 1.8321000337600708, 1.839900016784668, 1.8407000303268433, 1.8359999656677246, 1.8222999572753906, 1.8136999607086182, 1.837399959564209, 1.8251999616622925, 1.829200029373169, 1.8050999641418457, 1.826300024986267, 1.8070000410079956, 1.8176000118255615, 1.8107999563217163, 1.8163000345230103, 1.784999966621399, 1.825700044631958, 1.7733999490737915, 1.7829999923706055, 1.7914999723434448, 1.7863999605178833, 1.7483999729156494, 1.8207999467849731, 1.8193999528884888, 1.8224999904632568, 1.788599967956543, 1.8127000331878662, 1.7325999736785889, 1.7802000045776367, 1.5393999814987183, 1.6848000288009644, 1.6167999505996704, 1.534000039100647, 1.5714999437332153, 1.4464000463485718, 1.5753999948501587, 1.1620999574661255, 1.3914999961853027, 1.23580002784729, 1.424299955368042, 1.1002000570297241, 1.5693000555038452, 0.9871000051498413, 0.8467000126838684, 0.8503000140190125, 1.0161999464035034, 0.52920001745224, 0.9074000120162964, 0.45100000500679016, -0.22920000553131104, 2.0100998878479004, 2.009999990463257, 2.009999990463257, 2.0097999572753906, 2.0095999240875244, 2.009200096130371, 2.0088999271392822, 2.008699893951416, 2.0085999965667725, 2.0085999965667725, 2.0083999633789062, 2.00819993019104, 2.00819993019104, 2.00819993019104, 2.0078999996185303, 2.0076000690460205, 2.0074000358581543, 2.0072999000549316, 2.007200002670288, 2.006999969482422, 2.0069000720977783, 2.0067999362945557, 2.006700038909912, 2.0065999031066895, 2.006500005722046, 2.006500005722046, 2.0060999393463135, 2.00600004196167, 2.0058999061584473, 2.0058000087738037, 2.004699945449829, 1.9955999851226807, 1.9951000213623047, 2.0058000087738037, 1.993399977684021, 1.9967999458312988, 2.0028998851776123, 2.004199981689453, 2.0032999515533447, 1.9979000091552734, 1.992400050163269, 1.9953999519348145, 2.0041000843048096, 2.000699996948242, 2.005000114440918, 1.986299991607666, 1.993399977684021, 1.9837000370025635, 1.967900037765503, 1.8970999717712402, 1.9573999643325806, 1.916100025177002, 1.9670000076293945, 1.8992999792099, 1.8502999544143677, 1.8759000301361084, 1.7589000463485718, 1.6346999406814575, 1.8759000301361084, 1.6549999713897705, 1.74590003490448, 1.833899974822998, 1.6792999505996704, 1.3047000169754028, 1.8281999826431274, 1.7057000398635864, 0.16899999976158142, 0.3801000118255615, 1.051800012588501, 1.6929999589920044, 0.11999999731779099, 0.36320000886917114, 0.5874999761581421, 0.9624000191688538, 0.5145000219345093, -0.12780000269412994, 2.21589994430542, 2.2144999504089355, 2.2144999504089355, 2.21370005607605, 2.212100028991699, 2.2119998931884766, 2.211199998855591, 2.2109999656677246, 2.210700035095215, 2.210599899291992, 2.20989990234375, 2.20989990234375, 2.2098000049591064, 2.2098000049591064, 2.2095999717712402, 2.2095000743865967, 2.208699941635132, 2.2086000442504883, 2.2084999084472656, 2.208199977874756, 2.2081000804901123, 2.2081000804901123, 2.20740008354187, 2.2072999477386475, 2.206700086593628, 2.206700086593628, 2.2044999599456787, 2.204400062561035, 2.2035999298095703, 2.203000068664551, 2.1933000087738037, 2.1912999153137207, 2.2014000415802, 2.197999954223633, 2.1879000663757324, 2.192500114440918, 2.193000078201294, 2.175800085067749, 2.1744000911712646, 2.1686999797821045, 2.156100034713745, 2.154900074005127, 2.162100076675415, 2.1807000637054443, 2.1415998935699463, 2.1728999614715576, 2.18179988861084, 2.1277999877929688, 2.1630001068115234, 2.1328999996185303, 2.1370999813079834, 1.9494999647140503, 2.1078999042510986, 1.957800030708313, 2.128000020980835, 1.9354000091552734, 1.8858000040054321, 2.0143001079559326, 1.9016000032424927, 1.7588000297546387, 2.0139000415802, 1.999400019645691, 1.5467000007629395, 1.6181000471115112, 1.7000999450683594, 1.7762999534606934, 1.6267000436782837, 1.51010000705719, 1.6360000371932983, 1.3853000402450562, 1.4606000185012817, 1.6497000455856323, 1.271399974822998, 1.5027999877929688, 1.6045000553131104, 1.5333000421524048, 1.3108999729156494, 1.3494000434875488, 1.003100037574768, 0.7142000198364258, 1.313599944114685, 0.5651000142097473, 0.2815999984741211, 0.6352999806404114, 0.930400013923645, 1.1441999673843384, 0.7039999961853027, 0.4514999985694885, 0.8223999738693237, 0.5679000020027161, -0.03220000118017197, 0.516700029373169, 0.40389999747276306, 0.3059000074863434, 2.232800006866455, 2.2316999435424805, 2.2311999797821045, 2.230299949645996, 2.230299949645996, 2.2297000885009766, 2.2293999195098877, 2.2293999195098877, 2.2291998863220215, 2.228300094604492, 2.2281999588012695, 2.22760009765625, 2.227299928665161, 2.2272000312805176, 2.227099895477295, 2.2267000675201416, 2.226599931716919, 2.2265000343322754, 2.2263998985290527, 2.2258999347686768, 2.2256999015808105, 2.2251999378204346, 2.2249999046325684, 2.2249999046325684, 2.224900007247925, 2.224900007247925, 2.224299907684326, 2.2239999771118164, 2.2232000827789307, 2.223099946975708, 2.221100091934204, 2.216399908065796, 2.2191998958587646, 2.2223000526428223, 2.2179999351501465, 2.216900110244751, 2.200700044631958, 2.217600107192993, 2.217099905014038, 2.172100067138672, 2.1428000926971436, 2.1882998943328857, 2.200700044631958, 2.2114999294281006, 2.2109999656677246, 2.1120998859405518, 2.137200117111206, 2.087399959564209, 2.203000068664551, 2.1242001056671143, 2.142400026321411, 2.179500102996826, 2.0215001106262207, 2.102400064468384, 2.1561999320983887, 1.9593000411987305, 2.102799892425537, 2.055299997329712, 2.1624999046325684, 2.0548999309539795, 2.1593000888824463, 1.972000002861023, 1.7965999841690063, 1.9359999895095825, 1.8596999645233154, 2.0344998836517334, 1.801800012588501, 1.934000015258789, 1.8624999523162842, 1.906499981880188, 1.8818999528884888, 1.748900055885315, 1.7999999523162842, 1.5654000043869019, 1.9634000062942505, 1.79830002784729, 1.8072999715805054, 1.625599980354309, 1.4842000007629395, 1.2158000469207764, 1.1411999464035034, 1.113800048828125, 0.7423999905586243, 1.476699948310852, 0.8518999814987183, 1.2280000448226929, 0.4027999937534332, 0.7605000138282776, 1.000100016593933, 0.22429999709129333, 0.0763000026345253, 0.02590000070631504, 0.31529998779296875, 0.4009000062942505, 2.3945999145507812, 2.394399881362915, 2.3940999507904053, 2.393699884414673, 2.393399953842163, 2.3929998874664307, 2.3912999629974365, 2.390500068664551, 2.3898000717163086, 2.3893001079559326, 2.3889999389648438, 2.3887999057769775, 2.388400077819824, 2.3882999420166016, 2.3882999420166016, 2.3880999088287354, 2.388000011444092, 2.3863000869750977, 2.386199951171875, 2.3856000900268555, 2.3850998878479004, 2.384700059890747, 2.384700059890747, 2.384399890899658, 2.3842999935150146, 2.384200096130371, 2.3840999603271484, 2.3833999633789062, 2.3833999633789062, 2.3833000659942627, 2.379699945449829, 2.371799945831299, 2.3777999877929688, 2.380500078201294, 2.3738999366760254, 2.3819000720977783, 2.3719000816345215, 2.367000102996826, 2.3689000606536865, 2.305799961090088, 2.3661000728607178, 2.363600015640259, 2.3024001121520996, 2.3143999576568604, 2.3580000400543213, 2.188499927520752, 2.363600015640259, 2.260699987411499, 2.2785000801086426, 2.311500072479248, 1.965399980545044, 1.9922000169754028, 2.1779000759124756, 2.3125, 2.0659000873565674, 1.6502000093460083, 1.770900011062622, 2.0855000019073486, 1.5556999444961548, 1.6061999797821045, 1.4544999599456787, 1.9895000457763672, 1.8479000329971313, 1.6062999963760376, 1.5824999809265137, 1.6425000429153442, 2.055299997329712, 1.1196000576019287, 1.420199990272522, 0.8924000263214111, 1.243499994277954, 1.2868000268936157, 1.3581000566482544, 1.7022000551223755, 0.5516999959945679, 0.8533999919891357, 0.815500020980835, 1.3502000570297241, 1.2971999645233154, 1.1792000532150269, 0.8331000208854675, 0.7562999725341797, 0.8468999862670898, 0.2777000069618225, 0.4595000147819519, 0.8985000252723694, 0.5929999947547913, 0.225600004196167, -0.0625, 2.599900007247925, 2.599100112915039, 2.5978000164031982, 2.5978000164031982, 2.597100019454956, 2.59689998626709, 2.59689998626709, 2.59689998626709, 2.595599889755249, 2.595599889755249, 2.594599962234497, 2.592600107192993, 2.5924999713897705, 2.591900110244751, 2.5915000438690186, 2.591200113296509, 2.5908000469207764, 2.5906999111175537, 2.5905001163482666, 2.589900016784668, 2.589400053024292, 2.588599920272827, 2.5885000228881836, 2.588399887084961, 2.5880000591278076, 2.5869998931884766, 2.5868000984191895, 2.5862998962402344, 2.5861001014709473, 2.585900068283081, 2.584700107574463, 2.5855000019073486, 2.5813000202178955, 2.5833001136779785, 2.584399938583374, 2.578399896621704, 2.583699941635132, 2.572000026702881, 2.565000057220459, 2.542799949645996, 2.552000045776367, 2.5527000427246094, 2.519200086593628, 2.5413999557495117, 2.5525999069213867, 2.5032999515533447, 2.534600019454956, 2.5071001052856445, 2.478800058364868, 2.509999990463257, 2.3907999992370605, 2.4530999660491943, 2.5134999752044678, 2.5030999183654785, 2.515199899673462, 2.5220000743865967, 2.3447000980377197, 2.1686999797821045, 2.088900089263916, 1.9391000270843506, 2.260999917984009, 2.261199951171875, 2.224900007247925, 1.864799976348877, 2.2976999282836914, 2.2046000957489014, 2.136899948120117, 2.0520999431610107, 1.659000039100647, 1.4574999809265137, 2.019700050354004, 1.1818000078201294, 2.078700065612793, 1.7721999883651733, 1.594099998474121, 1.789199948310852, 1.2518999576568604, 1.1454999446868896, 0.4507000148296356, 0.3034999966621399, 0.029200000688433647, 0.20280000567436218, 1.0211000442504883, 0.7257000207901001, 2.6647000312805176, 2.663599967956543, 2.663300037384033, 2.662600040435791, 2.6610000133514404, 2.65910005569458, 2.6589999198913574, 2.6575000286102295, 2.6572999954223633, 2.6568000316619873, 2.655900001525879, 2.655600070953369, 2.6547999382019043, 2.654400110244751, 2.6542999744415283, 2.6540000438690186, 2.6538000106811523, 2.653700113296509, 2.653599977493286, 2.6533000469207764, 2.6533000469207764, 2.6528000831604004, 2.652600049972534, 2.6522998809814453, 2.651900053024292, 2.651700019836426, 2.650700092315674, 2.650399923324585, 2.650099992752075, 2.649600028991699, 2.6445999145507812, 2.624000072479248, 2.628999948501587, 2.6296000480651855, 2.625200033187866, 2.642400026321411, 2.642199993133545, 2.6245999336242676, 2.6447999477386475, 2.606800079345703, 2.5934998989105225, 2.6473000049591064, 2.6412999629974365, 2.6486001014709473, 2.5460000038146973, 2.5411999225616455, 2.4769999980926514, 2.478100061416626, 2.5629000663757324, 2.6189000606536865, 2.41129994392395, 2.4744999408721924, 2.425800085067749, 2.5373001098632812, 2.422499895095825, 2.578200101852417, 2.5485999584198, 2.4547998905181885, 2.4168999195098877, 2.4865000247955322, 2.1888999938964844, 2.2901999950408936, 2.3315999507904053, 2.403899908065796, 2.09089994430542, 1.9884999990463257, 1.9074000120162964, 2.124000072479248, 2.08870005607605, 1.5313999652862549, 2.0028998851776123, 1.705299973487854, 2.0413999557495117, 1.4869999885559082, 1.638800024986267, 1.9470000267028809, 1.1856000423431396, 1.789199948310852, 0.6359999775886536, 1.309499979019165, 1.4559999704360962, 0.8555999994277954, 1.422700047492981, -0.22089999914169312, 0.7745000123977661, -0.37450000643730164, 2.847100019454956, 2.8457999229431152, 2.845400094985962, 2.8447999954223633, 2.842099905014038, 2.841900110244751, 2.8417999744415283, 2.8417000770568848, 2.841399908065796, 2.841200113296509, 2.8410000801086426, 2.8408000469207764, 2.840399980545044, 2.8403000831604004, 2.8401999473571777, 2.8392999172210693, 2.838599920272827, 2.838399887084961, 2.8378000259399414, 2.8371999263763428, 2.8355000019073486, 2.835099935531616, 2.8348000049591064, 2.8343000411987305, 2.8336000442504883, 2.8322999477386475, 2.8320000171661377, 2.830699920654297, 2.8306000232696533, 2.829699993133545, 2.8271000385284424, 2.80649995803833, 2.813699960708618, 2.8190999031066895, 2.822499990463257, 2.8076999187469482, 2.8115999698638916, 2.7298998832702637, 2.7725000381469727, 2.737299919128418, 2.7874999046325684, 2.695199966430664, 2.577199935913086, 2.663100004196167, 2.6191999912261963, 2.640899896621704, 2.5002999305725098, 2.5525999069213867, 2.4502999782562256, 2.580899953842163, 2.4948999881744385, 2.5234999656677246, 2.6064999103546143, 2.3731000423431396, 2.4154000282287598, 2.0378000736236572, 2.3148999214172363, 2.497999906539917, 2.248500108718872, 2.494499921798706, 2.540600061416626, 0.9122999906539917, 0.7023000121116638, 1.1638000011444092, 2.2911999225616455, 0.45910000801086426, 0.7049000263214111, 1.139299988746643, 1.56850004196167, 0.2117999941110611, 0.7211999893188477, 0.28630000352859497, 0.39500001072883606, 1.2309000492095947, 1.1650999784469604, 0.6552000045776367, 0.07029999792575836, -0.1152999997138977, 2.86080002784729, 2.859600067138672, 2.858599901199341, 2.858299970626831, 2.858299970626831, 2.8564000129699707, 2.8554000854492188, 2.8552000522613525, 2.85479998588562, 2.854599952697754, 2.854099988937378, 2.852400064468384, 2.851300001144409, 2.850800037384033, 2.8499999046325684, 2.8494999408721924, 2.848599910736084, 2.8485000133514404, 2.8480000495910645, 2.847599983215332, 2.846100091934204, 2.8459999561309814, 2.845900058746338, 2.8445000648498535, 2.844099998474121, 2.843899965286255, 2.842400074005127, 2.841599941253662, 2.839900016784668, 2.8397998809814453, 2.83240008354187, 2.8155999183654785, 2.8189001083374023, 2.8150999546051025, 2.825900077819824, 2.8326001167297363, 2.835200071334839, 2.7769999504089355, 2.7802000045776367, 2.7486000061035156, 2.794100046157837, 2.7664999961853027, 2.69350004196167, 2.7109999656677246, 2.7374000549316406, 2.6663999557495117, 2.7276999950408936, 2.6982998847961426, 2.6273000240325928, 2.7065999507904053, 2.619999885559082, 2.573899984359741, 2.545300006866455, 2.343899965286255, 2.5027999877929688, 2.5232999324798584, 2.5051000118255615, 2.5717999935150146, 2.1249001026153564, 2.379199981689453, 2.0546000003814697, 2.2000999450683594, 2.3619000911712646, 2.0643999576568604, 1.323799967765808, 1.2542999982833862, 1.0410000085830688, 0.8116999864578247, 0.7172999978065491, 1.3833999633789062, 1.7964999675750732, 0.9243000149726868, 0.16689999401569366, 0.2831999957561493, 0.866599977016449, 0.43070000410079956, 0.052799999713897705, 1.1984000205993652, 0.9330000281333923, 0.6087999939918518, -0.23960000276565552, 2.8951001167297363, 2.894700050354004, 2.892899990081787, 2.892199993133545, 2.8914999961853027, 2.891400098800659, 2.891200065612793, 2.8910000324249268, 2.890700101852417, 2.8901000022888184, 2.8901000022888184, 2.8891000747680664, 2.8887999057769775, 2.887399911880493, 2.886699914932251, 2.8866000175476074, 2.8854000568389893, 2.885200023651123, 2.8842999935150146, 2.8840999603271484, 2.8840999603271484, 2.884000062942505, 2.8838000297546387, 2.882999897003174, 2.8822999000549316, 2.881999969482422, 2.881999969482422, 2.8819000720977783, 2.8817999362945557, 2.8817999362945557, 2.876800060272217, 2.877700090408325, 2.8750998973846436, 2.881700038909912, 2.854300022125244, 2.874500036239624, 2.8801000118255615, 2.8652000427246094, 2.8649001121520996, 2.8742001056671143, 2.8745999336242676, 2.856100082397461, 2.7962000370025635, 2.781899929046631, 2.8287999629974365, 2.85509991645813, 2.6586999893188477, 2.812000036239624, 2.720599889755249, 2.6164000034332275, 2.6603000164031982, 2.593600034713745, 2.8217999935150146, 2.301300048828125, 2.628700017929077, 2.4928998947143555, 2.312999963760376, 2.6422998905181885, 2.6008999347686768, 2.2727999687194824, 2.5996999740600586, 2.3538999557495117, 2.1259000301361084, 2.2239999771118164, 1.298200011253357, 2.3394999504089355, 2.1821999549865723, 1.8693000078201294, 2.259999990463257, 2.1085000038146973, 1.1061999797821045, 2.3015999794006348, 0.9621000289916992, 1.05239999294281, 1.5922000408172607, 0.517799973487854, 0.7299000024795532, 0.5249000191688538, 0.14749999344348907, 0.17249999940395355, 1.7384999990463257, 0.847599983215332, -0.23989999294281006, 0.9679999947547913, -0.7135000228881836, 0.7480000257492065, 3.117000102996826, 3.1159000396728516, 3.115499973297119, 3.1143999099731445, 3.113600015640259, 3.1129000186920166, 3.112799882888794, 3.1119000911712646, 3.1106998920440674, 3.110100030899048, 3.1092000007629395, 3.108799934387207, 3.108299970626831, 3.1070001125335693, 3.1061999797821045, 3.105299949645996, 3.1041998863220215, 3.102799892425537, 3.10260009765625, 3.10260009765625, 3.102400064468384, 3.100800037384033, 3.100399971008301, 3.099600076675415, 3.09879994392395, 3.098299980163574, 3.0982000827789307, 3.0980000495910645, 3.0978000164031982, 3.097599983215332, 3.0840001106262207, 3.0971999168395996, 3.095900058746338, 3.091399908065796, 3.087899923324585, 3.054500102996826, 3.071700096130371, 3.092099905014038, 3.0589001178741455, 3.079900026321411, 3.066999912261963, 3.06850004196167, 3.0757999420166016, 2.9684998989105225, 2.9614999294281006, 2.973900079727173, 3.0035998821258545, 2.9670000076293945, 2.885499954223633, 2.8048999309539795, 2.6243999004364014, 2.9179999828338623, 2.9832000732421875, 2.9619998931884766, 2.577199935913086, 2.256200075149536, 2.3034000396728516, 2.80049991607666, 2.3127999305725098, 2.8285000324249268, 2.592400074005127, 1.99399995803833, 1.873900055885315, 1.1024999618530273, 1.406000018119812, 1.520400047302246, 1.429900050163269, 1.4045000076293945, 1.066100001335144, 1.638800024986267, 0.9610999822616577, 1.7777999639511108, 0.4203999936580658, 1.6102999448776245, 1.8930000066757202, 2.178100109100342, 0.15199999511241913, 0.2434999942779541, 0.4223000109195709, 0.46869999170303345, 0.586899995803833, 0.7044000029563904, 3.123800039291382, 3.123699903488159, 3.123300075531006, 3.1226999759674072, 3.1219000816345215, 3.120500087738037, 3.1203999519348145, 3.119999885559082, 3.11899995803833, 3.1187000274658203, 3.1187000274658203, 3.118299961090088, 3.118000030517578, 3.11680006980896, 3.116300106048584, 3.116300106048584, 3.1157000064849854, 3.1147000789642334, 3.1145999431610107, 3.113800048828125, 3.1135001182556152, 3.1133999824523926, 3.112799882888794, 3.112499952316284, 3.11080002784729, 3.1106998920440674, 3.109499931335449, 3.108799934387207, 3.1087000370025635, 3.1084001064300537, 3.108299970626831, 3.106300115585327, 3.1068999767303467, 3.0922000408172607, 3.1048998832702637, 3.012700080871582, 3.069999933242798, 3.058000087738037, 3.0332999229431152, 3.05430006980896, 3.0876998901367188, 2.816200017929077, 2.7887001037597656, 2.8633999824523926, 2.9047999382019043, 3.0190000534057617, 2.81030011177063, 2.7451999187469482, 2.6054000854492188, 2.8534998893737793, 2.8169000148773193, 2.720400094985962, 2.7137999534606934, 2.8080999851226807, 2.3269999027252197, 2.8673999309539795, 2.1454999446868896, 2.7588999271392822, 2.3970000743865967, 1.1919000148773193, 2.351799964904785, 1.5461000204086304, 0.7775999903678894, 0.388700008392334, 0.2766999900341034, 1.23989999294281, 0.09769999980926514, 0.4133000075817108, 0.1898999959230423, 0.6360999941825867, -0.31869998574256897, 1.8555999994277954, 0.21889999508857727, -0.08950000256299973, 0.11999999731779099, 0.008799999952316284, 1.5898000001907349, 0.1777999997138977, -0.19429999589920044], \"logprob\": [30.0, 29.0, 28.0, 27.0, 26.0, 25.0, 24.0, 23.0, 22.0, 21.0, 20.0, 19.0, 18.0, 17.0, 16.0, 15.0, 14.0, 13.0, 12.0, 11.0, 10.0, 9.0, 8.0, 7.0, 6.0, 5.0, 4.0, 3.0, 2.0, 1.0, -6.710100173950195, -7.121200084686279, -6.889599800109863, -7.459199905395508, -7.462200164794922, -6.716599941253662, -7.504799842834473, -7.723499774932861, -7.797500133514404, -7.986999988555908, -7.4045000076293945, -7.882599830627441, -7.614799976348877, -8.23740005493164, -8.279600143432617, -8.260100364685059, -8.383500099182129, -8.310999870300293, -6.263999938964844, -8.14490032196045, -8.352100372314453, -8.593700408935547, -8.312100410461426, -8.588399887084961, -8.690099716186523, -7.892399787902832, -8.719900131225586, -7.698599815368652, -6.8520002365112305, -7.087399959564209, -4.1722002029418945, -5.3414998054504395, -5.906499862670898, -6.53249979019165, -5.211900234222412, -4.621799945831299, -7.03249979019165, -6.0619001388549805, -6.582099914550781, -4.2342000007629395, -6.387800216674805, -4.770999908447266, -5.873700141906738, -5.819200038909912, -6.186800003051758, -4.691800117492676, -6.7270002365112305, -4.322000026702881, -4.789700031280518, -5.170199871063232, -5.054999828338623, -3.847899913787842, -6.542300224304199, -6.548099994659424, -6.667600154876709, -6.1875, -6.5671000480651855, -5.758800029754639, -6.2519001960754395, -4.201900005340576, -5.626800060272217, -5.47760009765625, -5.208899974822998, -5.468299865722656, -5.222599983215332, -5.72160005569458, -4.623199939727783, -5.283599853515625, -5.046999931335449, -5.462800025939941, -4.838799953460693, -5.848199844360352, -5.142899990081787, -5.098499774932861, -5.171800136566162, -5.472499847412109, -5.279300212860107, -5.476500034332275, -5.377799987792969, -5.318999767303467, -5.68779993057251, -5.8043999671936035, -5.823299884796143, -6.194300174713135, -6.0792999267578125, -6.723800182342529, -7.001800060272217, -5.2846999168396, -7.180699825286865, -7.184700012207031, -7.252600193023682, -7.353799819946289, -5.828199863433838, -7.370699882507324, -7.46589994430542, -7.539999961853027, -7.601600170135498, -7.298099994659424, -6.961699962615967, -7.787499904632568, -7.80210018157959, -7.603499889373779, -5.793399810791016, -7.866300106048584, -7.602799892425537, -7.692699909210205, -7.928199768066406, -7.703999996185303, -6.19890022277832, -8.059200286865234, -5.138700008392334, -4.702700138092041, -4.86359977722168, -6.04040002822876, -4.89870023727417, -5.6244001388549805, -6.252200126647949, -6.4145002365112305, -6.441199779510498, -5.915800094604492, -5.448599815368652, -5.817999839782715, -6.7220001220703125, -6.44950008392334, -6.9232001304626465, -5.322400093078613, -5.926499843597412, -5.976600170135498, -5.621600151062012, -3.640000104904175, -5.52839994430542, -4.7342000007629395, -5.854599952697754, -4.848299980163574, -4.991799831390381, -5.230100154876709, -4.459799766540527, -3.789599895477295, -5.405700206756592, -4.686999797821045, -5.065400123596191, -5.44320011138916, -5.125100135803223, -5.043900012969971, -5.699900150299072, -5.601600170135498, -4.92080020904541, -5.087500095367432, -5.453199863433838, -5.691800117492676, -5.2118000984191895, -5.313000202178955, -5.448200225830078, -5.526299953460693, -5.54010009765625, -5.524400234222412, -6.083000183105469, -6.98360013961792, -7.006800174713135, -6.74399995803833, -7.7118000984191895, -7.673600196838379, -7.963799953460693, -7.639999866485596, -7.889100074768066, -7.920300006866455, -7.9670000076293945, -7.15339994430542, -8.070599555969238, -7.901299953460693, -8.178299903869629, -8.103099822998047, -8.226799964904785, -8.341699600219727, -7.798399925231934, -8.325300216674805, -7.713399887084961, -8.426300048828125, -7.32450008392334, -8.451800346374512, -7.329800128936768, -7.950699806213379, -8.718400001525879, -7.748899936676025, -8.484800338745117, -8.870699882507324, -6.590199947357178, -6.433899879455566, -7.600100040435791, -7.406199932098389, -6.799699783325195, -7.37060022354126, -7.485400199890137, -6.6905999183654785, -6.705399990081787, -6.537899971008301, -6.136000156402588, -6.4583001136779785, -6.663599967956543, -7.20359992980957, -6.426799774169922, -7.114699840545654, -7.3003997802734375, -6.2820000648498535, -7.004000186920166, -6.5578999519348145, -6.618199825286865, -5.103600025177002, -6.68179988861084, -5.568699836730957, -6.956200122833252, -5.590199947357178, -5.3059000968933105, -6.202099800109863, -5.633299827575684, -4.970600128173828, -6.32919979095459, -6.309899806976318, -4.311999797821045, -4.720699787139893, -5.054999828338623, -5.41379976272583, -4.964799880981445, -4.89739990234375, -5.4217000007629395, -5.01609992980957, -5.263899803161621, -5.64169979095459, -5.084799766540527, -5.595900058746338, -5.7621002197265625, -5.730899810791016, -5.543099880218506, -5.66510009765625, -5.348700046539307, -5.094399929046631, -5.666299819946289, -5.0030999183654785, -4.808199882507324, -5.113699913024902, -5.377999782562256, -5.559299945831299, -5.3180999755859375, -5.224699974060059, -5.402500152587891, -5.439300060272217, -5.363999843597412, -5.492099761962891, -5.535200119018555, -5.568600177764893, -6.952899932861328, -7.177299976348877, -7.081200122833252, -7.367700099945068, -7.047900199890137, -7.802700042724609, -7.921599864959717, -7.860000133514404, -7.523799896240234, -7.888599872589111, -8.098199844360352, -7.686600208282471, -8.109299659729004, -7.768499851226807, -7.950500011444092, -7.730899810791016, -8.09529972076416, -8.011699676513672, -8.352399826049805, -7.239500045776367, -8.386699676513672, -8.209799766540527, -7.616000175476074, -8.463500022888184, -8.480799674987793, -8.269000053405762, -8.410099983215332, -8.505000114440918, -8.114500045776367, -7.490799903869629, -6.641600131988525, -6.216100215911865, -7.03849983215332, -7.909900188446045, -7.56820011138916, -7.475800037384033, -6.518199920654297, -7.578100204467773, -7.649799823760986, -5.736400127410889, -4.889500141143799, -6.4421000480651855, -6.931600093841553, -7.386099815368652, -7.371600151062012, -4.3084001541137695, -5.484499931335449, -4.36460018157959, -7.212600231170654, -5.625800132751465, -6.005499839782715, -6.798999786376953, -4.29580020904541, -5.653200149536133, -6.559500217437744, -3.805999994277954, -5.977099895477295, -5.537899971008301, -6.80649995803833, -5.888899803161621, -6.845799922943115, -5.384799957275391, -4.584700107574463, -5.45550012588501, -5.038400173187256, -6.101799964904785, -4.989299774169922, -5.724299907684326, -5.40500020980835, -5.667900085449219, -5.593500137329102, -5.08620023727417, -5.34060001373291, -5.019700050354004, -6.049099922180176, -5.778600215911865, -5.80620002746582, -5.580900192260742, -5.395400047302246, -5.178199768066406, -5.227799892425537, -5.238100051879883, -5.011099815368652, -5.57889986038208, -5.282199859619141, -5.51039981842041, -5.338500022888184, -5.440199851989746, -5.48769998550415, -5.342899799346924, -5.320300102233887, -5.441699981689453, -5.46999979019165, -5.48859977722168, -6.551499843597412, -7.037899971008301, -7.1554999351501465, -7.166999816894531, -7.366600036621094, -7.359600067138672, -7.361000061035156, -7.36870002746582, -7.818299770355225, -8.074399948120117, -4.784800052642822, -8.162400245666504, -8.061800003051758, -7.578700065612793, -8.220800399780273, -8.24530029296875, -8.260499954223633, -7.557799816131592, -8.40310001373291, -8.07289981842041, -8.492799758911133, -7.739200115203857, -8.159500122070312, -8.271900177001953, -8.345499992370605, -8.527099609375, -8.353599548339844, -8.622900009155273, -8.415900230407715, -8.666099548339844, -6.2617998123168945, -5.569300174713135, -7.363399982452393, -7.789899826049805, -7.19980001449585, -8.124899864196777, -7.5858001708984375, -7.350299835205078, -7.584000110626221, -5.934999942779541, -7.729000091552734, -7.716800212860107, -6.582499980926514, -6.854499816894531, -7.659299850463867, -5.255099773406982, -7.768799781799316, -6.61460018157959, -6.819300174713135, -7.275199890136719, -4.878600120544434, -5.30709981918335, -6.520599842071533, -7.355599880218506, -6.021699905395508, -4.098899841308594, -5.083099842071533, -6.415200233459473, -4.540800094604492, -4.795199871063232, -4.596399784088135, -6.258299827575684, -5.861400127410889, -5.211100101470947, -5.202700138092041, -5.400599956512451, -6.5447998046875, -4.448599815368652, -5.32480001449585, -4.4394001960754395, -5.095300197601318, -5.172699928283691, -5.444200038909912, -6.004199981689453, -4.538099765777588, -5.005199909210205, -5.013299942016602, -5.629700183868408, -5.611400127410889, -5.550300121307373, -5.301000118255615, -5.298299789428711, -5.377999782562256, -5.189799785614014, -5.294099807739258, -5.457699775695801, -5.4141998291015625, -5.4506001472473145, -5.459099769592285, -5.665900230407715, -6.353300094604492, -6.232699871063232, -5.663000106811523, -6.9730000495910645, -5.716000080108643, -6.118899822235107, -6.991600036621094, -5.821499824523926, -6.869100093841553, -6.582499980926514, -6.98360013961792, -7.895100116729736, -6.424200057983398, -7.922299861907959, -6.831200122833252, -6.796800136566162, -7.756100177764893, -7.404099941253662, -7.832600116729736, -7.220900058746338, -7.916500091552734, -5.4440999031066895, -7.115699768066406, -7.42519998550415, -8.403400421142578, -8.199399948120117, -8.465900421142578, -8.384699821472168, -6.959499835968018, -4.889699935913086, -5.98199987411499, -6.219600200653076, -6.855500221252441, -7.002600193023682, -6.5858001708984375, -7.108699798583984, -6.109499931335449, -5.945700168609619, -5.1255998611450195, -5.606100082397461, -5.698400020599365, -5.138000011444092, -5.734000205993652, -6.160600185394287, -5.0854997634887695, -5.926599979400635, -5.550600051879883, -5.218400001525879, -5.722799777984619, -4.143799781799316, -5.10230016708374, -5.80649995803833, -5.7357001304626465, -5.86460018157959, -6.101600170135498, -5.414299964904785, -4.769999980926514, -4.503200054168701, -4.112400054931641, -5.167600154876709, -5.196100234985352, -5.164000034332275, -4.6092000007629395, -5.492499828338623, -5.403900146484375, -5.308499813079834, -5.196400165557861, -4.710000038146973, -4.6392998695373535, -5.223299980163574, -4.571800231933594, -5.430699825286865, -5.271699905395508, -5.220399856567383, -5.307499885559082, -5.145599842071533, -5.160200119018555, -5.116499900817871, -5.0929999351501465, -5.060500144958496, -5.129000186920166, -5.289700031280518, -5.2829999923706055, -6.215700149536133, -6.585899829864502, -6.9664998054504395, -7.032400131225586, -7.3993000984191895, -7.7480998039245605, -7.839200019836426, -7.885799884796143, -7.958499908447266, -7.955599784851074, -8.16100025177002, -8.140700340270996, -8.092000007629395, -8.28439998626709, -8.237899780273438, -8.333600044250488, -8.287699699401855, -8.295700073242188, -8.089500427246094, -8.212200164794922, -8.316499710083008, -8.257699966430664, -7.1809000968933105, -7.2154998779296875, -8.284700393676758, -8.263400077819824, -8.163900375366211, -8.43690013885498, -8.584099769592285, -8.470499992370605, -5.789899826049805, -4.5040998458862305, -5.73960018157959, -5.848499774932861, -6.454100131988525, -7.562399864196777, -7.652400016784668, -6.81689977645874, -7.827899932861328, -6.590799808502197, -6.169400215148926, -7.982800006866455, -7.798600196838379, -8.067000389099121, -5.779600143432617, -5.736400127410889, -5.23769998550415, -5.300000190734863, -6.7519001960754395, -7.547399997711182, -4.832699775695801, -5.808599948883057, -5.500999927520752, -6.644899845123291, -5.530300140380859, -7.1417999267578125, -6.941199779510498, -6.188700199127197, -5.990300178527832, -6.5106000900268555, -4.651599884033203, -5.454599857330322, -5.764599800109863, -6.215400218963623, -5.0289998054504395, -4.920100212097168, -4.8734002113342285, -5.583199977874756, -5.574699878692627, -4.34630012512207, -5.410699844360352, -5.065100193023682, -5.645199775695801, -4.910399913787842, -5.130199909210205, -5.554800033569336, -4.759699821472168, -5.447000026702881, -4.93120002746582, -5.532199859619141, -5.598800182342529, -5.496200084686279, -5.684100151062012, -5.617499828338623, -5.684899806976318, -5.706299781799316, -5.415999889373779, -6.152900218963623, -6.341400146484375, -6.548099994659424, -7.356900215148926, -7.1631999015808105, -6.453199863433838, -6.032199859619141, -7.395199775695801, -6.751800060272217, -7.520999908447266, -7.530200004577637, -7.404699802398682, -6.171599864959717, -6.933800220489502, -7.746500015258789, -7.04580020904541, -7.103000164031982, -7.735300064086914, -7.053199768066406, -8.108499526977539, -7.399099826812744, -7.856400012969971, -6.248600006103516, -7.396900177001953, -8.326299667358398, -7.658699989318848, -8.205300331115723, -6.6869001388549805, -7.028600215911865, -6.682799816131592, -5.009699821472168, -5.724899768829346, -6.641499996185303, -6.957900047302246, -6.342400074005127, -6.931000232696533, -5.7846999168396, -6.4847002029418945, -6.038700103759766, -6.832900047302246, -5.911600112915039, -4.849599838256836, -5.821199893951416, -5.634300231933594, -5.795199871063232, -5.073299884796143, -5.380000114440918, -4.92579984664917, -5.743000030517578, -5.394800186157227, -5.5395002365112305, -6.002999782562256, -5.250899791717529, -5.530300140380859, -4.71589994430542, -5.479700088500977, -5.9105000495910645, -5.503799915313721, -5.97130012512207, -6.070000171661377, -4.555300235748291, -4.387499809265137, -4.8907999992370605, -5.876500129699707, -4.9375, -5.123899936676025, -5.3871002197265625, -5.570799827575684, -5.119999885559082, -5.329800128936768, -5.281899929046631, -5.354000091552734, -5.573500156402588, -5.593999862670898, -5.553299903869629, -5.4969000816345215, -5.652500152587891, -6.21019983291626, -7.171000003814697, -7.34689998626709, -7.178199768066406, -6.36359977722168, -6.36460018157959, -7.746799945831299, -7.793399810791016, -7.639800071716309, -7.730000019073486, -7.220799922943115, -8.057499885559082, -6.882299900054932, -8.035300254821777, -8.007200241088867, -8.161299705505371, -8.158300399780273, -8.335800170898438, -8.30459976196289, -7.979700088500977, -8.461299896240234, -8.41450023651123, -7.9141998291015625, -7.8557000160217285, -8.208499908447266, -8.547599792480469, -6.661300182342529, -8.335700035095215, -8.624899864196777, -8.131099700927734, -6.438499927520752, -5.801700115203857, -6.190899848937988, -6.479599952697754, -7.08050012588501, -7.537600040435791, -7.781099796295166, -6.155099868774414, -6.238800048828125, -5.578400135040283, -6.735899925231934, -6.282100200653076, -5.476500034332275, -5.889100074768066, -6.3024001121521, -5.6981000900268555, -6.4096999168396, -6.083399772644043, -5.271699905395508, -6.214700222015381, -5.39709997177124, -5.191999912261963, -5.427499771118164, -4.4633002281188965, -5.335599899291992, -5.755000114440918, -5.713399887084961, -6.019000053405762, -4.8368000984191895, -5.750199794769287, -5.031099796295166, -5.5854997634887695, -5.848299980163574, -5.6732001304626465, -4.980899810791016, -4.946400165557861, -4.848499774932861, -4.755499839782715, -4.75029993057251, -5.302199840545654, -5.596399784088135, -5.172399997711182, -4.922900199890137, -5.113399982452393, -5.358399868011475, -5.318399906158447, -5.2789998054504395, -5.631400108337402, -5.658899784088135, -5.6880998611450195, -5.663899898529053, -6.543099880218506, -6.7058000564575195, -7.154600143432617, -6.338799953460693, -7.414100170135498, -7.353099822998047, -7.448200225830078, -6.953100204467773, -7.485300064086914, -7.234000205993652, -7.559299945831299, -7.664000034332275, -7.761099815368652, -6.785900115966797, -7.927299976348877, -7.912300109863281, -8.034500122070312, -8.064000129699707, -7.573999881744385, -8.002799987792969, -7.852799892425537, -8.135700225830078, -8.103699684143066, -7.279699802398682, -7.986100196838379, -8.315299987792969, -8.117400169372559, -8.218000411987305, -8.237199783325195, -7.953199863433838, -5.778600215911865, -6.517000198364258, -6.308000087738037, -7.42080020904541, -4.770100116729736, -7.190000057220459, -7.747300148010254, -6.702400207519531, -6.791999816894531, -7.407800197601318, -7.446899890899658, -6.598999977111816, -5.526800155639648, -5.3668999671936035, -6.723999977111816, -7.35290002822876, -5.728499889373779, -7.012800216674805, -6.431099891662598, -5.912899971008301, -6.296199798583984, -6.037600040435791, -7.168099880218506, -4.890999794006348, -6.30049991607666, -5.921500205993652, -5.3059000968933105, -6.549300193786621, -6.5065999031066895, -5.669300079345703, -6.540900230407715, -6.05079984664917, -5.639100074768066, -5.899700164794922, -4.51039981842041, -6.103899955749512, -5.872700214385986, -5.445099830627441, -6.058300018310547, -5.888899803161621, -4.915900230407715, -6.133500099182129, -4.9832000732421875, -5.172599792480469, -5.700900077819824, -5.158400058746338, -5.3059000968933105, -5.36460018157959, -5.249100208282471, -5.394700050354004, -5.9394001960754395, -5.8379998207092285, -5.707499980926514, -5.873700141906738, -5.803299903869629, -5.900899887084961, -6.172900199890137, -6.600100040435791, -6.206900119781494, -6.931099891662598, -7.1315999031066895, -6.885000228881836, -6.897200107574463, -6.772799968719482, -6.117199897766113, -7.230599880218506, -7.649199962615967, -7.680600166320801, -7.3983001708984375, -7.775400161743164, -7.734000205993652, -7.995999813079834, -6.136600017547607, -8.043399810791016, -8.133600234985352, -6.083499908447266, -7.902900218963623, -8.115300178527832, -6.3643999099731445, -7.899499893188477, -7.4644999504089355, -7.752299785614014, -8.340999603271484, -7.7453999519348145, -7.252699851989746, -8.399900436401367, -5.087100028991699, -6.718200206756592, -7.161099910736084, -7.051599979400635, -6.76230001449585, -5.242099761962891, -6.24370002746582, -7.411600112915039, -6.082900047302246, -6.928800106048584, -6.526000022888184, -6.750800132751465, -6.987599849700928, -4.954100131988525, -4.97760009765625, -5.808499813079834, -6.396399974822998, -6.100100040435791, -5.731299877166748, -5.379000186920166, -4.571100234985352, -6.213799953460693, -6.594200134277344, -6.555500030517578, -5.366099834442139, -4.787700176239014, -5.07889986038208, -6.203700065612793, -5.200399875640869, -6.272600173950195, -5.830399990081787, -4.820499897003174, -5.059100151062012, -4.464700222015381, -4.818900108337402, -4.9527997970581055, -4.880899906158447, -4.989500045776367, -4.808499813079834, -5.436299800872803, -5.047699928283691, -5.615099906921387, -5.0472002029418945, -5.557799816131592, -5.680500030517578, -5.795599937438965, -5.24459981918335, -5.324699878692627, -5.406499862670898, -5.4207000732421875, -5.448800086975098, -5.679599761962891, -6.2428998947143555, -6.15939998626709, -6.127999782562256, -6.630799770355225, -6.753499984741211, -7.075699806213379, -5.865900039672852, -6.468999862670898, -7.089799880981445, -7.271100044250488, -7.319399833679199, -7.343299865722656, -7.40339994430542, -7.17080020904541, -7.63100004196167, -7.482399940490723, -7.210899829864502, -7.366099834442139, -6.408299922943115, -7.179200172424316, -7.546800136566162, -7.322500228881836, -7.913400173187256, -7.918099880218506, -7.540299892425537, -6.686299800872803, -7.849999904632568, -7.776500225067139, -8.16919994354248, -6.649099826812744, -5.661900043487549, -6.7204999923706055, -7.3403000831604, -6.244200229644775, -7.494800090789795, -3.865999937057495, -6.214399814605713, -6.5152997970581055, -6.096799850463867, -6.531199932098389, -7.12470006942749, -5.253900051116943, -5.124800205230713, -5.702400207519531, -5.980400085449219, -6.698299884796143, -5.4207000732421875, -5.109899997711182, -4.9670000076293945, -6.1255998611450195, -6.007500171661377, -5.740200042724609, -5.730500221252441, -6.230599880218506, -5.484099864959717, -6.3668999671936035, -5.405200004577637, -6.244900226593018, -5.947199821472168, -4.843800067901611, -6.07480001449585, -5.5945000648498535, -5.229599952697754, -5.07889986038208, -5.055099964141846, -5.668700218200684, -5.298900127410889, -5.415500164031982, -5.377299785614014, -5.572400093078613, -5.4085001945495605, -5.922399997711182, -5.655700206756592, -5.657700061798096, -5.757699966430664, -5.756499767303467, -5.9120001792907715, -5.876800060272217, -5.870500087738037]}, \"token.table\": {\"Topic\": [3, 1, 2, 3, 4, 5, 6, 7, 8, 9, 10, 11, 12, 1, 4, 7, 9, 1, 2, 3, 4, 5, 6, 7, 8, 9, 10, 11, 12, 12, 2, 5, 8, 1, 2, 3, 4, 5, 6, 7, 8, 9, 10, 11, 12, 1, 2, 3, 4, 5, 6, 7, 8, 9, 10, 11, 12, 1, 2, 3, 5, 6, 8, 9, 11, 3, 5, 8, 9, 10, 11, 12, 8, 11, 2, 6, 1, 2, 3, 4, 5, 6, 7, 8, 9, 10, 11, 12, 1, 2, 5, 4, 6, 10, 3, 9, 12, 1, 2, 3, 4, 5, 6, 7, 9, 11, 12, 1, 2, 3, 4, 5, 6, 7, 8, 9, 10, 11, 12, 3, 10, 1, 2, 3, 4, 5, 6, 7, 8, 9, 10, 11, 12, 12, 1, 2, 3, 4, 5, 6, 7, 8, 9, 10, 11, 12, 7, 8, 10, 9, 4, 10, 12, 1, 2, 3, 4, 5, 6, 7, 8, 9, 10, 11, 4, 6, 7, 8, 9, 2, 4, 5, 6, 10, 11, 12, 7, 9, 2, 3, 5, 6, 7, 9, 10, 12, 4, 11, 1, 2, 3, 4, 5, 6, 7, 8, 9, 10, 11, 12, 1, 2, 3, 5, 8, 9, 10, 11, 12, 1, 2, 3, 4, 5, 6, 7, 8, 9, 10, 11, 12, 6, 2, 3, 5, 10, 11, 7, 11, 1, 2, 4, 5, 6, 7, 8, 9, 10, 11, 12, 1, 4, 5, 6, 7, 9, 11, 12, 6, 8, 10, 11, 2, 5, 7, 12, 6, 9, 9, 1, 4, 11, 1, 2, 3, 7, 8, 9, 10, 11, 12, 10, 2, 3, 5, 6, 7, 8, 9, 10, 11, 12, 8, 8, 9, 2, 6, 10, 3, 11, 5, 5, 7, 10, 12, 1, 2, 3, 4, 5, 6, 7, 8, 9, 10, 11, 12, 5, 6, 8, 10, 1, 2, 3, 4, 5, 6, 7, 8, 9, 10, 11, 12, 1, 2, 3, 5, 6, 8, 9, 12, 1, 2, 3, 4, 5, 6, 9, 11, 12, 1, 4, 7, 10, 2, 1, 2, 3, 4, 5, 6, 7, 8, 9, 10, 11, 12, 5, 10, 5, 3, 11, 1, 2, 3, 4, 5, 6, 7, 8, 9, 10, 11, 12, 6, 8, 9, 10, 12, 2, 3, 5, 6, 7, 9, 10, 2, 3, 5, 6, 8, 9, 10, 2, 1, 4, 5, 7, 9, 10, 12, 4, 11, 6, 8, 3, 6, 8, 1, 11, 3, 10, 12, 4, 5, 6, 9, 4, 1, 2, 3, 4, 5, 6, 7, 8, 9, 10, 11, 12, 3, 5, 10, 12, 1, 3, 10, 1, 6, 10, 1, 2, 3, 10, 3, 7, 7, 10, 11, 12, 1, 2, 11, 5, 8, 10, 11, 5, 9, 2, 4, 5, 6, 8, 12, 2, 1, 9, 5, 3, 5, 7, 8, 10, 12, 4, 4, 10, 12, 1, 2, 3, 4, 5, 6, 7, 8, 9, 10, 11, 12, 11, 3, 1, 2, 3, 4, 5, 6, 7, 8, 9, 10, 11, 12, 2, 3, 9, 3, 6, 12, 2, 1, 2, 3, 4, 5, 6, 7, 8, 9, 10, 11, 12, 2, 3, 5, 7, 8, 11, 4, 3, 7, 12, 2, 3, 5, 6, 7, 8, 9, 10, 12, 2, 3, 5, 6, 8, 9, 10, 11, 12, 1, 2, 3, 4, 5, 6, 7, 8, 9, 10, 11, 12, 1, 2, 3, 4, 5, 6, 7, 8, 9, 10, 11, 12, 6, 7, 8, 12, 3, 7, 8, 12, 3, 9, 7, 7, 8, 10, 12, 2, 1, 2, 3, 4, 5, 6, 7, 8, 9, 10, 11, 12, 1, 4, 5, 9, 1, 2, 3, 4, 5, 6, 7, 8, 9, 10, 11, 12, 2, 3, 7, 9, 11, 12, 1, 2, 3, 4, 5, 6, 7, 8, 9, 10, 12, 1, 9, 1, 2, 3, 4, 5, 6, 7, 8, 9, 10, 11, 12, 1, 7, 11, 5, 1, 2, 3, 4, 5, 6, 7, 8, 9, 10, 11, 12, 1, 2, 3, 4, 5, 6, 7, 8, 9, 10, 11, 12, 3, 1, 2, 3, 4, 5, 6, 7, 8, 9, 10, 11, 12, 3, 10, 5, 4, 1, 2, 3, 4, 5, 6, 7, 8, 9, 10, 11, 12, 1, 2, 3, 4, 5, 6, 7, 8, 9, 10, 11, 12, 3, 7, 1, 2, 4, 5, 6, 7, 8, 9, 10, 12, 9, 10, 1, 9, 10, 1, 5, 9, 10, 11, 6, 1, 2, 3, 4, 5, 6, 7, 8, 9, 10, 11, 12, 1, 2, 5, 7, 9, 7, 4, 6, 7, 9, 5, 1, 2, 3, 4, 5, 6, 7, 8, 9, 10, 11, 12, 1, 3, 5, 7, 8, 9, 10, 11, 12, 7, 8, 9, 10, 2, 3, 5, 6, 8, 9, 10, 11, 12, 1, 2, 3, 4, 5, 6, 7, 8, 9, 10, 11, 12, 4, 11, 12, 2, 4, 5, 7, 8, 9, 1, 2, 3, 4, 5, 6, 7, 8, 9, 10, 11, 12, 6, 8, 7, 9, 3, 4, 5, 6, 10, 11, 10, 12, 9, 4, 7, 1, 2, 3, 4, 5, 6, 7, 8, 9, 10, 11, 12, 1, 3, 4, 11, 1, 2, 3, 4, 5, 6, 7, 9, 10, 11, 12, 6, 1, 2, 3, 4, 6, 7, 10, 1, 2, 3, 4, 5, 6, 7, 8, 9, 10, 11, 12, 1, 2, 3, 4, 5, 6, 7, 8, 9, 10, 11, 12, 6, 3, 10, 4, 1, 2, 3, 4, 6, 7, 8, 9, 10, 11, 12, 4, 6, 2, 3, 5, 6, 7, 8, 9, 10, 11, 12, 1, 2, 3, 4, 5, 6, 7, 8, 9, 10, 11, 12, 11, 10, 8, 6, 9, 1, 9, 2, 4, 9, 1, 2, 3, 4, 5, 6, 7, 8, 9, 10, 11, 12, 1, 1, 3, 4, 5, 9, 10, 11, 3, 10, 1, 4, 5, 6, 7, 9, 10, 11, 5, 9, 10, 12, 6, 8, 9, 12, 10, 9, 1, 4, 10, 1, 2, 4, 5, 6, 7, 8, 9, 10, 11, 12, 1, 2, 3, 4, 5, 6, 7, 8, 9, 10, 11, 12, 4, 1, 2, 3, 4, 5, 6, 7, 8, 9, 10, 11, 12, 12, 1, 2, 3, 4, 5, 6, 7, 8, 11, 12, 8, 10, 5, 4, 6, 5, 6, 1, 2, 3, 4, 5, 6, 7, 8, 9, 10, 11, 12, 1, 2, 3, 4, 5, 6, 7, 8, 9, 10, 11, 12, 4, 4, 9, 1, 3, 4, 5, 6, 7, 8, 9, 10, 11, 12, 1, 2, 3, 4, 5, 6, 7, 8, 9, 10, 11, 12, 1, 2, 3, 4, 5, 7, 8, 9, 10, 11, 12, 12, 4, 10, 1, 8, 9, 1, 2, 3, 4, 5, 6, 7, 8, 9, 10, 11, 12, 1, 6, 8, 2, 3, 4, 5, 8, 10, 12, 5, 7, 8, 11, 2, 1, 2, 3, 4, 5, 6, 7, 8, 9, 10, 11, 12, 1, 2, 3, 4, 5, 6, 7, 8, 9, 10, 11, 12, 1, 3, 5, 9, 10, 11, 12, 5, 3, 8, 9, 11, 12, 1, 2, 3, 4, 5, 7, 9, 10, 11, 12, 4, 7, 9, 11, 12, 1, 2, 3, 4, 5, 7, 9, 10, 11, 12, 1, 2, 3, 4, 5, 6, 7, 8, 9, 10, 11, 12, 1, 2, 3, 4, 5, 6, 7, 8, 9, 10, 11, 12, 1, 2, 3, 4, 5, 6, 7, 8, 9, 10, 11, 12, 4, 9, 3, 7, 2, 3, 5, 9, 10, 12, 1, 2, 4, 6, 3, 9, 10, 11, 12, 1, 2, 3, 4, 5, 6, 7, 8, 9, 10, 11, 12, 1, 2, 3, 12, 8, 1, 2, 3, 4, 5, 6, 7, 8, 9, 10, 11, 12, 1, 2, 3, 4, 5, 6, 7, 8, 9, 10, 11, 12, 1, 2, 3, 4, 5, 6, 7, 8, 9, 10, 11, 12, 1, 3, 4, 10, 1, 2, 3, 4, 5, 6, 7, 8, 9, 10, 11, 12, 2, 3, 5, 6, 8, 9, 10, 11, 12, 8, 10, 5, 6, 9, 2, 3, 4, 5, 6, 8, 9, 10, 12, 4, 5, 6, 7, 9, 3, 7, 8, 1, 2, 3, 4, 5, 6, 7, 8, 9, 10, 11, 12, 1, 2, 3, 4, 5, 6, 7, 8, 9, 10, 11, 12, 3, 7, 1, 2, 3, 4, 5, 6, 7, 8, 9, 10, 11, 12, 1, 2, 3, 4, 5, 6, 7, 8, 9, 10, 11, 12, 2, 7, 12, 1, 2, 7, 9, 10, 1, 2, 3, 4, 5, 6, 7, 8, 9, 10, 12, 1, 2, 3, 4, 5, 6, 7, 8, 9, 10, 11, 12, 9, 1, 2, 3, 4, 5, 6, 7, 8, 9, 10, 11, 12, 1, 2, 3, 4, 5, 6, 7, 8, 9, 10, 11, 12, 2, 3, 7, 5, 8, 9, 10, 9, 12, 2, 3, 4, 5, 7, 10, 11, 1, 2, 3, 4, 5, 6, 7, 8, 9, 10, 11, 12, 2, 5, 12, 9, 10, 1, 2, 3, 4, 5, 6, 7, 8, 9, 10, 11, 12, 1, 4, 8, 10, 11, 12, 1, 2, 3, 4, 5, 6, 7, 8, 9, 10, 11, 12, 1, 2, 3, 4, 5, 6, 7, 8, 9, 10, 11, 12, 1, 2, 3, 5, 6, 7, 8, 9, 10, 12, 1, 4, 5, 7, 9, 10, 12, 1, 2, 3, 5, 7, 8, 11, 12, 7, 1, 2, 3, 5, 6, 7, 8, 9, 10, 11, 12, 2, 9, 10, 12, 1, 2, 3, 4, 5, 6, 7, 8, 9, 10, 11, 12, 1, 2, 3, 4, 5, 6, 7, 8, 9, 10, 11, 12, 11, 5, 8, 5, 8, 9, 8, 12, 2, 1, 2, 3, 4, 5, 6, 7, 8, 9, 10, 11, 12, 10, 1, 11, 2, 11, 1, 2, 1, 2, 3, 4, 5, 6, 7, 8, 9, 10, 11, 12, 2, 3, 4, 5, 6, 7, 8, 9, 10, 11, 12, 1, 2, 3, 4, 5, 6, 7, 8, 9, 10, 11, 12, 7, 3, 1, 2, 4, 12, 8, 5, 9, 9, 12, 1, 5, 7, 1, 2, 3, 5, 10, 11, 12, 7, 4, 8, 1, 2, 3, 4, 5, 6, 7, 8, 10, 11, 12, 3, 5, 7, 10, 11, 12, 5, 10, 7, 1, 2, 3, 4, 5, 6, 7, 8, 9, 10, 11, 12, 1, 2, 3, 4, 5, 6, 7, 8, 9, 10, 11, 12, 7, 1, 2, 3, 4, 5, 6, 7, 8, 9, 10, 11, 12, 2, 3, 5, 6, 7, 8, 9, 10, 11, 12, 2, 3, 4, 7, 12, 1, 2, 6, 8, 11, 12, 5, 6, 8, 10, 1, 2, 3, 4, 5, 6, 7, 8, 9, 10, 11, 12, 1, 2, 3, 4, 5, 6, 7, 8, 9, 10, 11, 12, 1, 4, 5, 6, 7, 10, 11, 6, 12, 1, 2, 4, 10, 1, 6, 10, 2, 3, 12, 1, 2, 3, 5, 7, 8, 10, 12, 10, 1, 2, 3, 4, 5, 6, 7, 8, 9, 10, 11, 12, 5, 2, 5, 6, 8, 9, 11, 12, 4, 5, 8, 10, 12, 1, 2, 3, 4, 5, 6, 7, 8, 9, 10, 11, 12, 3, 12, 1, 2, 3, 4, 5, 6, 7, 8, 9, 10, 11, 12, 4, 5, 9, 11, 1, 2, 3, 4, 5, 6, 7, 8, 9, 10, 11, 12, 1, 2, 3, 4, 5, 6, 7, 8, 9, 10, 11, 12, 1, 2, 3, 4, 5, 6, 7, 8, 9, 10, 11, 12, 2, 5, 11, 1, 2, 3, 4, 5, 6, 7, 8, 9, 10, 11, 12, 1, 3, 4, 6, 7, 9, 10, 11, 12, 9, 12, 1, 2, 6, 8, 11, 12, 2, 1, 7, 11, 3, 1, 2, 3, 4, 5, 6, 7, 8, 9, 10, 11, 12, 1, 2, 3, 4, 5, 6, 7, 8, 9, 10, 11, 12, 2, 3, 5, 7, 8, 10, 12, 3, 10, 12, 10, 1, 2, 3, 4, 5, 6, 9, 10, 12, 1, 3, 4, 9, 10, 1, 2, 3, 4, 5, 6, 7, 8, 9, 10, 11, 12, 1, 2, 3, 4, 5, 6, 7, 8, 9, 11, 12, 1, 2, 3, 5, 7, 8, 11, 12, 5, 8, 10, 4, 5, 6, 9, 10, 11, 5, 6, 8, 9, 10, 8, 10, 12, 1, 4, 11, 12, 1, 2, 3, 4, 5, 6, 7, 8, 9, 10, 11, 12, 1, 2, 3, 4, 5, 6, 7, 8, 9, 10, 11, 12, 9, 1, 5, 12, 2, 4, 6, 8, 1, 2, 3, 4, 5, 6, 7, 8, 9, 10, 11, 12, 2, 3, 5, 7, 8, 9, 10, 11, 1, 2, 3, 4, 5, 6, 7, 8, 9, 10, 11, 12, 1, 2, 3, 4, 5, 6, 7, 8, 9, 10, 11, 12, 5, 7, 1, 2, 3, 4, 5, 6, 7, 8, 9, 10, 11, 12, 12, 2, 1, 2, 3, 4, 5, 6, 7, 8, 9, 10, 11, 12, 11, 1, 2, 3, 4, 5, 6, 7, 8, 9, 10, 11, 12, 6, 1, 2, 3, 5, 7, 8, 9, 11, 12, 6, 9, 2, 8, 11, 3, 4, 10, 3, 5, 11, 1, 2, 3, 4, 5, 6, 7, 8, 9, 10, 11, 12, 8, 1, 2, 3, 4, 5, 6, 7, 8, 9, 10, 11, 12, 2, 3, 7, 11, 1, 4, 1, 2, 3, 4, 5, 6, 7, 8, 9, 10, 11, 12, 1, 4, 5, 10, 12, 5, 6, 9, 12, 1, 2, 3, 4, 5, 6, 7, 8, 9, 10, 11, 12, 3, 11, 12, 3, 7, 1, 2, 7, 1, 2, 3, 4, 5, 6, 7, 8, 9, 10, 11, 12, 4, 7, 9, 11, 7, 10, 1, 4, 7, 1, 4, 1, 2, 3, 4, 5, 6, 7, 8, 9, 10, 11, 12, 4, 5, 1, 2, 3, 4, 5, 6, 7, 8, 9, 10, 11, 12, 1, 2, 3, 4, 7, 10, 11, 12, 1, 2, 3, 4, 5, 6, 7, 8, 9, 10, 11, 12, 1, 2, 4, 5, 6, 7, 8, 9, 10, 11, 12, 1, 2, 3, 4, 5, 6, 7, 8, 9, 10, 11, 12, 1, 2, 3, 4, 5, 6, 7, 8, 10, 11, 12, 1, 2, 3, 4, 5, 6, 7, 8, 9, 10, 11, 12, 1, 2, 3, 4, 5, 7, 9, 10, 11, 12, 4, 1, 8, 1, 2, 3, 4, 5, 6, 7, 8, 9, 10, 11, 12, 10, 12, 1, 3, 5, 10, 12, 9, 1, 3, 4, 6, 7, 9, 10, 11, 12, 4, 2, 6, 12, 1, 4, 5, 9, 5, 2, 3, 5, 12, 10, 1, 3, 10, 2, 5, 7, 5, 9, 8, 12, 1, 10, 2, 5, 7, 10, 2, 4, 9, 10, 1, 4, 6, 7, 10, 11, 12, 1, 1, 2, 3, 5, 6, 7, 8, 9, 10, 11, 12, 6, 4, 5, 9, 7, 8, 11, 1, 2, 3, 4, 5, 7, 8, 9, 10, 11, 12, 1, 2, 3, 4, 5, 6, 7, 8, 11, 12, 1, 4, 6, 11, 1, 2, 3, 4, 5, 6, 7, 8, 9, 10, 11, 12, 1, 2, 3, 4, 5, 7, 8, 9, 10, 11, 12, 10, 4, 5, 6, 7, 1, 4, 5, 6, 9, 11, 7, 9, 3, 5, 7, 10, 1, 2, 3, 5, 7, 8, 9, 10, 11, 4, 12, 1, 2, 3, 4, 5, 6, 7, 8, 9, 10, 11, 12, 5, 8, 10, 12, 1, 2, 3, 4, 7, 8, 9, 10, 12, 1, 2, 3, 4, 5, 6, 7, 8, 9, 10, 11, 12, 1, 2, 3, 4, 5, 6, 7, 8, 9, 10, 11, 12, 4, 5, 6, 8, 2, 4, 6, 7, 8, 9, 2, 3, 5, 7, 8, 9, 10, 11, 12, 12, 1, 2, 3, 4, 5, 6, 7, 8, 9, 10, 11, 12, 2, 3, 8, 10, 11, 12, 1, 2, 3, 4, 5, 6, 7, 8, 9, 10, 11, 12, 10, 1, 2, 4, 5, 6, 7, 8, 9, 10, 7, 8, 10, 1, 2, 3, 4, 5, 6, 7, 8, 9, 10, 11, 12, 1, 2, 3, 4, 5, 6, 7, 8, 9, 10, 11, 12, 4, 7, 11, 3, 5, 8, 9, 10, 11, 12, 2, 3, 5, 8, 9, 10, 11, 12, 1, 2, 3, 4, 5, 6, 7, 8, 9, 10, 11, 12, 6, 8, 2, 8, 9, 10, 11, 1, 2, 3, 4, 5, 6, 7, 8, 9, 10, 11, 12, 7, 3, 6, 10, 4, 5, 6, 9, 9, 1, 2, 3, 4, 5, 6, 7, 8, 9, 10, 1, 2, 3, 4, 5, 6, 7, 8, 9, 10, 11, 12, 1, 2, 3, 4, 5, 6, 7, 8, 9, 10, 11, 12, 1, 2, 3, 4, 5, 6, 7, 8, 9, 10, 11, 12, 1, 2, 3, 4, 5, 6, 7, 8, 9, 10, 11, 12, 3, 2, 5, 8, 10, 1, 2, 3, 4, 5, 6, 7, 8, 9, 10, 11, 12, 7, 3, 7, 10, 2, 5, 9, 12, 1, 2, 3, 4, 5, 6, 7, 8, 9, 10, 11, 12, 1, 2, 3, 4, 5, 6, 7, 8, 9, 10, 11, 12, 2, 3, 5, 10, 11, 12, 3, 7, 1, 2, 3, 5, 6, 7, 8, 9, 10, 4, 1, 2, 3, 4, 5, 6, 7, 8, 9, 10, 11, 12, 1, 2, 3, 4, 6, 7, 8, 9, 10, 11, 12, 1, 2, 3, 4, 5, 6, 7, 8, 9, 10, 11, 12, 6, 10, 2, 1, 4, 7, 9, 11, 11, 2, 3, 5, 7, 12, 4, 6, 2, 11, 1, 2, 3, 4, 5, 6, 7, 8, 9, 10, 11, 12, 1, 2, 3, 4, 5, 6, 7, 8, 9, 10, 11, 12, 1, 4, 7, 1, 2, 1, 2, 3, 4, 5, 6, 7, 8, 9, 10, 11, 12, 3, 7, 11, 4, 6, 10, 3, 3, 5, 2, 2, 5, 6, 11, 9, 12, 7, 2, 3, 5, 6, 7, 8, 9, 10, 11, 12, 1, 2, 3, 4, 5, 6, 7, 8, 9, 10, 11, 12, 1, 2, 3, 4, 5, 6, 7, 8, 9, 10, 11, 12, 5, 8, 4, 9, 11, 12, 2, 5, 8, 9, 12, 3, 6, 8, 9, 10, 11, 12, 4, 10, 11, 12, 1, 2, 3, 4, 5, 6, 7, 8, 9, 10, 11, 12, 9, 1, 2, 3, 4, 5, 6, 7, 8, 9, 10, 11, 12, 1, 2, 3, 4, 5, 6, 7, 8, 9, 10, 11, 12, 2, 3, 5, 6, 7, 8, 9, 6, 1, 2, 3, 6, 1, 2, 3, 4, 5, 6, 7, 8, 9, 10, 11, 12, 1, 2, 4, 5, 6, 7, 2, 3, 5, 7, 8, 9, 10, 11, 12, 2, 3, 5, 7, 8, 9, 10, 11, 12, 1, 2, 3, 4, 5, 6, 7, 8, 9, 10, 11, 12, 1, 2, 3, 4, 5, 6, 7, 8, 9, 10, 12, 1, 2, 3, 5, 8, 11, 12, 1, 2, 3, 4, 5, 6, 7, 8, 9, 10, 11, 12, 1, 2, 3, 4, 10, 12, 4, 7, 2, 3, 10, 1, 2, 3, 4, 5, 6, 7, 8, 9, 10, 11, 12, 10, 2, 8, 1, 3, 1, 9, 10, 11, 12, 1, 2, 3, 4, 5, 6, 7, 8, 9, 10, 11, 12, 4, 12, 2, 5, 12, 3, 4, 7, 10, 11, 12, 1, 2, 3, 4, 5, 6, 7, 8, 9, 10, 11, 12, 2, 3, 4, 5, 7, 8, 9, 10, 11, 12, 1, 2, 3, 4, 5, 6, 7, 8, 9, 10, 11, 12, 1, 2, 4, 6, 7, 11, 12, 1, 2, 3, 4, 5, 6, 7, 8, 9, 10, 11, 12, 3, 8, 10, 2, 1, 2, 3, 4, 5, 6, 7, 8, 9, 10, 11, 12, 1, 2, 6, 8, 9, 9, 2, 3, 5, 7, 8, 9, 10, 11, 12, 2, 3, 7, 1, 2, 3, 4, 5, 6, 7, 8, 9, 11, 12, 1, 2, 3, 4, 5, 6, 7, 8, 9, 10, 11, 12, 1, 2, 3, 4, 5, 6, 7, 8, 9, 10, 11, 12, 1, 2, 3, 4, 5, 6, 7, 8, 9, 10, 11, 12, 3, 7, 1, 4, 6, 9, 11, 7, 1, 2, 3, 4, 5, 6, 7, 8, 9, 10, 11, 12, 1, 4, 8, 9, 10, 11, 6, 7, 8, 9, 10, 12, 1, 2, 3, 4, 5, 6, 7, 8, 9, 10, 11, 12, 1, 2, 3, 5, 8, 11, 12, 1, 2, 3, 5, 8, 10, 11, 12, 3, 5, 8, 9, 10, 11, 12, 1, 2, 3, 4, 5, 6, 7, 8, 10, 11, 12, 1, 3, 5, 1, 2, 3, 4, 5, 6, 7, 8, 9, 10, 11, 12, 1, 7, 1, 3, 7, 8, 9, 10, 12, 1, 2, 3, 8, 9, 10, 3, 8, 10, 11, 12, 1, 2, 3, 4, 5, 6, 7, 8, 9, 10, 11, 12, 2, 3, 5, 7, 8, 9, 10, 11, 12, 2, 3, 5, 6, 8, 9, 10, 11, 12, 1, 2, 3, 4, 5, 6, 7, 8, 9, 10, 11, 12, 2, 3, 1, 2, 3, 4, 5, 6, 7, 8, 9, 10, 11, 12, 5, 6, 7, 9, 11, 8, 11, 1, 3, 10, 12, 1, 2, 3, 4, 5, 6, 7, 8, 9, 10, 11, 12, 1, 2, 3, 4, 5, 11, 12, 2, 3, 4, 2, 4, 5, 6, 7, 8, 9, 10, 12, 8, 5, 6, 12, 2, 5, 12, 2, 3, 4, 5, 6, 7, 9, 10, 11, 12, 2, 1, 2, 3, 4, 5, 6, 7, 8, 9, 10, 11, 12, 1, 6, 8, 9, 10, 11, 1, 2, 3, 4, 5, 6, 7, 8, 9, 10, 11, 12, 7, 10, 12, 1, 4, 12, 5, 7, 12, 6, 2, 4, 6, 1, 4, 8, 1, 2, 3, 4, 5, 6, 7, 8, 9, 10, 11, 12, 1, 2, 3, 4, 6, 7, 8, 9, 10, 11, 12, 2, 3, 4, 5, 7, 8, 9, 10, 12, 1, 2, 3, 4, 5, 6, 7, 8, 9, 10, 11, 12, 7, 10, 12, 10, 1, 3, 4, 5, 6, 7, 8, 9, 10, 11, 12, 1, 2, 3, 4, 5, 6, 7, 8, 9, 10, 11, 12, 2, 3, 4, 5, 7, 9, 10, 11, 12, 1, 2, 4, 5, 6, 9, 10, 1, 4, 6, 7, 4, 6, 10, 11, 12, 1, 2, 3, 4, 5, 6, 7, 8, 9, 10, 11, 12, 1, 2, 3, 4, 5, 6, 7, 8, 9, 10, 11, 12, 1, 2, 3, 4, 5, 7, 8, 9, 10, 11, 12, 5, 10, 7, 8, 1, 2, 3, 4, 5, 6, 7, 8, 9, 10, 11, 12, 1, 2, 3, 4, 5, 6, 7, 8, 9, 10, 11, 12, 4, 10, 1, 2, 3, 4, 7, 10, 11, 12, 1, 2, 3, 7, 8, 11, 12, 5, 7, 9, 1, 2, 3, 4, 5, 6, 7, 8, 9, 10, 11, 12, 1, 2, 3, 4, 5, 6, 7, 8, 9, 10, 11, 12, 1, 2, 3, 4, 5, 6, 7, 8, 9, 10, 11, 12, 1, 2, 3, 4, 5, 7, 8, 9, 10, 11, 12, 2, 4, 5, 6, 8, 9, 10, 12, 2, 2, 7, 1, 2, 3, 4, 5, 6, 7, 8, 9, 10, 11, 12, 3, 3, 10, 9, 10, 12, 12, 1, 2, 3, 4, 5, 6, 7, 8, 9, 10, 11, 12, 12, 11, 9, 5, 12, 1, 2, 3, 4, 5, 6, 7, 8, 9, 10, 11, 12, 1, 2, 3, 4, 5, 6, 7, 8, 9, 10, 11, 12, 1, 3, 12, 1, 3, 12, 1, 2, 5, 6, 7, 8, 10, 12, 10, 4, 9, 1, 4, 7, 1, 9, 2, 7, 8, 9, 6, 8, 6, 10, 9, 1, 2, 3, 4, 5, 6, 7, 8, 9, 10, 11, 12, 1, 3, 4, 5, 6, 7, 9, 10, 11, 12, 3, 10, 4, 4, 5, 6, 9, 10, 4, 5, 6, 8, 9, 2, 3, 4, 5, 6, 7, 8, 9, 10, 11, 12, 8, 9, 11, 1, 2, 3, 5, 7, 8, 2, 5, 8, 2, 8, 1, 2, 3, 4, 5, 6, 7, 8, 9, 10, 11, 12, 1, 2, 3, 4, 5, 6, 7, 8, 9, 10, 1, 2, 3, 4, 5, 6, 7, 8, 9, 10, 11, 12, 2, 4, 5, 1, 1, 3, 11, 4, 7, 8, 8, 12, 4, 8, 9, 12, 7, 1, 2, 3, 4, 5, 6, 7, 8, 9, 10, 11, 12, 1, 2, 3, 4, 5, 6, 7, 8, 9, 10, 11, 12, 8, 10, 1, 2, 3, 4, 5, 6, 7, 8, 9, 10, 11, 12, 1, 2, 3, 5, 7, 8, 1, 3, 4, 6, 8, 10, 11, 2, 12, 1, 2, 3, 4, 5, 6, 7, 8, 9, 10, 11, 12, 7, 1, 2, 3, 4, 5, 6, 7, 8, 9, 10, 11, 12, 1, 2, 3, 4, 5, 6, 7, 8, 9, 10, 11, 12, 1, 2, 3, 4, 5, 6, 7, 8, 9, 10, 11, 12, 6, 2, 3, 5, 6, 7, 8, 9, 10, 11, 12, 9, 3, 4, 6, 4, 7, 1, 2, 3, 4, 5, 6, 7, 8, 9, 10, 11, 12, 1, 2, 4, 5, 6, 7, 8, 9, 10, 11, 12, 1, 2, 3, 4, 5, 6, 7, 8, 9, 10, 11, 12, 6, 2, 4, 1, 3, 4, 5, 6, 7, 8, 9, 11, 12, 3, 4, 6, 8, 10, 11, 9, 2, 8, 12, 9, 1, 8, 1, 4, 6, 9, 5, 11, 1, 8, 8, 2, 4, 8, 10, 3, 2, 4, 9, 10, 2, 2, 3, 5, 6, 8, 9, 10, 12, 8, 4, 6, 5, 2, 4, 6, 10, 11, 12, 12, 1, 2, 5, 9, 9, 2, 3, 5, 7, 8, 9, 10, 11, 12, 6, 9, 10, 12, 5, 10, 11, 1, 4, 10, 12, 1, 2, 3, 6, 8, 1, 2, 3, 4, 5, 6, 7, 8, 9, 10, 11, 12, 1, 2, 4, 5, 6, 7, 9, 10, 11, 1, 2, 3, 4, 5, 6, 7, 8, 9, 10, 11, 12, 1, 2, 3, 4, 5, 6, 7, 8, 9, 10, 11, 12, 1, 2, 3, 4, 5, 6, 7, 8, 9, 10, 11, 12, 2, 11, 1, 2, 3, 4, 5, 6, 7, 8, 9, 10, 11, 12, 12, 2, 8, 9, 10, 2, 12, 5, 1, 2, 3, 4, 5, 6, 7, 8, 9, 10, 11, 12, 8, 10, 11, 1, 2, 3, 4, 5, 6, 7, 8, 9, 10, 11, 12, 1, 2, 3, 4, 5, 6, 7, 8, 9, 10, 11, 12, 5, 12, 10, 1, 2, 3, 4, 5, 6, 7, 8, 9, 10, 11, 12, 2, 11, 5, 1, 2, 3, 4, 5, 6, 7, 8, 9, 10, 11, 12, 5, 1, 2, 3, 5, 7, 8, 9, 11, 12, 1, 2, 3, 4, 5, 7, 8, 10, 11, 12, 2, 5, 8, 9, 11, 12, 1, 3, 4, 5, 6, 7, 8, 9, 10, 11, 12, 1, 2, 3, 4, 5, 6, 7, 8, 9, 10, 11, 12, 1, 3, 5, 8, 2, 4, 5, 6, 7, 9, 11, 12, 12, 1, 2, 3, 4, 5, 6, 7, 8, 9, 10, 12, 1, 2, 3, 4, 5, 6, 7, 8, 9, 10, 11, 12, 1, 2, 3, 4, 7, 10, 12, 1, 3, 4, 7, 10, 11, 12, 2, 1, 4, 8, 9, 5, 2, 3, 5, 12, 1, 3, 4, 8, 9, 10, 11, 12, 1, 2, 4, 8, 11, 12, 11, 4, 6, 11, 3, 10, 1, 2, 3, 4, 5, 6, 7, 8, 9, 10, 11, 12, 10, 11, 12, 1, 3, 9, 10, 6, 2, 5, 7, 8, 10, 1, 2, 3, 4, 5, 6, 7, 8, 9, 10, 11, 12, 1, 4, 6, 9, 1, 4, 5, 6, 7, 10, 7, 10, 12, 1, 2, 11, 1, 1, 2, 3, 4, 5, 6, 7, 8, 9, 10, 11, 12, 3, 1, 4, 1, 2, 3, 4, 5, 6, 7, 8, 9, 10, 11, 12, 5, 3, 1, 4, 5, 6, 8, 9, 10, 11, 12, 7, 12, 1, 2, 3, 4, 5, 6, 7, 8, 9, 10, 11, 12, 2, 1, 2, 3, 4, 5, 6, 7, 8, 9, 10, 11, 12, 3, 10, 1, 2, 3, 4, 5, 6, 7, 8, 9, 10, 11, 12, 1, 2, 3, 5, 6, 8, 10, 11, 12, 1, 2, 3, 4, 5, 6, 7, 8, 9, 10, 11, 12, 2, 7, 12, 6, 7, 8, 9, 12, 1, 2, 3, 4, 5, 7, 8, 9, 10, 11, 12, 2, 7, 8, 8, 1, 1, 2, 3, 7, 8, 9, 10, 11, 12, 1, 2, 3, 7, 9, 10, 11, 12, 1, 2, 3, 4, 5, 6, 7, 8, 9, 10, 11, 12, 1, 2, 3, 4, 6, 9, 11, 12, 1, 2, 3, 4, 5, 6, 7, 8, 9, 10, 11, 12, 11, 1, 2, 4, 5, 6, 7, 9, 10, 2, 4, 5, 7, 9, 12, 4, 5, 9, 11, 8, 2, 2, 5, 9, 9, 2, 11, 1, 2], \"Freq\": [0.9956542253494263, 0.031223047524690628, 0.0033885478042066097, 0.0016942739021033049, 0.23768241703510284, 0.008955447934567928, 0.44414180517196655, 0.2096058875322342, 0.002178352093324065, 0.025656146928668022, 0.009681564755737782, 0.022267598658800125, 0.0031465087085962296, 0.003245932050049305, 0.9835174679756165, 0.00649186410009861, 0.00649186410009861, 0.23702728748321533, 0.05014980956912041, 0.3422275483608246, 0.005390696227550507, 0.1787097454071045, 0.0516199991106987, 0.013721772469580173, 0.016662152484059334, 0.009637911804020405, 0.0602777861058712, 0.012414936907589436, 0.02237955667078495, 0.9841723442077637, 0.0029378512408584356, 0.0029378512408584356, 0.9929937124252319, 0.034904588013887405, 0.03851540759205818, 0.007823442108929157, 0.16098237037658691, 0.03129376843571663, 0.1525571346282959, 0.07281819730997086, 0.0009027048945426941, 0.06349024176597595, 0.35747113823890686, 0.059879425913095474, 0.01985950767993927, 0.6535587906837463, 0.007261764258146286, 0.17977772653102875, 0.003140222281217575, 0.0015701111406087875, 0.0005887916777282953, 0.006084180902689695, 0.0007850555703043938, 0.009028139524161816, 0.11952470988035202, 0.0009813194628804922, 0.017860013991594315, 0.000410096428822726, 0.007791832089424133, 0.13697220385074615, 0.0049211569130420685, 0.0012302892282605171, 0.6221162676811218, 0.0036908676847815514, 0.22227226197719574, 0.09521370381116867, 0.003592969849705696, 0.13832934200763702, 0.001796484924852848, 0.010778909549117088, 0.7473376989364624, 0.001796484924852848, 0.7061474919319153, 0.2932208180427551, 0.001370514277368784, 0.9963639378547668, 0.23327383399009705, 0.011987350881099701, 0.014384821057319641, 0.3609391152858734, 0.015823302790522575, 0.022775966674089432, 0.08487044274806976, 0.014624567702412605, 0.02133748307824135, 0.013785453513264656, 0.17993013560771942, 0.026372171938419342, 0.0018738290527835488, 0.9903186559677124, 0.006558401510119438, 0.9822471737861633, 0.014391900040209293, 0.9861491918563843, 0.009091373533010483, 0.022728433832526207, 0.9659584760665894, 0.08127327263355255, 0.0016931932186707854, 0.19133083522319794, 0.05643977224826813, 0.002821988658979535, 0.037250250577926636, 0.012416750192642212, 0.010159159079194069, 0.5813296437263489, 0.025397898629307747, 0.013446424156427383, 0.001953753875568509, 0.2970855236053467, 0.325932115316391, 0.043327365070581436, 0.04803936183452606, 0.1634257733821869, 0.015744958072900772, 0.061600711196660995, 0.006091115064918995, 0.015055397525429726, 0.00815979577600956, 0.9839191436767578, 0.00878499262034893, 0.36815646290779114, 0.02256043069064617, 0.22031541168689728, 0.04313752427697182, 0.012974313460290432, 0.04602988809347153, 0.05991322919726372, 0.005040975287556648, 0.014461814425885677, 0.16668273508548737, 0.03280765935778618, 0.007933338172733784, 0.982077419757843, 0.9584636688232422, 0.000576346181333065, 0.01815490424633026, 0.00461076945066452, 0.0008645192719995975, 0.0007204327266663313, 0.002161298179998994, 0.0004322596359997988, 0.00230538472533226, 0.007204327266663313, 0.002737644361332059, 0.001729038543999195, 0.99101722240448, 0.006366700865328312, 0.9900220036506653, 0.9877640604972839, 0.008466456085443497, 0.9341322779655457, 0.05362088605761528, 0.014315706677734852, 0.0007953169988468289, 0.014315706677734852, 0.8354805111885071, 0.010736780241131783, 0.011134438216686249, 0.02982438914477825, 0.023859510198235512, 0.003578926669433713, 0.05606985092163086, 0.00039765849942341447, 0.037775278091430664, 0.9520769119262695, 0.0006995421717874706, 0.0006995421717874706, 0.006995421834290028, 0.0016319004353135824, 0.9269194602966309, 0.01631900481879711, 0.0016319004353135824, 0.004895701538771391, 0.0375337116420269, 0.009791403077542782, 0.9864339828491211, 0.011209477670490742, 0.0007079942733980715, 0.0007079942733980715, 0.0007079942733980715, 0.006371948402374983, 0.013451891019940376, 0.8425132036209106, 0.1331029236316681, 0.001415988546796143, 0.9913526773452759, 0.981581449508667, 0.021320784464478493, 0.040703315287828445, 0.4053102433681488, 0.0010768072679638863, 0.35103917121887207, 0.052117470651865005, 0.003876506118103862, 0.021536145359277725, 0.005384036339819431, 0.04651807248592377, 0.003876506118103862, 0.047379519790410995, 0.0005314560839906335, 0.01727232336997986, 0.6438590884208679, 0.21656836569309235, 0.0882217139005661, 0.009300481528043747, 0.0026572805363684893, 0.009034753777086735, 0.01222349051386118, 0.1858956515789032, 0.10400436818599701, 0.4932917356491089, 0.00425251480191946, 0.058441706001758575, 0.027216095477342606, 0.05674069747328758, 0.010692037642002106, 0.0020655072294175625, 0.0055890195071697235, 0.04179614782333374, 0.009720033966004848, 0.9989034533500671, 0.019415004178881645, 0.009707502089440823, 0.9707502722740173, 0.9910880923271179, 0.9858819842338562, 0.9872563481330872, 0.9910898208618164, 0.0206766314804554, 0.0007658011745661497, 0.036758456379175186, 0.00038290058728307486, 0.8626750111579895, 0.04633096978068352, 0.00038290058728307486, 0.0007658011745661497, 0.013401520438492298, 0.016847625374794006, 0.0007658011745661497, 0.013141983188688755, 0.0322190560400486, 0.00551115395501256, 0.9216345548629761, 0.02501216158270836, 0.0008478698437102139, 0.0008478698437102139, 0.00042393492185510695, 0.9963637590408325, 0.000816691608633846, 0.001633383217267692, 0.000816691608633846, 0.007821200415492058, 0.33290237188339233, 0.5073752999305725, 0.15161097049713135, 0.9876928925514221, 0.9788265824317932, 0.9849167466163635, 0.02460203692317009, 0.9693202972412109, 0.002460203832015395, 0.028650233522057533, 0.4263828992843628, 0.03707677125930786, 0.002527961740270257, 0.000842653913423419, 0.005898577626794577, 0.01095450110733509, 0.005898577626794577, 0.4819980561733246, 0.986441969871521, 0.000563698064070195, 0.01296505518257618, 0.04396844655275345, 0.010146564804017544, 0.000563698064070195, 0.3675311207771301, 0.01465614978224039, 0.5349494218826294, 0.010146564804017544, 0.00450958451256156, 0.995288074016571, 0.008889008313417435, 0.977790892124176, 0.0094153368845582, 0.0094153368845582, 0.9791950583457947, 0.010332128033041954, 0.9815521240234375, 0.987982988357544, 0.0703752338886261, 0.003703959519043565, 0.9185819625854492, 0.003703959519043565, 0.1781122386455536, 0.0032502233516424894, 0.005850402172654867, 0.7417009472846985, 0.00032502232352271676, 0.0009750669705681503, 0.006500446703284979, 0.004225290380418301, 0.0334772989153862, 0.0019501339411363006, 0.020801428705453873, 0.0032502233516424894, 0.011107887141406536, 0.987984836101532, 0.0006171048153191805, 0.0006171048153191805, 0.25443071126937866, 0.01488111075013876, 0.049361731857061386, 0.05662081390619278, 0.0007259078556671739, 0.0010888617252930999, 0.4867212176322937, 0.0014518157113343477, 0.0043554469011723995, 0.006170216482132673, 0.10126414149999619, 0.02286609634757042, 0.010408516973257065, 0.0032868999987840652, 0.11668495088815689, 0.026295199990272522, 0.004930349998176098, 0.010408516973257065, 0.11339805275201797, 0.7132573127746582, 0.20282845199108124, 0.001913475920446217, 0.02631029486656189, 0.26740825176239014, 0.019613128155469894, 0.04640179127454758, 0.06840676814317703, 0.08610641956329346, 0.2808026075363159, 0.9641067385673523, 0.03318483382463455, 0.0008732850546948612, 0.0008732850546948612, 0.9963810443878174, 0.00038948937435634434, 0.029211703687906265, 0.11528885364532471, 0.0007789787487126887, 0.005842340644448996, 0.0035054043401032686, 0.010126723907887936, 0.1959131509065628, 0.002726425649598241, 0.04089638590812683, 0.0011684681521728635, 0.593971312046051, 0.0037764888256788254, 0.9932165145874023, 0.9875593781471252, 0.9657005071640015, 0.03338224068284035, 0.022321324795484543, 0.00781246367841959, 0.7719458341598511, 0.017113015055656433, 0.014136839658021927, 0.0130207734182477, 0.034226030111312866, 0.005580331198871136, 0.0018601104384288192, 0.07477644085884094, 0.009300552308559418, 0.028273679316043854, 0.9237877130508423, 0.003343019401654601, 0.05014529079198837, 0.0011143398005515337, 0.02005811594426632, 0.001433218945749104, 0.11465751379728317, 0.872830331325531, 0.001433218945749104, 0.007166094612330198, 0.001433218945749104, 0.001433218945749104, 0.027354972437024117, 0.9588637351989746, 0.002879470819607377, 0.0014397354098036885, 0.004319206345826387, 0.0014397354098036885, 0.004319206345826387, 0.9959797859191895, 0.03939231112599373, 0.0017905596178025007, 0.8881175518035889, 0.014324476942420006, 0.0017905596178025007, 0.050135668367147446, 0.0017905596178025007, 0.992824137210846, 0.9913862347602844, 0.9873160719871521, 0.007313452195376158, 0.001998365856707096, 0.10791175812482834, 0.8882735967636108, 0.010258078575134277, 0.9745174050331116, 0.005972730927169323, 0.9855006337165833, 0.005972730927169323, 0.002920128870755434, 0.005840257741510868, 0.9840834140777588, 0.002920128870755434, 0.9904187321662903, 0.046775054186582565, 0.8947009444236755, 0.036361631006002426, 0.0008535594097338617, 0.004950644448399544, 0.0030728138517588377, 0.005121356341987848, 0.005121356341987848, 0.0011949831387028098, 0.0003414237580727786, 0.0001707118790363893, 0.0011949831387028098, 0.008461639285087585, 0.9730885624885559, 0.004230819642543793, 0.008461639285087585, 0.9731473326683044, 0.0029252925887703896, 0.023402340710163116, 0.991432249546051, 0.0015113296685740352, 0.006045318674296141, 0.015625419095158577, 0.01704591140151024, 0.9602530002593994, 0.00710246292874217, 0.946614146232605, 0.050467900931835175, 0.9008547067642212, 0.013345994986593723, 0.004448665305972099, 0.08007597178220749, 0.007752259727567434, 0.007752259727567434, 0.9767847657203674, 0.00730364304035902, 0.00730364304035902, 0.00730364304035902, 0.9713845252990723, 0.9956076145172119, 0.0034450090024620295, 0.0019907623063772917, 0.019907623529434204, 0.008958430960774422, 0.9645243287086487, 0.0019907623063772917, 0.0009953811531886458, 0.9952788949012756, 0.9948364496231079, 0.0025706368032842875, 0.9894829988479614, 0.9759185910224915, 0.003199733095243573, 0.003199733095243573, 0.009599199518561363, 0.003199733095243573, 0.006399466190487146, 0.9908912777900696, 0.9910532236099243, 0.008216765709221363, 0.9887508153915405, 0.21099725365638733, 0.013096380978822708, 0.4896591603755951, 0.007275767624378204, 0.06936232000589371, 0.02813296765089035, 0.03128580003976822, 0.013096380978822708, 0.010186074301600456, 0.08415637910366058, 0.017219316214323044, 0.025707712396979332, 0.9927785396575928, 0.98844313621521, 0.5029041171073914, 0.044609829783439636, 0.040044497698545456, 0.1466776430606842, 0.05028388649225235, 0.009391543455421925, 0.044805485755205154, 0.06045806035399437, 0.031826894730329514, 0.021978819742798805, 0.0228266678750515, 0.024196267127990723, 0.02814124897122383, 0.956802487373352, 0.012988269329071045, 0.8972816467285156, 0.001315662288106978, 0.09999033063650131, 0.995435893535614, 0.7572503089904785, 0.009374174289405346, 0.023092476651072502, 0.013261026702821255, 0.0018291070591658354, 0.002286383882164955, 0.012346472591161728, 0.0070877899415791035, 0.016919240355491638, 0.11363327503204346, 0.016004687175154686, 0.02675069123506546, 0.9921443462371826, 0.0007708969060331583, 0.003083587624132633, 0.0007708969060331583, 0.002312690718099475, 0.0007708969060331583, 0.9925329089164734, 0.3035832941532135, 0.6863018870353699, 0.01018114760518074, 0.0015393419889733195, 0.04387124627828598, 0.03232618048787117, 0.06080400571227074, 0.0007696709944866598, 0.795839786529541, 0.003078683977946639, 0.013854078017175198, 0.047719601541757584, 0.006606069393455982, 0.08835617452859879, 0.006606069393455982, 0.003303034696727991, 0.7654783129692078, 0.0016515173483639956, 0.018992450088262558, 0.0008257586741819978, 0.10734862834215164, 0.9827555418014526, 0.0007306732586584985, 0.0010554168839007616, 0.0019484619842842221, 0.00048711549607105553, 0.00024355774803552777, 0.0005683014169335365, 0.00016237182717304677, 0.0012177887838333845, 0.008037406019866467, 0.0012989746173843741, 0.0016237183008342981, 0.9356151223182678, 0.013615722768008709, 0.002723144367337227, 0.0007166169816628098, 0.0005732935969717801, 0.004729671869426966, 0.0007166169816628098, 0.0004299701831769198, 0.0004299701831769198, 0.03912728652358055, 0.0011465871939435601, 0.00028664679848589003, 0.0025733746588230133, 0.020586997270584106, 0.9727356433868408, 0.0025733746588230133, 0.0699840560555458, 0.08202432096004486, 0.11814512312412262, 0.7291886806488037, 0.006075496319681406, 0.9923310279846191, 0.993273913860321, 0.9286658763885498, 0.0666077584028244, 0.0025618369691073895, 0.0012809184845536947, 0.9982768893241882, 0.05694577842950821, 0.012349686585366726, 0.0013721873983740807, 0.1663777232170105, 0.011663593351840973, 0.6288048624992371, 0.002401327947154641, 0.005488749593496323, 0.08781999349594116, 0.0209258571267128, 0.0013721873983740807, 0.004802655894309282, 0.0055598365142941475, 0.9655582308769226, 0.007413114886730909, 0.020386066287755966, 0.3453042507171631, 0.053268007934093475, 0.06245861575007439, 0.027009131386876106, 0.024383243173360825, 0.017255833372473717, 0.2573370039463043, 0.00562690244987607, 0.021007101982831955, 0.1451740860939026, 0.024570805951952934, 0.01650558039546013, 0.0032072921749204397, 0.9718095660209656, 0.0032072921749204397, 0.0144328149035573, 0.0032072921749204397, 0.0032072921749204397, 0.06278471648693085, 0.003843962214887142, 0.013453868217766285, 0.11916282773017883, 0.00832858495414257, 0.016016509383916855, 0.030751697719097137, 0.003843962214887142, 0.0070472643710672855, 0.0012813208159059286, 0.7335561513900757, 0.024523098021745682, 0.9727495312690735, 0.02546447329223156, 0.2688681185245514, 0.05345245450735092, 0.0016058676410466433, 0.47006040811538696, 0.00068822898901999, 0.00344114494509995, 0.06446411460638046, 0.04175255820155144, 0.03762318566441536, 0.0032117352820932865, 0.029364436864852905, 0.006196784786880016, 0.00826238002628088, 0.9852887988090515, 0.9901599287986755, 0.10814840346574783, 0.026668652892112732, 0.5116872191429138, 0.005263550207018852, 0.21355976164340973, 0.014246675185859203, 0.023580703884363174, 0.016632817685604095, 0.01515902392566204, 0.028282808139920235, 0.012211436405777931, 0.02456323243677616, 0.1709643453359604, 0.05887182429432869, 0.04520898312330246, 0.11473925411701202, 0.05300610139966011, 0.06273461878299713, 0.3212555944919586, 0.009656982496380806, 0.050788573920726776, 0.031975340098142624, 0.03133154287934303, 0.049500975757837296, 0.9932546019554138, 0.08630282431840897, 0.004941674880683422, 0.002117860596626997, 0.09953945130109787, 0.02523783966898918, 0.060888491570949554, 0.46787071228027344, 0.009177396073937416, 0.1381904035806656, 0.01906074583530426, 0.0672420784831047, 0.019237233325839043, 0.9976298213005066, 0.001556364819407463, 0.9831752777099609, 0.9963400959968567, 0.001402354217134416, 0.0005609416984952986, 0.02860802784562111, 0.006170358974486589, 0.0033656503073871136, 0.0002804708492476493, 0.7743800282478333, 0.0022437667939811945, 0.01290165912359953, 0.02692520245909691, 0.03842450678348541, 0.10433515906333923, 0.1387566477060318, 0.01052183099091053, 0.013809903524816036, 0.011179446242749691, 0.0013152288738638163, 0.0006576144369319081, 0.7148269414901733, 0.0032880723010748625, 0.0019728434272110462, 0.06313098967075348, 0.030250264331698418, 0.011179446242749691, 0.9918378591537476, 0.005165821872651577, 0.0018947559874504805, 0.039789874106645584, 0.00663164583966136, 0.005684267729520798, 0.936009407043457, 0.0009473779937252402, 0.0009473779937252402, 0.0009473779937252402, 0.0018947559874504805, 0.004736889619380236, 0.9779716730117798, 0.016120413318276405, 0.9940279722213745, 0.0019947050604969263, 0.0033245082013309, 0.0005631345557048917, 0.9747859239578247, 0.0005631345557048917, 0.023088516667485237, 0.9931054711341858, 0.9903676509857178, 0.14186371862888336, 0.10205639153718948, 0.0336625799536705, 0.07053111493587494, 0.004541776608675718, 0.023777535185217857, 0.005610429681837559, 0.0013358165742829442, 0.0018701432272791862, 0.001068653305992484, 0.6093995571136475, 0.004541776608675718, 0.00034241212415508926, 0.04656805098056793, 0.8115167617797852, 0.03595327213406563, 0.10512052476406097, 0.9890123009681702, 0.9853359460830688, 0.00420185923576355, 0.002100929617881775, 0.006302788387984037, 0.9888775944709778, 0.029772011563181877, 0.0018227762775495648, 0.0018227762775495648, 0.0030379605013877153, 0.0006075920537114143, 0.0018227762775495648, 0.007291105110198259, 0.013974618166685104, 0.7831861972808838, 0.13853099942207336, 0.0170125775039196, 0.0018227762775495648, 0.03185665234923363, 0.0015169833786785603, 0.0030339667573571205, 0.0030339667573571205, 0.0015169833786785603, 0.9162579774856567, 0.03792458400130272, 0.0030339667573571205, 0.0030339667573571205, 0.0016546087572351098, 0.07611200213432312, 0.9183078408241272, 0.0016546087572351098, 0.0016752179944887757, 0.03629638999700546, 0.03517957776784897, 0.008376089856028557, 0.7443551421165466, 0.0485813207924366, 0.09548742324113846, 0.006700871977955103, 0.022894645109772682, 0.2670697867870331, 0.02543204091489315, 0.2225470393896103, 0.06721801310777664, 0.02556554228067398, 0.08357195556163788, 0.05393461510539055, 0.0033375381026417017, 0.01622043550014496, 0.20192104578018188, 0.022094501182436943, 0.011080626398324966, 0.004078402649611235, 0.9910518527030945, 0.004078402649611235, 0.02284630946815014, 0.0022109332494437695, 0.07222381979227066, 0.032427020370960236, 0.2645750045776367, 0.6050587296485901, 0.029803993180394173, 0.8740876317024231, 0.04812612012028694, 0.0017100651748478413, 0.027605338022112846, 0.0004885900416411459, 0.00317583535797894, 0.00635167071595788, 0.0007328850915655494, 0.0009771800832822919, 0.00439731078222394, 0.0029315403662621975, 0.9898421168327332, 0.006733620073646307, 0.9796018600463867, 0.973626971244812, 0.9987359642982483, 0.9949077367782593, 0.9907122254371643, 0.0042703114449977875, 0.9598172307014465, 0.03839268907904625, 0.013803971000015736, 0.9800819158554077, 0.9782189130783081, 0.9957398176193237, 0.9954941272735596, 0.06050654873251915, 0.04828887805342674, 0.23039031028747559, 0.05294322967529297, 0.04596170410513878, 0.05876116454601288, 0.008726906031370163, 0.06167013570666313, 0.009890493005514145, 0.009890493005514145, 0.3898018002510071, 0.022689955309033394, 0.0029514164198189974, 0.008854249492287636, 0.9769188165664673, 0.005902832839637995, 0.12535694241523743, 0.0011293417774140835, 0.0011293417774140835, 0.835148274898529, 0.0005646708887070417, 0.003952696453779936, 0.0028233546763658524, 0.003388025565072894, 0.001694012782536447, 0.020328152924776077, 0.004517367109656334, 0.9885976910591125, 0.9795712232589722, 0.0009011694928631186, 0.008110525086522102, 0.0009011694928631186, 0.0009011694928631186, 0.002703508362174034, 0.007209355942904949, 0.0071444702334702015, 0.0013160866219550371, 0.10209071636199951, 0.0703166276216507, 0.6493947505950928, 0.10885916650295258, 0.005452359095215797, 0.01673310063779354, 0.011280742473900318, 0.020681360736489296, 0.0003760247491300106, 0.00639242073521018, 0.035948678851127625, 0.10790921747684479, 0.08459627628326416, 0.2247897982597351, 0.14404742419719696, 0.24191123247146606, 0.003032577456906438, 0.05035342276096344, 0.011688059195876122, 0.028619948774576187, 0.04447780176997185, 0.022617973387241364, 0.9881578683853149, 0.010172246024012566, 0.9867079257965088, 0.9971796274185181, 0.018483227118849754, 0.0006845640018582344, 0.0013691280037164688, 0.8187385201454163, 0.14718125760555267, 0.005476512014865875, 0.002053692005574703, 0.0013691280037164688, 0.0006845640018582344, 0.0027382560074329376, 0.0006845640018582344, 0.9865066409111023, 0.011322888545691967, 0.0027566554490476847, 0.0004594425845425576, 0.005513310898095369, 0.28577327728271484, 0.0018377703381702304, 0.2416667938232422, 0.44933485984802246, 0.009188851341605186, 0.0004594425845425576, 0.0032160980626940727, 0.013670879416167736, 0.06575042009353638, 0.015298365615308285, 0.0566365011036396, 0.018878834322094917, 0.16893301904201508, 0.05891498178243637, 0.024737782776355743, 0.34372496604919434, 0.09244118630886078, 0.11197101324796677, 0.02896924503147602, 0.998119592666626, 0.9915368556976318, 0.9993058443069458, 0.9860315918922424, 0.011204903945326805, 0.004053996875882149, 0.9932292699813843, 0.03344094008207321, 0.26827067136764526, 0.6978009939193726, 0.11759866029024124, 0.04102278873324394, 0.08660366386175156, 0.029171759262681007, 0.018232349306344986, 0.0009116174769587815, 0.005469704978168011, 0.011851027607917786, 0.0045580873265862465, 0.006381322629749775, 0.5898165106773376, 0.08751527965068817, 0.9952147603034973, 0.0016894412692636251, 0.027031060308218002, 0.0016894412692636251, 0.03547826409339905, 0.8801988959312439, 0.05068323761224747, 0.0016894412692636251, 0.9923596382141113, 0.004669927526265383, 0.9685794115066528, 0.027197429910302162, 0.00043866821215488017, 0.00043866821215488017, 0.00043866821215488017, 0.0008773364243097603, 0.001316004665568471, 0.00043866821215488017, 0.0016013921704143286, 0.0016013921704143286, 0.0016013921704143286, 0.9944645166397095, 0.19252395629882812, 0.0014475485077127814, 0.002895097015425563, 0.8019418716430664, 0.9866458177566528, 0.9933676719665527, 0.0077270688489079475, 0.9813377857208252, 0.0038635344244539738, 0.056600868701934814, 0.004209981765598059, 0.8756762742996216, 0.002806654665619135, 0.01122661866247654, 0.007484412286430597, 0.020582133904099464, 0.008419963531196117, 0.005145533476024866, 0.00046777576790191233, 0.007016636431217194, 0.0298006534576416, 0.07133135199546814, 0.5421182513237, 0.0012681129155680537, 0.23047952353954315, 0.0006340564577840269, 0.031385794281959534, 0.03899447247385979, 0.005072451662272215, 0.019021693617105484, 0.0031702823471277952, 0.026630371809005737, 0.9886484742164612, 0.10440889000892639, 0.037411145865917206, 0.006112932693213224, 0.1990370750427246, 0.05183766782283783, 0.215419739484787, 0.28828588128089905, 0.023229142650961876, 0.006112932693213224, 0.0026896903291344643, 0.01907235011458397, 0.04621376842260361, 0.9943088293075562, 0.0020944317802786827, 0.9760051965713501, 0.007779317907989025, 0.00029920454835519195, 0.004188863560557365, 0.0005984090967103839, 0.005086476914584637, 0.0008976135868579149, 0.0014960226835682988, 0.0008976135868579149, 0.992810070514679, 0.0035206032916903496, 0.9963041543960571, 0.0019380947342142463, 0.9942426085472107, 0.0024438651744276285, 0.9958750605583191, 0.2227715402841568, 0.008976142853498459, 0.04651274159550667, 0.02040032483637333, 0.00040800648275762796, 0.00040800648275762796, 0.12403397262096405, 0.0016320259310305119, 0.0016320259310305119, 0.5569288730621338, 0.0016320259310305119, 0.014688233844935894, 0.13345688581466675, 0.12103834003210068, 0.07850905507802963, 0.01377948746085167, 0.3895682394504547, 0.009866793639957905, 0.0071449195966124535, 0.11925210803747177, 0.037766002118587494, 0.01480018999427557, 0.027388857677578926, 0.04754773899912834, 0.9923664331436157, 0.9929352402687073, 0.0034476916771382093, 0.05747871845960617, 0.0013850294053554535, 0.911349356174469, 0.0020775441080331802, 0.0020775441080331802, 0.005540117621421814, 0.0006925147026777267, 0.0034625735133886337, 0.004847602918744087, 0.009695205837488174, 0.0020775441080331802, 0.20383600890636444, 0.06524775922298431, 0.0005057965754531324, 0.6474195718765259, 0.004805067554116249, 0.0037934742867946625, 0.014162303879857063, 0.018461573868989944, 0.02908330224454403, 0.005310863722115755, 0.0030347793363034725, 0.004805067554116249, 0.9621665477752686, 0.00041259286808781326, 0.01072741486132145, 0.0008251857361756265, 0.001650371472351253, 0.005363707430660725, 0.00041259286808781326, 0.001650371472351253, 0.009489635936915874, 0.0024755571503192186, 0.005776300095021725, 0.9876862168312073, 0.160618394613266, 0.8371052742004395, 0.0017431637970730662, 0.0017431637970730662, 0.9953465461730957, 0.03389735147356987, 0.04868236929178238, 0.0551733523607254, 0.06328707933425903, 0.3537585437297821, 0.19995832443237305, 0.020915387198328972, 0.0914146676659584, 0.01821081154048443, 0.021095693111419678, 0.03948681056499481, 0.05427182465791702, 0.01149199903011322, 0.003830666420981288, 0.9806506037712097, 0.0058389268815517426, 0.037953026592731476, 0.0029194634407758713, 0.9167115688323975, 0.0029194634407758713, 0.0058389268815517426, 0.02335570752620697, 0.1133221760392189, 0.8353462815284729, 0.019426658749580383, 0.03237776458263397, 0.9973869323730469, 0.08978725969791412, 0.0011691049439832568, 0.0022212995681911707, 0.3349485695362091, 0.003624225500971079, 0.3898965120315552, 0.11983326077461243, 0.006897719576954842, 0.02525266818702221, 0.01882258988916874, 0.007248451001942158, 0.00035073148319497705, 0.9267242550849915, 0.0017785707022994757, 0.010226781480014324, 0.0003557141462806612, 0.0010671424679458141, 0.0003557141462806612, 0.0061360690742731094, 0.0006224997341632843, 0.0035571414045989513, 0.037794627249240875, 0.0004446426755748689, 0.010849281214177608, 0.9332318902015686, 0.0024672355502843857, 0.004317662212997675, 0.009252133779227734, 0.04687747731804848, 0.0012336177751421928, 0.0024672355502843857, 0.9880527853965759, 0.03819195553660393, 0.005875685717910528, 0.002937842858955264, 0.9489232301712036, 0.002937842858955264, 0.00951235182583332, 0.0007926959660835564, 0.011097743175923824, 0.0015853919321671128, 0.0015853919321671128, 0.8251965045928955, 0.0007926959660835564, 0.05311062932014465, 0.0332932323217392, 0.06341567635536194, 0.0031536242458969355, 0.8822263479232788, 0.011826090514659882, 0.09382031857967377, 0.00788406003266573, 0.004558440297842026, 0.0034188302233815193, 0.03760713338851929, 0.0005698050372302532, 0.06210875138640404, 0.7834819555282593, 0.0005698050372302532, 0.011965906247496605, 0.08205192536115646, 0.013675320893526077, 0.0008696494624018669, 0.8380522131919861, 0.004058364313095808, 0.0002898831444326788, 0.12059139460325241, 0.0052178967744112015, 0.005797663237899542, 0.0052178967744112015, 0.0017392989248037338, 0.014494157396256924, 0.0017392989248037338, 0.0017392989248037338, 0.24280495941638947, 0.0003254758194088936, 0.01366998441517353, 0.07681229710578918, 0.003905709832906723, 0.0003254758194088936, 0.08722752332687378, 0.0003254758194088936, 0.10252488404512405, 0.19886572659015656, 0.2613570988178253, 0.011717129498720169, 0.21413657069206238, 0.09286016970872879, 0.002368018962442875, 0.36535149812698364, 0.006089191883802414, 0.05175812914967537, 0.05141983926296234, 0.006934912875294685, 0.1520606428384781, 0.042455196380615234, 0.00828806683421135, 0.006427479907870293, 0.990110456943512, 0.0037646787241101265, 0.9897149801254272, 0.9884821176528931, 0.008038518950343132, 0.004019259475171566, 0.004019259475171566, 0.9606029987335205, 0.008038518950343132, 0.008038518950343132, 0.003315477631986141, 0.003315477631986141, 0.9880123734474182, 0.003315477631986141, 0.9913162589073181, 0.005851321388036013, 0.9771707057952881, 0.011702642776072025, 0.9792331457138062, 0.16519591212272644, 0.12530137598514557, 0.19230790436267853, 0.04298838600516319, 0.16462598741054535, 0.020435767248272896, 0.05031595379114151, 0.07400842010974884, 0.03191561996936798, 0.024832306429743767, 0.012619697488844395, 0.09550260752439499, 0.0054579442366957664, 0.0054579442366957664, 0.027289722114801407, 0.9605982303619385, 0.9869277477264404, 0.1141473799943924, 0.0908331573009491, 0.38849350810050964, 0.024006729945540428, 0.22344724833965302, 0.04432011395692825, 0.025391733273863792, 0.03243216872215271, 0.011541697196662426, 0.006578767206519842, 0.023314228281378746, 0.015350456349551678, 0.11113337427377701, 0.10013007372617722, 0.27629297971725464, 0.07141144573688507, 0.14975497126579285, 0.03367011249065399, 0.1005702018737793, 0.0328998826444149, 0.02211664244532585, 0.02519756741821766, 0.03873163089156151, 0.03818146884441376, 0.046947840601205826, 0.03545438498258591, 0.027662213891744614, 0.47201085090637207, 0.09370087832212448, 0.006818151101469994, 0.11649297922849655, 0.011883063241839409, 0.016558367758989334, 0.023571321740746498, 0.04110370948910713, 0.10792159289121628, 0.059612493962049484, 0.0006931684911251068, 0.04782862588763237, 0.8907215595245361, 0.01965899020433426, 0.03455216437578201, 0.08399750292301178, 0.09412486106157303, 0.04170088842511177, 0.140591561794281, 0.014893174171447754, 0.02621198631823063, 0.05897697061300278, 0.4539439380168915, 0.0077444505877792835, 0.02263762429356575, 0.002119159558787942, 0.018366049975156784, 0.031081007793545723, 0.02472352795302868, 0.5728794932365417, 0.0028255460783839226, 0.13633260130882263, 0.0007063865195959806, 0.21050319075584412, 0.9864256381988525, 0.989266574382782, 0.006489543244242668, 0.9831657409667969, 0.006489543244242668, 0.0004412494890857488, 0.0004412494890857488, 0.04147745296359062, 0.0026474969927221537, 0.8851464986801147, 0.017208730801939964, 0.04456619918346405, 0.007942491210997105, 0.0008824989781714976, 0.028059793636202812, 0.028059793636202812, 0.9070138931274414, 0.012133965268731117, 0.023509556427598, 0.06509546935558319, 0.006299561820924282, 0.9281354546546936, 0.06861130893230438, 0.010658066719770432, 0.0005551076610572636, 0.8077926635742188, 0.010102959349751472, 0.03585995361208916, 0.015543014742434025, 0.004107796587049961, 0.0029975813813507557, 0.002109409077093005, 0.004995969124138355, 0.03674812614917755, 0.5412909984588623, 0.17106382548809052, 0.2156798541545868, 0.001394250662997365, 0.010296004824340343, 0.00922350399196148, 0.006864003371447325, 0.007614753674715757, 0.0016087507829070091, 0.021664509549736977, 0.010725005529820919, 0.0024667512625455856, 0.993942379951477, 0.9938696622848511, 0.7602488398551941, 0.0002957016113214195, 0.002661314560100436, 0.21172235906124115, 0.000591403222642839, 0.000591403222642839, 0.0014785081148147583, 0.000591403222642839, 0.011828064918518066, 0.00620973389595747, 0.0014785081148147583, 0.002661314560100436, 0.002164111938327551, 0.3709287941455841, 0.015148784033954144, 0.019477007910609245, 0.010820560157299042, 0.1653381586074829, 0.004328223876655102, 0.05064022168517113, 0.016014428809285164, 0.3137962222099304, 0.007357980590313673, 0.023805230855941772, 0.20304939150810242, 0.13412436842918396, 0.6622390747070312, 0.022067172452807426, 0.019308775663375854, 0.005516793113201857, 0.9323380589485168, 0.019308775663375854, 0.04802439734339714, 0.0004662562860175967, 0.0013987688580527902, 0.11749658733606339, 0.0013987688580527902, 0.0037300502881407738, 0.19909143447875977, 0.5492498874664307, 0.061545830219984055, 0.012122663669288158, 0.006061331834644079, 0.11928067356348038, 0.05744767561554909, 0.006906877271831036, 0.20698705315589905, 0.04955410212278366, 0.190871000289917, 0.0331091582775116, 0.03924860432744026, 0.21422281861305237, 0.020610997453331947, 0.02949126809835434, 0.032232094556093216, 0.9898108839988708, 0.9436175227165222, 0.008882101625204086, 0.006767315324395895, 0.0019033073913305998, 0.004018093459308147, 0.0012688715942203999, 0.0038066147826611996, 0.004441050812602043, 0.004441050812602043, 0.01564941555261612, 0.00042295720777474344, 0.0048640077002346516, 0.9565577507019043, 0.0010089385323226452, 0.002606424503028393, 0.014545530080795288, 0.0002522346330806613, 0.0016815641429275274, 0.006978491321206093, 0.0003363128344062716, 0.0003363128344062716, 0.005969552788883448, 0.004876535851508379, 0.004876535851508379, 0.9942712187767029, 0.0015110505046322942, 0.0030221010092645884, 0.0017639308935031295, 0.9860373139381409, 0.003527861787006259, 0.007055723574012518, 0.06337174773216248, 0.9332929849624634, 0.0013039503246545792, 0.04303035885095596, 0.0013039503246545792, 0.7178246378898621, 0.013039503246545792, 0.004563826136291027, 0.2190636545419693, 0.13731813430786133, 0.08424302935600281, 0.0716961920261383, 0.11869703233242035, 0.11132825911045074, 0.05775526911020279, 0.09808437526226044, 0.1116269901394844, 0.046702105551958084, 0.021409280598163605, 0.058153580874204636, 0.0828489363193512, 0.009565448388457298, 0.9661102890968323, 0.019130896776914597, 0.9740487933158875, 0.014324246905744076, 0.014515549875795841, 0.0018144437344744802, 0.003024072851985693, 0.7620663642883301, 0.012701106257736683, 0.007862589322030544, 0.03145035728812218, 0.008467404171824455, 0.007862589322030544, 0.03205517306923866, 0.10705217719078064, 0.011491477489471436, 0.02083900012075901, 0.9659489989280701, 0.002451647073030472, 0.002451647073030472, 0.0036774708423763514, 0.0036774708423763514, 0.009823198430240154, 0.004260664340108633, 0.0010651660850271583, 0.6451355814933777, 0.02284189499914646, 0.1733853667974472, 0.017042657360434532, 0.009113087318837643, 0.01420221384614706, 0.01396551076322794, 0.08107097446918488, 0.00816627312451601, 0.04726655036211014, 0.0011078097159042954, 0.00036926992470398545, 0.8844014406204224, 0.0012308997102081776, 0.025725804269313812, 0.007139218505471945, 0.0011078097159042954, 0.002338709542527795, 0.006523768417537212, 0.01994057558476925, 0.003077249275520444, 0.9912245869636536, 0.00044570068712346256, 0.1007283553481102, 0.13326451182365417, 0.00044570068712346256, 0.5811936855316162, 0.04947277531027794, 0.13237310945987701, 0.0017828027484938502, 0.00044570068712346256, 0.0073781064711511135, 0.0018445266177877784, 0.01291168574243784, 0.9775990843772888, 0.016301482915878296, 0.9563536643981934, 0.016301482915878296, 0.0028702581766992807, 0.9735915660858154, 0.0022962065413594246, 0.016647497192025185, 0.0011481032706797123, 0.0017221549060195684, 0.0005740516353398561, 0.0005740516353398561, 0.9875331521034241, 0.0009727438446134329, 0.03404603525996208, 0.11721563339233398, 0.0914379209280014, 0.0009727438446134329, 0.015563901513814926, 0.5865645408630371, 0.004863718990236521, 0.04912356287240982, 0.008268322795629501, 0.09046517312526703, 0.03752167150378227, 0.20591160655021667, 0.29559755325317383, 0.4612419903278351, 0.08518099039793015, 0.686720609664917, 0.009136275388300419, 0.02022707648575306, 0.04227231815457344, 0.06618117541074753, 0.021363429725170135, 0.014181680977344513, 0.044863201677799225, 0.003999961074441671, 0.0019545266404747963, 0.003954507410526276, 0.06679603457450867, 0.7007324695587158, 0.0019344676984474063, 0.061220213770866394, 0.006599948741495609, 0.10980948805809021, 0.011720598675310612, 0.004665480926632881, 0.021734314039349556, 0.007396494038403034, 0.002731013111770153, 0.004551688674837351, 0.9865267872810364, 0.013620954006910324, 0.9834328889846802, 0.9955634474754333, 0.009437792003154755, 0.9815303683280945, 0.006824790500104427, 0.9895946383476257, 0.9987041354179382, 0.3325574994087219, 0.002703719539567828, 0.007435228675603867, 0.000675929884891957, 0.029064984992146492, 0.01757417805492878, 0.05407439172267914, 0.0020277895964682102, 0.018926037475466728, 0.5096511244773865, 0.0223056860268116, 0.002703719539567828, 0.9964990019798279, 0.0022411691024899483, 0.9950791001319885, 0.997046947479248, 0.9926131963729858, 0.9986438155174255, 0.0010435149306431413, 0.01788463070988655, 0.8334982991218567, 0.075637087225914, 0.0007451929268427193, 0.002235578838735819, 0.01974761299788952, 0.008569719269871712, 0.004843754228204489, 0.0007451929268427193, 0.008197122253477573, 0.009687508456408978, 0.019375016912817955, 0.11229181289672852, 0.023790638893842697, 0.06280728429555893, 0.010467881336808205, 0.02093576267361641, 0.0009516255231574178, 0.7022996544837952, 0.021887388080358505, 0.004758127965033054, 0.028548765927553177, 0.012371132150292397, 0.010996537283062935, 0.01712922193109989, 0.017975108698010445, 0.09156732261180878, 0.2110489308834076, 0.008035930804908276, 0.03595021739602089, 0.05223355442285538, 0.4772920310497284, 0.02643398381769657, 0.014591559767723083, 0.03658463433384895, 0.9983572959899902, 0.9959242343902588, 0.11246050149202347, 0.11246050149202347, 0.08149311691522598, 0.692691445350647, 0.9925035238265991, 0.010143359191715717, 0.9872869849205017, 0.9893898367881775, 0.004756682086735964, 0.007604918442666531, 0.9886394143104553, 0.9818531274795532, 0.04725462570786476, 0.008438325487077236, 0.02193964645266533, 0.010125990957021713, 0.03206563740968704, 0.1502021998167038, 0.7273836731910706, 0.988422691822052, 0.9904062747955322, 0.0051718344911932945, 0.012857283465564251, 0.005510264541953802, 0.008954179473221302, 0.02204105816781521, 0.003673509694635868, 0.43668845295906067, 0.000918377423658967, 0.0016071604331955314, 0.08334275335073471, 0.4217648208141327, 0.002755132270976901, 0.13994009792804718, 0.00405623484402895, 0.06084351986646652, 0.7544596791267395, 0.017238996922969818, 0.02230929024517536, 0.0040911524556577206, 0.9941500425338745, 0.9948345422744751, 0.0019321994623169303, 0.028016891330480576, 0.43546944856643677, 0.012317771092057228, 0.45346304774284363, 0.010506334714591503, 0.015336832962930202, 0.013646158389747143, 0.007245747838169336, 0.009419471956789494, 0.0060381232760846615, 0.006641935557126999, 0.0014560319250449538, 0.8739103674888611, 0.0002912063791882247, 0.051252324134111404, 0.0023296510335057974, 0.03232390806078911, 0.01223066821694374, 0.0008736191084608436, 0.005241714883595705, 0.0002912063791882247, 0.011939461342990398, 0.007862572558224201, 0.983587920665741, 0.9375238418579102, 0.007032405119389296, 0.031776051968336105, 0.0016929864650592208, 0.003516202559694648, 0.0002604594628792256, 0.0015627567190676928, 0.0007813783595338464, 0.002213905332610011, 0.00833470281213522, 0.004427810665220022, 0.0009116081055253744, 0.0158194899559021, 0.016750048846006393, 0.049319587647914886, 0.0009305582498200238, 0.0018611164996400476, 0.24194513261318207, 0.011166698299348354, 0.5722932815551758, 0.04001400247216225, 0.049319587647914886, 0.9931386113166809, 0.0009316497598774731, 0.0009316497598774731, 0.0027949493378400803, 0.0009316497598774731, 0.005499427672475576, 0.030796794220805168, 0.09349026530981064, 0.735823392868042, 0.09349026530981064, 0.03959587961435318, 0.018420744687318802, 0.14930498600006104, 0.8308725357055664, 0.000969512911979109, 0.09821413457393646, 0.22847434878349304, 0.09665723890066147, 0.13609857857227325, 0.03684651851654053, 0.049561161547899246, 0.034900397062301636, 0.04787452518939972, 0.0260779932141304, 0.01686636358499527, 0.20200714468955994, 0.026337474584579468, 0.06722387671470642, 0.7373712658882141, 0.04690732806921005, 0.001493863994255662, 0.017030049115419388, 0.005975455977022648, 0.0044815922155976295, 0.07379688322544098, 0.019420232623815536, 0.013146002776920795, 0.006871774327009916, 0.005975455977022648, 0.0031482053454965353, 0.9302946329116821, 0.009444615803658962, 0.007870513014495373, 0.004722307901829481, 0.04092666879296303, 0.0015741026727482677, 0.007138310465961695, 0.9850868582725525, 0.0037372997030615807, 0.17378443479537964, 0.07848329097032547, 0.7418539524078369, 0.9712933897972107, 0.002576374914497137, 0.02490495890378952, 0.9963139295578003, 0.9947699308395386, 0.9934551119804382, 0.0010544436518102884, 0.004217774607241154, 0.9279104471206665, 0.028469979763031006, 0.0010544436518102884, 0.03163331001996994, 0.003163331188261509, 0.002108887303620577, 0.9898392558097839, 0.060462962836027145, 0.056099653244018555, 0.007390907034277916, 0.10988408327102661, 0.05538727715611458, 0.3186994791030884, 0.09741749614477158, 0.07257336378097534, 0.1436329185962677, 0.0397149920463562, 0.02181653305888176, 0.01691894419491291, 0.9815551042556763, 0.9482213854789734, 0.0007142910617403686, 0.022857313975691795, 0.02357160486280918, 0.0003571455308701843, 0.0014285821234807372, 0.0025000188034027815, 0.21631011366844177, 0.0019664554856717587, 0.005899366457015276, 0.7747834920883179, 0.0019664554856717587, 0.01187727227807045, 0.034036360681056976, 0.1856045424938202, 0.0007090909057296813, 0.4428272545337677, 0.23470908403396606, 0.009218181483447552, 0.02570454403758049, 0.004254545085132122, 0.01879090815782547, 0.025172725319862366, 0.007268181536346674, 0.010808243416249752, 0.9835501313209534, 0.7294340133666992, 0.06728532165288925, 0.05912952497601509, 0.02939485013484955, 0.017161155119538307, 0.004417723044753075, 0.006796496920287609, 0.007646059151738882, 0.010194745846092701, 0.043667491525411606, 0.01087439525872469, 0.01410273090004921, 0.01527480874210596, 0.01018320582807064, 0.00509160291403532, 0.9724961519241333, 0.12757077813148499, 0.0009908409556373954, 0.041863031685352325, 0.09735012799501419, 0.004211074206978083, 0.0024771024473011494, 0.5620545744895935, 0.00024771023890934885, 0.003220233367756009, 0.016101166605949402, 0.1268276423215866, 0.017092008143663406, 0.2594951093196869, 0.04274334758520126, 0.08877464383840561, 0.01643974892795086, 0.05715974420309067, 0.007081738207489252, 0.021751053631305695, 0.015680991113185883, 0.06449440121650696, 0.061206452548503876, 0.15984494984149933, 0.20587624609470367, 0.04764484986662865, 0.014131947420537472, 0.008479168638586998, 0.03230159357190132, 0.06541072577238083, 0.672680675983429, 0.035531751811504364, 0.046029772609472275, 0.031494054943323135, 0.04037699103355408, 0.003230159403756261, 0.003230159403756261, 0.0629710778594017, 0.043595362454652786, 0.8912829756736755, 0.004336979240179062, 0.9098362922668457, 0.021065328270196915, 0.0004646763554774225, 0.045848067849874496, 0.0007744606118649244, 0.004801655653864145, 0.0035625186283141375, 0.0007744606118649244, 0.000619568454567343, 0.0035625186283141375, 0.004336979240179062, 0.9671133160591125, 0.0023968112654983997, 0.0023968112654983997, 0.0005992028163745999, 0.0005992028163745999, 0.004194419831037521, 0.014380867592990398, 0.0017976084491237998, 0.005392825230956078, 0.9785650372505188, 0.9980904459953308, 0.0005071382038295269, 0.9975408911705017, 0.0005071382038295269, 0.0005071382038295269, 0.0005071382038295269, 0.0005071382038295269, 0.9996981620788574, 0.010423400439321995, 0.9537411332130432, 0.0260585006326437, 0.9954357743263245, 0.24698880314826965, 0.049384139478206635, 0.13207702338695526, 0.030652223154902458, 0.20564235746860504, 0.004700007848441601, 0.00790146179497242, 0.11729584634304047, 0.038826148957014084, 0.03290005400776863, 0.06736677885055542, 0.06634503602981567, 0.7923869490623474, 0.0009660309879109263, 0.00024150774697773159, 0.13113871216773987, 0.0019320619758218527, 0.032362040132284164, 0.005313170608133078, 0.0007245232700370252, 0.023184744641184807, 0.007969755679368973, 0.00048301549395546317, 0.003139600856229663, 0.012364326976239681, 0.9149602055549622, 0.01589699275791645, 0.0017663324251770973, 0.010597994551062584, 0.033560317009687424, 0.008831662125885487, 0.003899458097293973, 0.9768142700195312, 0.015597832389175892, 0.9944196939468384, 0.8896839618682861, 0.00035917802597396076, 0.006106026470661163, 0.00035917802597396076, 0.00035917802597396076, 0.00035917802597396076, 0.0007183560519479215, 0.10092902183532715, 0.001436712103895843, 0.9703577756881714, 0.0017250804230570793, 0.0017250804230570793, 0.0008625402115285397, 0.025013666599988937, 0.7333307266235352, 0.0003120556357316673, 0.0021219782065600157, 0.160084530711174, 0.0002496445085853338, 0.0009985780343413353, 0.0317048504948616, 0.00018723338143900037, 0.0032453786116093397, 0.021594248712062836, 0.025775795802474022, 0.020346026867628098, 0.003169780597090721, 0.9584624171257019, 0.011886677704751492, 0.0007924451492726803, 0.009905564598739147, 0.00039622257463634014, 0.011490454897284508, 0.0015848902985453606, 0.00039622257463634014, 0.00039622257463634014, 0.0015848902985453606, 0.000547890376765281, 0.9872984886169434, 0.004383123014122248, 0.002739451825618744, 0.002191561507061124, 0.000547890376765281, 0.000547890376765281, 0.000547890376765281, 0.9839466214179993, 0.01046751718968153, 0.005233758594840765, 0.027145104482769966, 0.0024677368346601725, 0.9163529276847839, 0.008225789293646812, 0.04441926255822182, 0.0008225789060816169, 0.9823929071426392, 0.005672014784067869, 0.004537611734122038, 0.002268805867061019, 0.004537611734122038, 0.007423203904181719, 0.011134806089103222, 0.9798629283905029, 0.07965608686208725, 0.09632829576730728, 0.816938042640686, 0.0037049343809485435, 0.052275869995355606, 0.24102191627025604, 0.02756211720407009, 0.05353249981999397, 0.09810102730989456, 0.05420270562171936, 0.0810108408331871, 0.03828537091612816, 0.01574978046119213, 0.11443723738193512, 0.0794191062450409, 0.1445126235485077, 0.03758114576339722, 0.033130746334791183, 0.2121356725692749, 0.022251993417739868, 0.002472443738952279, 0.0004944887477904558, 0.0019779549911618233, 0.04252603277564049, 0.08159064501523972, 0.020768528804183006, 0.09543633460998535, 0.4494902789592743, 0.9791744351387024, 0.023324910551309586, 0.04373420774936676, 0.930080771446228, 0.0077871838584542274, 0.07916970551013947, 0.016872230917215347, 0.8955261707305908, 0.0009269294096156955, 0.003012520493939519, 0.7654119729995728, 0.00023173235240392387, 0.1867762804031372, 0.00023173235240392387, 0.0020855912007391453, 0.007183702662587166, 0.0041711824014782906, 0.019002052024006844, 0.003939449787139893, 0.007183702662587166, 0.004804249852895737, 0.17655616998672485, 0.8035107851028442, 0.0012010624632239342, 0.0024021249264478683, 0.0012010624632239342, 0.009608499705791473, 0.0012010624632239342, 0.0022359981667250395, 0.04592395946383476, 0.596495509147644, 0.0013759988360106945, 0.2917117476463318, 0.0010319991270080209, 0.00533199543133378, 0.011695990338921547, 0.009115992113947868, 0.008083992637693882, 0.003783996682614088, 0.02287597954273224, 0.0011392758460715413, 0.004746982362121344, 0.4042530357837677, 0.0030380687676370144, 0.5345102548599243, 0.0009493965189903975, 0.00911420676857233, 0.018987929448485374, 0.0043672239407896996, 0.00854456890374422, 0.005316620692610741, 0.004746982362121344, 0.009027715772390366, 0.9840210676193237, 0.05532114952802658, 0.22401650249958038, 0.1667317897081375, 0.005207700654864311, 0.19379475712776184, 0.005122328642755747, 0.004524723626673222, 0.18559904396533966, 0.05275998264551163, 0.033978112041950226, 0.020489314571022987, 0.05241849645972252, 0.9887644648551941, 0.995081901550293, 0.03353044018149376, 0.039535894989967346, 0.4694261848926544, 0.0010009086690843105, 0.23154354095458984, 0.0008340905769728124, 0.04654225334525108, 0.0385349839925766, 0.020852264016866684, 0.061222247779369354, 0.01267817709594965, 0.04437362030148506, 0.9828460216522217, 0.10748046636581421, 0.10650188475847244, 0.18266786634922028, 0.061324212700128555, 0.10527866333723068, 0.15331052243709564, 0.07991719245910645, 0.019163815304636955, 0.024464445188641548, 0.006768496707081795, 0.11547218263149261, 0.03759369999170303, 0.9917982220649719, 0.09807508438825607, 0.0027243078220635653, 0.010897231288254261, 0.00817292369902134, 0.0027243078220635653, 0.0054486156441271305, 0.0054486156441271305, 0.8554326891899109, 0.010897231288254261, 0.10851243138313293, 0.8904646039009094, 0.9991350769996643, 0.9951656460762024, 0.9892876148223877, 0.999441921710968, 0.9880587458610535, 0.9834299683570862, 0.01995917037129402, 0.9713462591171265, 0.006653056479990482, 0.027311932295560837, 0.00031393024255521595, 0.0006278604851104319, 0.7688152194023132, 0.013499001041054726, 0.020405467599630356, 0.0009417907567694783, 0.07973828166723251, 0.012871140614151955, 0.05713530629873276, 0.002197511726990342, 0.016324372962117195, 0.9981221556663513, 0.04851279780268669, 0.005570847541093826, 0.0060350848361849785, 0.08843720704317093, 0.018337372690439224, 0.36512264609336853, 0.29804033041000366, 0.006731440778821707, 0.0752064436674118, 0.020426440984010696, 0.05942237377166748, 0.008124152198433876, 0.00024976543500088155, 0.0014985926682129502, 0.9581002593040466, 0.03996247053146362, 0.002144228434190154, 0.9949219822883606, 0.08669061958789825, 0.012291952967643738, 0.0012938898289576173, 0.8759633898735046, 0.0025877796579152346, 0.0025877796579152346, 0.001940834685228765, 0.0012938898289576173, 0.00776333874091506, 0.005175559315830469, 0.0012938898289576173, 0.0012938898289576173, 0.20429708063602448, 0.03254289552569389, 0.009039693512022495, 0.7430627942085266, 0.010847632773220539, 0.9911762475967407, 0.9969291090965271, 0.0023256512358784676, 0.9896412491798401, 0.0029176627285778522, 0.0058353254571557045, 0.0003241847443860024, 0.12059672176837921, 0.009077172726392746, 0.6866232752799988, 0.007132064551115036, 0.016857607290148735, 0.0979037955403328, 0.048627711832523346, 0.0025934779550880194, 0.0012967389775440097, 0.11858581751585007, 0.8734857439994812, 0.00578467408195138, 0.9937155842781067, 0.9844938516616821, 0.01370431762188673, 0.006852158810943365, 0.973006546497345, 0.0008732529822736979, 0.0017465059645473957, 0.0039296383038163185, 0.0951845720410347, 0.002183132339268923, 0.0004366264911368489, 0.5348674654960632, 0.002183132339268923, 0.21482022106647491, 0.015718553215265274, 0.008732529357075691, 0.11876240372657776, 0.0782572478055954, 0.22460846602916718, 0.6961845755577087, 0.000508163939230144, 0.9858703017234802, 0.9899297952651978, 0.060042787343263626, 0.023349972441792488, 0.9139845967292786, 0.004394472111016512, 0.9931506514549255, 0.6681764721870422, 0.0015781210968270898, 0.03329835459589958, 0.02588118612766266, 0.0020515574142336845, 0.006943732965737581, 0.0759076252579689, 0.0015781210968270898, 0.041820209473371506, 0.06880608201026917, 0.011835908517241478, 0.06186234578490257, 0.007326073013246059, 0.9816937446594238, 0.3898412585258484, 0.1724320650100708, 0.2035244256258011, 0.0033228478860110044, 0.008307119831442833, 0.003916213288903236, 0.05565769970417023, 0.002610808936879039, 0.008425792679190636, 0.05672575905919075, 0.08936087042093277, 0.005814983509480953, 0.09542886912822723, 0.0088771041482687, 0.00443855207413435, 0.002219276037067175, 0.7689791917800903, 0.09986742585897446, 0.0011096380185335875, 0.0177542082965374, 0.01465508621186018, 0.8927898406982422, 0.0022898572497069836, 0.0022898572497069836, 0.010685999877750874, 0.006869571283459663, 0.0018318857764825225, 0.051649000495672226, 0.006564257200807333, 0.004528828430920839, 0.00025442856713198125, 0.005546542815864086, 0.00018765007553156465, 0.8519313335418701, 0.0009382503922097385, 0.06886757910251617, 0.04484836757183075, 0.0003753001510631293, 0.019327957183122635, 0.00487890187650919, 0.0007506003021262586, 0.004691252019256353, 0.003377701388671994, 0.010777457617223263, 0.026943642646074295, 0.02604552172124386, 0.00449060695245862, 0.0008981214486993849, 0.00044906072434969246, 0.8271698355674744, 0.00044906072434969246, 0.010777457617223263, 0.0166152473539114, 0.013920881785452366, 0.06107225641608238, 0.000683080346789211, 0.9819279909133911, 0.00307386158965528, 0.000683080346789211, 0.00307386158965528, 0.0003415401733946055, 0.002049240982159972, 0.005123102571815252, 0.0003415401733946055, 0.001024620491079986, 0.0017077007796615362, 0.0011375276371836662, 0.9852614402770996, 0.0003250078880228102, 0.0017875434132292867, 0.000812519749160856, 0.0006500157760456204, 0.004712614230811596, 0.0027625670190900564, 0.0001625039440114051, 0.0001625039440114051, 0.0013000315520912409, 0.000812519749160856, 0.002392182359471917, 0.00047843647189438343, 0.03588273748755455, 0.0014353094156831503, 0.004784364718943834, 0.8281735777854919, 0.00047843647189438343, 0.03301211819052696, 0.010525602847337723, 0.08229107409715652, 0.9920406937599182, 0.9900572896003723, 0.9936239123344421, 0.1172715425491333, 0.007868058979511261, 0.07512122392654419, 0.013862770050764084, 0.004308698698878288, 0.00018733472097665071, 0.6200779676437378, 0.00018733472097665071, 0.0028100209310650826, 0.08205261081457138, 0.039340291172266006, 0.036904942244291306, 0.016079051420092583, 0.9808220863342285, 0.9869795441627502, 0.0008634991245344281, 0.0034539964981377125, 0.005180994980037212, 0.002590497490018606, 0.9919976592063904, 0.9758173227310181, 0.0005335250752978027, 0.0016005751676857471, 0.0005335250752978027, 0.009603451006114483, 0.0005335250752978027, 0.003734675468876958, 0.006402300670742989, 0.0010670501505956054, 0.994164228439331, 0.9962075352668762, 0.0019562249071896076, 0.0014671686803922057, 0.9905962347984314, 0.044295042753219604, 0.0022147521376609802, 0.9523434042930603, 0.9968669414520264, 0.005756119731813669, 0.9478410482406616, 0.04221154376864433, 0.003837413154542446, 0.9791567921638489, 0.998692512512207, 0.018260013312101364, 0.9799540638923645, 0.006980950012803078, 0.9912949204444885, 0.9951135516166687, 0.9813089966773987, 0.013629292137920856, 0.9837003946304321, 0.011115258559584618, 0.9966328144073486, 0.0010490871500223875, 0.9980771541595459, 0.0008840364753268659, 0.0002946788154076785, 0.9831691384315491, 0.9997020959854126, 0.06553853303194046, 0.004369235131889582, 0.9262778759002686, 0.07772878557443619, 0.01710033230483532, 0.006218302994966507, 0.02642778679728508, 0.7881699204444885, 0.03575524315237999, 0.04663727059960365, 0.9913496375083923, 0.053375449031591415, 0.00574812525883317, 0.0016423215856775641, 0.020529018715023994, 0.058302413672208786, 0.012317411601543427, 0.08457955718040466, 0.20693251490592957, 0.528006374835968, 0.01149625051766634, 0.016423216089606285, 0.986297070980072, 0.022452155128121376, 0.9609522223472595, 0.008980861864984035, 0.0021808145102113485, 0.9944514036178589, 0.0021808145102113485, 0.14590221643447876, 0.003629408311098814, 0.0061699943616986275, 0.00508117163553834, 0.02068762667477131, 0.20288392901420593, 0.00508117163553834, 0.07875815778970718, 0.060974061489105225, 0.25587329268455505, 0.21522390842437744, 0.004089957103133202, 0.9864976406097412, 0.0028629698790609837, 0.00040899572195485234, 0.00040899572195485234, 0.00040899572195485234, 0.0032719657756388187, 0.00040899572195485234, 0.0008179914439097047, 0.00040899572195485234, 0.001630457234568894, 0.2576122283935547, 0.01141320075839758, 0.7271839380264282, 0.024083495140075684, 0.004250028636306524, 0.03163910284638405, 0.0009444507886655629, 0.21958480775356293, 0.014166762121021748, 0.0037778031546622515, 0.053361471742391586, 0.1005840077996254, 0.4623086750507355, 0.05288924649357796, 0.033528003841638565, 0.0004956313641741872, 0.9848195314407349, 0.0009912627283483744, 0.0009912627283483744, 0.0014868940925225616, 0.0004956313641741872, 0.0019825254566967487, 0.0004956313641741872, 0.0014868940925225616, 0.005451945122331381, 0.0014868940925225616, 0.9920815229415894, 0.9837044477462769, 0.0035641465801745653, 0.0035641465801745653, 0.007128293160349131, 0.0007918860064819455, 0.01662960648536682, 0.00039594300324097276, 0.9071054458618164, 0.07285351306200027, 0.001979714957997203, 0.9634478092193604, 0.035647567361593246, 0.9768193960189819, 0.010461252182722092, 0.010461252182722092, 0.0013076565228402615, 0.005599717143923044, 0.0015999191673472524, 0.941552460193634, 0.0007999595836736262, 0.044797737151384354, 0.0007999595836736262, 0.0007999595836736262, 0.0023998788092285395, 0.0007999595836736262, 0.9898970127105713, 0.004230329301208258, 0.12548968195915222, 0.19256174564361572, 0.1711595058441162, 0.04245363920927048, 0.11402836441993713, 0.03350679576396942, 0.05590313673019409, 0.047131724655628204, 0.046956297010183334, 0.09256764501333237, 0.042161256074905396, 0.03613822162151337, 0.9768766164779663, 0.00864492543041706, 0.011526567861437798, 0.0028816419653594494, 0.9905584454536438, 0.0002634463889990002, 0.000790339196100831, 0.0002634463889990002, 0.0002634463889990002, 0.0002634463889990002, 0.0002634463889990002, 0.006849606055766344, 0.000790339196100831, 0.00016765229520387948, 0.00653843954205513, 0.6325520873069763, 0.00033530459040775895, 0.2957386374473572, 0.010729746893048286, 0.007209048606455326, 0.011400355957448483, 0.009053223766386509, 0.016429925337433815, 0.0036883503198623657, 0.006035482510924339, 0.012207450345158577, 0.12126067280769348, 0.8048778772354126, 0.0008138300036080182, 0.008952130563557148, 0.0008138300036080182, 0.029297880828380585, 0.008952130563557148, 0.0008138300036080182, 0.0032553200144320726, 0.0032553200144320726, 0.005696810316294432, 0.0066521503031253815, 0.009313010610640049, 0.9805269241333008, 0.001330430037342012, 0.0011808250565081835, 0.005904125049710274, 0.9718189835548401, 0.011808250099420547, 0.0011808250565081835, 0.008265774697065353, 0.0010646313894540071, 0.7183600068092346, 0.2685532569885254, 0.009315524250268936, 0.0010646313894540071, 0.0002661578473635018, 0.0005323156947270036, 0.0005323156947270036, 0.0002661578473635018, 0.9936811327934265, 0.09658857434988022, 0.14444777369499207, 0.07233265787363052, 0.1027885153889656, 0.09125880151987076, 0.09637103229761124, 0.06569763273000717, 0.09822013974189758, 0.10474639385938644, 0.05601702257990837, 0.027736583724617958, 0.04394344985485077, 0.004451456945389509, 0.022257285192608833, 0.0022257284726947546, 0.0022257284726947546, 0.9526118040084839, 0.011128642596304417, 0.10220345854759216, 0.38336342573165894, 0.13930746912956238, 0.02196771465241909, 0.10273925215005875, 0.04514097422361374, 0.04165828973054886, 0.043801482766866684, 0.08693321794271469, 0.0064295753836631775, 0.008170918561518192, 0.01848502829670906, 0.9810546040534973, 0.0011625095503404737, 0.03778155893087387, 0.1906515657901764, 0.006393802352249622, 0.01104384008795023, 0.0052312929183244705, 0.0005812547751702368, 0.7265684604644775, 0.02034391649067402, 0.0135175921022892, 0.9786736369132996, 0.0027035183738917112, 0.1578533798456192, 0.07223799079656601, 0.4200505316257477, 0.013823318295180798, 0.05462440475821495, 0.0073575726710259914, 0.008918270468711853, 0.02675480954349041, 0.026977766305208206, 0.15673859417438507, 0.04080108553171158, 0.013823318295180798, 0.12828119099140167, 0.12024535238742828, 0.05069883167743683, 0.2065940797328949, 0.14946657419204712, 0.0374031700193882, 0.030682289972901344, 0.06823156774044037, 0.14493729174137115, 0.019724328070878983, 0.014756720513105392, 0.029221227392554283, 0.05459628626704216, 0.8859488368034363, 0.05873236805200577, 0.0019223354756832123, 0.9207987189292908, 0.007689341902732849, 0.011534012854099274, 0.05190305784344673, 0.0019223354756832123, 0.0019223354756832123, 0.0019709900952875614, 0.18527308106422424, 0.732222855091095, 0.033506833016872406, 0.008869456127285957, 0.016753416508436203, 0.0009854950476437807, 0.018724406138062477, 0.9649078249931335, 0.00137451256159693, 0.008496986702084541, 0.0021242466755211353, 0.00024991139071062207, 0.0006247784476727247, 0.002998936455696821, 0.0008746898383833468, 0.0008746898383833468, 0.012745480053126812, 0.00137451256159693, 0.003498759353533387, 0.03275482356548309, 0.9662673473358154, 0.003669616300612688, 0.003669616300612688, 0.011008848436176777, 0.003669616300612688, 0.9761179089546204, 0.1539115309715271, 0.023425785824656487, 0.11466305702924728, 0.023220296949148178, 0.0988403782248497, 0.021576382219791412, 0.0801408514380455, 0.01541170198470354, 0.12863633036613464, 0.04520765691995621, 0.2876850962638855, 0.007397616747766733, 0.9922438263893127, 0.9912670254707336, 0.005553316790610552, 0.002776658395305276, 0.0018128383671864867, 0.0009064191835932434, 0.9943418502807617, 0.0009064191835932434, 0.9760065674781799, 0.001359557150863111, 0.0033988929353654385, 0.006797785870730877, 0.0006797785754315555, 0.14071416854858398, 0.11692191660404205, 0.04350582882761955, 0.06118007004261017, 0.615199625492096, 0.010196678340435028, 0.09398742020130157, 0.024502556771039963, 0.043153759092092514, 0.0003657097986433655, 0.13019269704818726, 0.593181312084198, 0.003291388275101781, 0.004388517700135708, 0.03327959403395653, 0.008777035400271416, 0.01353126298636198, 0.05119937285780907, 0.06262779235839844, 0.008384247310459614, 0.0001270340580958873, 0.8629423379898071, 0.0017784767551347613, 0.04916217923164368, 0.0008892383775673807, 0.0021595789585262537, 0.0015244086971506476, 0.0013973746681585908, 0.004065089859068394, 0.004954328294843435, 0.05645198002457619, 0.0298948772251606, 0.057758066803216934, 0.5119860768318176, 0.12219168990850449, 0.022348597645759583, 0.050066664814949036, 0.03628019243478775, 0.0050792270340025425, 0.04106917604804039, 0.053404442965984344, 0.01349623128771782, 0.04704904928803444, 0.0671997219324112, 0.18625508248806, 0.2508666515350342, 0.20927120745182037, 0.011276982724666595, 0.08124973624944687, 0.04778852313756943, 0.006008228287100792, 0.010352639481425285, 0.04825069382786751, 0.03447798639535904, 0.9892705082893372, 0.0042104474268853664, 0.9726133346557617, 0.012631341814994812, 0.0042104474268853664, 0.09908897429704666, 0.04193701222538948, 0.0007671404746361077, 0.759149432182312, 0.004411057569086552, 0.008438545279204845, 0.007607476320117712, 0.015151023864746094, 0.004922484513372183, 0.0037717740051448345, 0.01042032428085804, 0.04423843324184418, 0.9877585172653198, 0.9915295839309692, 0.004080368671566248, 0.991978645324707, 0.19028009474277496, 0.11170671880245209, 0.03029334731400013, 0.6664536595344543, 0.8483096957206726, 0.0006001483416184783, 0.0006001483416184783, 0.05821439251303673, 0.0006001483416184783, 0.0018004451412707567, 0.042910609394311905, 0.00030007417080923915, 0.0036008902825415134, 0.009902448393404484, 0.008102002553641796, 0.025806380435824394, 0.07205268740653992, 0.4937155842781067, 0.07617653161287308, 0.0013746140757575631, 0.11478027701377869, 0.046736881136894226, 0.015006204135715961, 0.019817354157567024, 0.0690743625164032, 0.07743659615516663, 0.0019473700085654855, 0.012027873657643795, 0.028213053941726685, 0.004702175501734018, 0.004702175501734018, 0.004702175501734018, 0.9592438340187073, 0.9977824687957764, 0.0020837553311139345, 0.996035099029541, 0.9939380288124084, 0.004949979018419981, 0.03547484800219536, 0.022274905815720558, 0.006599972024559975, 0.0008249965030699968, 0.020624913275241852, 0.0057749757543206215, 0.9033711552619934, 0.9938021898269653, 0.06956438720226288, 0.0009153209393844008, 0.03642977401614189, 0.08018211275339127, 0.4534499943256378, 0.2718503177165985, 0.0009153209393844008, 0.04210476204752922, 0.007688695564866066, 0.00988546572625637, 0.019953995943069458, 0.00695643899962306, 0.04338981211185455, 0.0006942370091564953, 0.004512540530413389, 0.08226708322763443, 0.7119400501251221, 0.006595251616090536, 0.019091516733169556, 0.05380336567759514, 0.0565803162753582, 0.007289488334208727, 0.01353762112557888, 0.06723906844854355, 0.11789145320653915, 0.19174419343471527, 0.04125675931572914, 0.27871933579444885, 0.047345541417598724, 0.04928765445947647, 0.0771595910191536, 0.02031344175338745, 0.012597483582794666, 0.05637373775243759, 0.04010199010372162, 0.9893654584884644, 0.003650795202702284, 0.9938690066337585, 0.015149504877626896, 0.01767442189157009, 0.9594686627388, 0.005049834959208965, 0.9864909648895264, 0.976980984210968, 0.004770263098180294, 0.001590087777003646, 0.07950438559055328, 0.1526484191417694, 0.7616519927978516, 0.0065999580547213554, 0.9916437268257141, 0.004457647446542978, 0.9940553307533264, 0.002268786309286952, 0.004651011899113655, 0.5496134757995605, 0.00022687861928716302, 0.3154747188091278, 0.00022687861928716302, 0.01043641660362482, 0.018717486411333084, 0.009982659481465816, 0.05887500196695328, 0.016562139615416527, 0.01315896026790142, 0.009211666882038116, 0.0031380404252558947, 0.2480064183473587, 0.000911044015083462, 0.2121720314025879, 0.000911044015083462, 0.0446411557495594, 0.00526381004601717, 0.1355431079864502, 0.15791429579257965, 0.1801842600107193, 0.0020245423074811697, 0.023738691583275795, 0.03165159001946449, 0.9416347742080688, 0.9891592264175415, 0.9967199563980103, 0.0466112419962883, 0.1958431601524353, 0.02501438371837139, 0.10978798568248749, 0.12008802592754364, 0.05819285288453102, 0.007974225096404552, 0.14434295892715454, 0.11681289970874786, 0.043383579701185226, 0.0672587901353836, 0.06474310904741287, 0.09274130314588547, 0.8876667022705078, 0.015898508951067924, 0.2329421490430832, 0.0015126114012673497, 0.7638687491416931, 0.9960445761680603, 0.98978590965271, 0.008423710241913795, 0.9977535605430603, 0.008903868496418, 0.004451934248209, 0.017807736992836, 0.9616177678108215, 0.08691691607236862, 0.9117029905319214, 0.987221360206604, 0.0068390560336411, 0.006079161074012518, 0.9126340746879578, 0.0015197902685031295, 0.0037994757294654846, 0.007598951458930969, 0.02431664429605007, 0.0273562241345644, 0.007598951458930969, 0.0022796853445470333, 0.008906165137887001, 0.03117157705128193, 0.2907862961292267, 0.03295281156897545, 0.4991905391216278, 0.016476405784487724, 0.002671849448233843, 0.004007774405181408, 0.06546030938625336, 0.02449195273220539, 0.014249864034354687, 0.008906165137887001, 0.36689096689224243, 0.008877628482878208, 0.026479823514819145, 0.13798590004444122, 0.005280658137053251, 0.006581690162420273, 0.22737443447113037, 0.004515345674008131, 0.009949066676199436, 0.144337996840477, 0.030535981059074402, 0.03130129352211952, 0.9891152381896973, 0.004995531868189573, 0.9969680905342102, 0.01038965955376625, 0.003463219851255417, 0.983554482460022, 0.008507223799824715, 0.9868379235267639, 0.01702992245554924, 0.9685768485069275, 0.01277244184166193, 0.0010987347923219204, 0.015382287092506886, 0.7855953574180603, 0.005493673961609602, 0.14723046123981476, 0.043949391692876816, 0.0010987347923219204, 0.9907712936401367, 0.011414175853133202, 0.9759120941162109, 0.005707087926566601, 0.15587776899337769, 0.2945089340209961, 0.007635904476046562, 0.2908226251602173, 0.007899211719632149, 0.08136187493801117, 0.027515586465597153, 0.04463054612278938, 0.03541480004787445, 0.02145952545106411, 0.010268975049257278, 0.0226444061845541, 0.9965896010398865, 0.12749764323234558, 0.06528230011463165, 0.5542423725128174, 0.000438136252341792, 0.09084025025367737, 0.02482772059738636, 0.004819498863071203, 0.05067776143550873, 0.02599608339369297, 0.028040720149874687, 0.008470633998513222, 0.018693814054131508, 0.03804848715662956, 0.03727514296770096, 0.2245788723230362, 0.014848189428448677, 0.20895734429359436, 0.13177768886089325, 0.04253387823700905, 0.030005717650055885, 0.09960660338401794, 0.1164654865860939, 0.018096230924129486, 0.0374298132956028, 0.002610379597172141, 0.005220759194344282, 0.03654531389474869, 0.07178543508052826, 0.002610379597172141, 0.03524012491106987, 0.8470681309700012, 0.9926942586898804, 0.0010535778710618615, 0.0010535778710618615, 0.012642933987081051, 0.9850952625274658, 0.02930595353245735, 0.02189895324409008, 0.10820659250020981, 0.03703499585390091, 0.08051086217164993, 0.1297835111618042, 0.02576347440481186, 0.0019322606967762113, 0.041865646839141846, 0.05796781927347183, 0.44216564297676086, 0.023831214755773544, 0.0019135487964376807, 0.0019135487964376807, 0.0038270975928753614, 0.0019135487964376807, 0.9778234362602234, 0.01148129254579544, 0.0010885046795010567, 0.249267578125, 0.7107935547828674, 0.0010885046795010567, 0.004354018718004227, 0.0021770093590021133, 0.005442523397505283, 0.0021770093590021133, 0.023947102949023247, 0.0007416568114422262, 0.81656414270401, 0.14239810407161713, 0.0022249703761190176, 0.0029666272457689047, 0.0007416568114422262, 0.008158224634826183, 0.0074165682308375835, 0.01779976300895214, 0.009587297216057777, 0.016511455178260803, 0.1283632516860962, 0.037550244480371475, 0.05113225057721138, 0.0005326276295818388, 0.05273013189435005, 0.11211811006069183, 0.015179886482656002, 0.5507369637489319, 0.005326276179403067, 0.020239848643541336, 0.014358604326844215, 0.0008204916957765818, 0.0008204916957765818, 0.018461063504219055, 0.0004102458478882909, 0.0012307375436648726, 0.00533319590613246, 0.0004102458478882909, 0.0004102458478882909, 0.9571035504341125, 0.0008204916957765818, 0.00037166886613704264, 0.1412341594696045, 0.754859447479248, 0.013380078598856926, 0.005946701858192682, 0.06058202311396599, 0.023415137082338333, 0.42218703031539917, 0.1495053917169571, 0.11074814200401306, 0.05808984115719795, 0.013716936111450195, 0.09325674921274185, 0.045477624982595444, 0.015742255374789238, 0.006352138239890337, 0.03176068887114525, 0.030011551454663277, 0.023107053712010384, 0.9913492798805237, 0.0013916929019615054, 0.0004638976533897221, 0.0013916929019615054, 0.003711181227117777, 0.0009277953067794442, 0.009966243989765644, 0.9866582155227661, 0.021037593483924866, 0.965099573135376, 0.010518796741962433, 0.06243153288960457, 0.020184630528092384, 0.001408230047672987, 0.05257392302155495, 0.035675160586833954, 0.774057149887085, 0.013143480755388737, 0.002816460095345974, 0.020184630528092384, 0.0023470500018447638, 0.01267407089471817, 0.003285870188847184, 0.9974895715713501, 0.05434973165392876, 0.9420620203018188, 0.9910479784011841, 0.003382416209205985, 0.02794080413877964, 0.8717530965805054, 0.03352896496653557, 0.005588160827755928, 0.05960705131292343, 0.12029611319303513, 0.0004265819734428078, 0.0008531639468856156, 0.29007574915885925, 0.0004265819734428078, 0.0004265819734428078, 0.560955286026001, 0.0008531639468856156, 0.020902516320347786, 0.0021329098381102085, 0.0017063278937712312, 0.0008531639468856156, 0.9932994842529297, 0.9952374696731567, 0.003468716749921441, 0.9920530319213867, 0.9978978037834167, 0.0021576567087322474, 0.019418910145759583, 0.00863062683492899, 0.021576566621661186, 0.0021576567087322474, 0.9450536370277405, 0.0016294110100716352, 0.01699242927134037, 0.5593535304069519, 0.00023277300351765007, 0.34846118092536926, 0.00139663799200207, 0.004422686994075775, 0.006052098236978054, 0.009543693624436855, 0.016526883468031883, 0.011871423572301865, 0.023277301341295242, 0.01304114330559969, 0.18316878378391266, 0.0005927792517468333, 0.6668766736984253, 0.008891688659787178, 0.012744753621518612, 0.06787322461605072, 0.013633922673761845, 0.032602857798337936, 0.0005927792517468333, 0.06400669366121292, 0.018733667209744453, 0.0023417084012180567, 0.7200753092765808, 0.005073701497167349, 0.026929646730422974, 0.07961808145046234, 0.0015611388953402638, 0.002731993095949292, 0.008586264215409756, 0.025758791714906693, 0.044882744550704956, 0.013462856411933899, 0.0011219047009944916, 0.9547408819198608, 0.01458476111292839, 0.004487618803977966, 0.008975237607955933, 0.0011219047009944916, 0.13258612155914307, 0.01741817593574524, 0.0031196733471006155, 0.3598023056983948, 0.011178829707205296, 0.061613548547029495, 0.022617630660533905, 0.0023397549521178007, 0.08241137117147446, 0.0031196733471006155, 0.22097685933113098, 0.08293131738901138, 0.9751311540603638, 0.0028512608259916306, 0.019958825781941414, 0.9986364245414734, 0.001517588971182704, 0.003862953744828701, 0.006070355884730816, 0.0013796263374388218, 0.034628622233867645, 0.8105304837226868, 0.0009657384362071753, 0.10526549071073532, 0.02276383526623249, 0.009381459094583988, 0.0009657384362071753, 0.0027592526748776436, 0.04975546896457672, 0.012815803289413452, 0.9129375219345093, 0.0060309660620987415, 0.018092898651957512, 0.9915282130241394, 0.003376276232302189, 0.7296507954597473, 0.22583536803722382, 0.002250850899145007, 0.006377410609275103, 0.004126559942960739, 0.0026259925216436386, 0.015005672350525856, 0.010503970086574554, 0.02977595292031765, 0.9395967721939087, 0.02977595292031765, 0.06357366591691971, 0.01824287697672844, 0.03980264067649841, 0.002211257815361023, 0.0011056289076805115, 0.0005528144538402557, 0.0005528144538402557, 0.009397845715284348, 0.0011056289076805115, 0.8596264719963074, 0.0033168867230415344, 0.13351845741271973, 0.1178676187992096, 0.060348574072122574, 0.1154801994562149, 0.08546065539121628, 0.10053674876689911, 0.05570637434720993, 0.09173867851495743, 0.07564572244882584, 0.06388548761606216, 0.051417868584394455, 0.04836728051304817, 0.15048621594905853, 0.7774786353111267, 0.027763500809669495, 0.0018106631468981504, 0.002917179372161627, 0.0004023695655632764, 0.022331511601805687, 0.0014082934940233827, 0.0011065163416787982, 0.005934951361268759, 0.005431989207863808, 0.002917179372161627, 0.1683000773191452, 0.767448365688324, 0.004912542644888163, 0.010734816081821918, 0.0032750286627560854, 0.0003638920607045293, 0.022743254899978638, 0.0010916761821135879, 0.0009097301517613232, 0.002001406392082572, 0.017830710858106613, 0.0005458380910567939, 0.008287712931632996, 0.9779500961303711, 0.03805134445428848, 0.1041027382016182, 0.12492328137159348, 0.0014358997577801347, 0.7301550507545471, 0.9856324791908264, 0.47267305850982666, 0.0901235044002533, 0.16321100294589996, 0.03909154608845711, 0.10411736369132996, 0.007681412622332573, 0.019393665716052055, 0.024641362950205803, 0.01779654063284397, 0.03171434625983238, 0.00851800199598074, 0.021142898127436638, 0.0037421768065541983, 0.0018710884032770991, 0.0037421768065541983, 0.046777207404375076, 0.0018710884032770991, 0.9411574602127075, 0.005925520323216915, 0.9777108430862427, 0.005925520323216915, 0.005925520323216915, 0.9835326075553894, 0.008264979347586632, 0.13507753610610962, 0.0022894497960805893, 0.5048236846923828, 0.0031479934696108103, 0.029190484434366226, 0.008013074286282063, 0.060956601053476334, 0.017170874401926994, 0.04235482215881348, 0.007154530845582485, 0.09272271394729614, 0.09672925621271133, 0.00029405741952359676, 0.18731458485126495, 0.5672367811203003, 0.07175001502037048, 0.05616496875882149, 0.09880329668521881, 0.018525617197155952, 0.027860643342137337, 0.07459462434053421, 0.12672099471092224, 0.0008987304754555225, 0.7046046853065491, 0.005392382852733135, 0.004493652377277613, 0.0539238266646862, 0.01205404568463564, 0.03177884593605995, 0.8580288887023926, 0.044928714632987976, 0.03397049009799957, 0.0010958223138004541, 0.017533157020807266, 0.003997690975666046, 0.9574469327926636, 0.011493360623717308, 0.0004997113719582558, 0.01998845301568508, 0.0004997113719582558, 0.002498556626960635, 0.0014991339994594455, 0.0004997113719582558, 0.0004997113719582558, 0.0014991339994594455, 0.005527448374778032, 0.9894132614135742, 0.002763724187389016, 0.009876126423478127, 0.05959731712937355, 0.1326466053724289, 0.0929718166589737, 0.37648478150367737, 0.08888514339923859, 0.0037461169995367527, 0.08769319206476212, 0.07628456503152847, 0.036950334906578064, 0.004427229519933462, 0.030139215290546417, 0.014160622842609882, 0.9770829677581787, 0.9406952261924744, 0.005248764529824257, 0.0005831960588693619, 0.0005831960588693619, 0.0005831960588693619, 0.05015486106276512, 0.0017495881766080856, 0.006298396270722151, 0.010797251015901566, 0.9150670170783997, 0.0008997708791866899, 0.0044988542795181274, 0.06208419054746628, 0.9228758811950684, 0.0025423578917980194, 0.010169431567192078, 0.003813536837697029, 0.058474231511354446, 0.022396648302674294, 0.019069146364927292, 0.06015099585056305, 0.010622410103678703, 0.3294226825237274, 0.1758456826210022, 0.1507614254951477, 0.04504925757646561, 0.11518275737762451, 0.016637509688735008, 0.021628761664032936, 0.03314703702926636, 0.10336567461490631, 0.003703656140714884, 0.019865065813064575, 0.00033669601543806493, 0.7626164555549622, 0.05286127328872681, 0.015488016419112682, 0.01851828023791313, 0.022558633238077164, 0.12998542189598083, 0.015512664802372456, 0.010698389261960983, 0.0037444361951202154, 0.7023492455482483, 0.05509670451283455, 0.05509670451283455, 0.005884114187210798, 0.020861858502030373, 0.04153034836053848, 0.017042126506567, 0.057628605514764786, 0.13392488658428192, 0.06009315699338913, 0.11646326631307602, 0.13125059008598328, 0.06219065189361572, 0.12836652994155884, 0.06549420207738876, 0.13303345441818237, 0.05306655913591385, 0.004444092512130737, 0.991032600402832, 0.042784202843904495, 0.10337123274803162, 0.008614269085228443, 0.6891415119171143, 0.04048706591129303, 0.0163671113550663, 0.05369561165571213, 0.002584280679002404, 0.0017228538636118174, 0.00947569590061903, 0.002297138562425971, 0.029862800613045692, 0.005224198568612337, 0.12276867032051086, 0.0013060496421530843, 0.005224198568612337, 0.8646048903465271, 0.9872716069221497, 0.005577805917710066, 0.987820029258728, 0.002850851509720087, 0.005701703019440174, 0.0014254257548600435, 0.0025445069186389446, 0.013994787819683552, 0.075699083507061, 0.0006361267296597362, 0.12849760055541992, 0.0031806337647140026, 0.01590316742658615, 0.7226399779319763, 0.013358660973608494, 0.01272253505885601, 0.0019083801889792085, 0.008269647136330605, 0.0021263149101287127, 0.021971922367811203, 0.0007087716949172318, 0.0007087716949172318, 0.003543858416378498, 0.9646382331848145, 0.005670173559337854, 0.014853741973638535, 0.9803469777107239, 0.9949670433998108, 0.0015734111657366157, 0.03225493058562279, 0.007080350536853075, 0.942473292350769, 0.0015734111657366157, 0.013373995199799538, 0.0007867055828683078, 0.0007867055828683078, 0.0007867055828683078, 0.9824551939964294, 0.9891381859779358, 0.004173578694462776, 0.004173578694462776, 0.9829804301261902, 0.008679739199578762, 0.008087938651442528, 0.011918112635612488, 0.9200782775878906, 0.01787716895341873, 0.03575433790683746, 0.005959056317806244, 0.0011918112868443131, 0.0011918112868443131, 0.0023836225736886263, 0.0011918112868443131, 0.0035754337441176176, 0.9994638562202454, 0.25690484046936035, 0.02191605418920517, 0.0004058528284076601, 0.6522055268287659, 0.00405852822586894, 0.0016234113136306405, 0.03612090274691582, 0.0016234113136306405, 0.010958027094602585, 0.0012175585143268108, 0.007305351085960865, 0.006087792571634054, 0.9979726076126099, 0.0024852296337485313, 0.9592986702919006, 0.0029822755604982376, 0.033302076160907745, 0.0014911377802491188, 0.012959419749677181, 0.0026583424769341946, 0.35123351216316223, 0.001993756741285324, 0.009304198436439037, 0.0003322928096167743, 0.5147215723991394, 0.000996878370642662, 0.001993756741285324, 0.004319806583225727, 0.09005135297775269, 0.009304198436439037, 0.989355206489563, 0.978872537612915, 0.019554445520043373, 0.9915601015090942, 0.0027852810453623533, 0.0027852810453623533, 0.9899969696998596, 0.01677340269088745, 0.9818892478942871, 0.9985074996948242, 0.0065664565190672874, 0.0032832282595336437, 0.9882516860961914, 0.9962688088417053, 0.004293730482459068, 0.9932830333709717, 0.023001855239272118, 0.0017830895958468318, 0.013729790225625038, 0.648509681224823, 0.0039227972738444805, 0.2833329439163208, 0.0017830895958468318, 0.0074889762327075005, 0.0007132358150556684, 0.002674634335562587, 0.0014264716301113367, 0.011590082198381424, 0.07528602331876755, 0.0008183263707906008, 0.0004091631853953004, 0.9071147441864014, 0.01227489486336708, 0.0008183263707906008, 0.0008183263707906008, 0.0008183263707906008, 0.0008183263707906008, 0.0008183263707906008, 0.0008183263707906008, 0.04891462251543999, 0.0023668366484344006, 0.018934693187475204, 0.006311564240604639, 0.05522618442773819, 0.0528593510389328, 0.7108399271965027, 0.03471360355615616, 0.06942720711231232, 0.00048206979408860207, 0.2434452474117279, 0.0843622162938118, 0.00048206979408860207, 0.026031767949461937, 0.007231046911329031, 0.0014462093822658062, 0.08098772168159485, 0.51436847448349, 0.031334538012742996, 0.007713116705417633, 0.0014462093822658062, 0.9807911515235901, 0.9866889715194702, 0.010386199690401554, 0.994385838508606, 0.9773812890052795, 0.0014797596959397197, 0.0022196394857019186, 0.0007398798479698598, 0.0007398798479698598, 0.0014797596959397197, 0.0014797596959397197, 0.0029595193918794394, 0.005179158877581358, 0.0007398798479698598, 0.005919038783758879, 0.9038841724395752, 0.006910182069987059, 0.011876875534653664, 0.017383426427841187, 0.002429360756650567, 0.001673559658229351, 0.005776480305939913, 0.0010797159047797322, 0.004858721513301134, 0.015493923798203468, 0.009717443026602268, 0.01894901506602764, 0.0017951023764908314, 0.0017951023764908314, 0.002692653564736247, 0.0008975511882454157, 0.7790744304656982, 0.0008975511882454157, 0.0062828585505485535, 0.005385307129472494, 0.2010514736175537, 0.0007677924586459994, 0.0007677924586459994, 0.0030711698345839977, 0.03301507607102394, 0.95283043384552, 0.0023033772595226765, 0.0061423396691679955, 0.0017575983656570315, 0.014060786925256252, 0.02284877933561802, 0.9596487283706665, 0.13339616358280182, 0.2488868087530136, 0.5801390409469604, 0.013429144397377968, 0.02238190732896328, 0.14930012822151184, 0.013255618512630463, 0.026685653254389763, 0.17162537574768066, 0.020755507051944733, 0.029476309195160866, 0.3577272891998291, 0.0368017815053463, 0.0891265943646431, 0.026685653254389763, 0.043604008853435516, 0.03505762293934822, 0.001588665647432208, 0.0022695225197821856, 0.0011347612598910928, 0.912121057510376, 0.0029503791593015194, 0.045390449464321136, 0.0009078089497052133, 0.010893707163631916, 0.016113609075546265, 0.00408514030277729, 0.00045390447485260665, 0.0018156178994104266, 0.020488981157541275, 0.0032351023983210325, 0.020488981157541275, 0.049604903906583786, 0.03774286061525345, 0.009705306962132454, 0.03450775891542435, 0.7462302446365356, 0.06685878336429596, 0.0053918370977044106, 0.006470204796642065, 0.02864314615726471, 0.9681383371353149, 0.003931456245481968, 0.9907270073890686, 0.12832045555114746, 0.121669702231884, 0.02973278984427452, 0.6462969183921814, 0.0035209881607443094, 0.0023473254404962063, 0.025429358705878258, 0.01564883626997471, 0.01486639492213726, 0.007041976321488619, 0.004694650880992413, 0.0003912209067493677, 0.7555869221687317, 0.0016679622931405902, 0.0013343698810786009, 0.018681177869439125, 0.0003335924702696502, 0.03102409839630127, 0.0006671849405393004, 0.08973637223243713, 0.020349139347672462, 0.057377904653549194, 0.022350694984197617, 0.0010007773526012897, 0.006979247555136681, 0.9840738773345947, 0.04514540359377861, 0.04514540359377861, 0.019099978730082512, 0.0017363616498187184, 0.008681808598339558, 0.010418170131742954, 0.8577626943588257, 0.008681808598339558, 0.02089230902493, 0.009642604738473892, 0.02089230902493, 0.006428402848541737, 0.0008035503560677171, 0.9369397163391113, 0.0040177516639232635, 0.17801719903945923, 0.0008599864668212831, 0.8204271197319031, 0.6325660347938538, 0.0007938830531202257, 0.09272554516792297, 0.08859734982252121, 0.010479256510734558, 0.007780054118484259, 0.047632984817028046, 0.00015877661644481122, 0.003334308974444866, 0.10653910785913467, 0.004286968614906073, 0.004922075197100639, 0.12033959478139877, 0.038508668541908264, 0.004653131123632193, 0.21484628319740295, 0.04123636707663536, 0.0608116090297699, 0.014922109432518482, 0.04300134629011154, 0.22736160457134247, 0.12868313491344452, 0.08985356241464615, 0.01572437398135662, 0.002605706686154008, 0.07011719793081284, 0.23427672684192657, 0.016581770032644272, 0.18524205684661865, 0.017766183242201805, 0.0018950594821944833, 0.21579989790916443, 0.006632708013057709, 0.0063958256505429745, 0.22740714251995087, 0.015160475857555866, 0.01217466127127409, 0.0022135747130960226, 0.05201900377869606, 0.0011067873565480113, 0.011067873798310757, 0.01217466127127409, 0.04095113277435303, 0.003320361953228712, 0.06419366598129272, 0.7913529276847839, 0.009961086325347424, 0.006093693431466818, 0.025593511760234833, 0.009749908931553364, 0.9530536532402039, 0.0012187386164441705, 0.0012187386164441705, 0.0012187386164441705, 0.0012187386164441705, 0.9970259070396423, 0.9954741597175598, 0.002932177158072591, 0.4346151649951935, 0.35067039728164673, 0.04230184108018875, 0.05495285987854004, 0.009620044380426407, 0.051526542752981186, 0.009751826524734497, 0.007379760500043631, 0.016472678631544113, 0.01844940148293972, 0.0032945359125733376, 0.0009224700625054538, 0.9976310729980469, 0.028184369206428528, 0.9676633477210999, 0.002926037646830082, 0.002926037646830082, 0.9948528409004211, 0.9917962551116943, 0.10323777049779892, 0.07858674228191376, 0.05337967351078987, 0.07784535735845566, 0.22408342361450195, 0.024465683847665787, 0.03706922009587288, 0.08377643674612045, 0.18886767327785492, 0.03929337114095688, 0.06524182111024857, 0.024094991385936737, 0.98784339427948, 0.9824217557907104, 0.973861575126648, 0.9944658279418945, 0.9852944612503052, 0.015697460621595383, 0.03668824955821037, 0.03668824955821037, 0.06351995468139648, 0.04763996601104736, 0.3654222786426544, 0.011134245432913303, 0.010769187472760677, 0.01441975962370634, 0.04289422184228897, 0.32435333728790283, 0.0308473352342844, 0.07478322088718414, 0.07809220999479294, 0.17239847779273987, 0.00672828359529376, 0.07853341102600098, 0.2060399055480957, 0.03253842145204544, 0.045994989573955536, 0.045994989573955536, 0.015331663191318512, 0.18453145027160645, 0.05901035666465759, 0.997558057308197, 0.9843155741691589, 0.010856421664357185, 0.996829628944397, 0.008464133366942406, 0.9818394780158997, 0.028605004772543907, 0.04086429253220558, 0.032691434025764465, 0.042226433753967285, 0.006810715422034264, 0.09262572973966599, 0.02043214626610279, 0.7341951131820679, 0.9950400590896606, 0.987256646156311, 0.005037023685872555, 0.02035139873623848, 0.976867139339447, 0.9931226372718811, 0.14149188995361328, 0.8576585054397583, 0.021801726892590523, 0.01744138076901436, 0.006540518254041672, 0.9527354836463928, 0.004929112270474434, 0.9923946261405945, 0.9858844876289368, 0.9854987859725952, 0.9809077978134155, 0.13830101490020752, 0.011130865663290024, 0.03673185780644417, 0.29357659816741943, 0.010017779655754566, 0.01530494075268507, 0.4157378375530243, 0.020592100918293, 0.02643580548465252, 0.012243952602148056, 0.006121976301074028, 0.01391358207911253, 0.030735502019524574, 0.17356517910957336, 0.054239120334386826, 0.001807970693334937, 0.04158332571387291, 0.022599633783102036, 0.005423911847174168, 0.6671411991119385, 0.0009039853466674685, 0.001807970693334937, 0.9924606084823608, 0.0038025311660021544, 0.9921613931655884, 0.0005399290239438415, 0.059932123869657516, 0.1387617588043213, 0.7888363599777222, 0.011338509619235992, 0.2495356947183609, 0.0009452109807170928, 0.0004726054903585464, 0.0004726054903585464, 0.7476618885993958, 0.006122122053056955, 0.16912361979484558, 0.039793793112039566, 0.6650155186653137, 0.007652652449905872, 0.015305304899811745, 0.0635170191526413, 0.002295795828104019, 0.015305304899811745, 0.010713713243603706, 0.004591591656208038, 0.011652485467493534, 0.9788087606430054, 0.011652485467493534, 0.0005512858624570072, 0.9829427003860474, 0.010474431328475475, 0.003307715291157365, 0.0016538576455786824, 0.0005512858624570072, 0.003166850423440337, 0.9183866381645203, 0.07600440829992294, 0.9988150000572205, 0.9840936660766602, 0.0037860702723264694, 0.035336658358573914, 0.06562522053718567, 0.005679105408489704, 0.0649942085146904, 0.0018930351361632347, 0.12304728478193283, 0.022716421633958817, 0.10285491496324539, 0.48903408646583557, 0.013882257975637913, 0.07067331671714783, 0.3184167444705963, 0.03138020262122154, 0.0018458941485732794, 0.0009229470742866397, 0.0009229470742866397, 0.08491113036870956, 0.005537682678550482, 0.0018458941485732794, 0.0036917882971465588, 0.5509994029998779, 0.02078387141227722, 0.004366359207779169, 0.0909949317574501, 0.09675852209329605, 0.08645391464233398, 0.006986175198107958, 0.3823184370994568, 0.04907787963747978, 0.12173409759998322, 0.11527188867330551, 0.02113317884504795, 0.004366359207779169, 0.00026144692674279213, 0.007843407802283764, 0.9919296503067017, 0.9934349060058594, 0.012532937340438366, 0.006266468670219183, 0.9775691032409668, 0.0038670275826007128, 0.9860920310020447, 0.0038670275826007128, 0.9877365231513977, 0.007209755480289459, 0.009004210121929646, 0.007503508124500513, 0.8538992404937744, 0.127559632062912, 0.9834749698638916, 0.24230284988880157, 0.014883466996252537, 0.004167370963841677, 0.6872192621231079, 0.00277824723161757, 0.0051596020348370075, 0.023019762709736824, 0.0007937849150039256, 0.0037704783026129007, 0.007739402819424868, 0.005754940677434206, 0.0025798010174185038, 0.2361305207014084, 0.010104413144290447, 0.020810279995203018, 0.06471636146306992, 0.008179763332009315, 0.25946688652038574, 0.3073425590991974, 0.0026463938411325216, 0.009984122589230537, 0.02357696369290352, 0.04137997701764107, 0.015637781471014023, 0.9887893199920654, 0.003955157473683357, 0.21719732880592346, 0.17391474545001984, 0.14795944094657898, 0.05925508216023445, 0.057329826056957245, 0.022532619535923004, 0.0720188170671463, 0.033941540867090225, 0.009982805699110031, 0.02296045422554016, 0.12827906012535095, 0.05462021008133888, 0.0024694246239960194, 0.9939433932304382, 0.0012347123119980097, 0.0012347123119980097, 0.0012347123119980097, 0.0012347123119980097, 0.9767595529556274, 0.008304012939333916, 0.002076003234833479, 0.0010380016174167395, 0.0010380016174167395, 0.0010380016174167395, 0.008304012939333916, 0.006117905955761671, 0.9911007881164551, 0.06853001564741135, 0.07340842485427856, 0.09501279890537262, 0.46855947375297546, 0.026482785120606422, 0.01091834157705307, 0.11173877120018005, 0.048784077167510986, 0.0164936650544405, 0.016261359676718712, 0.03879495710134506, 0.02532126009464264, 0.9966230392456055, 0.014772550202906132, 0.20252135396003723, 0.020097538828849792, 0.05376521125435829, 0.014429002068936825, 0.018379800021648407, 0.016490288078784943, 0.4448942244052887, 0.06201035529375076, 0.1025489792227745, 0.027827361598610878, 0.022502372041344643, 0.020165853202342987, 0.003068716963753104, 0.03068716824054718, 0.16512618958950043, 0.014905196614563465, 0.599276602268219, 0.047492045909166336, 0.007160339504480362, 0.03550943732261658, 0.023088442161679268, 0.01022905670106411, 0.043254297226667404, 0.012483835220336914, 0.0005589777138084173, 0.002422236604616046, 0.6150618195533752, 0.0009316295036114752, 0.288618803024292, 0.017514634877443314, 0.001676933141425252, 0.009502620436251163, 0.004099169746041298, 0.04285495728254318, 0.003912843763828278, 0.996245265007019, 0.3521644175052643, 0.0731770247220993, 0.09947501868009567, 0.007241476327180862, 0.002667912282049656, 0.042305465787649155, 0.00038113031769171357, 0.046497900038957596, 0.0019056516466662288, 0.3750322461128235, 0.9881184697151184, 0.9815865159034729, 0.007177107501775026, 0.990440845489502, 0.9898417592048645, 0.006186510901898146, 0.10714736580848694, 0.007829672656953335, 0.0005106308381073177, 0.18144415318965912, 0.012680665589869022, 0.515907347202301, 0.07259467989206314, 0.001446787384338677, 0.06961600482463837, 0.01574445143342018, 0.006638200953602791, 0.008595619350671768, 0.013241772539913654, 0.0002817398344632238, 0.2138405442237854, 0.003944357857108116, 0.5775666832923889, 0.04310619458556175, 0.0005634796689264476, 0.13495337963104248, 0.005916536785662174, 0.00366261787712574, 0.0030991381499916315, 0.009444724768400192, 0.0232744999229908, 0.0050596739165484905, 0.05801759287714958, 0.019226761534810066, 0.7117274403572083, 0.06476382911205292, 0.017540203407406807, 0.021250629797577858, 0.03575503081083298, 0.027659550309181213, 0.005734296981245279, 0.9972791075706482, 0.10420152544975281, 0.8950166702270508, 0.9939709305763245, 0.00205220771022141, 0.03283532336354256, 0.00205220771022141, 0.0697750598192215, 0.00410441542044282, 0.00410441542044282, 0.047200776636600494, 0.06361843645572662, 0.7716301083564758, 0.0018476840341463685, 0.0018476840341463685, 0.15520545840263367, 0.8129809498786926, 0.024019893258810043, 0.00461921002715826, 0.9823380708694458, 0.004161954857409, 0.9905452728271484, 0.004161954857409, 0.991389274597168, 0.9961192607879639, 0.9957347512245178, 0.996620774269104, 0.006390884052962065, 0.019172653555870056, 0.9714143872261047, 0.9876903891563416, 0.9919397830963135, 0.9952593445777893, 0.9962517023086548, 0.9867432713508606, 0.00476697226986289, 0.9454495310783386, 0.03654678910970688, 0.011122935451567173, 0.9952914714813232, 0.08011308312416077, 0.003409067401662469, 0.9068119525909424, 0.008522668853402138, 0.9953441023826599, 0.0012108137598261237, 0.9529104232788086, 0.016951391473412514, 0.0012108137598261237, 0.008475695736706257, 0.0012108137598261237, 0.007264882326126099, 0.008475695736706257, 0.9971557259559631, 0.004472137428820133, 0.9883424043655396, 0.9894024729728699, 0.0008797214832156897, 0.002639164449647069, 0.19529816508293152, 0.7873507142066956, 0.012316101230680943, 0.0017594429664313793, 0.9907540678977966, 0.0018158311722800136, 0.9941675662994385, 0.0018158311722800136, 0.0018158311722800136, 0.9807658791542053, 0.017537640407681465, 0.048652809113264084, 0.06958483159542084, 0.0005657303263433278, 0.6488927006721497, 0.002262921305373311, 0.1985713541507721, 0.0011314606526866555, 0.012446067295968533, 0.9820348024368286, 0.005036075599491596, 0.002518037799745798, 0.007554113864898682, 0.005614269990473986, 0.7377150654792786, 0.2548878490924835, 0.04276783764362335, 0.9237853288650513, 0.0036658148746937513, 0.02810458093881607, 0.02009134739637375, 0.0033485577441751957, 0.9744303226470947, 0.9908499717712402, 0.005777550861239433, 0.012400266714394093, 0.014673649333417416, 0.029760640114545822, 0.0035134090576320887, 0.23705177009105682, 0.649154007434845, 0.012606938369572163, 0.02914062701165676, 0.006200133357197046, 0.0012400266714394093, 0.0022733823861926794, 0.0022733823861926794, 0.0018983198096975684, 0.003163866465911269, 0.020248744636774063, 0.044926904141902924, 0.9105607271194458, 0.005694959778338671, 0.0107571454718709, 0.0006327732698991895, 0.002531093079596758, 0.21772170066833496, 0.08662340044975281, 0.04912764951586723, 0.05008556693792343, 0.13698266446590424, 0.03763259947299957, 0.03817998245358467, 0.1810470074415207, 0.051317181438207626, 0.019158413633704185, 0.08593916893005371, 0.046390730887651443, 0.3873555660247803, 0.00972071010619402, 0.01030984427779913, 0.04182850942015648, 0.034758903086185455, 0.03770457208156586, 0.010015277191996574, 0.06215362995862961, 0.04359591007232666, 0.2710016071796417, 0.06274276226758957, 0.028867563232779503, 0.0003614079614635557, 0.7181175947189331, 0.01770898886024952, 0.012287870049476624, 0.011926461942493916, 0.003071967512369156, 0.0007228159229271114, 0.1984129697084427, 0.0045175994746387005, 0.013733502477407455, 0.018070397898554802, 0.0007228159229271114, 0.9960235953330994, 0.995345950126648, 0.021437879651784897, 0.11612185090780258, 0.05984741449356079, 0.0004466224927455187, 0.5774828791618347, 0.016525031998753548, 0.005359469912946224, 0.12773403525352478, 0.037069667130708694, 0.016078410670161247, 0.011165563017129898, 0.011165563017129898, 0.9885127544403076, 0.0070862253196537495, 0.9743559956550598, 0.0035431126598268747, 0.010629338212311268, 0.9961338639259338, 0.9967691898345947, 0.9957664608955383, 0.0016002755146473646, 0.0502486526966095, 0.0032005510292947292, 0.0076813227497041225, 0.008321432396769524, 0.02880495972931385, 0.005120881833136082, 0.671795666217804, 0.0384066142141819, 0.10209757834672928, 0.047688212245702744, 0.03488600626587868, 0.003799510421231389, 0.02279706299304962, 0.9688751697540283, 0.1301593780517578, 0.15100310742855072, 0.10550326853990555, 0.022169776260852814, 0.22207070887088776, 0.09087536484003067, 0.04777897521853447, 0.07164774090051651, 0.06008630990982056, 0.021133804693818092, 0.019724885001778603, 0.05784861370921135, 0.03399417921900749, 0.035430554300546646, 0.1984589844942093, 0.01077280379831791, 0.05314583331346512, 0.0035909346770495176, 0.005027308594435453, 0.0421336330473423, 0.4447970986366272, 0.07923995703458786, 0.07660660147666931, 0.016757695004343987, 0.0059158592484891415, 0.987948477268219, 0.9890137910842896, 0.06125622242689133, 0.05354979261755943, 0.014721252955496311, 0.22892042994499207, 0.06550464034080505, 0.14988014101982117, 0.08180669695138931, 0.06817224621772766, 0.19977432489395142, 0.01333804801106453, 0.023020483553409576, 0.04001414403319359, 0.007324849721044302, 0.988854706287384, 0.989927351474762, 0.025829007849097252, 0.7280551791191101, 0.02744332142174244, 0.015174542553722858, 0.048752252012491226, 0.004197213798761368, 0.0067801144905388355, 0.07328981161117554, 0.02453755773603916, 0.015174542553722858, 0.017434580251574516, 0.013237366452813148, 0.9959965348243713, 0.05640287697315216, 0.0058928378857672215, 0.8165789246559143, 0.0353570282459259, 0.015153011307120323, 0.04124986380338669, 0.013469343073666096, 0.009260173887014389, 0.006734671536833048, 0.0002536271058488637, 0.9942182898521423, 0.00126813561655581, 0.0002536271058488637, 0.00126813561655581, 0.0010145084233954549, 0.0007608813466504216, 0.0002536271058488637, 0.0002536271058488637, 0.0005072542116977274, 0.995210587978363, 0.0018765756394714117, 0.0006255251937545836, 0.0006255251937545836, 0.0006255251937545836, 0.0006255251937545836, 0.2496047168970108, 0.004862429574131966, 0.5437816977500916, 0.0002701349731069058, 0.0013506748946383595, 0.0002701349731069058, 0.0010805398924276233, 0.007023509591817856, 0.08644319325685501, 0.1023811548948288, 0.0029714847914874554, 0.14794090390205383, 0.05167798697948456, 0.04726291820406914, 0.15973854064941406, 0.12239141762256622, 0.02381240576505661, 0.03474150225520134, 0.07266764342784882, 0.16140322387218475, 0.09322303533554077, 0.07056868076324463, 0.014548004604876041, 0.010235132649540901, 0.00682342192158103, 0.01705855503678322, 0.9655141830444336, 0.0008487682207487524, 0.7401258945465088, 0.004243840929120779, 0.12901276350021362, 0.005516993347555399, 0.050501707941293716, 0.002970688743516803, 0.06662830710411072, 0.9906486868858337, 0.0016653395723551512, 0.002775565953925252, 0.0033306791447103024, 0.0038857923354953527, 0.09381412714719772, 0.002775565953925252, 0.7860402464866638, 0.0754953920841217, 0.017763622105121613, 0.0083266980946064, 0.0038857923354953527, 0.0962371900677681, 0.03730974346399307, 0.05640355125069618, 0.13991153240203857, 0.06232921779155731, 0.23329561948776245, 0.11774515360593796, 0.02677522599697113, 0.06057346239686012, 0.07023010402917862, 0.06869381666183472, 0.030396467074751854, 0.0022734608501195908, 0.0022734608501195908, 0.0022734608501195908, 0.003410191275179386, 0.8093520402908325, 0.16368918120861053, 0.015914225950837135, 0.017533250153064728, 0.02922208420932293, 0.0077925557270646095, 0.8786106109619141, 0.037014637142419815, 0.0058444165624678135, 0.021429527550935745, 0.994049608707428, 0.009205103851854801, 0.981264054775238, 0.007364083081483841, 0.0009205103851854801, 0.9874327778816223, 0.010129328817129135, 0.001447046990506351, 0.9101925492286682, 0.07669349014759064, 0.10727272182703018, 0.003155080135911703, 0.0904456302523613, 0.002103386679664254, 0.004206773359328508, 0.005258467048406601, 0.016827093437314034, 0.7687878608703613, 0.0025844660121947527, 0.0025844660121947527, 0.0025844660121947527, 0.0025844660121947527, 0.9820970892906189, 0.007753397803753614, 0.9876318573951721, 0.002476950641721487, 0.990780234336853, 0.004953901283442974, 0.010517963208258152, 0.988688588142395, 0.22523465752601624, 0.014677398838102818, 0.010509742423892021, 0.024824736639857292, 0.023375116288661957, 0.016670625656843185, 0.006885693408548832, 0.017395436763763428, 0.5939816832542419, 0.0558103583753109, 0.0030804418493062258, 0.007429300807416439, 0.09647208452224731, 0.0033266234677284956, 0.8981883525848389, 0.9914461374282837, 0.0011945134028792381, 0.0011945134028792381, 0.0035835402086377144, 0.9948493242263794, 0.02641199715435505, 0.003773142583668232, 0.005659713875502348, 0.9602648019790649, 0.001886571291834116, 0.051555316895246506, 0.010648705065250397, 0.0006493112887255847, 0.23544026911258698, 0.049217794090509415, 0.4789319932460785, 0.0781770795583725, 0.03324473649263382, 0.02973845601081848, 0.009609807282686234, 0.009350082837045193, 0.013375812210142612, 0.001412494108080864, 0.013418694958090782, 0.9838021993637085, 0.000706247054040432, 0.0012861802242696285, 0.05273338779807091, 0.0012861802242696285, 0.9436275362968445, 0.00042872675112448633, 0.9857332110404968, 0.002409553388133645, 0.9806882739067078, 0.01686687394976616, 0.9942407608032227, 0.01198656763881445, 0.9828985333442688, 0.9942704439163208, 0.11099672317504883, 0.02403750643134117, 0.008130333386361599, 0.7023900747299194, 0.021916549652814865, 0.022270042449235916, 0.036056261509656906, 0.007069854997098446, 0.01343272440135479, 0.012018753215670586, 0.03287482634186745, 0.008837318979203701, 0.9930610656738281, 0.9967036843299866, 0.9921140074729919, 0.07077545672655106, 0.10344790667295456, 0.0848415270447731, 0.030446801334619522, 0.43106260895729065, 0.03302854672074318, 0.023502793163061142, 0.08742327243089676, 0.07504869252443314, 0.012196525931358337, 0.007567187305539846, 0.04059573635458946, 0.9981391429901123, 0.9904809594154358, 0.0059958347119390965, 0.9391657710075378, 0.0010901517234742641, 0.021803036332130432, 0.006540910806506872, 0.0005450758617371321, 0.0059958347119390965, 0.0010901517234742641, 0.016897352412343025, 0.9750274419784546, 0.016250457614660263, 0.005883519537746906, 0.06135670468211174, 0.012887709774076939, 0.00448268186300993, 0.01905139721930027, 0.5592145323753357, 0.023534078150987625, 0.25299134850502014, 0.013167877681553364, 0.017650559544563293, 0.0030818437226116657, 0.026896091178059578, 0.9984431266784668, 0.12508182227611542, 0.15858878195285797, 0.14440526068210602, 0.034157585352659225, 0.1579381674528122, 0.07641539722681046, 0.03705284744501114, 0.11698159575462341, 0.06733923405408859, 0.027000756934285164, 0.02309703268110752, 0.03191294148564339, 0.9948506355285645, 0.9909828305244446, 0.006541226524859667, 0.03736046701669693, 0.2056712508201599, 0.005283298436552286, 0.47379863262176514, 0.006729915738105774, 0.020189747214317322, 0.08604228496551514, 0.08767759054899216, 0.023586152121424675, 0.010440804064273834, 0.036731503903865814, 0.05735841393470764, 0.017052501440048218, 0.08784621953964233, 0.000516742467880249, 0.002583712339401245, 0.0780281126499176, 0.055291444063186646, 0.017569243907928467, 0.6831335425376892, 0.02020621858537197, 0.10638487339019775, 0.14507028460502625, 0.0006908108480274677, 0.05457405745983124, 0.3074108362197876, 0.03764919191598892, 0.18582811951637268, 0.012607297860085964, 0.0050083789974451065, 0.022969461977481842, 0.10154920071363449, 0.9846678376197815, 0.0007631605258211493, 0.014309260062873363, 0.06948114931583405, 0.0009731252794153988, 0.018684005364775658, 0.018100131303071976, 0.892550528049469, 0.00807669386267662, 0.004772591404616833, 0.35280466079711914, 0.00036712244036607444, 0.0044054691679775715, 0.10903536528348923, 0.008810938335955143, 0.006975326221436262, 0.015786264091730118, 0.4464208781719208, 0.04221908003091812, 0.003454148070886731, 0.9628437757492065, 0.03281440585851669, 0.9913069605827332, 0.9918867349624634, 0.9388644695281982, 0.00018751037714537233, 0.04106477275490761, 0.0007500415085814893, 0.00037502075429074466, 0.00018751037714537233, 0.016313403844833374, 0.0005625311168842018, 0.001312572625465691, 0.973217248916626, 0.00022738720872439444, 0.0009095488348975778, 0.00022738720872439444, 0.00022738720872439444, 0.02433043159544468, 0.00022738720872439444, 0.0004547744174487889, 0.03738027438521385, 0.022478677332401276, 0.06011151894927025, 0.0007577082142233849, 0.04622020199894905, 0.3240465521812439, 0.0027782635297626257, 0.27807891368865967, 0.026772357523441315, 0.07324513047933578, 0.010607914999127388, 0.1176973432302475, 0.07081236690282822, 0.000562002882361412, 0.001686008763499558, 0.000562002882361412, 0.06912636011838913, 0.002810014644637704, 0.8536823987960815, 0.001124005764722824, 0.004358458332717419, 0.005811277311295271, 0.00048427312867715955, 0.18692941963672638, 0.005811277311295271, 0.7385165095329285, 0.008716916665434837, 0.0019370925147086382, 0.004358458332717419, 0.005811277311295271, 0.036320485174655914, 0.00048427312867715955, 0.9966834783554077, 0.01309919636696577, 0.002619839273393154, 0.000873279757797718, 0.05152350664138794, 0.9178170561790466, 0.006112958304584026, 0.000873279757797718, 0.006986238062381744, 0.036072541028261185, 0.0016396609134972095, 0.0016396609134972095, 0.0016396609134972095, 0.9559223055839539, 0.003279321826994419, 0.0039112078957259655, 0.0039112078957259655, 0.007822415791451931, 0.9836688041687012, 0.991050660610199, 0.9980851411819458, 0.020153719931840897, 0.9673784971237183, 0.005038429982960224, 0.9867388010025024, 0.0478891059756279, 0.9504145979881287, 0.996538519859314, 0.0020848086569458246], \"Term\": [\"abrigo\", \"acceso\", \"acceso\", \"acceso\", \"acceso\", \"acceso\", \"acceso\", \"acceso\", \"acceso\", \"acceso\", \"acceso\", \"acceso\", \"acceso\", \"aceleracion\", \"aceleracion\", \"aceleracion\", \"aceleracion\", \"acompa\", \"acompa\", \"acompa\", \"acompa\", \"acompa\", \"acompa\", \"acompa\", \"acompa\", \"acompa\", \"acompa\", \"acompa\", \"acompa\", \"acontecimiento\", \"action\", \"action\", \"action\", \"actividades\", \"actividades\", \"actividades\", \"actividades\", \"actividades\", \"actividades\", \"actividades\", \"actividades\", \"actividades\", \"actividades\", \"actividades\", \"actividades\", \"acto\", \"acto\", \"acto\", \"acto\", \"acto\", \"acto\", \"acto\", \"acto\", \"acto\", \"acto\", \"acto\", \"acto\", \"actor\", \"actor\", \"actor\", \"actor\", \"actor\", \"actor\", \"actor\", \"actor\", \"actrices\", \"actrices\", \"actrices\", \"actrices\", \"actrices\", \"actrices\", \"actrices\", \"actriz\", \"actriz\", \"actualizaciones\", \"actualizaciones\", \"acuerdo\", \"acuerdo\", \"acuerdo\", \"acuerdo\", \"acuerdo\", \"acuerdo\", \"acuerdo\", \"acuerdo\", \"acuerdo\", \"acuerdo\", \"acuerdo\", \"acuerdo\", \"adobe\", \"adobe\", \"adobe\", \"adquisiciones\", \"adquisiciones\", \"adrede\", \"aeronave\", \"aeronave\", \"aeronave\", \"aeropuerto\", \"aeropuerto\", \"aeropuerto\", \"aeropuerto\", \"aeropuerto\", \"aeropuerto\", \"aeropuerto\", \"aeropuerto\", \"aeropuerto\", \"aeropuerto\", \"agua\", \"agua\", \"agua\", \"agua\", \"agua\", \"agua\", \"agua\", \"agua\", \"agua\", \"agua\", \"agua\", \"agua\", \"agustina\", \"agustina\", \"aires\", \"aires\", \"aires\", \"aires\", \"aires\", \"aires\", \"aires\", \"aires\", \"aires\", \"aires\", \"aires\", \"aires\", \"alambre\", \"alberto\", \"alberto\", \"alberto\", \"alberto\", \"alberto\", \"alberto\", \"alberto\", \"alberto\", \"alberto\", \"alberto\", \"alberto\", \"alberto\", \"alcaidia\", \"alexa\", \"alexa\", \"alfred\", \"aliados\", \"aliados\", \"aliados\", \"alimentos\", \"alimentos\", \"alimentos\", \"alimentos\", \"alimentos\", \"alimentos\", \"alimentos\", \"alimentos\", \"alimentos\", \"alimentos\", \"alimentos\", \"almacenamiento\", \"almacenamiento\", \"almacenamiento\", \"almacenamiento\", \"almacenamiento\", \"alquiler\", \"alquiler\", \"alquiler\", \"alquiler\", \"alquiler\", \"alquiler\", \"alquiler\", \"alteraciones\", \"alteraciones\", \"alumnos\", \"alumnos\", \"alumnos\", \"alumnos\", \"alumnos\", \"alumnos\", \"alumnos\", \"alumnos\", \"amazon\", \"amba\", \"amigos\", \"amigos\", \"amigos\", \"amigos\", \"amigos\", \"amigos\", \"amigos\", \"amigos\", \"amigos\", \"amigos\", \"amigos\", \"amigos\", \"amor\", \"amor\", \"amor\", \"amor\", \"amor\", \"amor\", \"amor\", \"amor\", \"amor\", \"ana\", \"ana\", \"ana\", \"ana\", \"ana\", \"ana\", \"ana\", \"ana\", \"ana\", \"ana\", \"ana\", \"ana\", \"android\", \"anillos\", \"anillos\", \"anillos\", \"antecesores\", \"aparicio\", \"aperturas\", \"apla\", \"aplicacion\", \"aplicacion\", \"aplicacion\", \"aplicacion\", \"aplicacion\", \"aplicacion\", \"aplicacion\", \"aplicacion\", \"aplicacion\", \"aplicacion\", \"aplicacion\", \"aplicaciones\", \"aplicaciones\", \"aplicaciones\", \"aplicaciones\", \"aplicaciones\", \"aplicaciones\", \"aplicaciones\", \"aplicaciones\", \"app\", \"app\", \"app\", \"app\", \"apple\", \"apple\", \"apple\", \"apple\", \"apps\", \"aproximaciones\", \"ara\", \"aranceles\", \"aranceles\", \"aranceles\", \"armas\", \"armas\", \"armas\", \"armas\", \"armas\", \"armas\", \"armas\", \"armas\", \"armas\", \"arquitectos\", \"arte\", \"arte\", \"arte\", \"arte\", \"arte\", \"arte\", \"arte\", \"arte\", \"arte\", \"arte\", \"artefactos\", \"asedio\", \"asedio\", \"asesores\", \"asesores\", \"asesores\", \"asuncion\", \"asuncion\", \"atlas\", \"aula\", \"aula\", \"aula\", \"aula\", \"aumento\", \"aumento\", \"aumento\", \"aumento\", \"aumento\", \"aumento\", \"aumento\", \"aumento\", \"aumento\", \"aumento\", \"aumento\", \"aumento\", \"auriculares\", \"auriculares\", \"auriculares\", \"auriculares\", \"autoridades\", \"autoridades\", \"autoridades\", \"autoridades\", \"autoridades\", \"autoridades\", \"autoridades\", \"autoridades\", \"autoridades\", \"autoridades\", \"autoridades\", \"autoridades\", \"avion\", \"avion\", \"avion\", \"avion\", \"avion\", \"avion\", \"avion\", \"avion\", \"aviones\", \"aviones\", \"aviones\", \"aviones\", \"aviones\", \"aviones\", \"aviones\", \"aviones\", \"aviones\", \"ballottage\", \"ballottage\", \"ballottage\", \"ballottage\", \"balones\", \"banda\", \"banda\", \"banda\", \"banda\", \"banda\", \"banda\", \"banda\", \"banda\", \"banda\", \"banda\", \"banda\", \"banda\", \"barbaridad\", \"barbaridad\", \"barcos\", \"barricadas\", \"barricadas\", \"barrio\", \"barrio\", \"barrio\", \"barrio\", \"barrio\", \"barrio\", \"barrio\", \"barrio\", \"barrio\", \"barrio\", \"barrio\", \"barrio\", \"baterias\", \"baterias\", \"baterias\", \"baterias\", \"baterias\", \"bebe\", \"bebe\", \"bebe\", \"bebe\", \"bebe\", \"bebe\", \"bebe\", \"beso\", \"beso\", \"beso\", \"beso\", \"beso\", \"beso\", \"beso\", \"bicampeon\", \"bicicleta\", \"bicicleta\", \"bicicleta\", \"bicicleta\", \"bicicleta\", \"bicicleta\", \"bicicleta\", \"billeteras\", \"biro\", \"bisagra\", \"bisagra\", \"black\", \"black\", \"black\", \"blasfemia\", \"blasfemia\", \"blind\", \"blind\", \"blind\", \"bluetooth\", \"bluetooth\", \"bluetooth\", \"bluetooth\", \"board\", \"boca\", \"boca\", \"boca\", \"boca\", \"boca\", \"boca\", \"boca\", \"boca\", \"boca\", \"boca\", \"boca\", \"boca\", \"boda\", \"boda\", \"boda\", \"boda\", \"boleta\", \"boleta\", \"boleta\", \"boletas\", \"boletas\", \"boletas\", \"bolso\", \"bolso\", \"bolso\", \"bolso\", \"bomberos\", \"bomberos\", \"bonadio\", \"bonadio\", \"bonadio\", \"bonadio\", \"brest\", \"brest\", \"brest\", \"brexit\", \"brexit\", \"brexit\", \"brexit\", \"bromas\", \"bromas\", \"buds\", \"buds\", \"buds\", \"buds\", \"buds\", \"buds\", \"buggax\", \"bunker\", \"bunker\", \"buscadores\", \"cacho\", \"cacho\", \"cacho\", \"cacho\", \"cacho\", \"cacho\", \"caducidad\", \"cajeros\", \"call\", \"call\", \"calle\", \"calle\", \"calle\", \"calle\", \"calle\", \"calle\", \"calle\", \"calle\", \"calle\", \"calle\", \"calle\", \"calle\", \"camarografo\", \"camarografos\", \"cambio\", \"cambio\", \"cambio\", \"cambio\", \"cambio\", \"cambio\", \"cambio\", \"cambio\", \"cambio\", \"cambio\", \"cambio\", \"cambio\", \"caminata\", \"caminata\", \"caminata\", \"camiones\", \"camiones\", \"camiones\", \"camionetas\", \"campa\", \"campa\", \"campa\", \"campa\", \"campa\", \"campa\", \"campa\", \"campa\", \"campa\", \"campa\", \"campa\", \"campa\", \"campeonato\", \"campeonato\", \"campeonato\", \"campeonato\", \"campeonato\", \"campeonato\", \"canasta\", \"cancer\", \"cancer\", \"cancer\", \"cancion\", \"cancion\", \"cancion\", \"cancion\", \"cancion\", \"cancion\", \"cancion\", \"cancion\", \"cancion\", \"canciones\", \"canciones\", \"canciones\", \"canciones\", \"canciones\", \"canciones\", \"canciones\", \"canciones\", \"canciones\", \"candidato\", \"candidato\", \"candidato\", \"candidato\", \"candidato\", \"candidato\", \"candidato\", \"candidato\", \"candidato\", \"candidato\", \"candidato\", \"candidato\", \"candidatos\", \"candidatos\", \"candidatos\", \"candidatos\", \"candidatos\", \"candidatos\", \"candidatos\", \"candidatos\", \"candidatos\", \"candidatos\", \"candidatos\", \"candidatos\", \"cannabis\", \"cannabis\", \"cannabis\", \"cannabis\", \"cantante\", \"cantante\", \"cantante\", \"cantante\", \"capa\", \"capa\", \"carbohidratos\", \"carbono\", \"carbono\", \"carbono\", \"carbono\", \"cardona\", \"carga\", \"carga\", \"carga\", \"carga\", \"carga\", \"carga\", \"carga\", \"carga\", \"carga\", \"carga\", \"carga\", \"carga\", \"cargas\", \"cargas\", \"cargas\", \"cargas\", \"cargo\", \"cargo\", \"cargo\", \"cargo\", \"cargo\", \"cargo\", \"cargo\", \"cargo\", \"cargo\", \"cargo\", \"cargo\", \"cargo\", \"carmen\", \"carmen\", \"carmen\", \"carmen\", \"carmen\", \"carmen\", \"carne\", \"carne\", \"carne\", \"carne\", \"carne\", \"carne\", \"carne\", \"carne\", \"carne\", \"carne\", \"carne\", \"carpas\", \"carpas\", \"carrera\", \"carrera\", \"carrera\", \"carrera\", \"carrera\", \"carrera\", \"carrera\", \"carrera\", \"carrera\", \"carrera\", \"carrera\", \"carrera\", \"carreteras\", \"carreteras\", \"carreteras\", \"cartilago\", \"casa\", \"casa\", \"casa\", \"casa\", \"casa\", \"casa\", \"casa\", \"casa\", \"casa\", \"casa\", \"casa\", \"casa\", \"caso\", \"caso\", \"caso\", \"caso\", \"caso\", \"caso\", \"caso\", \"caso\", \"caso\", \"caso\", \"caso\", \"caso\", \"casona\", \"casos\", \"casos\", \"casos\", \"casos\", \"casos\", \"casos\", \"casos\", \"casos\", \"casos\", \"casos\", \"casos\", \"casos\", \"casta\", \"casta\", \"castilla\", \"cauchari\", \"causa\", \"causa\", \"causa\", \"causa\", \"causa\", \"causa\", \"causa\", \"causa\", \"causa\", \"causa\", \"causa\", \"causa\", \"causas\", \"causas\", \"causas\", \"causas\", \"causas\", \"causas\", \"causas\", \"causas\", \"causas\", \"causas\", \"causas\", \"causas\", \"cejas\", \"cejas\", \"celulares\", \"celulares\", \"celulares\", \"celulares\", \"celulares\", \"celulares\", \"celulares\", \"celulares\", \"celulares\", \"celulares\", \"celulas\", \"celulas\", \"centurion\", \"centurion\", \"centurion\", \"chat\", \"chat\", \"chat\", \"chat\", \"check\", \"chefs\", \"chile\", \"chile\", \"chile\", \"chile\", \"chile\", \"chile\", \"chile\", \"chile\", \"chile\", \"chile\", \"chile\", \"chile\", \"chip\", \"chip\", \"chip\", \"chip\", \"chip\", \"chipre\", \"chips\", \"chips\", \"chips\", \"chips\", \"ciclismo\", \"ciencia\", \"ciencia\", \"ciencia\", \"ciencia\", \"ciencia\", \"ciencia\", \"ciencia\", \"ciencia\", \"ciencia\", \"ciencia\", \"ciencia\", \"ciencia\", \"ciencias\", \"ciencias\", \"ciencias\", \"ciencias\", \"ciencias\", \"ciencias\", \"ciencias\", \"ciencias\", \"ciencias\", \"cientificos\", \"cientificos\", \"cientificos\", \"cientificos\", \"cine\", \"cine\", \"cine\", \"cine\", \"cine\", \"cine\", \"cine\", \"cine\", \"cine\", \"ciudad\", \"ciudad\", \"ciudad\", \"ciudad\", \"ciudad\", \"ciudad\", \"ciudad\", \"ciudad\", \"ciudad\", \"ciudad\", \"ciudad\", \"ciudad\", \"ciudadano\", \"ciudadano\", \"ciudadano\", \"clases\", \"clases\", \"clases\", \"clases\", \"clases\", \"clases\", \"club\", \"club\", \"club\", \"club\", \"club\", \"club\", \"club\", \"club\", \"club\", \"club\", \"club\", \"club\", \"cnet\", \"cnet\", \"coagulo\", \"coautora\", \"cobre\", \"cocheras\", \"coches\", \"coches\", \"cocina\", \"cocina\", \"coimas\", \"coimas\", \"coincidia\", \"coincidio\", \"com\", \"comentarios\", \"comentarios\", \"comentarios\", \"comentarios\", \"comentarios\", \"comentarios\", \"comentarios\", \"comentarios\", \"comentarios\", \"comentarios\", \"comentarios\", \"comentarios\", \"comercializacion\", \"comercializacion\", \"comercializacion\", \"comercializacion\", \"comercio\", \"comercio\", \"comercio\", \"comercio\", \"comercio\", \"comercio\", \"comercio\", \"comercio\", \"comercio\", \"comercio\", \"comercio\", \"comercios\", \"comicios\", \"comicios\", \"comicios\", \"comicios\", \"comicios\", \"comicios\", \"comicios\", \"comida\", \"comida\", \"comida\", \"comida\", \"comida\", \"comida\", \"comida\", \"comida\", \"comida\", \"comida\", \"comida\", \"comida\", \"compa\", \"compa\", \"compa\", \"compa\", \"compa\", \"compa\", \"compa\", \"compa\", \"compa\", \"compa\", \"compa\", \"compa\", \"compacto\", \"comparecio\", \"comparecio\", \"compradores\", \"compras\", \"compras\", \"compras\", \"compras\", \"compras\", \"compras\", \"compras\", \"compras\", \"compras\", \"compras\", \"compras\", \"computacion\", \"computacion\", \"computadora\", \"computadora\", \"computadora\", \"computadora\", \"computadora\", \"computadora\", \"computadora\", \"computadora\", \"computadora\", \"computadora\", \"comunidad\", \"comunidad\", \"comunidad\", \"comunidad\", \"comunidad\", \"comunidad\", \"comunidad\", \"comunidad\", \"comunidad\", \"comunidad\", \"comunidad\", \"comunidad\", \"conciliacion\", \"concordia\", \"conectividad\", \"conector\", \"conector\", \"conexiones\", \"conexiones\", \"configuracion\", \"configuracion\", \"configuracion\", \"conflicto\", \"conflicto\", \"conflicto\", \"conflicto\", \"conflicto\", \"conflicto\", \"conflicto\", \"conflicto\", \"conflicto\", \"conflicto\", \"conflicto\", \"conflicto\", \"conoci\", \"conocimientos\", \"conocimientos\", \"conocimientos\", \"conocimientos\", \"conocimientos\", \"conocimientos\", \"conocimientos\", \"consciencia\", \"consciencia\", \"consenso\", \"consenso\", \"consenso\", \"consenso\", \"consenso\", \"consenso\", \"consenso\", \"consenso\", \"consola\", \"consola\", \"consola\", \"consola\", \"consolas\", \"consolas\", \"consolas\", \"consolas\", \"conspiraciones\", \"consultorio\", \"consumidor\", \"consumidor\", \"consumidor\", \"consumo\", \"consumo\", \"consumo\", \"consumo\", \"consumo\", \"consumo\", \"consumo\", \"consumo\", \"consumo\", \"consumo\", \"consumo\", \"conto\", \"conto\", \"conto\", \"conto\", \"conto\", \"conto\", \"conto\", \"conto\", \"conto\", \"conto\", \"conto\", \"conto\", \"contrajera\", \"control\", \"control\", \"control\", \"control\", \"control\", \"control\", \"control\", \"control\", \"control\", \"control\", \"control\", \"control\", \"convertirlo\", \"copa\", \"copa\", \"copa\", \"copa\", \"copa\", \"copa\", \"copa\", \"copa\", \"copa\", \"copa\", \"corden\", \"corden\", \"cordon\", \"core\", \"core\", \"correo\", \"correo\", \"corte\", \"corte\", \"corte\", \"corte\", \"corte\", \"corte\", \"corte\", \"corte\", \"corte\", \"corte\", \"corte\", \"corte\", \"cosas\", \"cosas\", \"cosas\", \"cosas\", \"cosas\", \"cosas\", \"cosas\", \"cosas\", \"cosas\", \"cosas\", \"cosas\", \"cosas\", \"cost\", \"coste\", \"coste\", \"costos\", \"costos\", \"costos\", \"costos\", \"costos\", \"costos\", \"costos\", \"costos\", \"costos\", \"costos\", \"costos\", \"crecimiento\", \"crecimiento\", \"crecimiento\", \"crecimiento\", \"crecimiento\", \"crecimiento\", \"crecimiento\", \"crecimiento\", \"crecimiento\", \"crecimiento\", \"crecimiento\", \"crecimiento\", \"cristina\", \"cristina\", \"cristina\", \"cristina\", \"cristina\", \"cristina\", \"cristina\", \"cristina\", \"cristina\", \"cristina\", \"cristina\", \"crueldad\", \"cuadrados\", \"cuadrados\", \"cubo\", \"cubo\", \"cubo\", \"cuenta\", \"cuenta\", \"cuenta\", \"cuenta\", \"cuenta\", \"cuenta\", \"cuenta\", \"cuenta\", \"cuenta\", \"cuenta\", \"cuenta\", \"cuenta\", \"cumplea\", \"cumplea\", \"cumplea\", \"cura\", \"cura\", \"cura\", \"cura\", \"cura\", \"cura\", \"cura\", \"cursos\", \"cursos\", \"cursos\", \"cursos\", \"cyterszpiler\", \"datos\", \"datos\", \"datos\", \"datos\", \"datos\", \"datos\", \"datos\", \"datos\", \"datos\", \"datos\", \"datos\", \"datos\", \"debate\", \"debate\", \"debate\", \"debate\", \"debate\", \"debate\", \"debate\", \"debate\", \"debate\", \"debate\", \"debate\", \"debate\", \"debates\", \"debates\", \"debates\", \"debates\", \"debates\", \"debates\", \"debates\", \"delegado\", \"delincuentes\", \"delincuentes\", \"delincuentes\", \"delincuentes\", \"delincuentes\", \"delito\", \"delito\", \"delito\", \"delito\", \"delito\", \"delito\", \"delito\", \"delito\", \"delito\", \"delito\", \"delitos\", \"delitos\", \"delitos\", \"delitos\", \"delitos\", \"denuncia\", \"denuncia\", \"denuncia\", \"denuncia\", \"denuncia\", \"denuncia\", \"denuncia\", \"denuncia\", \"denuncia\", \"denuncia\", \"deporte\", \"deporte\", \"deporte\", \"deporte\", \"deporte\", \"deporte\", \"deporte\", \"deporte\", \"deporte\", \"deporte\", \"deporte\", \"deporte\", \"derechos\", \"derechos\", \"derechos\", \"derechos\", \"derechos\", \"derechos\", \"derechos\", \"derechos\", \"derechos\", \"derechos\", \"derechos\", \"derechos\", \"desarrollo\", \"desarrollo\", \"desarrollo\", \"desarrollo\", \"desarrollo\", \"desarrollo\", \"desarrollo\", \"desarrollo\", \"desarrollo\", \"desarrollo\", \"desarrollo\", \"desarrollo\", \"desarrollos\", \"desarrollos\", \"desayuno\", \"descargo\", \"descubrimiento\", \"descubrimiento\", \"descubrimiento\", \"descubrimiento\", \"descubrimiento\", \"descubrimiento\", \"descuentos\", \"descuentos\", \"descuentos\", \"descuentos\", \"desesperacion\", \"desinformacion\", \"desinformacion\", \"desinformacion\", \"desobediencia\", \"despues\", \"despues\", \"despues\", \"despues\", \"despues\", \"despues\", \"despues\", \"despues\", \"despues\", \"despues\", \"despues\", \"despues\", \"detenciones\", \"detenciones\", \"detenciones\", \"detenciones\", \"detrimento\", \"dia\", \"dia\", \"dia\", \"dia\", \"dia\", \"dia\", \"dia\", \"dia\", \"dia\", \"dia\", \"dia\", \"dia\", \"dias\", \"dias\", \"dias\", \"dias\", \"dias\", \"dias\", \"dias\", \"dias\", \"dias\", \"dias\", \"dias\", \"dias\", \"dinero\", \"dinero\", \"dinero\", \"dinero\", \"dinero\", \"dinero\", \"dinero\", \"dinero\", \"dinero\", \"dinero\", \"dinero\", \"dinero\", \"diputado\", \"diputado\", \"diputado\", \"diputado\", \"direccion\", \"direccion\", \"direccion\", \"direccion\", \"direccion\", \"direccion\", \"direccion\", \"direccion\", \"direccion\", \"direccion\", \"direccion\", \"direccion\", \"disco\", \"disco\", \"disco\", \"disco\", \"disco\", \"disco\", \"disco\", \"disco\", \"disco\", \"discovery\", \"disidencias\", \"display\", \"display\", \"display\", \"dispositivo\", \"dispositivo\", \"dispositivo\", \"dispositivo\", \"dispositivo\", \"dispositivo\", \"dispositivo\", \"dispositivo\", \"dispositivo\", \"dispositivos\", \"dispositivos\", \"dispositivos\", \"dispositivos\", \"dispositivos\", \"dog\", \"dog\", \"dog\", \"dolares\", \"dolares\", \"dolares\", \"dolares\", \"dolares\", \"dolares\", \"dolares\", \"dolares\", \"dolares\", \"dolares\", \"dolares\", \"dolares\", \"domingo\", \"domingo\", \"domingo\", \"domingo\", \"domingo\", \"domingo\", \"domingo\", \"domingo\", \"domingo\", \"domingo\", \"domingo\", \"domingo\", \"dotaciones\", \"ecas\", \"economia\", \"economia\", \"economia\", \"economia\", \"economia\", \"economia\", \"economia\", \"economia\", \"economia\", \"economia\", \"economia\", \"economia\", \"edicion\", \"edicion\", \"edicion\", \"edicion\", \"edicion\", \"edicion\", \"edicion\", \"edicion\", \"edicion\", \"edicion\", \"edicion\", \"edicion\", \"edificios\", \"edificios\", \"edificios\", \"editor\", \"editor\", \"editor\", \"editor\", \"editor\", \"efectos\", \"efectos\", \"efectos\", \"efectos\", \"efectos\", \"efectos\", \"efectos\", \"efectos\", \"efectos\", \"efectos\", \"efectos\", \"ejemplo\", \"ejemplo\", \"ejemplo\", \"ejemplo\", \"ejemplo\", \"ejemplo\", \"ejemplo\", \"ejemplo\", \"ejemplo\", \"ejemplo\", \"ejemplo\", \"ejemplo\", \"elasticidad\", \"eleccion\", \"eleccion\", \"eleccion\", \"eleccion\", \"eleccion\", \"eleccion\", \"eleccion\", \"eleccion\", \"eleccion\", \"eleccion\", \"eleccion\", \"eleccion\", \"elecciones\", \"elecciones\", \"elecciones\", \"elecciones\", \"elecciones\", \"elecciones\", \"elecciones\", \"elecciones\", \"elecciones\", \"elecciones\", \"elecciones\", \"elecciones\", \"eliminatorias\", \"eliminatorias\", \"eliminatorias\", \"ellie\", \"ellie\", \"ellie\", \"ellie\", \"elon\", \"elon\", \"embarazo\", \"embarazo\", \"embarazo\", \"embarazo\", \"embarazo\", \"embarazo\", \"embarazo\", \"embargo\", \"embargo\", \"embargo\", \"embargo\", \"embargo\", \"embargo\", \"embargo\", \"embargo\", \"embargo\", \"embargo\", \"embargo\", \"embargo\", \"emma\", \"emma\", \"emma\", \"empatia\", \"empatia\", \"empleados\", \"empleados\", \"empleados\", \"empleados\", \"empleados\", \"empleados\", \"empleados\", \"empleados\", \"empleados\", \"empleados\", \"empleados\", \"empleados\", \"empleos\", \"empleos\", \"empleos\", \"empleos\", \"empleos\", \"empleos\", \"empresa\", \"empresa\", \"empresa\", \"empresa\", \"empresa\", \"empresa\", \"empresa\", \"empresa\", \"empresa\", \"empresa\", \"empresa\", \"empresa\", \"empresas\", \"empresas\", \"empresas\", \"empresas\", \"empresas\", \"empresas\", \"empresas\", \"empresas\", \"empresas\", \"empresas\", \"empresas\", \"empresas\", \"encabeza\", \"enfermedad\", \"enfermedad\", \"enfermedad\", \"enfermedad\", \"enfermedad\", \"enfermedad\", \"enfermedad\", \"enfermedad\", \"enfermedad\", \"enfermedades\", \"enfermedades\", \"enfermedades\", \"enfermedades\", \"eno\", \"eno\", \"eno\", \"entrenador\", \"entrenador\", \"entrenador\", \"entrenador\", \"entrenador\", \"entrenador\", \"entrenador\", \"entrenador\", \"epidemia\", \"episodio\", \"episodio\", \"episodio\", \"episodio\", \"episodio\", \"episodio\", \"episodio\", \"episodio\", \"episodio\", \"episodio\", \"episodio\", \"episodios\", \"episodios\", \"episodios\", \"episodios\", \"equipo\", \"equipo\", \"equipo\", \"equipo\", \"equipo\", \"equipo\", \"equipo\", \"equipo\", \"equipo\", \"equipo\", \"equipo\", \"equipo\", \"equipos\", \"equipos\", \"equipos\", \"equipos\", \"equipos\", \"equipos\", \"equipos\", \"equipos\", \"equipos\", \"equipos\", \"equipos\", \"equipos\", \"erhardt\", \"escaleras\", \"escaleras\", \"escandalos\", \"escaneres\", \"escaneres\", \"escriba\", \"escriba\", \"escuadra\", \"escuelas\", \"escuelas\", \"escuelas\", \"escuelas\", \"escuelas\", \"escuelas\", \"escuelas\", \"escuelas\", \"escuelas\", \"escuelas\", \"escuelas\", \"escuelas\", \"escultura\", \"especificaciones\", \"especificaciones\", \"esports\", \"est\", \"estabilizacion\", \"estabilizacion\", \"estadio\", \"estadio\", \"estadio\", \"estadio\", \"estadio\", \"estadio\", \"estadio\", \"estadio\", \"estadio\", \"estadio\", \"estadio\", \"estadio\", \"estrellas\", \"estrellas\", \"estrellas\", \"estrellas\", \"estrellas\", \"estrellas\", \"estrellas\", \"estrellas\", \"estrellas\", \"estrellas\", \"estrellas\", \"estudio\", \"estudio\", \"estudio\", \"estudio\", \"estudio\", \"estudio\", \"estudio\", \"estudio\", \"estudio\", \"estudio\", \"estudio\", \"estudio\", \"eutanasia\", \"evalua\", \"evidencia\", \"evidencia\", \"evidencia\", \"evidencia\", \"experience\", \"experimento\", \"experimento\", \"experimentos\", \"experimentos\", \"explico\", \"explico\", \"expuestos\", \"extranjero\", \"extranjero\", \"extranjero\", \"extranjero\", \"extranjero\", \"extranjero\", \"extranjero\", \"extreme\", \"fabricantes\", \"fabricantes\", \"facebook\", \"facebook\", \"facebook\", \"facebook\", \"facebook\", \"facebook\", \"facebook\", \"facebook\", \"facebook\", \"facebook\", \"facebook\", \"facultad\", \"facultad\", \"facultad\", \"facultad\", \"facultad\", \"facultad\", \"fake\", \"fake\", \"falla\", \"familia\", \"familia\", \"familia\", \"familia\", \"familia\", \"familia\", \"familia\", \"familia\", \"familia\", \"familia\", \"familia\", \"familia\", \"fase\", \"fase\", \"fase\", \"fase\", \"fase\", \"fase\", \"fase\", \"fase\", \"fase\", \"fase\", \"fase\", \"fase\", \"felinos\", \"fernandez\", \"fernandez\", \"fernandez\", \"fernandez\", \"fernandez\", \"fernandez\", \"fernandez\", \"fernandez\", \"fernandez\", \"fernandez\", \"fernandez\", \"fernandez\", \"festival\", \"festival\", \"festival\", \"festival\", \"festival\", \"festival\", \"festival\", \"festival\", \"festival\", \"festival\", \"fifa\", \"fifa\", \"fifa\", \"fifa\", \"fifa\", \"filtro\", \"filtro\", \"filtro\", \"filtro\", \"filtro\", \"filtro\", \"filtros\", \"filtros\", \"filtros\", \"filtros\", \"fin\", \"fin\", \"fin\", \"fin\", \"fin\", \"fin\", \"fin\", \"fin\", \"fin\", \"fin\", \"fin\", \"fin\", \"final\", \"final\", \"final\", \"final\", \"final\", \"final\", \"final\", \"final\", \"final\", \"final\", \"final\", \"final\", \"firmas\", \"firmas\", \"firmas\", \"firmas\", \"firmas\", \"firmas\", \"firmas\", \"firmeza\", \"firmeza\", \"first\", \"first\", \"first\", \"first\", \"fit\", \"fit\", \"fit\", \"flamengo\", \"flavio\", \"flecha\", \"flor\", \"flor\", \"flor\", \"flor\", \"flor\", \"flor\", \"flor\", \"flor\", \"folleto\", \"forma\", \"forma\", \"forma\", \"forma\", \"forma\", \"forma\", \"forma\", \"forma\", \"forma\", \"forma\", \"forma\", \"forma\", \"fort\", \"fortnite\", \"fortnite\", \"fortnite\", \"fortnite\", \"fortnite\", \"fortnite\", \"fortnite\", \"forward\", \"forward\", \"forward\", \"forward\", \"forward\", \"fotos\", \"fotos\", \"fotos\", \"fotos\", \"fotos\", \"fotos\", \"fotos\", \"fotos\", \"fotos\", \"fotos\", \"fotos\", \"fotos\", \"fragata\", \"fragata\", \"frente\", \"frente\", \"frente\", \"frente\", \"frente\", \"frente\", \"frente\", \"frente\", \"frente\", \"frente\", \"frente\", \"frente\", \"friends\", \"friends\", \"friends\", \"friends\", \"fuentes\", \"fuentes\", \"fuentes\", \"fuentes\", \"fuentes\", \"fuentes\", \"fuentes\", \"fuentes\", \"fuentes\", \"fuentes\", \"fuentes\", \"fuentes\", \"fuerza\", \"fuerza\", \"fuerza\", \"fuerza\", \"fuerza\", \"fuerza\", \"fuerza\", \"fuerza\", \"fuerza\", \"fuerza\", \"fuerza\", \"fuerza\", \"funcion\", \"funcion\", \"funcion\", \"funcion\", \"funcion\", \"funcion\", \"funcion\", \"funcion\", \"funcion\", \"funcion\", \"funcion\", \"funcion\", \"furor\", \"furor\", \"furor\", \"futbol\", \"futbol\", \"futbol\", \"futbol\", \"futbol\", \"futbol\", \"futbol\", \"futbol\", \"futbol\", \"futbol\", \"futbol\", \"futbol\", \"gabinete\", \"gabinete\", \"gabinete\", \"gabinete\", \"gabinete\", \"gabinete\", \"gabinete\", \"gabinete\", \"gabinete\", \"galardones\", \"gamers\", \"games\", \"games\", \"games\", \"games\", \"games\", \"games\", \"gaming\", \"garantias\", \"garantias\", \"garantias\", \"gema\", \"gente\", \"gente\", \"gente\", \"gente\", \"gente\", \"gente\", \"gente\", \"gente\", \"gente\", \"gente\", \"gente\", \"gente\", \"gestion\", \"gestion\", \"gestion\", \"gestion\", \"gestion\", \"gestion\", \"gestion\", \"gestion\", \"gestion\", \"gestion\", \"gestion\", \"gestion\", \"gimenez\", \"gimenez\", \"gimenez\", \"gimenez\", \"gimenez\", \"gimenez\", \"gimenez\", \"girl\", \"girl\", \"girl\", \"gobernacion\", \"gobernador\", \"gobernador\", \"gobernador\", \"gobernador\", \"gobernador\", \"gobernador\", \"gobernador\", \"gobernador\", \"gobernador\", \"gobernadores\", \"gobernadores\", \"gobernadores\", \"gobernadores\", \"gobernadores\", \"gobierno\", \"gobierno\", \"gobierno\", \"gobierno\", \"gobierno\", \"gobierno\", \"gobierno\", \"gobierno\", \"gobierno\", \"gobierno\", \"gobierno\", \"gobierno\", \"gol\", \"gol\", \"gol\", \"gol\", \"gol\", \"gol\", \"gol\", \"gol\", \"gol\", \"gol\", \"gol\", \"goles\", \"goles\", \"goles\", \"goles\", \"goles\", \"goles\", \"goles\", \"goles\", \"golf\", \"golf\", \"golf\", \"google\", \"google\", \"google\", \"google\", \"google\", \"google\", \"granja\", \"granja\", \"granja\", \"granja\", \"granja\", \"great\", \"great\", \"great\", \"gremios\", \"gremios\", \"gremios\", \"gremios\", \"grupo\", \"grupo\", \"grupo\", \"grupo\", \"grupo\", \"grupo\", \"grupo\", \"grupo\", \"grupo\", \"grupo\", \"grupo\", \"grupo\", \"guerra\", \"guerra\", \"guerra\", \"guerra\", \"guerra\", \"guerra\", \"guerra\", \"guerra\", \"guerra\", \"guerra\", \"guerra\", \"guerra\", \"haciendolos\", \"helicopteros\", \"helicopteros\", \"helicopteros\", \"hero\", \"hero\", \"hero\", \"hero\", \"hija\", \"hija\", \"hija\", \"hija\", \"hija\", \"hija\", \"hija\", \"hija\", \"hija\", \"hija\", \"hija\", \"hija\", \"hijas\", \"hijas\", \"hijas\", \"hijas\", \"hijas\", \"hijas\", \"hijas\", \"hijas\", \"hijo\", \"hijo\", \"hijo\", \"hijo\", \"hijo\", \"hijo\", \"hijo\", \"hijo\", \"hijo\", \"hijo\", \"hijo\", \"hijo\", \"hijos\", \"hijos\", \"hijos\", \"hijos\", \"hijos\", \"hijos\", \"hijos\", \"hijos\", \"hijos\", \"hijos\", \"hijos\", \"hijos\", \"hipoxia\", \"hipoxia\", \"historia\", \"historia\", \"historia\", \"historia\", \"historia\", \"historia\", \"historia\", \"historia\", \"historia\", \"historia\", \"historia\", \"historia\", \"historicas\", \"holanda\", \"hombre\", \"hombre\", \"hombre\", \"hombre\", \"hombre\", \"hombre\", \"hombre\", \"hombre\", \"hombre\", \"hombre\", \"hombre\", \"hombre\", \"homologo\", \"horas\", \"horas\", \"horas\", \"horas\", \"horas\", \"horas\", \"horas\", \"horas\", \"horas\", \"horas\", \"horas\", \"horas\", \"hormigas\", \"huelga\", \"huelga\", \"huelga\", \"huelga\", \"huelga\", \"huelga\", \"huelga\", \"huelga\", \"huelga\", \"huellas\", \"huellas\", \"iglesia\", \"iluminacion\", \"imprudencia\", \"incendio\", \"inconsistencias\", \"indicacion\", \"induccion\", \"induccion\", \"induccion\", \"industria\", \"industria\", \"industria\", \"industria\", \"industria\", \"industria\", \"industria\", \"industria\", \"industria\", \"industria\", \"industria\", \"industria\", \"info\", \"informacion\", \"informacion\", \"informacion\", \"informacion\", \"informacion\", \"informacion\", \"informacion\", \"informacion\", \"informacion\", \"informacion\", \"informacion\", \"informacion\", \"informes\", \"informes\", \"informes\", \"informes\", \"infraestructuras\", \"infraestructuras\", \"ingresos\", \"ingresos\", \"ingresos\", \"ingresos\", \"ingresos\", \"ingresos\", \"ingresos\", \"ingresos\", \"ingresos\", \"ingresos\", \"ingresos\", \"ingresos\", \"inscripcion\", \"inscripcion\", \"inscripcion\", \"inscripcion\", \"inscripcion\", \"inspiracion\", \"intel\", \"intel\", \"intelligence\", \"internet\", \"internet\", \"internet\", \"internet\", \"internet\", \"internet\", \"internet\", \"internet\", \"internet\", \"internet\", \"internet\", \"internet\", \"interrupcion\", \"interrupcion\", \"interrupcion\", \"interseccion\", \"intestino\", \"inversionistas\", \"inversionistas\", \"inversionistas\", \"investigacion\", \"investigacion\", \"investigacion\", \"investigacion\", \"investigacion\", \"investigacion\", \"investigacion\", \"investigacion\", \"investigacion\", \"investigacion\", \"investigacion\", \"investigacion\", \"investigadores\", \"investigadores\", \"investigadores\", \"investigadores\", \"ipcc\", \"iris\", \"irregularidades\", \"irregularidades\", \"irregularidades\", \"iva\", \"iva\", \"jefe\", \"jefe\", \"jefe\", \"jefe\", \"jefe\", \"jefe\", \"jefe\", \"jefe\", \"jefe\", \"jefe\", \"jefe\", \"jefe\", \"jimenez\", \"jimenez\", \"juan\", \"juan\", \"juan\", \"juan\", \"juan\", \"juan\", \"juan\", \"juan\", \"juan\", \"juan\", \"juan\", \"juan\", \"jueces\", \"jueces\", \"jueces\", \"jueces\", \"jueces\", \"jueces\", \"jueces\", \"jueces\", \"juego\", \"juego\", \"juego\", \"juego\", \"juego\", \"juego\", \"juego\", \"juego\", \"juego\", \"juego\", \"juego\", \"juego\", \"juegos\", \"juegos\", \"juegos\", \"juegos\", \"juegos\", \"juegos\", \"juegos\", \"juegos\", \"juegos\", \"juegos\", \"juegos\", \"juez\", \"juez\", \"juez\", \"juez\", \"juez\", \"juez\", \"juez\", \"juez\", \"juez\", \"juez\", \"juez\", \"juez\", \"jugador\", \"jugador\", \"jugador\", \"jugador\", \"jugador\", \"jugador\", \"jugador\", \"jugador\", \"jugador\", \"jugador\", \"jugador\", \"jugadores\", \"jugadores\", \"jugadores\", \"jugadores\", \"jugadores\", \"jugadores\", \"jugadores\", \"jugadores\", \"jugadores\", \"jugadores\", \"jugadores\", \"jugadores\", \"juicio\", \"juicio\", \"juicio\", \"juicio\", \"juicio\", \"juicio\", \"juicio\", \"juicio\", \"juicio\", \"juicio\", \"jujuy\", \"julian\", \"just\", \"justicia\", \"justicia\", \"justicia\", \"justicia\", \"justicia\", \"justicia\", \"justicia\", \"justicia\", \"justicia\", \"justicia\", \"justicia\", \"justicia\", \"karate\", \"karate\", \"kicillof\", \"kicillof\", \"kicillof\", \"kicillof\", \"kicillof\", \"kilo\", \"kirchnerismo\", \"kirchnerismo\", \"kirchnerismo\", \"kirchnerismo\", \"kirchnerismo\", \"kirchnerismo\", \"kirchnerismo\", \"kirchnerismo\", \"kirchnerismo\", \"kits\", \"kombat\", \"kombat\", \"kombat\", \"kuwait\", \"laboratorio\", \"laboratorio\", \"laboratorio\", \"lactancia\", \"laguna\", \"laguna\", \"laguna\", \"laguna\", \"lagunas\", \"lammens\", \"lanchas\", \"lanchas\", \"lapiz\", \"lapiz\", \"largo\", \"larry\", \"larry\", \"laser\", \"laser\", \"lavagna\", \"lavagna\", \"league\", \"league\", \"league\", \"led\", \"legends\", \"legislador\", \"legislador\", \"legislador\", \"legislatura\", \"legislatura\", \"legislatura\", \"legislatura\", \"legislatura\", \"legislatura\", \"legislatura\", \"legitimidad\", \"lenguaje\", \"lenguaje\", \"lenguaje\", \"lenguaje\", \"lenguaje\", \"lenguaje\", \"lenguaje\", \"lenguaje\", \"lenguaje\", \"lenguaje\", \"lenguaje\", \"lens\", \"lentes\", \"lentes\", \"lentes\", \"leones\", \"leones\", \"leones\", \"libertad\", \"libertad\", \"libertad\", \"libertad\", \"libertad\", \"libertad\", \"libertad\", \"libertad\", \"libertad\", \"libertad\", \"libertad\", \"libertadores\", \"libertadores\", \"libertadores\", \"libertadores\", \"libertadores\", \"libertadores\", \"libertadores\", \"libertadores\", \"libertadores\", \"libertadores\", \"libra\", \"libra\", \"libra\", \"libra\", \"libro\", \"libro\", \"libro\", \"libro\", \"libro\", \"libro\", \"libro\", \"libro\", \"libro\", \"libro\", \"libro\", \"libro\", \"liga\", \"liga\", \"liga\", \"liga\", \"liga\", \"liga\", \"liga\", \"liga\", \"liga\", \"liga\", \"liga\", \"ling\", \"liquid\", \"liquid\", \"liquid\", \"liquid\", \"litio\", \"litio\", \"litio\", \"litio\", \"litio\", \"litio\", \"litros\", \"litros\", \"llamas\", \"llamas\", \"llamas\", \"llamas\", \"lluvias\", \"lluvias\", \"lluvias\", \"lluvias\", \"lluvias\", \"lluvias\", \"lluvias\", \"lluvias\", \"lluvias\", \"low\", \"low\", \"lugar\", \"lugar\", \"lugar\", \"lugar\", \"lugar\", \"lugar\", \"lugar\", \"lugar\", \"lugar\", \"lugar\", \"lugar\", \"lugar\", \"luminosidad\", \"luminosidad\", \"luminosidad\", \"luminosidad\", \"macri\", \"macri\", \"macri\", \"macri\", \"macri\", \"macri\", \"macri\", \"macri\", \"macri\", \"madre\", \"madre\", \"madre\", \"madre\", \"madre\", \"madre\", \"madre\", \"madre\", \"madre\", \"madre\", \"madre\", \"madre\", \"madrugada\", \"madrugada\", \"madrugada\", \"madrugada\", \"madrugada\", \"madrugada\", \"madrugada\", \"madrugada\", \"madrugada\", \"madrugada\", \"madrugada\", \"madrugada\", \"mah\", \"mah\", \"mah\", \"mah\", \"malware\", \"malware\", \"malware\", \"malware\", \"malware\", \"malware\", \"mama\", \"mama\", \"mama\", \"mama\", \"mama\", \"mama\", \"mama\", \"mama\", \"mama\", \"mandos\", \"manera\", \"manera\", \"manera\", \"manera\", \"manera\", \"manera\", \"manera\", \"manera\", \"manera\", \"manera\", \"manera\", \"manera\", \"manifestantes\", \"manifestantes\", \"manifestantes\", \"manifestantes\", \"manifestantes\", \"manifestantes\", \"mano\", \"mano\", \"mano\", \"mano\", \"mano\", \"mano\", \"mano\", \"mano\", \"mano\", \"mano\", \"mano\", \"mano\", \"manuela\", \"maquinas\", \"maquinas\", \"maquinas\", \"maquinas\", \"maquinas\", \"maquinas\", \"maquinas\", \"maquinas\", \"maquinas\", \"marihuana\", \"marihuana\", \"marihuana\", \"martin\", \"martin\", \"martin\", \"martin\", \"martin\", \"martin\", \"martin\", \"martin\", \"martin\", \"martin\", \"martin\", \"martin\", \"mas\", \"mas\", \"mas\", \"mas\", \"mas\", \"mas\", \"mas\", \"mas\", \"mas\", \"mas\", \"mas\", \"mas\", \"matanza\", \"matanza\", \"matanza\", \"maternidad\", \"maternidad\", \"maternidad\", \"maternidad\", \"maternidad\", \"maternidad\", \"maternidad\", \"matrimonio\", \"matrimonio\", \"matrimonio\", \"matrimonio\", \"matrimonio\", \"matrimonio\", \"matrimonio\", \"matrimonio\", \"mauricio\", \"mauricio\", \"mauricio\", \"mauricio\", \"mauricio\", \"mauricio\", \"mauricio\", \"mauricio\", \"mauricio\", \"mauricio\", \"mauricio\", \"mauricio\", \"max\", \"max\", \"media\", \"media\", \"media\", \"media\", \"media\", \"medios\", \"medios\", \"medios\", \"medios\", \"medios\", \"medios\", \"medios\", \"medios\", \"medios\", \"medios\", \"medios\", \"medios\", \"medula\", \"mega\", \"mega\", \"mega\", \"megapixeles\", \"megapixeles\", \"megapixeles\", \"megapixeles\", \"mellizas\", \"memoria\", \"memoria\", \"memoria\", \"memoria\", \"memoria\", \"memoria\", \"memoria\", \"memoria\", \"memoria\", \"memoria\", \"mensajes\", \"mensajes\", \"mensajes\", \"mensajes\", \"mensajes\", \"mensajes\", \"mensajes\", \"mensajes\", \"mensajes\", \"mensajes\", \"mensajes\", \"mensajes\", \"mercado\", \"mercado\", \"mercado\", \"mercado\", \"mercado\", \"mercado\", \"mercado\", \"mercado\", \"mercado\", \"mercado\", \"mercado\", \"mercado\", \"mes\", \"mes\", \"mes\", \"mes\", \"mes\", \"mes\", \"mes\", \"mes\", \"mes\", \"mes\", \"mes\", \"mes\", \"meses\", \"meses\", \"meses\", \"meses\", \"meses\", \"meses\", \"meses\", \"meses\", \"meses\", \"meses\", \"meses\", \"meses\", \"meteorologia\", \"mia\", \"mia\", \"mia\", \"mia\", \"millones\", \"millones\", \"millones\", \"millones\", \"millones\", \"millones\", \"millones\", \"millones\", \"millones\", \"millones\", \"millones\", \"millones\", \"mimos\", \"minas\", \"minas\", \"mineros\", \"mini\", \"mini\", \"mini\", \"mini\", \"ministro\", \"ministro\", \"ministro\", \"ministro\", \"ministro\", \"ministro\", \"ministro\", \"ministro\", \"ministro\", \"ministro\", \"ministro\", \"ministro\", \"minutos\", \"minutos\", \"minutos\", \"minutos\", \"minutos\", \"minutos\", \"minutos\", \"minutos\", \"minutos\", \"minutos\", \"minutos\", \"minutos\", \"mirror\", \"mirror\", \"mirror\", \"mirror\", \"mirror\", \"misiles\", \"mitos\", \"mitos\", \"mod\", \"moda\", \"moda\", \"moda\", \"moda\", \"moda\", \"moda\", \"moda\", \"moda\", \"modalidades\", \"modelo\", \"modelo\", \"modelo\", \"modelo\", \"modelo\", \"modelo\", \"modelo\", \"modelo\", \"modelo\", \"modelo\", \"modelo\", \"modelo\", \"modelos\", \"modelos\", \"modelos\", \"modelos\", \"modelos\", \"modelos\", \"modelos\", \"modelos\", \"modelos\", \"modelos\", \"modelos\", \"momento\", \"momento\", \"momento\", \"momento\", \"momento\", \"momento\", \"momento\", \"momento\", \"momento\", \"momento\", \"momento\", \"momento\", \"monopatines\", \"monopatines\", \"montaje\", \"mortalidad\", \"mortalidad\", \"mortalidad\", \"mortalidad\", \"mosca\", \"moscas\", \"motores\", \"motores\", \"motores\", \"motores\", \"motores\", \"motorola\", \"motorola\", \"movilizacion\", \"movilizacion\", \"mujer\", \"mujer\", \"mujer\", \"mujer\", \"mujer\", \"mujer\", \"mujer\", \"mujer\", \"mujer\", \"mujer\", \"mujer\", \"mujer\", \"mujeres\", \"mujeres\", \"mujeres\", \"mujeres\", \"mujeres\", \"mujeres\", \"mujeres\", \"mujeres\", \"mujeres\", \"mujeres\", \"mujeres\", \"mujeres\", \"multa\", \"multa\", \"multa\", \"multinacionales\", \"mundialista\", \"mundo\", \"mundo\", \"mundo\", \"mundo\", \"mundo\", \"mundo\", \"mundo\", \"mundo\", \"mundo\", \"mundo\", \"mundo\", \"mundo\", \"municipalidad\", \"municipalidad\", \"municipalidad\", \"municipios\", \"municipios\", \"municipios\", \"mura\", \"murio\", \"murio\", \"musculos\", \"museos\", \"museos\", \"museos\", \"museos\", \"musk\", \"musk\", \"mutaciones\", \"nacimiento\", \"nacimiento\", \"nacimiento\", \"nacimiento\", \"nacimiento\", \"nacimiento\", \"nacimiento\", \"nacimiento\", \"nacimiento\", \"nacimiento\", \"nacio\", \"nacio\", \"nacio\", \"nacio\", \"nacio\", \"nacio\", \"nacio\", \"nacio\", \"nacio\", \"nacio\", \"nacio\", \"nacio\", \"nacion\", \"nacion\", \"nacion\", \"nacion\", \"nacion\", \"nacion\", \"nacion\", \"nacion\", \"nacion\", \"nacion\", \"nacion\", \"nacion\", \"nadia\", \"nadia\", \"naranja\", \"nasa\", \"nasa\", \"nasa\", \"natalie\", \"natalie\", \"navegacion\", \"navegacion\", \"navegacion\", \"netflix\", \"netflix\", \"netflix\", \"netflix\", \"netflix\", \"netflix\", \"netflix\", \"nfc\", \"nicaragua\", \"nicaragua\", \"nicaragua\", \"nivel\", \"nivel\", \"nivel\", \"nivel\", \"nivel\", \"nivel\", \"nivel\", \"nivel\", \"nivel\", \"nivel\", \"nivel\", \"nivel\", \"nobel\", \"noche\", \"noche\", \"noche\", \"noche\", \"noche\", \"noche\", \"noche\", \"noche\", \"noche\", \"noche\", \"noche\", \"noche\", \"nombre\", \"nombre\", \"nombre\", \"nombre\", \"nombre\", \"nombre\", \"nombre\", \"nombre\", \"nombre\", \"nombre\", \"nombre\", \"nombre\", \"notas\", \"notas\", \"notas\", \"notas\", \"notas\", \"notas\", \"notas\", \"notch\", \"note\", \"note\", \"note\", \"note\", \"noticias\", \"noticias\", \"noticias\", \"noticias\", \"noticias\", \"noticias\", \"noticias\", \"noticias\", \"noticias\", \"noticias\", \"noticias\", \"noticias\", \"notificaciones\", \"notificaciones\", \"notificaciones\", \"notificaciones\", \"notificaciones\", \"notificaciones\", \"novia\", \"novia\", \"novia\", \"novia\", \"novia\", \"novia\", \"novia\", \"novia\", \"novia\", \"novio\", \"novio\", \"novio\", \"novio\", \"novio\", \"novio\", \"novio\", \"novio\", \"novio\", \"obra\", \"obra\", \"obra\", \"obra\", \"obra\", \"obra\", \"obra\", \"obra\", \"obra\", \"obra\", \"obra\", \"obra\", \"obras\", \"obras\", \"obras\", \"obras\", \"obras\", \"obras\", \"obras\", \"obras\", \"obras\", \"obras\", \"obras\", \"oct\", \"oct\", \"oct\", \"oct\", \"oct\", \"oct\", \"oct\", \"octubre\", \"octubre\", \"octubre\", \"octubre\", \"octubre\", \"octubre\", \"octubre\", \"octubre\", \"octubre\", \"octubre\", \"octubre\", \"octubre\", \"oficialismo\", \"oficialismo\", \"oficialismo\", \"oficialismo\", \"oficialismo\", \"oficialismo\", \"olga\", \"olga\", \"onda\", \"onda\", \"onda\", \"opcion\", \"opcion\", \"opcion\", \"opcion\", \"opcion\", \"opcion\", \"opcion\", \"opcion\", \"opcion\", \"opcion\", \"opcion\", \"opcion\", \"optimizacion\", \"oraciones\", \"oraciones\", \"oradores\", \"oradores\", \"oreja\", \"oreja\", \"oreja\", \"oreja\", \"oreja\", \"organismo\", \"organismo\", \"organismo\", \"organismo\", \"organismo\", \"organismo\", \"organismo\", \"organismo\", \"organismo\", \"organismo\", \"organismo\", \"organismo\", \"orilla\", \"oto\", \"oveja\", \"oveja\", \"ovejas\", \"pabellon\", \"pabellon\", \"pabellon\", \"pabellon\", \"pabellon\", \"pabellon\", \"padre\", \"padre\", \"padre\", \"padre\", \"padre\", \"padre\", \"padre\", \"padre\", \"padre\", \"padre\", \"padre\", \"padre\", \"padres\", \"padres\", \"padres\", \"padres\", \"padres\", \"padres\", \"padres\", \"padres\", \"padres\", \"padres\", \"pago\", \"pago\", \"pago\", \"pago\", \"pago\", \"pago\", \"pago\", \"pago\", \"pago\", \"pago\", \"pago\", \"pago\", \"pagos\", \"pagos\", \"pagos\", \"pagos\", \"pagos\", \"pagos\", \"pagos\", \"paises\", \"paises\", \"paises\", \"paises\", \"paises\", \"paises\", \"paises\", \"paises\", \"paises\", \"paises\", \"paises\", \"paises\", \"pampita\", \"pampita\", \"pampita\", \"panelista\", \"pantalla\", \"pantalla\", \"pantalla\", \"pantalla\", \"pantalla\", \"pantalla\", \"pantalla\", \"pantalla\", \"pantalla\", \"pantalla\", \"pantalla\", \"pantalla\", \"pantallas\", \"pantallas\", \"pantallas\", \"pantallas\", \"pantallas\", \"parches\", \"pareja\", \"pareja\", \"pareja\", \"pareja\", \"pareja\", \"pareja\", \"pareja\", \"pareja\", \"pareja\", \"parejas\", \"parejas\", \"parejas\", \"paro\", \"paro\", \"paro\", \"paro\", \"paro\", \"paro\", \"paro\", \"paro\", \"paro\", \"paro\", \"paro\", \"parte\", \"parte\", \"parte\", \"parte\", \"parte\", \"parte\", \"parte\", \"parte\", \"parte\", \"parte\", \"parte\", \"parte\", \"partido\", \"partido\", \"partido\", \"partido\", \"partido\", \"partido\", \"partido\", \"partido\", \"partido\", \"partido\", \"partido\", \"partido\", \"partidos\", \"partidos\", \"partidos\", \"partidos\", \"partidos\", \"partidos\", \"partidos\", \"partidos\", \"partidos\", \"partidos\", \"partidos\", \"partidos\", \"pasajero\", \"pasajero\", \"pasajeros\", \"pasajeros\", \"pasajeros\", \"pasajeros\", \"pasajeros\", \"pasividad\", \"paso\", \"paso\", \"paso\", \"paso\", \"paso\", \"paso\", \"paso\", \"paso\", \"paso\", \"paso\", \"paso\", \"paso\", \"patentes\", \"patentes\", \"patentes\", \"patentes\", \"patentes\", \"patentes\", \"patologia\", \"patologia\", \"patologia\", \"patologia\", \"pautas\", \"pautas\", \"paz\", \"paz\", \"paz\", \"paz\", \"paz\", \"paz\", \"paz\", \"paz\", \"paz\", \"paz\", \"paz\", \"paz\", \"pdt\", \"pdt\", \"pdt\", \"pdt\", \"pdt\", \"pdt\", \"pdt\", \"peleas\", \"peleas\", \"peleas\", \"peleas\", \"peleas\", \"peleas\", \"peleas\", \"peleas\", \"peliculas\", \"peliculas\", \"peliculas\", \"peliculas\", \"peliculas\", \"peliculas\", \"peliculas\", \"pelota\", \"pelota\", \"pelota\", \"pelota\", \"pelota\", \"pelota\", \"pelota\", \"pelota\", \"pelota\", \"pelota\", \"pelota\", \"penso\", \"penso\", \"penso\", \"peque\", \"peque\", \"peque\", \"peque\", \"peque\", \"peque\", \"peque\", \"peque\", \"peque\", \"peque\", \"peque\", \"peque\", \"perjuicio\", \"perjuicio\", \"peronismo\", \"peronismo\", \"peronismo\", \"peronismo\", \"peronismo\", \"peronismo\", \"peronismo\", \"perro\", \"perro\", \"perro\", \"perro\", \"perro\", \"perro\", \"perros\", \"perros\", \"perros\", \"perros\", \"perros\", \"persona\", \"persona\", \"persona\", \"persona\", \"persona\", \"persona\", \"persona\", \"persona\", \"persona\", \"persona\", \"persona\", \"persona\", \"personaje\", \"personaje\", \"personaje\", \"personaje\", \"personaje\", \"personaje\", \"personaje\", \"personaje\", \"personaje\", \"personajes\", \"personajes\", \"personajes\", \"personajes\", \"personajes\", \"personajes\", \"personajes\", \"personajes\", \"personajes\", \"personas\", \"personas\", \"personas\", \"personas\", \"personas\", \"personas\", \"personas\", \"personas\", \"personas\", \"personas\", \"personas\", \"personas\", \"pertenencias\", \"pertenencias\", \"pesos\", \"pesos\", \"pesos\", \"pesos\", \"pesos\", \"pesos\", \"pesos\", \"pesos\", \"pesos\", \"pesos\", \"pesos\", \"pesos\", \"pesta\", \"pesta\", \"pesta\", \"pesta\", \"pesta\", \"picardia\", \"picardia\", \"pichetto\", \"pichetto\", \"pichetto\", \"pichetto\", \"piel\", \"piel\", \"piel\", \"piel\", \"piel\", \"piel\", \"piel\", \"piel\", \"piel\", \"piel\", \"piel\", \"piel\", \"pilotos\", \"pilotos\", \"pilotos\", \"pilotos\", \"pilotos\", \"pilotos\", \"pilotos\", \"pino\", \"pino\", \"piscinas\", \"pixel\", \"pixel\", \"pixel\", \"pixel\", \"pixel\", \"pixel\", \"pixel\", \"pixel\", \"pixel\", \"plantilla\", \"plateau\", \"plateau\", \"plateau\", \"play\", \"play\", \"play\", \"playa\", \"playa\", \"playa\", \"playa\", \"playa\", \"playa\", \"playa\", \"playa\", \"playa\", \"playa\", \"playstation\", \"plazo\", \"plazo\", \"plazo\", \"plazo\", \"plazo\", \"plazo\", \"plazo\", \"plazo\", \"plazo\", \"plazo\", \"plazo\", \"plazo\", \"plus\", \"podcast\", \"podcast\", \"podcast\", \"podcast\", \"podcast\", \"policia\", \"policia\", \"policia\", \"policia\", \"policia\", \"policia\", \"policia\", \"policia\", \"policia\", \"policia\", \"policia\", \"policia\", \"polucion\", \"poncho\", \"poncho\", \"populismo\", \"populismo\", \"populismo\", \"pormenores\", \"pornografia\", \"pornografia\", \"portabilidad\", \"portatiles\", \"portatiles\", \"portatiles\", \"postulantes\", \"pray\", \"pray\", \"precio\", \"precio\", \"precio\", \"precio\", \"precio\", \"precio\", \"precio\", \"precio\", \"precio\", \"precio\", \"precio\", \"precio\", \"precios\", \"precios\", \"precios\", \"precios\", \"precios\", \"precios\", \"precios\", \"precios\", \"precios\", \"precios\", \"precios\", \"precision\", \"precision\", \"precision\", \"precision\", \"precision\", \"precision\", \"precision\", \"precision\", \"precision\", \"premio\", \"premio\", \"premio\", \"premio\", \"premio\", \"premio\", \"premio\", \"premio\", \"premio\", \"premio\", \"premio\", \"premio\", \"prepagas\", \"presentes\", \"presentes\", \"preservacion\", \"presidencia\", \"presidencia\", \"presidencia\", \"presidencia\", \"presidencia\", \"presidencia\", \"presidencia\", \"presidencia\", \"presidencia\", \"presidencia\", \"presidencia\", \"presidente\", \"presidente\", \"presidente\", \"presidente\", \"presidente\", \"presidente\", \"presidente\", \"presidente\", \"presidente\", \"presidente\", \"presidente\", \"presidente\", \"prision\", \"prision\", \"prision\", \"prision\", \"prision\", \"prision\", \"prision\", \"prision\", \"prision\", \"privacidad\", \"privacidad\", \"privacidad\", \"privacidad\", \"privacidad\", \"privacidad\", \"privacidad\", \"procedimiento\", \"procedimiento\", \"procedimiento\", \"procedimiento\", \"procesamiento\", \"procesamiento\", \"procesamiento\", \"procesamiento\", \"procesamiento\", \"proceso\", \"proceso\", \"proceso\", \"proceso\", \"proceso\", \"proceso\", \"proceso\", \"proceso\", \"proceso\", \"proceso\", \"proceso\", \"proceso\", \"productos\", \"productos\", \"productos\", \"productos\", \"productos\", \"productos\", \"productos\", \"productos\", \"productos\", \"productos\", \"productos\", \"productos\", \"profesor\", \"profesor\", \"profesor\", \"profesor\", \"profesor\", \"profesor\", \"profesor\", \"profesor\", \"profesor\", \"profesor\", \"profesor\", \"programadores\", \"programadores\", \"project\", \"project\", \"promedio\", \"promedio\", \"promedio\", \"promedio\", \"promedio\", \"promedio\", \"promedio\", \"promedio\", \"promedio\", \"promedio\", \"promedio\", \"promedio\", \"propuestas\", \"propuestas\", \"propuestas\", \"propuestas\", \"propuestas\", \"propuestas\", \"propuestas\", \"propuestas\", \"propuestas\", \"propuestas\", \"propuestas\", \"propuestas\", \"protegerlos\", \"protegerlos\", \"protesta\", \"protesta\", \"protesta\", \"protesta\", \"protesta\", \"protesta\", \"protesta\", \"protesta\", \"protestas\", \"protestas\", \"protestas\", \"protestas\", \"protestas\", \"protestas\", \"protestas\", \"prototipo\", \"prototipo\", \"prototipo\", \"provincia\", \"provincia\", \"provincia\", \"provincia\", \"provincia\", \"provincia\", \"provincia\", \"provincia\", \"provincia\", \"provincia\", \"provincia\", \"provincia\", \"proyecto\", \"proyecto\", \"proyecto\", \"proyecto\", \"proyecto\", \"proyecto\", \"proyecto\", \"proyecto\", \"proyecto\", \"proyecto\", \"proyecto\", \"proyecto\", \"publicacion\", \"publicacion\", \"publicacion\", \"publicacion\", \"publicacion\", \"publicacion\", \"publicacion\", \"publicacion\", \"publicacion\", \"publicacion\", \"publicacion\", \"publicacion\", \"publicaciones\", \"publicaciones\", \"publicaciones\", \"publicaciones\", \"publicaciones\", \"publicaciones\", \"publicaciones\", \"publicaciones\", \"publicaciones\", \"publicaciones\", \"publicaciones\", \"pulgadas\", \"pulgadas\", \"pulgadas\", \"pulgadas\", \"pulgadas\", \"pulgadas\", \"pulgadas\", \"pulgadas\", \"pulgares\", \"pumas\", \"pumas\", \"puntos\", \"puntos\", \"puntos\", \"puntos\", \"puntos\", \"puntos\", \"puntos\", \"puntos\", \"puntos\", \"puntos\", \"puntos\", \"puntos\", \"rafagas\", \"ratones\", \"ratones\", \"raza\", \"raza\", \"raza\", \"razas\", \"realidad\", \"realidad\", \"realidad\", \"realidad\", \"realidad\", \"realidad\", \"realidad\", \"realidad\", \"realidad\", \"realidad\", \"realidad\", \"realidad\", \"realismo\", \"rebeldes\", \"receptores\", \"recibiran\", \"recordo\", \"red\", \"red\", \"red\", \"red\", \"red\", \"red\", \"red\", \"red\", \"red\", \"red\", \"red\", \"red\", \"redes\", \"redes\", \"redes\", \"redes\", \"redes\", \"redes\", \"redes\", \"redes\", \"redes\", \"redes\", \"redes\", \"redes\", \"reeleccion\", \"regimiento\", \"regimiento\", \"reglamentacion\", \"reinicio\", \"reinicio\", \"reino\", \"reino\", \"reino\", \"reino\", \"reino\", \"reino\", \"reino\", \"reino\", \"renovador\", \"renta\", \"renta\", \"rentabilidad\", \"rentabilidad\", \"reparos\", \"reparto\", \"reparto\", \"reproduccion\", \"reproduccion\", \"reproduccion\", \"reproduccion\", \"reproductor\", \"reproductor\", \"respecta\", \"resquemor\", \"rich\", \"riesgo\", \"riesgo\", \"riesgo\", \"riesgo\", \"riesgo\", \"riesgo\", \"riesgo\", \"riesgo\", \"riesgo\", \"riesgo\", \"riesgo\", \"riesgo\", \"rios\", \"rios\", \"rios\", \"rios\", \"rios\", \"rios\", \"rios\", \"rios\", \"rios\", \"rios\", \"rito\", \"rito\", \"rne\", \"robot\", \"robot\", \"robot\", \"robot\", \"robot\", \"robots\", \"robots\", \"robots\", \"robots\", \"robots\", \"ropa\", \"ropa\", \"ropa\", \"ropa\", \"ropa\", \"ropa\", \"ropa\", \"ropa\", \"ropa\", \"ropa\", \"ropa\", \"royalties\", \"royalties\", \"royalties\", \"rugby\", \"rugby\", \"rugby\", \"rugby\", \"rugby\", \"rugby\", \"rutinas\", \"rutinas\", \"rutinas\", \"sadio\", \"sagas\", \"sala\", \"sala\", \"sala\", \"sala\", \"sala\", \"sala\", \"sala\", \"sala\", \"sala\", \"sala\", \"sala\", \"sala\", \"salta\", \"salta\", \"salta\", \"salta\", \"salta\", \"salta\", \"salta\", \"salta\", \"salta\", \"salta\", \"salud\", \"salud\", \"salud\", \"salud\", \"salud\", \"salud\", \"salud\", \"salud\", \"salud\", \"salud\", \"salud\", \"salud\", \"samsung\", \"samsung\", \"samsung\", \"sapos\", \"saqueos\", \"saqueos\", \"saqueos\", \"sarampion\", \"sarampion\", \"sarampion\", \"sasha\", \"sasha\", \"satelites\", \"satelites\", \"satelites\", \"satelites\", \"saudita\", \"sector\", \"sector\", \"sector\", \"sector\", \"sector\", \"sector\", \"sector\", \"sector\", \"sector\", \"sector\", \"sector\", \"sector\", \"seguridad\", \"seguridad\", \"seguridad\", \"seguridad\", \"seguridad\", \"seguridad\", \"seguridad\", \"seguridad\", \"seguridad\", \"seguridad\", \"seguridad\", \"seguridad\", \"seinfeld\", \"seinfeld\", \"semana\", \"semana\", \"semana\", \"semana\", \"semana\", \"semana\", \"semana\", \"semana\", \"semana\", \"semana\", \"semana\", \"semana\", \"semifinales\", \"semifinales\", \"semifinales\", \"semifinales\", \"semifinales\", \"semifinales\", \"senador\", \"senador\", \"senador\", \"senador\", \"senador\", \"senador\", \"senador\", \"seno\", \"seno\", \"septiembre\", \"septiembre\", \"septiembre\", \"septiembre\", \"septiembre\", \"septiembre\", \"septiembre\", \"septiembre\", \"septiembre\", \"septiembre\", \"septiembre\", \"septiembre\", \"sergei\", \"serie\", \"serie\", \"serie\", \"serie\", \"serie\", \"serie\", \"serie\", \"serie\", \"serie\", \"serie\", \"serie\", \"serie\", \"servicio\", \"servicio\", \"servicio\", \"servicio\", \"servicio\", \"servicio\", \"servicio\", \"servicio\", \"servicio\", \"servicio\", \"servicio\", \"servicio\", \"servicios\", \"servicios\", \"servicios\", \"servicios\", \"servicios\", \"servicios\", \"servicios\", \"servicios\", \"servicios\", \"servicios\", \"servicios\", \"servicios\", \"servidores\", \"show\", \"show\", \"show\", \"show\", \"show\", \"show\", \"show\", \"show\", \"show\", \"show\", \"silicona\", \"sillones\", \"sim\", \"sim\", \"simulacion\", \"simulacion\", \"sistema\", \"sistema\", \"sistema\", \"sistema\", \"sistema\", \"sistema\", \"sistema\", \"sistema\", \"sistema\", \"sistema\", \"sistema\", \"sistema\", \"sistemas\", \"sistemas\", \"sistemas\", \"sistemas\", \"sistemas\", \"sistemas\", \"sistemas\", \"sistemas\", \"sistemas\", \"sistemas\", \"sistemas\", \"sitio\", \"sitio\", \"sitio\", \"sitio\", \"sitio\", \"sitio\", \"sitio\", \"sitio\", \"sitio\", \"sitio\", \"sitio\", \"sitio\", \"smartphone\", \"smartphones\", \"smartphones\", \"soportes\", \"spacex\", \"spacex\", \"spacex\", \"spacex\", \"spacex\", \"spacex\", \"spacex\", \"spacex\", \"spacex\", \"spotify\", \"spotify\", \"spotify\", \"spotify\", \"spotify\", \"spotify\", \"stanford\", \"steve\", \"steve\", \"steve\", \"steven\", \"sticker\", \"stories\", \"subasta\", \"submarino\", \"submarino\", \"submarino\", \"sucesion\", \"sudeste\", \"sufragio\", \"sun\", \"superheroes\", \"supermercado\", \"supermercado\", \"supermercado\", \"supermercado\", \"superpoderes\", \"supremacia\", \"supremacia\", \"supremacia\", \"supremacia\", \"sureste\", \"susana\", \"susana\", \"susana\", \"susana\", \"susana\", \"susana\", \"susana\", \"susana\", \"suscriptores\", \"tabletas\", \"tabletas\", \"tacto\", \"taller\", \"taller\", \"taller\", \"taller\", \"taller\", \"taller\", \"tambo\", \"team\", \"team\", \"team\", \"team\", \"teaser\", \"teatro\", \"teatro\", \"teatro\", \"teatro\", \"teatro\", \"teatro\", \"teatro\", \"teatro\", \"teatro\", \"teclado\", \"teclado\", \"teclado\", \"teclado\", \"tecnologias\", \"tecnologias\", \"tecnologias\", \"telecomunicaciones\", \"telecomunicaciones\", \"telecomunicaciones\", \"telecomunicaciones\", \"telefe\", \"telefe\", \"telefe\", \"telefonia\", \"telefonia\", \"telefono\", \"telefono\", \"telefono\", \"telefono\", \"telefono\", \"telefono\", \"telefono\", \"telefono\", \"telefono\", \"telefono\", \"telefono\", \"telefono\", \"telefonos\", \"telefonos\", \"telefonos\", \"telefonos\", \"telefonos\", \"telefonos\", \"telefonos\", \"telefonos\", \"telefonos\", \"tema\", \"tema\", \"tema\", \"tema\", \"tema\", \"tema\", \"tema\", \"tema\", \"tema\", \"tema\", \"tema\", \"tema\", \"temas\", \"temas\", \"temas\", \"temas\", \"temas\", \"temas\", \"temas\", \"temas\", \"temas\", \"temas\", \"temas\", \"temas\", \"temporada\", \"temporada\", \"temporada\", \"temporada\", \"temporada\", \"temporada\", \"temporada\", \"temporada\", \"temporada\", \"temporada\", \"temporada\", \"temporada\", \"temporario\", \"ten\", \"tenes\", \"tenes\", \"tenes\", \"tenes\", \"tenes\", \"tenes\", \"tenes\", \"tenes\", \"tenes\", \"tenes\", \"tenes\", \"tenes\", \"teniente\", \"terminator\", \"terminator\", \"terminator\", \"terminator\", \"terrenos\", \"tesla\", \"testeo\", \"the\", \"the\", \"the\", \"the\", \"the\", \"the\", \"the\", \"the\", \"the\", \"the\", \"the\", \"the\", \"thelma\", \"thelma\", \"thelma\", \"tiempo\", \"tiempo\", \"tiempo\", \"tiempo\", \"tiempo\", \"tiempo\", \"tiempo\", \"tiempo\", \"tiempo\", \"tiempo\", \"tiempo\", \"tiempo\", \"tierra\", \"tierra\", \"tierra\", \"tierra\", \"tierra\", \"tierra\", \"tierra\", \"tierra\", \"tierra\", \"tierra\", \"tierra\", \"tierra\", \"tijera\", \"tijera\", \"tijeras\", \"tipo\", \"tipo\", \"tipo\", \"tipo\", \"tipo\", \"tipo\", \"tipo\", \"tipo\", \"tipo\", \"tipo\", \"tipo\", \"tipo\", \"tiroteo\", \"tiroteo\", \"titanio\", \"titulo\", \"titulo\", \"titulo\", \"titulo\", \"titulo\", \"titulo\", \"titulo\", \"titulo\", \"titulo\", \"titulo\", \"titulo\", \"titulo\", \"tonos\", \"tormenta\", \"tormenta\", \"tormenta\", \"tormenta\", \"tormenta\", \"tormenta\", \"tormenta\", \"tormenta\", \"tormenta\", \"torneo\", \"torneo\", \"torneo\", \"torneo\", \"torneo\", \"torneo\", \"torneo\", \"torneo\", \"torneo\", \"torneo\", \"torneos\", \"torneos\", \"torneos\", \"torneos\", \"torneos\", \"torneos\", \"trabajadores\", \"trabajadores\", \"trabajadores\", \"trabajadores\", \"trabajadores\", \"trabajadores\", \"trabajadores\", \"trabajadores\", \"trabajadores\", \"trabajadores\", \"trabajadores\", \"trabajo\", \"trabajo\", \"trabajo\", \"trabajo\", \"trabajo\", \"trabajo\", \"trabajo\", \"trabajo\", \"trabajo\", \"trabajo\", \"trabajo\", \"trabajo\", \"training\", \"training\", \"training\", \"training\", \"transcripcion\", \"transcripcion\", \"transcripcion\", \"transcripcion\", \"transcripcion\", \"transcripcion\", \"transcripcion\", \"transcripcion\", \"transcripciones\", \"tratamiento\", \"tratamiento\", \"tratamiento\", \"tratamiento\", \"tratamiento\", \"tratamiento\", \"tratamiento\", \"tratamiento\", \"tratamiento\", \"tratamiento\", \"tratamiento\", \"traves\", \"traves\", \"traves\", \"traves\", \"traves\", \"traves\", \"traves\", \"traves\", \"traves\", \"traves\", \"traves\", \"traves\", \"tribunal\", \"tribunal\", \"tribunal\", \"tribunal\", \"tribunal\", \"tribunal\", \"tribunal\", \"tribunales\", \"tribunales\", \"tribunales\", \"tribunales\", \"tribunales\", \"tribunales\", \"tribunales\", \"tries\", \"trimestre\", \"trimestre\", \"trimestre\", \"trimestre\", \"trompa\", \"truco\", \"truco\", \"truco\", \"truco\", \"trump\", \"trump\", \"trump\", \"trump\", \"trump\", \"trump\", \"trump\", \"trump\", \"tuits\", \"tuits\", \"tuits\", \"tuits\", \"tuits\", \"tuits\", \"tweets\", \"uber\", \"uber\", \"uber\", \"ucr\", \"ucr\", \"universidad\", \"universidad\", \"universidad\", \"universidad\", \"universidad\", \"universidad\", \"universidad\", \"universidad\", \"universidad\", \"universidad\", \"universidad\", \"universidad\", \"ups\", \"ups\", \"ups\", \"urnas\", \"urnas\", \"urnas\", \"urnas\", \"usb\", \"usd\", \"usd\", \"usd\", \"usd\", \"usd\", \"uso\", \"uso\", \"uso\", \"uso\", \"uso\", \"uso\", \"uso\", \"uso\", \"uso\", \"uso\", \"uso\", \"uso\", \"usuario\", \"usuario\", \"usuario\", \"usuario\", \"usuarios\", \"usuarios\", \"usuarios\", \"usuarios\", \"usuarios\", \"utn\", \"vacantes\", \"vacantes\", \"vacantes\", \"vacunacion\", \"valenzuela\", \"valenzuela\", \"validacion\", \"valor\", \"valor\", \"valor\", \"valor\", \"valor\", \"valor\", \"valor\", \"valor\", \"valor\", \"valor\", \"valor\", \"valor\", \"valparaiso\", \"variables\", \"variacion\", \"veces\", \"veces\", \"veces\", \"veces\", \"veces\", \"veces\", \"veces\", \"veces\", \"veces\", \"veces\", \"veces\", \"veces\", \"veloces\", \"venia\", \"ventas\", \"ventas\", \"ventas\", \"ventas\", \"ventas\", \"ventas\", \"ventas\", \"ventas\", \"ventas\", \"verosimilitud\", \"verosimilitud\", \"version\", \"version\", \"version\", \"version\", \"version\", \"version\", \"version\", \"version\", \"version\", \"version\", \"version\", \"version\", \"vertebras\", \"vez\", \"vez\", \"vez\", \"vez\", \"vez\", \"vez\", \"vez\", \"vez\", \"vez\", \"vez\", \"vez\", \"vez\", \"vibra\", \"vicegobernador\", \"vida\", \"vida\", \"vida\", \"vida\", \"vida\", \"vida\", \"vida\", \"vida\", \"vida\", \"vida\", \"vida\", \"vida\", \"vidas\", \"vidas\", \"vidas\", \"vidas\", \"vidas\", \"vidas\", \"vidas\", \"vidas\", \"vidas\", \"video\", \"video\", \"video\", \"video\", \"video\", \"video\", \"video\", \"video\", \"video\", \"video\", \"video\", \"video\", \"videojuego\", \"videojuego\", \"videojuego\", \"videojuegos\", \"videojuegos\", \"videojuegos\", \"videojuegos\", \"videojuegos\", \"violencia\", \"violencia\", \"violencia\", \"violencia\", \"violencia\", \"violencia\", \"violencia\", \"violencia\", \"violencia\", \"violencia\", \"violencia\", \"virus\", \"virus\", \"virus\", \"voice\", \"votacion\", \"voto\", \"voto\", \"voto\", \"voto\", \"voto\", \"voto\", \"voto\", \"voto\", \"voto\", \"votos\", \"votos\", \"votos\", \"votos\", \"votos\", \"votos\", \"votos\", \"votos\", \"voz\", \"voz\", \"voz\", \"voz\", \"voz\", \"voz\", \"voz\", \"voz\", \"voz\", \"voz\", \"voz\", \"voz\", \"vuelos\", \"vuelos\", \"vuelos\", \"vuelos\", \"vuelos\", \"vuelos\", \"vuelos\", \"vuelos\", \"web\", \"web\", \"web\", \"web\", \"web\", \"web\", \"web\", \"web\", \"web\", \"web\", \"web\", \"web\", \"webs\", \"whatsapp\", \"whatsapp\", \"whatsapp\", \"whatsapp\", \"whatsapp\", \"whatsapp\", \"whatsapp\", \"whatsapp\", \"wifi\", \"wifi\", \"wifi\", \"wifi\", \"wifi\", \"wifi\", \"with\", \"with\", \"with\", \"with\", \"witherspoon\", \"worlds\", \"yoga\", \"yoga\", \"yoga\", \"yogur\", \"your\", \"your\", \"zuckerberg\", \"zuckerberg\"]}, \"R\": 30, \"lambda.step\": 0.01, \"plot.opts\": {\"xlab\": \"PC1\", \"ylab\": \"PC2\"}, \"topic.order\": [1, 10, 4, 7, 5, 6, 11, 2, 8, 12, 3, 9]};\n",
              "\n",
              "function LDAvis_load_lib(url, callback){\n",
              "  var s = document.createElement('script');\n",
              "  s.src = url;\n",
              "  s.async = true;\n",
              "  s.onreadystatechange = s.onload = callback;\n",
              "  s.onerror = function(){console.warn(\"failed to load library \" + url);};\n",
              "  document.getElementsByTagName(\"head\")[0].appendChild(s);\n",
              "}\n",
              "\n",
              "if(typeof(LDAvis) !== \"undefined\"){\n",
              "   // already loaded: just create the visualization\n",
              "   !function(LDAvis){\n",
              "       new LDAvis(\"#\" + \"ldavis_el1251402124209063448565429100\", ldavis_el1251402124209063448565429100_data);\n",
              "   }(LDAvis);\n",
              "}else if(typeof define === \"function\" && define.amd){\n",
              "   // require.js is available: use it to load d3/LDAvis\n",
              "   require.config({paths: {d3: \"https://cdnjs.cloudflare.com/ajax/libs/d3/3.5.5/d3.min\"}});\n",
              "   require([\"d3\"], function(d3){\n",
              "      window.d3 = d3;\n",
              "      LDAvis_load_lib(\"https://cdn.rawgit.com/bmabey/pyLDAvis/files/ldavis.v1.0.0.js\", function(){\n",
              "        new LDAvis(\"#\" + \"ldavis_el1251402124209063448565429100\", ldavis_el1251402124209063448565429100_data);\n",
              "      });\n",
              "    });\n",
              "}else{\n",
              "    // require.js not available: dynamically load d3 & LDAvis\n",
              "    LDAvis_load_lib(\"https://cdnjs.cloudflare.com/ajax/libs/d3/3.5.5/d3.min.js\", function(){\n",
              "         LDAvis_load_lib(\"https://cdn.rawgit.com/bmabey/pyLDAvis/files/ldavis.v1.0.0.js\", function(){\n",
              "                 new LDAvis(\"#\" + \"ldavis_el1251402124209063448565429100\", ldavis_el1251402124209063448565429100_data);\n",
              "            })\n",
              "         });\n",
              "}\n",
              "</script>"
            ],
            "text/plain": [
              "PreparedData(topic_coordinates=              x         y  topics  cluster       Freq\n",
              "topic                                                \n",
              "0      0.085868 -0.179740       1        1  15.731374\n",
              "9     -0.123893 -0.008366       2        1  13.391823\n",
              "3     -0.185768 -0.091424       3        1  10.896405\n",
              "6      0.246741  0.006724       4        1  10.700113\n",
              "4     -0.148286  0.058414       5        1   9.097563\n",
              "5      0.134264  0.219180       6        1   7.420711\n",
              "10     0.096596 -0.091523       7        1   6.947018\n",
              "1     -0.128641  0.135084       8        1   5.796341\n",
              "7      0.036686  0.093964       9        1   5.700187\n",
              "11    -0.006084 -0.053739      10        1   5.513783\n",
              "2      0.033977 -0.082713      11        1   4.417105\n",
              "8     -0.041461 -0.005862      12        1   4.387581, topic_info=     Category          Freq        Term         Total  loglift  logprob\n",
              "234   Default  19651.000000       juego  19651.000000  30.0000  30.0000\n",
              "154   Default  18523.000000  presidente  18523.000000  29.0000  29.0000\n",
              "809   Default  12317.000000   candidato  12317.000000  28.0000  28.0000\n",
              "144   Default  15642.000000    millones  15642.000000  27.0000  27.0000\n",
              "721   Default  11893.000000  elecciones  11893.000000  26.0000  26.0000\n",
              "...       ...           ...         ...           ...      ...      ...\n",
              "991   Topic12    691.579895        caso  13979.522461   0.1200  -5.7577\n",
              "144   Topic12    692.428162    millones  15642.506836   0.0088  -5.7565\n",
              "1253  Topic12    592.688416    libertad   2755.270020   1.5898  -5.9120\n",
              "340   Topic12    613.962036    historia  11713.422852   0.1778  -5.8768\n",
              "49    Topic12    617.807861       lugar  17101.007812  -0.1943  -5.8705\n",
              "\n",
              "[1039 rows x 6 columns], token_table=      Topic      Freq        Term\n",
              "term                             \n",
              "209       3  0.995654      abrigo\n",
              "777       1  0.031223      acceso\n",
              "777       2  0.003389      acceso\n",
              "777       3  0.001694      acceso\n",
              "777       4  0.237682      acceso\n",
              "...     ...       ...         ...\n",
              "9771      9  0.986739       yogur\n",
              "6036      2  0.047889        your\n",
              "6036     11  0.950415        your\n",
              "9794      1  0.996539  zuckerberg\n",
              "9794      2  0.002085  zuckerberg\n",
              "\n",
              "[4860 rows x 3 columns], R=30, lambda_step=0.01, plot_opts={'xlab': 'PC1', 'ylab': 'PC2'}, topic_order=[1, 10, 4, 7, 5, 6, 11, 2, 8, 12, 3, 9])"
            ]
          },
          "metadata": {
            "tags": []
          },
          "execution_count": 74
        }
      ]
    }
  ]
}