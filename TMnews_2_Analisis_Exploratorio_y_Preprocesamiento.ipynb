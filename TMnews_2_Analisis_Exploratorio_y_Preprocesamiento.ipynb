{
  "nbformat": 4,
  "nbformat_minor": 0,
  "metadata": {
    "colab": {
      "name": "TMnews_2_Analisis_Exploratorio_y_Preprocesamiento.ipynb",
      "provenance": [],
      "include_colab_link": true
    },
    "kernelspec": {
      "name": "python3",
      "display_name": "Python 3"
    }
  },
  "cells": [
    {
      "cell_type": "markdown",
      "metadata": {
        "id": "view-in-github",
        "colab_type": "text"
      },
      "source": [
        "<a href=\"https://colab.research.google.com/github/anadebattista/TMnews/blob/master/TMnews_2_Analisis_Exploratorio_y_Preprocesamiento.ipynb\" target=\"_parent\"><img src=\"https://colab.research.google.com/assets/colab-badge.svg\" alt=\"Open In Colab\"/></a>"
      ]
    },
    {
      "cell_type": "markdown",
      "metadata": {
        "id": "ZAfqJLHzXfmV",
        "colab_type": "text"
      },
      "source": [
        "# **Curso Minería de Textos 2019**\n",
        "**Trabajo Final:** \n",
        "\n",
        "**Profesor:** Dr. Marcelo Errecalde\n",
        "\n",
        "**Alumnos:** \n",
        "*   M.Cs. Anabella De Battista\n",
        "*   Ing. Esteban Schab"
      ]
    },
    {
      "cell_type": "markdown",
      "metadata": {
        "id": "fPaeGV6TXf3l",
        "colab_type": "text"
      },
      "source": [
        "---\n",
        "#**Fase de Obtención y Preparación de los Textos**\n",
        "\n",
        "---\n"
      ]
    },
    {
      "cell_type": "markdown",
      "metadata": {
        "id": "3JERmALngdmQ",
        "colab_type": "text"
      },
      "source": [
        "---\n",
        "\n",
        "Conexión de Collaboratory con Google Drive\n",
        "\n",
        "---"
      ]
    },
    {
      "cell_type": "code",
      "metadata": {
        "id": "NYySoxJ5u9Yj",
        "colab_type": "code",
        "outputId": "7d9d6569-efc0-46e6-fb8a-08ed8dba41b7",
        "colab": {
          "base_uri": "https://localhost:8080/",
          "height": 125
        }
      },
      "source": [
        "from google.colab import drive\n",
        "drive.mount('/content/drive/')"
      ],
      "execution_count": 0,
      "outputs": [
        {
          "output_type": "stream",
          "text": [
            "Go to this URL in a browser: https://accounts.google.com/o/oauth2/auth?client_id=947318989803-6bn6qk8qdgf4n4g3pfee6491hc0brc4i.apps.googleusercontent.com&redirect_uri=urn%3aietf%3awg%3aoauth%3a2.0%3aoob&response_type=code&scope=email%20https%3a%2f%2fwww.googleapis.com%2fauth%2fdocs.test%20https%3a%2f%2fwww.googleapis.com%2fauth%2fdrive%20https%3a%2f%2fwww.googleapis.com%2fauth%2fdrive.photos.readonly%20https%3a%2f%2fwww.googleapis.com%2fauth%2fpeopleapi.readonly\n",
            "\n",
            "Enter your authorization code:\n",
            "··········\n",
            "Mounted at /content/drive/\n"
          ],
          "name": "stdout"
        }
      ]
    },
    {
      "cell_type": "markdown",
      "metadata": {
        "id": "Vem8PXLhgnfy",
        "colab_type": "text"
      },
      "source": [
        "---\n",
        "\n",
        "Seteo de directorio de trabajo\n",
        "\n",
        "---"
      ]
    },
    {
      "cell_type": "code",
      "metadata": {
        "id": "8IQ5Fl_qvwl6",
        "colab_type": "code",
        "colab": {}
      },
      "source": [
        "import os\n",
        "os.chdir(\"/content/drive/My Drive/Colab Notebooks/Curso Mineria Textos 2019/data\")"
      ],
      "execution_count": 0,
      "outputs": []
    },
    {
      "cell_type": "markdown",
      "metadata": {
        "id": "MDEWyV1agsNq",
        "colab_type": "text"
      },
      "source": [
        "---\n",
        "\n",
        "Se importa el repositorio de noticias generado en la etapa anterior (newsoctubre2019.csv)\n",
        "\n",
        "---"
      ]
    },
    {
      "cell_type": "code",
      "metadata": {
        "id": "JRE0G9fCv7SV",
        "colab_type": "code",
        "outputId": "5452ac20-7484-4b7f-b9db-2d1daf0304ba",
        "colab": {
          "base_uri": "https://localhost:8080/",
          "height": 740
        }
      },
      "source": [
        "import pandas as pd \n",
        "news = pd.read_csv('newsoctubre2019.csv')\n",
        "news"
      ],
      "execution_count": 0,
      "outputs": [
        {
          "output_type": "execute_result",
          "data": {
            "text/html": [
              "<div>\n",
              "<style scoped>\n",
              "    .dataframe tbody tr th:only-of-type {\n",
              "        vertical-align: middle;\n",
              "    }\n",
              "\n",
              "    .dataframe tbody tr th {\n",
              "        vertical-align: top;\n",
              "    }\n",
              "\n",
              "    .dataframe thead th {\n",
              "        text-align: right;\n",
              "    }\n",
              "</style>\n",
              "<table border=\"1\" class=\"dataframe\">\n",
              "  <thead>\n",
              "    <tr style=\"text-align: right;\">\n",
              "      <th></th>\n",
              "      <th>news_paper</th>\n",
              "      <th>category</th>\n",
              "      <th>link</th>\n",
              "      <th>date</th>\n",
              "      <th>title</th>\n",
              "      <th>abstract</th>\n",
              "      <th>author</th>\n",
              "      <th>key_words</th>\n",
              "      <th>body</th>\n",
              "    </tr>\n",
              "  </thead>\n",
              "  <tbody>\n",
              "    <tr>\n",
              "      <th>0</th>\n",
              "      <td>clarin</td>\n",
              "      <td>deportes</td>\n",
              "      <td>https://www.clarin.com//deportes/escandalo-aud...</td>\n",
              "      <td>2019-10-01</td>\n",
              "      <td>“¿Por qué no te ponés a dieta?”, el escándalo ...</td>\n",
              "      <td>Se difundió un mensaje del referí Germán Bermú...</td>\n",
              "      <td>[]</td>\n",
              "      <td>Federico BeligoyArbitrosPrueba</td>\n",
              "      <td>Germán Bermúdez es referí en las categorías de...</td>\n",
              "    </tr>\n",
              "    <tr>\n",
              "      <th>1</th>\n",
              "      <td>clarin</td>\n",
              "      <td>deportes</td>\n",
              "      <td>https://www.clarin.com//deportes/espana-hablan...</td>\n",
              "      <td>2019-10-01</td>\n",
              "      <td>En España hablan de una fractura en el Barcelo...</td>\n",
              "      <td>El diario El País dice que la contratación de ...</td>\n",
              "      <td>[]</td>\n",
              "      <td>FC BarcelonaLionel MessiAntoine GriezmannNeymar</td>\n",
              "      <td>Barcelona no mira a todos desde arriba. Ya no....</td>\n",
              "    </tr>\n",
              "    <tr>\n",
              "      <th>2</th>\n",
              "      <td>clarin</td>\n",
              "      <td>deportes</td>\n",
              "      <td>https://www.clarin.com//deportes/superclasico-...</td>\n",
              "      <td>2019-10-01</td>\n",
              "      <td>Superclásico: qué dicen los astros para el Riv...</td>\n",
              "      <td>En la previa del partido de ida, dos reconocid...</td>\n",
              "      <td>[]</td>\n",
              "      <td>River PlateBoca JuniorsSuperclásicoCopa Libert...</td>\n",
              "      <td>Ya sean creyentes o escépticos, la ansiedad po...</td>\n",
              "    </tr>\n",
              "    <tr>\n",
              "      <th>3</th>\n",
              "      <td>clarin</td>\n",
              "      <td>deportes</td>\n",
              "      <td>https://www.clarin.com//deportes/river-boca-co...</td>\n",
              "      <td>2019-10-01</td>\n",
              "      <td>River-Boca, por la Copa Libertadores: cómo est...</td>\n",
              "      <td>Las fuertes tormentas que cayeron sobre la ciu...</td>\n",
              "      <td>[]</td>\n",
              "      <td>Copa LibertadoresSuperclásicoRiver PlateBoca J...</td>\n",
              "      <td>El duelo de ida por las semifinales de la Copa...</td>\n",
              "    </tr>\n",
              "    <tr>\n",
              "      <th>4</th>\n",
              "      <td>clarin</td>\n",
              "      <td>deportes</td>\n",
              "      <td>https://www.clarin.com//deportes/mundial-atlet...</td>\n",
              "      <td>2019-10-01</td>\n",
              "      <td>El Mundial de atletismo, envuelto en el drama ...</td>\n",
              "      <td>La IAAF está en la mira por haber permitido qu...</td>\n",
              "      <td>Luciana Aranguiz</td>\n",
              "      <td>AtletismoDoha</td>\n",
              "      <td>La imagen se repitió una y otra vez en las pri...</td>\n",
              "    </tr>\n",
              "    <tr>\n",
              "      <th>...</th>\n",
              "      <td>...</td>\n",
              "      <td>...</td>\n",
              "      <td>...</td>\n",
              "      <td>...</td>\n",
              "      <td>...</td>\n",
              "      <td>...</td>\n",
              "      <td>...</td>\n",
              "      <td>...</td>\n",
              "      <td>...</td>\n",
              "    </tr>\n",
              "    <tr>\n",
              "      <th>37640</th>\n",
              "      <td>lanacion</td>\n",
              "      <td>tecnologia</td>\n",
              "      <td>http://www.lanacion.com.ar//tecnologia/como-z-...</td>\n",
              "      <td>2019-10-29</td>\n",
              "      <td>Como una Z: así es el prototipo de TCL de un s...</td>\n",
              "      <td>NaN</td>\n",
              "      <td>NaN</td>\n",
              "      <td>NaN</td>\n",
              "      <td>TCL presentó por estos días un prototipo de un...</td>\n",
              "    </tr>\n",
              "    <tr>\n",
              "      <th>37641</th>\n",
              "      <td>lanacion</td>\n",
              "      <td>tecnologia</td>\n",
              "      <td>http://www.lanacion.com.ar//tecnologia/lanzan-...</td>\n",
              "      <td>2019-10-29</td>\n",
              "      <td>Lanzan una app gratis para ayudar a los partid...</td>\n",
              "      <td>NaN</td>\n",
              "      <td>Sebastián Davidovsky</td>\n",
              "      <td>NaN</td>\n",
              "      <td>Una aplicación colaborativa que les facilite a...</td>\n",
              "    </tr>\n",
              "    <tr>\n",
              "      <th>37642</th>\n",
              "      <td>lanacion</td>\n",
              "      <td>tecnologia</td>\n",
              "      <td>http://www.lanacion.com.ar//tecnologia/youtube...</td>\n",
              "      <td>2019-10-29</td>\n",
              "      <td>YouTube presenta su primera película interacti...</td>\n",
              "      <td>NaN</td>\n",
              "      <td>NaN</td>\n",
              "      <td>NaN</td>\n",
              "      <td>YouTube publicó el adelanto de \\r\\nA Heist Wit...</td>\n",
              "    </tr>\n",
              "    <tr>\n",
              "      <th>37643</th>\n",
              "      <td>lanacion</td>\n",
              "      <td>tecnologia</td>\n",
              "      <td>http://www.lanacion.com.ar//tecnologia/apple-p...</td>\n",
              "      <td>2019-10-29</td>\n",
              "      <td>Apple planea lanzar una función para crear Mem...</td>\n",
              "      <td>NaN</td>\n",
              "      <td>NaN</td>\n",
              "      <td>NaN</td>\n",
              "      <td>Los Memojis son las ilustraciones personalizad...</td>\n",
              "    </tr>\n",
              "    <tr>\n",
              "      <th>37644</th>\n",
              "      <td>lanacion</td>\n",
              "      <td>tecnologia</td>\n",
              "      <td>http://www.lanacion.com.ar//tecnologia/huawei-...</td>\n",
              "      <td>2019-10-29</td>\n",
              "      <td>Huawei Mate X: el teléfono plegable de 2400 dó...</td>\n",
              "      <td>NaN</td>\n",
              "      <td>Ricardo Sametband</td>\n",
              "      <td>NaN</td>\n",
              "      <td>Huawei finalmente le puso fecha a la disponibi...</td>\n",
              "    </tr>\n",
              "  </tbody>\n",
              "</table>\n",
              "<p>37645 rows × 9 columns</p>\n",
              "</div>"
            ],
            "text/plain": [
              "      news_paper  ...                                               body\n",
              "0         clarin  ...  Germán Bermúdez es referí en las categorías de...\n",
              "1         clarin  ...  Barcelona no mira a todos desde arriba. Ya no....\n",
              "2         clarin  ...  Ya sean creyentes o escépticos, la ansiedad po...\n",
              "3         clarin  ...  El duelo de ida por las semifinales de la Copa...\n",
              "4         clarin  ...  La imagen se repitió una y otra vez en las pri...\n",
              "...          ...  ...                                                ...\n",
              "37640   lanacion  ...  TCL presentó por estos días un prototipo de un...\n",
              "37641   lanacion  ...  Una aplicación colaborativa que les facilite a...\n",
              "37642   lanacion  ...  YouTube publicó el adelanto de \\r\\nA Heist Wit...\n",
              "37643   lanacion  ...  Los Memojis son las ilustraciones personalizad...\n",
              "37644   lanacion  ...  Huawei finalmente le puso fecha a la disponibi...\n",
              "\n",
              "[37645 rows x 9 columns]"
            ]
          },
          "metadata": {
            "tags": []
          },
          "execution_count": 4
        }
      ]
    },
    {
      "cell_type": "markdown",
      "metadata": {
        "id": "w-P08JjWg7T_",
        "colab_type": "text"
      },
      "source": [
        "---\n",
        "\n",
        "Estadísticas descriptivas del dataset\n",
        "\n",
        "---"
      ]
    },
    {
      "cell_type": "code",
      "metadata": {
        "id": "WmN5EOM7tAdD",
        "colab_type": "code",
        "outputId": "e7775ec5-51c1-4428-caf4-dae3f6f75ee9",
        "colab": {
          "base_uri": "https://localhost:8080/",
          "height": 167
        }
      },
      "source": [
        "news.describe()"
      ],
      "execution_count": 0,
      "outputs": [
        {
          "output_type": "execute_result",
          "data": {
            "text/html": [
              "<div>\n",
              "<style scoped>\n",
              "    .dataframe tbody tr th:only-of-type {\n",
              "        vertical-align: middle;\n",
              "    }\n",
              "\n",
              "    .dataframe tbody tr th {\n",
              "        vertical-align: top;\n",
              "    }\n",
              "\n",
              "    .dataframe thead th {\n",
              "        text-align: right;\n",
              "    }\n",
              "</style>\n",
              "<table border=\"1\" class=\"dataframe\">\n",
              "  <thead>\n",
              "    <tr style=\"text-align: right;\">\n",
              "      <th></th>\n",
              "      <th>news_paper</th>\n",
              "      <th>category</th>\n",
              "      <th>link</th>\n",
              "      <th>date</th>\n",
              "      <th>title</th>\n",
              "      <th>abstract</th>\n",
              "      <th>author</th>\n",
              "      <th>key_words</th>\n",
              "      <th>body</th>\n",
              "    </tr>\n",
              "  </thead>\n",
              "  <tbody>\n",
              "    <tr>\n",
              "      <th>count</th>\n",
              "      <td>37645</td>\n",
              "      <td>37645</td>\n",
              "      <td>37645</td>\n",
              "      <td>37645</td>\n",
              "      <td>37645</td>\n",
              "      <td>23525</td>\n",
              "      <td>29169</td>\n",
              "      <td>7606</td>\n",
              "      <td>37394</td>\n",
              "    </tr>\n",
              "    <tr>\n",
              "      <th>unique</th>\n",
              "      <td>3</td>\n",
              "      <td>6</td>\n",
              "      <td>9169</td>\n",
              "      <td>28</td>\n",
              "      <td>9548</td>\n",
              "      <td>6340</td>\n",
              "      <td>610</td>\n",
              "      <td>2204</td>\n",
              "      <td>10439</td>\n",
              "    </tr>\n",
              "    <tr>\n",
              "      <th>top</th>\n",
              "      <td>lanacion</td>\n",
              "      <td>tecnologia</td>\n",
              "      <td>https://www.infobae.com//teleshow/2019/10/12/l...</td>\n",
              "      <td>2019-10-18</td>\n",
              "      <td>Agenda Vida Digital</td>\n",
              "      <td>[]</td>\n",
              "      <td>[]</td>\n",
              "      <td>Dólar Hoy</td>\n",
              "      <td>Jimena Barón mostró su nuevo tatuaje y explicó...</td>\n",
              "    </tr>\n",
              "    <tr>\n",
              "      <th>freq</th>\n",
              "      <td>15186</td>\n",
              "      <td>6874</td>\n",
              "      <td>33</td>\n",
              "      <td>1797</td>\n",
              "      <td>87</td>\n",
              "      <td>53</td>\n",
              "      <td>16349</td>\n",
              "      <td>66</td>\n",
              "      <td>33</td>\n",
              "    </tr>\n",
              "  </tbody>\n",
              "</table>\n",
              "</div>"
            ],
            "text/plain": [
              "       news_paper  ...                                               body\n",
              "count       37645  ...                                              37394\n",
              "unique          3  ...                                              10439\n",
              "top      lanacion  ...  Jimena Barón mostró su nuevo tatuaje y explicó...\n",
              "freq        15186  ...                                                 33\n",
              "\n",
              "[4 rows x 9 columns]"
            ]
          },
          "metadata": {
            "tags": []
          },
          "execution_count": 5
        }
      ]
    },
    {
      "cell_type": "markdown",
      "metadata": {
        "id": "xARFcFGbTiuy",
        "colab_type": "text"
      },
      "source": [
        "---\n",
        "\n",
        "**Selección, limpieza y transformación**\n",
        "\n",
        "\n",
        "---"
      ]
    },
    {
      "cell_type": "markdown",
      "metadata": {
        "id": "SoAFZdkNTsQr",
        "colab_type": "text"
      },
      "source": [
        "\n",
        "\n",
        "---\n",
        "\n",
        "El script de descarga de noticias se ejecuta 3 veces durante un día, por lo que algunas noticias que no se modifican pueden aparecer 3 veces en un mismo día.\n",
        "En algunas ocasiones el diario actualiza el texto de alguna noticia durante el día, por lo que se puede observar que se mantiene el título pero se modifica el body de alguna noticia.\n",
        "\n",
        "A continuación se presenta una tabla en la que se puede visualizar que la longitud del campo body de la noticia con ID = 7574, 7625, 7639 ha cambiado durante el día.\n",
        "\n",
        "Para este trabajo se decidió no eliminar noticias duplicadas.\n",
        "\n",
        "---\n"
      ]
    },
    {
      "cell_type": "code",
      "metadata": {
        "id": "0Wj1X1-LTvr8",
        "colab_type": "code",
        "colab": {}
      },
      "source": [
        "noticiassubset = news[['link','body','title','date']]\n",
        "noticiassubset\n",
        "noticiassubset['lenghtBody'] = noticiassubset['body'].apply(len) \n",
        "#export_csv = noticiassubset.to_csv (r'/content/TMnews/data/export_dataframeSub.csv', index = None, header=True)\n",
        "noticiassubset.loc[[7574,7625,7639]]"
      ],
      "execution_count": 0,
      "outputs": []
    },
    {
      "cell_type": "markdown",
      "metadata": {
        "id": "KxSehWeutF5I",
        "colab_type": "text"
      },
      "source": [
        "\n",
        "\n",
        "---\n",
        "\n",
        "\n",
        "Como se detecta que BODY tiene algunos registros NA...\n",
        "\n",
        "---"
      ]
    },
    {
      "cell_type": "code",
      "metadata": {
        "id": "0tzRTeAKpQc3",
        "colab_type": "code",
        "outputId": "bd89e6fb-d871-40c8-d2d2-801bf7cc0c0e",
        "colab": {
          "base_uri": "https://localhost:8080/",
          "height": 167
        }
      },
      "source": [
        "news[['title','body']].describe()"
      ],
      "execution_count": 0,
      "outputs": [
        {
          "output_type": "execute_result",
          "data": {
            "text/html": [
              "<div>\n",
              "<style scoped>\n",
              "    .dataframe tbody tr th:only-of-type {\n",
              "        vertical-align: middle;\n",
              "    }\n",
              "\n",
              "    .dataframe tbody tr th {\n",
              "        vertical-align: top;\n",
              "    }\n",
              "\n",
              "    .dataframe thead th {\n",
              "        text-align: right;\n",
              "    }\n",
              "</style>\n",
              "<table border=\"1\" class=\"dataframe\">\n",
              "  <thead>\n",
              "    <tr style=\"text-align: right;\">\n",
              "      <th></th>\n",
              "      <th>title</th>\n",
              "      <th>body</th>\n",
              "    </tr>\n",
              "  </thead>\n",
              "  <tbody>\n",
              "    <tr>\n",
              "      <th>count</th>\n",
              "      <td>37645</td>\n",
              "      <td>37394</td>\n",
              "    </tr>\n",
              "    <tr>\n",
              "      <th>unique</th>\n",
              "      <td>9548</td>\n",
              "      <td>10439</td>\n",
              "    </tr>\n",
              "    <tr>\n",
              "      <th>top</th>\n",
              "      <td>Agenda Vida Digital</td>\n",
              "      <td>Jimena Barón mostró su nuevo tatuaje y explicó...</td>\n",
              "    </tr>\n",
              "    <tr>\n",
              "      <th>freq</th>\n",
              "      <td>87</td>\n",
              "      <td>33</td>\n",
              "    </tr>\n",
              "  </tbody>\n",
              "</table>\n",
              "</div>"
            ],
            "text/plain": [
              "                      title                                               body\n",
              "count                 37645                                              37394\n",
              "unique                 9548                                              10439\n",
              "top     Agenda Vida Digital  Jimena Barón mostró su nuevo tatuaje y explicó...\n",
              "freq                     87                                                 33"
            ]
          },
          "metadata": {
            "tags": []
          },
          "execution_count": 6
        }
      ]
    },
    {
      "cell_type": "markdown",
      "metadata": {
        "id": "pTnXwtA5zeFV",
        "colab_type": "text"
      },
      "source": [
        "---\n",
        "\n",
        "... se eliminan los registros cuyos title o body son NA\n",
        "\n",
        "---"
      ]
    },
    {
      "cell_type": "code",
      "metadata": {
        "id": "G7eSTjXwqapH",
        "colab_type": "code",
        "outputId": "b48919d0-be3f-4dbc-d21e-f703450ab4c8",
        "colab": {
          "base_uri": "https://localhost:8080/",
          "height": 184
        }
      },
      "source": [
        "news_clean = news.dropna(subset=['title','body'])\n",
        "news_clean.describe()"
      ],
      "execution_count": 0,
      "outputs": [
        {
          "output_type": "execute_result",
          "data": {
            "text/html": [
              "<div>\n",
              "<style scoped>\n",
              "    .dataframe tbody tr th:only-of-type {\n",
              "        vertical-align: middle;\n",
              "    }\n",
              "\n",
              "    .dataframe tbody tr th {\n",
              "        vertical-align: top;\n",
              "    }\n",
              "\n",
              "    .dataframe thead th {\n",
              "        text-align: right;\n",
              "    }\n",
              "</style>\n",
              "<table border=\"1\" class=\"dataframe\">\n",
              "  <thead>\n",
              "    <tr style=\"text-align: right;\">\n",
              "      <th></th>\n",
              "      <th>news_paper</th>\n",
              "      <th>category</th>\n",
              "      <th>link</th>\n",
              "      <th>date</th>\n",
              "      <th>title</th>\n",
              "      <th>abstract</th>\n",
              "      <th>author</th>\n",
              "      <th>key_words</th>\n",
              "      <th>body</th>\n",
              "    </tr>\n",
              "  </thead>\n",
              "  <tbody>\n",
              "    <tr>\n",
              "      <th>count</th>\n",
              "      <td>37394</td>\n",
              "      <td>37394</td>\n",
              "      <td>37394</td>\n",
              "      <td>37394</td>\n",
              "      <td>37394</td>\n",
              "      <td>23423</td>\n",
              "      <td>29044</td>\n",
              "      <td>7549</td>\n",
              "      <td>37394</td>\n",
              "    </tr>\n",
              "    <tr>\n",
              "      <th>unique</th>\n",
              "      <td>3</td>\n",
              "      <td>6</td>\n",
              "      <td>9118</td>\n",
              "      <td>28</td>\n",
              "      <td>9505</td>\n",
              "      <td>6329</td>\n",
              "      <td>609</td>\n",
              "      <td>2201</td>\n",
              "      <td>10439</td>\n",
              "    </tr>\n",
              "    <tr>\n",
              "      <th>top</th>\n",
              "      <td>lanacion</td>\n",
              "      <td>tecnologia</td>\n",
              "      <td>https://www.infobae.com//teleshow/2019/10/12/l...</td>\n",
              "      <td>2019-10-18</td>\n",
              "      <td>Agenda Vida Digital</td>\n",
              "      <td>Todo lo que sucedió en el mundo del espectácul...</td>\n",
              "      <td>[]</td>\n",
              "      <td>Dólar Hoy</td>\n",
              "      <td>Jimena Barón mostró su nuevo tatuaje y explicó...</td>\n",
              "    </tr>\n",
              "    <tr>\n",
              "      <th>freq</th>\n",
              "      <td>14954</td>\n",
              "      <td>6874</td>\n",
              "      <td>33</td>\n",
              "      <td>1788</td>\n",
              "      <td>87</td>\n",
              "      <td>33</td>\n",
              "      <td>16287</td>\n",
              "      <td>66</td>\n",
              "      <td>33</td>\n",
              "    </tr>\n",
              "  </tbody>\n",
              "</table>\n",
              "</div>"
            ],
            "text/plain": [
              "       news_paper  ...                                               body\n",
              "count       37394  ...                                              37394\n",
              "unique          3  ...                                              10439\n",
              "top      lanacion  ...  Jimena Barón mostró su nuevo tatuaje y explicó...\n",
              "freq        14954  ...                                                 33\n",
              "\n",
              "[4 rows x 9 columns]"
            ]
          },
          "metadata": {
            "tags": []
          },
          "execution_count": 7
        }
      ]
    },
    {
      "cell_type": "markdown",
      "metadata": {
        "id": "eW1Nb4M7gPt-",
        "colab_type": "text"
      },
      "source": [
        "---\n",
        "\n",
        "Cantidades de noticias agrupadas por diarios (octubre 2019)\n",
        "\n",
        "---"
      ]
    },
    {
      "cell_type": "code",
      "metadata": {
        "id": "H-JXlLEbN8KJ",
        "colab_type": "code",
        "outputId": "599cb143-134d-433e-b9c2-a2ca63e40470",
        "colab": {
          "base_uri": "https://localhost:8080/",
          "height": 137
        }
      },
      "source": [
        "import numpy as np\n",
        "\n",
        "# Convierte el atributo news.news_paper como category\n",
        "c = news_clean.news_paper\n",
        "diarios = c.astype('category').dtype\n",
        "diarios.categories\n",
        "\n",
        "# Agrupa las noticias por diario y categoría\n",
        "a = news_clean.groupby(['news_paper'])\n",
        "\n",
        "# Genera un array numpay solo con la cantidad de noticias\n",
        "b = np.array(a.aggregate(np.count_nonzero)['link'])\n",
        "\n",
        "# Genera un dataframe con la cantidad de noticias por diario \n",
        "resumen = pd.DataFrame({\"Diario\":diarios.categories, \n",
        "                       \"Cantidad\":b})\n",
        "resumen"
      ],
      "execution_count": 0,
      "outputs": [
        {
          "output_type": "execute_result",
          "data": {
            "text/html": [
              "<div>\n",
              "<style scoped>\n",
              "    .dataframe tbody tr th:only-of-type {\n",
              "        vertical-align: middle;\n",
              "    }\n",
              "\n",
              "    .dataframe tbody tr th {\n",
              "        vertical-align: top;\n",
              "    }\n",
              "\n",
              "    .dataframe thead th {\n",
              "        text-align: right;\n",
              "    }\n",
              "</style>\n",
              "<table border=\"1\" class=\"dataframe\">\n",
              "  <thead>\n",
              "    <tr style=\"text-align: right;\">\n",
              "      <th></th>\n",
              "      <th>Diario</th>\n",
              "      <th>Cantidad</th>\n",
              "    </tr>\n",
              "  </thead>\n",
              "  <tbody>\n",
              "    <tr>\n",
              "      <th>0</th>\n",
              "      <td>clarin</td>\n",
              "      <td>7549</td>\n",
              "    </tr>\n",
              "    <tr>\n",
              "      <th>1</th>\n",
              "      <td>infobae</td>\n",
              "      <td>14891</td>\n",
              "    </tr>\n",
              "    <tr>\n",
              "      <th>2</th>\n",
              "      <td>lanacion</td>\n",
              "      <td>14954</td>\n",
              "    </tr>\n",
              "  </tbody>\n",
              "</table>\n",
              "</div>"
            ],
            "text/plain": [
              "     Diario  Cantidad\n",
              "0    clarin      7549\n",
              "1   infobae     14891\n",
              "2  lanacion     14954"
            ]
          },
          "metadata": {
            "tags": []
          },
          "execution_count": 8
        }
      ]
    },
    {
      "cell_type": "code",
      "metadata": {
        "id": "77sksnxpIFO5",
        "colab_type": "code",
        "outputId": "098918d6-6b0e-49be-ef32-35680cfaae3b",
        "colab": {
          "base_uri": "https://localhost:8080/",
          "height": 329
        }
      },
      "source": [
        "resumen.plot.bar(x='Diario',y='Cantidad')"
      ],
      "execution_count": 0,
      "outputs": [
        {
          "output_type": "execute_result",
          "data": {
            "text/plain": [
              "<matplotlib.axes._subplots.AxesSubplot at 0x7fba9e5021d0>"
            ]
          },
          "metadata": {
            "tags": []
          },
          "execution_count": 8
        },
        {
          "output_type": "display_data",
          "data": {
            "image/png": "[encoded data removed]",
            "text/plain": [
              "<Figure size 432x288 with 1 Axes>"
            ]
          },
          "metadata": {
            "tags": []
          }
        }
      ]
    },
    {
      "cell_type": "markdown",
      "metadata": {
        "id": "_lMa0Fw0f5J5",
        "colab_type": "text"
      },
      "source": [
        "\n",
        "---\n",
        "\n",
        "Cantidades de noticias agrupadas por secciones (octubre 2019)\n",
        "\n",
        "---\n"
      ]
    },
    {
      "cell_type": "code",
      "metadata": {
        "id": "znChs9F2VEgj",
        "colab_type": "code",
        "outputId": "e10fda55-25d4-4121-a9d9-894b73fcce4c",
        "colab": {
          "base_uri": "https://localhost:8080/",
          "height": 235
        }
      },
      "source": [
        "import numpy as np\n",
        "\n",
        "# Convierte el atributo news.category como category\n",
        "d = news_clean.category\n",
        "secciones = d.astype('category').dtype\n",
        "secciones.categories\n",
        "\n",
        "# Agrupa las noticias por diario y categoría\n",
        "e = news_clean.groupby(['category'])\n",
        "\n",
        "# Genera un array numpay solo con la cantidad de noticias\n",
        "f = np.array(e.aggregate(np.count_nonzero)['link'])\n",
        "\n",
        "# Genera un dataframe con la cantidad de noticias por diario \n",
        "resumenSecciones = pd.DataFrame({\"Sección\":secciones.categories, \n",
        "                                 \"Cantidad\":f})\n",
        "resumenSecciones"
      ],
      "execution_count": 0,
      "outputs": [
        {
          "output_type": "execute_result",
          "data": {
            "text/html": [
              "<div>\n",
              "<style scoped>\n",
              "    .dataframe tbody tr th:only-of-type {\n",
              "        vertical-align: middle;\n",
              "    }\n",
              "\n",
              "    .dataframe tbody tr th {\n",
              "        vertical-align: top;\n",
              "    }\n",
              "\n",
              "    .dataframe thead th {\n",
              "        text-align: right;\n",
              "    }\n",
              "</style>\n",
              "<table border=\"1\" class=\"dataframe\">\n",
              "  <thead>\n",
              "    <tr style=\"text-align: right;\">\n",
              "      <th></th>\n",
              "      <th>Sección</th>\n",
              "      <th>Cantidad</th>\n",
              "    </tr>\n",
              "  </thead>\n",
              "  <tbody>\n",
              "    <tr>\n",
              "      <th>0</th>\n",
              "      <td>deportes</td>\n",
              "      <td>6656</td>\n",
              "    </tr>\n",
              "    <tr>\n",
              "      <th>1</th>\n",
              "      <td>economia</td>\n",
              "      <td>4223</td>\n",
              "    </tr>\n",
              "    <tr>\n",
              "      <th>2</th>\n",
              "      <td>espectaculos</td>\n",
              "      <td>6769</td>\n",
              "    </tr>\n",
              "    <tr>\n",
              "      <th>3</th>\n",
              "      <td>politica</td>\n",
              "      <td>6665</td>\n",
              "    </tr>\n",
              "    <tr>\n",
              "      <th>4</th>\n",
              "      <td>sociedad</td>\n",
              "      <td>6207</td>\n",
              "    </tr>\n",
              "    <tr>\n",
              "      <th>5</th>\n",
              "      <td>tecnologia</td>\n",
              "      <td>6874</td>\n",
              "    </tr>\n",
              "  </tbody>\n",
              "</table>\n",
              "</div>"
            ],
            "text/plain": [
              "        Sección  Cantidad\n",
              "0      deportes      6656\n",
              "1      economia      4223\n",
              "2  espectaculos      6769\n",
              "3      politica      6665\n",
              "4      sociedad      6207\n",
              "5    tecnologia      6874"
            ]
          },
          "metadata": {
            "tags": []
          },
          "execution_count": 9
        }
      ]
    },
    {
      "cell_type": "code",
      "metadata": {
        "id": "WnscpWnBV6PB",
        "colab_type": "code",
        "outputId": "15a24b99-74e9-4f1b-80e1-28876de2815a",
        "colab": {
          "base_uri": "https://localhost:8080/",
          "height": 352
        }
      },
      "source": [
        "resumenSecciones.plot.bar(x='Sección',y='Cantidad')"
      ],
      "execution_count": 0,
      "outputs": [
        {
          "output_type": "execute_result",
          "data": {
            "text/plain": [
              "<matplotlib.axes._subplots.AxesSubplot at 0x7fba9e449e80>"
            ]
          },
          "metadata": {
            "tags": []
          },
          "execution_count": 10
        },
        {
          "output_type": "display_data",
          "data": {
            "image/png": "[encoded data removed]",
            "text/plain": [
              "<Figure size 432x288 with 1 Axes>"
            ]
          },
          "metadata": {
            "tags": []
          }
        }
      ]
    },
    {
      "cell_type": "code",
      "metadata": {
        "id": "ZB7kiQhrhLFw",
        "colab_type": "code",
        "outputId": "d7094ab8-8780-407a-d3cb-ad22ba636208",
        "colab": {
          "base_uri": "https://localhost:8080/",
          "height": 778
        }
      },
      "source": [
        "import numpy as np\n",
        "z = news_clean.groupby(['news_paper', 'category'] )['category'].count().unstack('news_paper')\n",
        "z.plot.bar(stacked=True, figsize = (8, 5))\n",
        "z.plot.bar(figsize = (8, 5))"
      ],
      "execution_count": 0,
      "outputs": [
        {
          "output_type": "execute_result",
          "data": {
            "text/plain": [
              "<matplotlib.axes._subplots.AxesSubplot at 0x7fba9de9dba8>"
            ]
          },
          "metadata": {
            "tags": []
          },
          "execution_count": 11
        },
        {
          "output_type": "display_data",
          "data": {
            "image/png": "[encoded data removed]",
            "text/plain": [
              "<Figure size 576x360 with 1 Axes>"
            ]
          },
          "metadata": {
            "tags": []
          }
        },
        {
          "output_type": "display_data",
          "data": {
            "image/png": "[encoded data removed]",
            "text/plain": [
              "<Figure size 576x360 with 1 Axes>"
            ]
          },
          "metadata": {
            "tags": []
          }
        }
      ]
    },
    {
      "cell_type": "code",
      "metadata": {
        "id": "Ag7GLXbRs6Yk",
        "colab_type": "code",
        "outputId": "b79e5d95-2127-43b9-d140-a5268ebd5670",
        "colab": {
          "base_uri": "https://localhost:8080/",
          "height": 381
        }
      },
      "source": [
        "z = news_clean.groupby(['news_paper', 'category'] )['category'].count().unstack('news_paper')\n",
        "z.plot.pie( subplots=True,figsize=(16, 8))"
      ],
      "execution_count": 0,
      "outputs": [
        {
          "output_type": "execute_result",
          "data": {
            "text/plain": [
              "array([<matplotlib.axes._subplots.AxesSubplot object at 0x7fba9de11a90>,\n",
              "       <matplotlib.axes._subplots.AxesSubplot object at 0x7fba9cb7cda0>,\n",
              "       <matplotlib.axes._subplots.AxesSubplot object at 0x7fba9cb3b240>],\n",
              "      dtype=object)"
            ]
          },
          "metadata": {
            "tags": []
          },
          "execution_count": 12
        },
        {
          "output_type": "display_data",
          "data": {
            "image/png": "[encoded data removed]",
            "text/plain": [
              "<Figure size 1152x576 with 3 Axes>"
            ]
          },
          "metadata": {
            "tags": []
          }
        }
      ]
    },
    {
      "cell_type": "markdown",
      "metadata": {
        "id": "gVvOUnEsmVCg",
        "colab_type": "text"
      },
      "source": [
        "---\n",
        "\n",
        "**Construcción de nuevos atributos**\n",
        "\n",
        "Se genera el atributo *titleandbody* a partir de la concatenación de los atributos del dataset original *title* y *body*, ya que las cadenas que aparecen en dichos atributos son las que interesan en este trabajo.\n",
        "\n",
        "---"
      ]
    },
    {
      "cell_type": "code",
      "metadata": {
        "id": "AVFLgAWuBGQB",
        "colab_type": "code",
        "outputId": "b63a527d-09bd-4ba7-9e32-19068122bb03",
        "colab": {
          "base_uri": "https://localhost:8080/",
          "height": 123
        }
      },
      "source": [
        "news = news_clean[['news_paper','category','date']]\n",
        "news['titleandbody'] = news_clean['title'].str.cat(news_clean['body'], sep =' // ')"
      ],
      "execution_count": 0,
      "outputs": [
        {
          "output_type": "stream",
          "text": [
            "/usr/local/lib/python3.6/dist-packages/ipykernel_launcher.py:2: SettingWithCopyWarning: \n",
            "A value is trying to be set on a copy of a slice from a DataFrame.\n",
            "Try using .loc[row_indexer,col_indexer] = value instead\n",
            "\n",
            "See the caveats in the documentation: http://pandas.pydata.org/pandas-docs/stable/user_guide/indexing.html#returning-a-view-versus-a-copy\n",
            "  \n"
          ],
          "name": "stderr"
        }
      ]
    },
    {
      "cell_type": "markdown",
      "metadata": {
        "id": "CmGpId6qRgq0",
        "colab_type": "text"
      },
      "source": [
        "---\n",
        "\n",
        "**Exportación del dataset depurado**\n",
        "\n",
        "Se exporta el dataset depurado en formato CSV como \"TMnews.csv\"\n",
        "\n",
        "---"
      ]
    },
    {
      "cell_type": "code",
      "metadata": {
        "id": "wSzxIh1gwJw5",
        "colab_type": "code",
        "colab": {}
      },
      "source": [
        "TMnews = news.to_csv (r'/content/drive/My Drive/Colab Notebooks/Curso Mineria Textos 2019/data/TMnews.csv', index = None, header=True) "
      ],
      "execution_count": 0,
      "outputs": []
    }
  ]
}