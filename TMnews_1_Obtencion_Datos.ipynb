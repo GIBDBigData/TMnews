{
  "nbformat": 4,
  "nbformat_minor": 0,
  "metadata": {
    "colab": {
      "name": "TMnews_1_Obtencion_Datos.ipynb",
      "provenance": [],
      "collapsed_sections": [],
      "include_colab_link": true
    },
    "kernelspec": {
      "name": "python3",
      "display_name": "Python 3"
    }
  },
  "cells": [
    {
      "cell_type": "markdown",
      "metadata": {
        "id": "view-in-github",
        "colab_type": "text"
      },
      "source": [
        "<a href=\"https://colab.research.google.com/github/anadebattista/TMnews/blob/master/TMnews_1_Obtencion_Datos.ipynb\" target=\"_parent\"><img src=\"https://colab.research.google.com/assets/colab-badge.svg\" alt=\"Open In Colab\"/></a>"
      ]
    },
    {
      "cell_type": "markdown",
      "metadata": {
        "id": "hQhyMtnHUY27",
        "colab_type": "text"
      },
      "source": [
        "# **Curso Minería de Textos 2019**\n",
        "**Trabajo Final:** \n",
        "\n",
        "**Profesor:** Dr. Marcelo Errecalde\n",
        "\n",
        "**Alumnos:** \n",
        "*   M.Cs. Anabella De Battista\n",
        "*   Ing. Esteban Schab"
      ]
    },
    {
      "cell_type": "markdown",
      "metadata": {
        "id": "-rHtDJxPdeGm",
        "colab_type": "text"
      },
      "source": [
        "---\n",
        "#**Fase de Obtención y Preparación de los Textos**\n",
        "\n",
        "---\n",
        "\n",
        "**Determinación de fuentes de información**\n",
        "\n",
        "Para este trabajo se consideró trabajar con tres periódicos digitales nacionales: Clarín, Infobae y La Nación. Se seleccionaron 6 secciones de los diarios: Deportes, Economía, Espectáculos, Política, Sociedad, Tecnología.\n",
        "\n",
        "---"
      ]
    },
    {
      "cell_type": "markdown",
      "metadata": {
        "id": "ILfNzqVkDNnO",
        "colab_type": "text"
      },
      "source": [
        "**Carga de librerías**\n",
        "\n",
        "---"
      ]
    },
    {
      "cell_type": "code",
      "metadata": {
        "id": "RajHAdp-CzvE",
        "colab_type": "code",
        "colab": {}
      },
      "source": [
        "import pandas as pd\n",
        "import os\n",
        "import chardet\n",
        "import numpy as np\n",
        "import datetime"
      ],
      "execution_count": 0,
      "outputs": []
    },
    {
      "cell_type": "code",
      "metadata": {
        "id": "yBS4zAD7C6Ot",
        "colab_type": "code",
        "outputId": "2c55a47d-fbe5-4f2e-81e7-cd63d997cc3f",
        "colab": {
          "base_uri": "https://localhost:8080/",
          "height": 153
        }
      },
      "source": [
        "! git clone https://github.com/GIBD/TMnews.git"
      ],
      "execution_count": 0,
      "outputs": [
        {
          "output_type": "stream",
          "text": [
            "Cloning into 'TMnews'...\n",
            "remote: Enumerating objects: 10, done.\u001b[K\n",
            "remote: Counting objects: 100% (10/10), done.\u001b[K\n",
            "remote: Compressing objects: 100% (8/8), done.\u001b[K\n",
            "remote: Total 537 (delta 0), reused 7 (delta 0), pack-reused 527\u001b[K\n",
            "Receiving objects: 100% (537/537), 56.75 MiB | 20.65 MiB/s, done.\n",
            "Resolving deltas: 100% (12/12), done.\n",
            "Checking out files: 100% (518/518), done.\n"
          ],
          "name": "stdout"
        }
      ]
    },
    {
      "cell_type": "markdown",
      "metadata": {
        "id": "cYhJTVU9es8C",
        "colab_type": "text"
      },
      "source": [
        "---\n",
        "\n",
        "**Generación de un único almacén de datos**\n",
        "\n",
        "A partir de los múltiples archivos generados al scrappear los sitios web de los diarios, se generó un único repositorio en formato CSV (newsoctubre2019.csv)\n",
        "\n",
        "---"
      ]
    },
    {
      "cell_type": "code",
      "metadata": {
        "id": "P1zH__GNDeC6",
        "colab_type": "code",
        "outputId": "da08134c-82df-4824-fa3a-0ece0432d3e4",
        "colab": {
          "base_uri": "https://localhost:8080/",
          "height": 1000
        }
      },
      "source": [
        "os.chdir(\"/content/TMnews/data/raw\")\n",
        "# Metadatos para acceder a los archivos JSON\n",
        "diarios = ['clarin','infobae','lanacion']\n",
        "secciones = ['deportes','economia','espectaculos','politica','sociedad','tecnologia']\n",
        "dias = ['01','02','04','05','06','07','08','09','10', '11', '12', '13', '14', '15', '16', '17', '18', '19', '20', '21', '22', '23', '24', '25', '26', '27', '28', '29']\n",
        "# Inicializa dataframe noticias\n",
        "noticias = pd.DataFrame()\n",
        "# Recorre los archivos JSON cargando las noticias en el dataframe noticias\n",
        "for diario in diarios:\n",
        "    for seccion in secciones:\n",
        "        for dia in dias:\n",
        "            nombreJSON = '201910' + dia + '_' + diario + '_' + seccion + '.json'\n",
        "            # Genera la fecha del JSON actual\n",
        "            fechaJSON = datetime.datetime(int(nombreJSON[0:4]),int(nombreJSON[4:6]), int(nombreJSON[6:8]))\n",
        "            # Obtiene metadatos del archivo para acceder al encoding\n",
        "            with open(nombreJSON, 'rb') as f: result = chardet.detect(f.read())\n",
        "            # Obtiene el dataframe a partir del JSON teniendo en cuenta el encoding\n",
        "            if (result['encoding'] != 'Windows-1252'):\n",
        "              df = pd.read_json(nombreJSON, lines=True) \n",
        "            else:\n",
        "              df = pd.read_json(nombreJSON, lines=True,  encoding=result['encoding']) #encoding='Windows-1252'\n",
        "            # Actualiza la fecha en el dataframe\n",
        "            df['date'] = fechaJSON\n",
        "            #concatena con los anteriores\n",
        "            noticias = pd.concat([noticias, df], ignore_index=True, sort=False)\n",
        "# Exporta el dataframe de noticias en formato CSV\n",
        "export_csv = noticias.to_csv (r'/content/TMnews/data/newsoctubre2019.csv', index = None, header=True)\n",
        "#noticias.shape\n",
        "noticias"
      ],
      "execution_count": 0,
      "outputs": [
        {
          "output_type": "execute_result",
          "data": {
            "text/html": [
              "<div>\n",
              "<style scoped>\n",
              "    .dataframe tbody tr th:only-of-type {\n",
              "        vertical-align: middle;\n",
              "    }\n",
              "\n",
              "    .dataframe tbody tr th {\n",
              "        vertical-align: top;\n",
              "    }\n",
              "\n",
              "    .dataframe thead th {\n",
              "        text-align: right;\n",
              "    }\n",
              "</style>\n",
              "<table border=\"1\" class=\"dataframe\">\n",
              "  <thead>\n",
              "    <tr style=\"text-align: right;\">\n",
              "      <th></th>\n",
              "      <th>news_paper</th>\n",
              "      <th>category</th>\n",
              "      <th>link</th>\n",
              "      <th>date</th>\n",
              "      <th>title</th>\n",
              "      <th>abstract</th>\n",
              "      <th>author</th>\n",
              "      <th>key_words</th>\n",
              "      <th>body</th>\n",
              "    </tr>\n",
              "  </thead>\n",
              "  <tbody>\n",
              "    <tr>\n",
              "      <th>0</th>\n",
              "      <td>clarin</td>\n",
              "      <td>deportes</td>\n",
              "      <td>https://www.clarin.com//deportes/escandalo-aud...</td>\n",
              "      <td>2019-10-01</td>\n",
              "      <td>“¿Por qué no te ponés a dieta?”, el escándalo ...</td>\n",
              "      <td>Se difundió un mensaje del referí Germán Bermú...</td>\n",
              "      <td>[]</td>\n",
              "      <td>Federico BeligoyArbitrosPrueba</td>\n",
              "      <td>Germán Bermúdez es referí en las categorías de...</td>\n",
              "    </tr>\n",
              "    <tr>\n",
              "      <th>1</th>\n",
              "      <td>clarin</td>\n",
              "      <td>deportes</td>\n",
              "      <td>https://www.clarin.com//deportes/espana-hablan...</td>\n",
              "      <td>2019-10-01</td>\n",
              "      <td>En España hablan de una fractura en el Barcelo...</td>\n",
              "      <td>El diario El País dice que la contratación de ...</td>\n",
              "      <td>[]</td>\n",
              "      <td>FC BarcelonaLionel MessiAntoine GriezmannNeymar</td>\n",
              "      <td>Barcelona no mira a todos desde arriba. Ya no....</td>\n",
              "    </tr>\n",
              "    <tr>\n",
              "      <th>2</th>\n",
              "      <td>clarin</td>\n",
              "      <td>deportes</td>\n",
              "      <td>https://www.clarin.com//deportes/superclasico-...</td>\n",
              "      <td>2019-10-01</td>\n",
              "      <td>Superclásico: qué dicen los astros para el Riv...</td>\n",
              "      <td>En la previa del partido de ida, dos reconocid...</td>\n",
              "      <td>[]</td>\n",
              "      <td>River PlateBoca JuniorsSuperclásicoCopa Libert...</td>\n",
              "      <td>Ya sean creyentes o escépticos, la ansiedad po...</td>\n",
              "    </tr>\n",
              "    <tr>\n",
              "      <th>3</th>\n",
              "      <td>clarin</td>\n",
              "      <td>deportes</td>\n",
              "      <td>https://www.clarin.com//deportes/river-boca-co...</td>\n",
              "      <td>2019-10-01</td>\n",
              "      <td>River-Boca, por la Copa Libertadores: cómo est...</td>\n",
              "      <td>Las fuertes tormentas que cayeron sobre la ciu...</td>\n",
              "      <td>[]</td>\n",
              "      <td>Copa LibertadoresSuperclásicoRiver PlateBoca J...</td>\n",
              "      <td>El duelo de ida por las semifinales de la Copa...</td>\n",
              "    </tr>\n",
              "    <tr>\n",
              "      <th>4</th>\n",
              "      <td>clarin</td>\n",
              "      <td>deportes</td>\n",
              "      <td>https://www.clarin.com//deportes/mundial-atlet...</td>\n",
              "      <td>2019-10-01</td>\n",
              "      <td>El Mundial de atletismo, envuelto en el drama ...</td>\n",
              "      <td>La IAAF está en la mira por haber permitido qu...</td>\n",
              "      <td>Luciana Aranguiz</td>\n",
              "      <td>AtletismoDoha</td>\n",
              "      <td>La imagen se repitió una y otra vez en las pri...</td>\n",
              "    </tr>\n",
              "    <tr>\n",
              "      <th>...</th>\n",
              "      <td>...</td>\n",
              "      <td>...</td>\n",
              "      <td>...</td>\n",
              "      <td>...</td>\n",
              "      <td>...</td>\n",
              "      <td>...</td>\n",
              "      <td>...</td>\n",
              "      <td>...</td>\n",
              "      <td>...</td>\n",
              "    </tr>\n",
              "    <tr>\n",
              "      <th>37640</th>\n",
              "      <td>lanacion</td>\n",
              "      <td>tecnologia</td>\n",
              "      <td>http://www.lanacion.com.ar//tecnologia/como-z-...</td>\n",
              "      <td>2019-10-29</td>\n",
              "      <td>Como una Z: así es el prototipo de TCL de un s...</td>\n",
              "      <td>NaN</td>\n",
              "      <td></td>\n",
              "      <td></td>\n",
              "      <td>TCL presentó por estos días un prototipo de un...</td>\n",
              "    </tr>\n",
              "    <tr>\n",
              "      <th>37641</th>\n",
              "      <td>lanacion</td>\n",
              "      <td>tecnologia</td>\n",
              "      <td>http://www.lanacion.com.ar//tecnologia/lanzan-...</td>\n",
              "      <td>2019-10-29</td>\n",
              "      <td>Lanzan una app gratis para ayudar a los partid...</td>\n",
              "      <td>NaN</td>\n",
              "      <td>Sebastián Davidovsky</td>\n",
              "      <td></td>\n",
              "      <td>Una aplicación colaborativa que les facilite a...</td>\n",
              "    </tr>\n",
              "    <tr>\n",
              "      <th>37642</th>\n",
              "      <td>lanacion</td>\n",
              "      <td>tecnologia</td>\n",
              "      <td>http://www.lanacion.com.ar//tecnologia/youtube...</td>\n",
              "      <td>2019-10-29</td>\n",
              "      <td>YouTube presenta su primera película interacti...</td>\n",
              "      <td>NaN</td>\n",
              "      <td></td>\n",
              "      <td></td>\n",
              "      <td>YouTube publicó el adelanto de \\r\\nA Heist Wit...</td>\n",
              "    </tr>\n",
              "    <tr>\n",
              "      <th>37643</th>\n",
              "      <td>lanacion</td>\n",
              "      <td>tecnologia</td>\n",
              "      <td>http://www.lanacion.com.ar//tecnologia/apple-p...</td>\n",
              "      <td>2019-10-29</td>\n",
              "      <td>Apple planea lanzar una función para crear Mem...</td>\n",
              "      <td>NaN</td>\n",
              "      <td></td>\n",
              "      <td></td>\n",
              "      <td>Los Memojis son las ilustraciones personalizad...</td>\n",
              "    </tr>\n",
              "    <tr>\n",
              "      <th>37644</th>\n",
              "      <td>lanacion</td>\n",
              "      <td>tecnologia</td>\n",
              "      <td>http://www.lanacion.com.ar//tecnologia/huawei-...</td>\n",
              "      <td>2019-10-29</td>\n",
              "      <td>Huawei Mate X: el teléfono plegable de 2400 dó...</td>\n",
              "      <td>NaN</td>\n",
              "      <td>Ricardo Sametband</td>\n",
              "      <td></td>\n",
              "      <td>Huawei finalmente le puso fecha a la disponibi...</td>\n",
              "    </tr>\n",
              "  </tbody>\n",
              "</table>\n",
              "<p>37645 rows × 9 columns</p>\n",
              "</div>"
            ],
            "text/plain": [
              "      news_paper  ...                                               body\n",
              "0         clarin  ...  Germán Bermúdez es referí en las categorías de...\n",
              "1         clarin  ...  Barcelona no mira a todos desde arriba. Ya no....\n",
              "2         clarin  ...  Ya sean creyentes o escépticos, la ansiedad po...\n",
              "3         clarin  ...  El duelo de ida por las semifinales de la Copa...\n",
              "4         clarin  ...  La imagen se repitió una y otra vez en las pri...\n",
              "...          ...  ...                                                ...\n",
              "37640   lanacion  ...  TCL presentó por estos días un prototipo de un...\n",
              "37641   lanacion  ...  Una aplicación colaborativa que les facilite a...\n",
              "37642   lanacion  ...  YouTube publicó el adelanto de \\r\\nA Heist Wit...\n",
              "37643   lanacion  ...  Los Memojis son las ilustraciones personalizad...\n",
              "37644   lanacion  ...  Huawei finalmente le puso fecha a la disponibi...\n",
              "\n",
              "[37645 rows x 9 columns]"
            ]
          },
          "metadata": {
            "tags": []
          },
          "execution_count": 4
        }
      ]
    },
    {
      "cell_type": "markdown",
      "metadata": {
        "id": "-kKC5KhAf39K",
        "colab_type": "text"
      },
      "source": [
        "---\n",
        "\n",
        "**Resumen de cantidad de noticias según diario y sección**\n",
        "\n",
        "---"
      ]
    },
    {
      "cell_type": "code",
      "metadata": {
        "id": "H-JXlLEbN8KJ",
        "colab_type": "code",
        "outputId": "8efeff55-2593-40c2-93ec-263adbe61997",
        "colab": {
          "base_uri": "https://localhost:8080/",
          "height": 173
        }
      },
      "source": [
        "# Agrupa las noticias por diario y categoría\n",
        "a = noticias.groupby(['news_paper', 'category'])\n",
        "# Genera un array numpay solo con la cantidad de noticias\n",
        "b = np.array(a.aggregate(np.count_nonzero)['link'])\n",
        "# Agrega al array la sumatoria por secciones\n",
        "b = np.append(b,[b[0:6] + b[6:12] + b[12:18]])\n",
        "# Genera un dataframe con la cantidad de noticias por seccion y diario y los totales\n",
        "resumen = pd.DataFrame({\"Clarin\":np.append(b[0:6],[b[0:6].sum()]), \n",
        "                        \"Infobae\":np.append(b[6:12],[b[6:12].sum()]),  \n",
        "                        \"La Nacion\":np.append(b[12:18],[b[12:18].sum()]),\n",
        "                        \"TOTAL\":np.append(b[18:24],[b[18:24].sum()])},\n",
        "             index=['Deportes', 'Economía','Espectaculos','Politica','Sociedad','Tecnologia','TOTAL'])\n",
        "# Muestra el dataframe\n",
        "resumen.T"
      ],
      "execution_count": 0,
      "outputs": [
        {
          "output_type": "execute_result",
          "data": {
            "text/html": [
              "<div>\n",
              "<style scoped>\n",
              "    .dataframe tbody tr th:only-of-type {\n",
              "        vertical-align: middle;\n",
              "    }\n",
              "\n",
              "    .dataframe tbody tr th {\n",
              "        vertical-align: top;\n",
              "    }\n",
              "\n",
              "    .dataframe thead th {\n",
              "        text-align: right;\n",
              "    }\n",
              "</style>\n",
              "<table border=\"1\" class=\"dataframe\">\n",
              "  <thead>\n",
              "    <tr style=\"text-align: right;\">\n",
              "      <th></th>\n",
              "      <th>Deportes</th>\n",
              "      <th>Economía</th>\n",
              "      <th>Espectaculos</th>\n",
              "      <th>Politica</th>\n",
              "      <th>Sociedad</th>\n",
              "      <th>Tecnologia</th>\n",
              "      <th>TOTAL</th>\n",
              "    </tr>\n",
              "  </thead>\n",
              "  <tbody>\n",
              "    <tr>\n",
              "      <th>Clarin</th>\n",
              "      <td>1262</td>\n",
              "      <td>1260</td>\n",
              "      <td>1224</td>\n",
              "      <td>1304</td>\n",
              "      <td>1246</td>\n",
              "      <td>1260</td>\n",
              "      <td>7556</td>\n",
              "    </tr>\n",
              "    <tr>\n",
              "      <th>Infobae</th>\n",
              "      <td>3737</td>\n",
              "      <td>1567</td>\n",
              "      <td>2787</td>\n",
              "      <td>2175</td>\n",
              "      <td>2060</td>\n",
              "      <td>2577</td>\n",
              "      <td>14903</td>\n",
              "    </tr>\n",
              "    <tr>\n",
              "      <th>La Nacion</th>\n",
              "      <td>1685</td>\n",
              "      <td>1419</td>\n",
              "      <td>2776</td>\n",
              "      <td>3285</td>\n",
              "      <td>2984</td>\n",
              "      <td>3037</td>\n",
              "      <td>15186</td>\n",
              "    </tr>\n",
              "    <tr>\n",
              "      <th>TOTAL</th>\n",
              "      <td>6684</td>\n",
              "      <td>4246</td>\n",
              "      <td>6787</td>\n",
              "      <td>6764</td>\n",
              "      <td>6290</td>\n",
              "      <td>6874</td>\n",
              "      <td>37645</td>\n",
              "    </tr>\n",
              "  </tbody>\n",
              "</table>\n",
              "</div>"
            ],
            "text/plain": [
              "           Deportes  Economía  Espectaculos  ...  Sociedad  Tecnologia  TOTAL\n",
              "Clarin         1262      1260          1224  ...      1246        1260   7556\n",
              "Infobae        3737      1567          2787  ...      2060        2577  14903\n",
              "La Nacion      1685      1419          2776  ...      2984        3037  15186\n",
              "TOTAL          6684      4246          6787  ...      6290        6874  37645\n",
              "\n",
              "[4 rows x 7 columns]"
            ]
          },
          "metadata": {
            "tags": []
          },
          "execution_count": 11
        }
      ]
    },
    {
      "cell_type": "markdown",
      "metadata": {
        "id": "XNs1tPingMid",
        "colab_type": "text"
      },
      "source": [
        "---\n",
        "\n",
        "Se exporta la tabla resumen como archivo CSV\n",
        "\n",
        "---"
      ]
    },
    {
      "cell_type": "code",
      "metadata": {
        "id": "jTcBZ1-NVDjJ",
        "colab_type": "code",
        "colab": {}
      },
      "source": [
        "news_resumen = resumen.to_csv (r'/content/TMnews/data/news_resumen.csv', index = True, header=True)"
      ],
      "execution_count": 0,
      "outputs": []
    }
  ]
}